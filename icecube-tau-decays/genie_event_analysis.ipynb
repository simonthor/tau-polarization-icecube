{
 "cells": [
  {
   "cell_type": "code",
   "execution_count": 2,
   "metadata": {},
   "outputs": [],
   "source": [
    "import uproot\n",
    "import pandas as pd\n",
    "import awkward as ak\n",
    "import numpy as np"
   ]
  },
  {
   "cell_type": "code",
   "execution_count": 41,
   "metadata": {},
   "outputs": [],
   "source": [
    "with uproot.open(\"../data/gntp.3.gtrac.root\") as f:\n",
    "    # Read all pdg IDs and polarization vectors from all events as two awkward arrays\n",
    "    pdg = f[\"gRooTracker;22/StdHepPdg\"].array()\n",
    "    pol = f[\"gRooTracker;22/StdHepPolz\"].array()\n",
    "    status = f[\"gRooTracker;22/StdHepStatus\"].array()"
   ]
  },
  {
   "cell_type": "code",
   "execution_count": 52,
   "metadata": {},
   "outputs": [
    {
     "name": "stdout",
     "output_type": "stream",
     "text": [
      "1000000 * var * int32, 1000000 * var * 3 * float64, 1000000 * var * int32\n",
      "[[1], [422038]]\n",
      "422038 * 3 * float64\n"
     ]
    },
    {
     "data": {
      "text/plain": [
       "79679"
      ]
     },
     "execution_count": 52,
     "metadata": {},
     "output_type": "execute_result"
    }
   ],
   "source": [
    "print(f\"{pdg.type}, {pol.type}, {status.type}\")\n",
    "# identify all particles that are tau leptons and extract their polarization vectors and statuses\n",
    "tau_mask = pdg == 15\n",
    "tau_pol = ak.flatten(pol[tau_mask])\n",
    "tau_status = status[tau_mask]\n",
    "# Check which statuses are present\n",
    "print(np.unique(ak.flatten(tau_status), return_counts=True))\n",
    "\n",
    "print(tau_pol.type)\n",
    "\n",
    "np.sum(np.all(tau_pol == 0, axis=1))"
   ]
  },
  {
   "cell_type": "code",
   "execution_count": 47,
   "metadata": {},
   "outputs": [
    {
     "data": {
      "text/html": [
       "<div>\n",
       "<style scoped>\n",
       "    .dataframe tbody tr th:only-of-type {\n",
       "        vertical-align: middle;\n",
       "    }\n",
       "\n",
       "    .dataframe tbody tr th {\n",
       "        vertical-align: top;\n",
       "    }\n",
       "\n",
       "    .dataframe thead th {\n",
       "        text-align: right;\n",
       "    }\n",
       "</style>\n",
       "<table border=\"1\" class=\"dataframe\">\n",
       "  <thead>\n",
       "    <tr style=\"text-align: right;\">\n",
       "      <th></th>\n",
       "      <th>polx</th>\n",
       "      <th>poly</th>\n",
       "      <th>polz</th>\n",
       "    </tr>\n",
       "  </thead>\n",
       "  <tbody>\n",
       "    <tr>\n",
       "      <th>0</th>\n",
       "      <td>0.086999</td>\n",
       "      <td>0.008235</td>\n",
       "      <td>-0.996174</td>\n",
       "    </tr>\n",
       "    <tr>\n",
       "      <th>1</th>\n",
       "      <td>0.000000</td>\n",
       "      <td>0.000000</td>\n",
       "      <td>0.000000</td>\n",
       "    </tr>\n",
       "    <tr>\n",
       "      <th>2</th>\n",
       "      <td>0.132538</td>\n",
       "      <td>0.161835</td>\n",
       "      <td>-0.977877</td>\n",
       "    </tr>\n",
       "    <tr>\n",
       "      <th>3</th>\n",
       "      <td>0.179302</td>\n",
       "      <td>0.217577</td>\n",
       "      <td>-0.959433</td>\n",
       "    </tr>\n",
       "    <tr>\n",
       "      <th>4</th>\n",
       "      <td>-0.229704</td>\n",
       "      <td>0.083774</td>\n",
       "      <td>-0.969648</td>\n",
       "    </tr>\n",
       "    <tr>\n",
       "      <th>...</th>\n",
       "      <td>...</td>\n",
       "      <td>...</td>\n",
       "      <td>...</td>\n",
       "    </tr>\n",
       "    <tr>\n",
       "      <th>422033</th>\n",
       "      <td>-0.117234</td>\n",
       "      <td>-0.061026</td>\n",
       "      <td>-0.991228</td>\n",
       "    </tr>\n",
       "    <tr>\n",
       "      <th>422034</th>\n",
       "      <td>-0.068113</td>\n",
       "      <td>-0.144505</td>\n",
       "      <td>-0.987157</td>\n",
       "    </tr>\n",
       "    <tr>\n",
       "      <th>422035</th>\n",
       "      <td>0.131012</td>\n",
       "      <td>0.122818</td>\n",
       "      <td>-0.983744</td>\n",
       "    </tr>\n",
       "    <tr>\n",
       "      <th>422036</th>\n",
       "      <td>0.000000</td>\n",
       "      <td>0.000000</td>\n",
       "      <td>0.000000</td>\n",
       "    </tr>\n",
       "    <tr>\n",
       "      <th>422037</th>\n",
       "      <td>0.012495</td>\n",
       "      <td>-0.169905</td>\n",
       "      <td>-0.985381</td>\n",
       "    </tr>\n",
       "  </tbody>\n",
       "</table>\n",
       "<p>422038 rows × 3 columns</p>\n",
       "</div>"
      ],
      "text/plain": [
       "            polx      poly      polz\n",
       "0       0.086999  0.008235 -0.996174\n",
       "1       0.000000  0.000000  0.000000\n",
       "2       0.132538  0.161835 -0.977877\n",
       "3       0.179302  0.217577 -0.959433\n",
       "4      -0.229704  0.083774 -0.969648\n",
       "...          ...       ...       ...\n",
       "422033 -0.117234 -0.061026 -0.991228\n",
       "422034 -0.068113 -0.144505 -0.987157\n",
       "422035  0.131012  0.122818 -0.983744\n",
       "422036  0.000000  0.000000  0.000000\n",
       "422037  0.012495 -0.169905 -0.985381\n",
       "\n",
       "[422038 rows x 3 columns]"
      ]
     },
     "execution_count": 47,
     "metadata": {},
     "output_type": "execute_result"
    }
   ],
   "source": [
    "pd.DataFrame(tau_pol.to_numpy(), columns=[\"polx\", \"poly\", \"polz\"])"
   ]
  },
  {
   "cell_type": "code",
   "execution_count": 4,
   "metadata": {},
   "outputs": [],
   "source": [
    "taus = pd.read_csv(\"../data/genie_pol_e10.csv\")"
   ]
  },
  {
   "cell_type": "code",
   "execution_count": 51,
   "metadata": {},
   "outputs": [
    {
     "data": {
      "text/plain": [
       "79679"
      ]
     },
     "execution_count": 51,
     "metadata": {},
     "output_type": "execute_result"
    }
   ],
   "source": [
    "np.sum(np.all(taus.loc[:, \"polx\":\"polz\"] == 0, axis=1))"
   ]
  },
  {
   "cell_type": "code",
   "execution_count": 54,
   "metadata": {},
   "outputs": [],
   "source": [
    "assert np.all(np.all(tau_pol == 0, axis=1) == (taus.loc[:, \"polx\":\"polz\"] == 0).all(axis=1).values)"
   ]
  },
  {
   "cell_type": "markdown",
   "metadata": {},
   "source": [
    "## Analyze tau lepton energy loss in ice\n",
    "Based on events simulated with Geant4"
   ]
  },
  {
   "cell_type": "code",
   "execution_count": 61,
   "metadata": {},
   "outputs": [],
   "source": [
    "g4_taus = pd.read_csv(\"../data/geant4_tau_output_e50.csv\")"
   ]
  },
  {
   "cell_type": "code",
   "execution_count": 62,
   "metadata": {},
   "outputs": [],
   "source": [
    "assert (g4_taus.groupby(\"event_num\").count() == 2).all().all()"
   ]
  },
  {
   "cell_type": "code",
   "execution_count": 63,
   "metadata": {},
   "outputs": [],
   "source": [
    "g4_tau_diff = g4_taus.groupby(\"event_num\").diff().dropna(axis=0).drop(\"status\", axis=1)\n",
    "g4_tau_diff_sig = g4_tau_diff.loc[(g4_tau_diff != 0).any(axis=1), :].copy()\n",
    "g4_tau_diff_sig[\"delta_x\"] = (g4_tau_diff_sig[\"x\"]**2 + g4_tau_diff_sig[\"y\"]**2 + g4_tau_diff_sig[\"z\"]**2).pow(0.5)"
   ]
  },
  {
   "cell_type": "code",
   "execution_count": 64,
   "metadata": {},
   "outputs": [
    {
     "data": {
      "text/plain": [
       "<Axes: xlabel='moved distance (mm)', ylabel='Frequency'>"
      ]
     },
     "execution_count": 64,
     "metadata": {},
     "output_type": "execute_result"
    },
    {
     "data": {
      "image/png": "[encoded data removed]",
      "text/plain": [
       "<Figure size 640x480 with 1 Axes>"
      ]
     },
     "metadata": {},
     "output_type": "display_data"
    }
   ],
   "source": [
    "(g4_tau_diff_sig[\"delta_x\"]*1000).plot.hist(bins=20, xlabel=\"moved distance (mm)\")"
   ]
  },
  {
   "cell_type": "code",
   "execution_count": 65,
   "metadata": {},
   "outputs": [
    {
     "data": {
      "text/plain": [
       "<Axes: xlabel='energy loss (MeV)', ylabel='Frequency'>"
      ]
     },
     "execution_count": 65,
     "metadata": {},
     "output_type": "execute_result"
    },
    {
     "data": {
      "image/png": "[encoded data removed]",
      "text/plain": [
       "<Figure size 640x480 with 1 Axes>"
      ]
     },
     "metadata": {},
     "output_type": "display_data"
    }
   ],
   "source": [
    "(-g4_tau_diff_sig[\"E\"]*1000).plot.hist(bins=20, xlabel=\"energy loss (MeV)\")"
   ]
  },
  {
   "cell_type": "code",
   "execution_count": 66,
   "metadata": {},
   "outputs": [
    {
     "data": {
      "text/plain": [
       "0.9971492873218305"
      ]
     },
     "execution_count": 66,
     "metadata": {},
     "output_type": "execute_result"
    }
   ],
   "source": [
    "((-g4_tau_diff[\"E\"]*1000) < 1).sum() / len(g4_tau_diff)"
   ]
  },
  {
   "cell_type": "markdown",
   "metadata": {},
   "source": [
    "## Read all interesting parameters and store to an event file"
   ]
  },
  {
   "cell_type": "code",
   "execution_count": 59,
   "metadata": {},
   "outputs": [],
   "source": [
    "with uproot.open(\"../data/gntp.5.gst.root\") as f:\n",
    "    # Read gst/hitnuc\n",
    "    event_infos = f[\"gst\"].arrays([\"iev\", \"qel\", \"res\", \"dis\", \"cc\", \"sea\", \"hitqrk\", \"xs\", \"ys\", \"Q2s\", \"Ws\", \"hitnuc\", \"A\", \"En\", \"pxn\", \"pyn\", \"pzn\", \"charm\", \"Ev\", \"pxv\", \"pyv\", \"pzv\"])\n"
   ]
  },
  {
   "cell_type": "code",
   "execution_count": 60,
   "metadata": {},
   "outputs": [],
   "source": [
    "ev = event_infos[event_infos[\"iev\"] < 50000]\n",
    "ev[\"Mnuc\"] = np.sqrt(ev[\"En\"]**2 - ev[\"pxn\"]**2 - ev[\"pyn\"]**2 - ev[\"pzn\"]**2)\n",
    "ev[\"event_num\"] = ev[\"iev\"]\n",
    "ev[\"qel\"] = ev[\"qel\"] & ev[\"cc\"]\n",
    "ev[\"res\"] = ev[\"res\"] & ev[\"cc\"]\n",
    "ev[\"dis\"] = ev[\"dis\"] & ev[\"cc\"]\n",
    "ev[\"atom\"] = ev[\"A\"]\n",
    "ev[\"Enu\"] = ev[\"Ev\"]\n",
    "ev[\"pxnu\"] = ev[\"pxv\"]\n",
    "ev[\"pynu\"] = ev[\"pyv\"]\n",
    "ev[\"pznu\"] = ev[\"pzv\"]"
   ]
  },
  {
   "cell_type": "code",
   "execution_count": 61,
   "metadata": {},
   "outputs": [],
   "source": [
    "# Convert awkward array to pandas\n",
    "ev_df = pd.DataFrame(ev.to_numpy(), columns=ev.fields)\n",
    "ev_df.to_csv(\"../data/genie_tau_pol_data_gst.csv\", index=False)"
   ]
  },
  {
   "cell_type": "markdown",
   "metadata": {},
   "source": [
    "## Compare gst file values to manual extraction"
   ]
  },
  {
   "cell_type": "code",
   "execution_count": 62,
   "metadata": {},
   "outputs": [],
   "source": [
    "gst = pd.read_csv(\"../data/genie_tau_pol_data_gst_f.csv\")\n",
    "gst_int = pd.read_csv(\"../data/genie_tau_pol_data_gst_f_int.csv\")\n",
    "manual = pd.read_csv(\"../data/genie_tau_pol_data_e10_1.csv\")"
   ]
  },
  {
   "cell_type": "code",
   "execution_count": 63,
   "metadata": {},
   "outputs": [],
   "source": [
    "non_float_cols = [\"qel\", \"res\", \"dis\", \"sea\", \"charm\", \"hitqrk\", \"event_num\", \"atom\", \"hitnuc\"]\n",
    "assert (gst.loc[gst[\"dis\"] | gst[\"res\"] | gst[\"qel\"], non_float_cols] == manual.loc[manual[\"dis\"] | manual[\"res\"] | manual[\"qel\"], non_float_cols]).all().all()\n",
    "assert (gst_int.loc[gst_int[\"dis\"] | gst_int[\"res\"] | gst_int[\"qel\"], non_float_cols] == manual.loc[manual[\"dis\"] | manual[\"res\"] | manual[\"qel\"], non_float_cols]).all().all()"
   ]
  },
  {
   "cell_type": "code",
   "execution_count": 64,
   "metadata": {},
   "outputs": [],
   "source": [
    "float_cols = [\"Mnuc\", \"xs\", \"Q2s\"]\n",
    "close_vals = np.isclose(gst.loc[gst[\"dis\"], float_cols], manual.loc[gst[\"dis\"], float_cols], atol=1e-6)\n",
    "assert close_vals.all().all()\n",
    "close_vals = np.isclose(gst_int.loc[gst[\"dis\"], float_cols], manual.loc[gst[\"dis\"], float_cols], atol=1e-6)\n",
    "assert close_vals.all().all()"
   ]
  },
  {
   "cell_type": "markdown",
   "metadata": {},
   "source": [
    "The extraction method seems to be correct, and all values match"
   ]
  },
  {
   "cell_type": "code",
   "execution_count": 65,
   "metadata": {},
   "outputs": [],
   "source": [
    "f_close = np.isclose(gst.loc[gst[\"F1\"].notnull(), \"F1\":\"F5\"], manual.loc[manual[\"F1\"].notnull(), \"F1\":\"F5\"], atol=1e-4).all(axis=1)\n",
    "f_close_int = np.isclose(gst_int.loc[gst_int[\"F1\"].notnull(), \"F1\":\"F5\"], manual.loc[manual[\"F1\"].notnull(), \"F1\":\"F5\"], atol=1e-4).all(axis=1)"
   ]
  },
  {
   "cell_type": "code",
   "execution_count": 66,
   "metadata": {},
   "outputs": [
    {
     "data": {
      "text/html": [
       "<div>\n",
       "<style scoped>\n",
       "    .dataframe tbody tr th:only-of-type {\n",
       "        vertical-align: middle;\n",
       "    }\n",
       "\n",
       "    .dataframe tbody tr th {\n",
       "        vertical-align: top;\n",
       "    }\n",
       "\n",
       "    .dataframe thead th {\n",
       "        text-align: right;\n",
       "    }\n",
       "</style>\n",
       "<table border=\"1\" class=\"dataframe\">\n",
       "  <thead>\n",
       "    <tr style=\"text-align: right;\">\n",
       "      <th></th>\n",
       "      <th>cc</th>\n",
       "      <th>sea</th>\n",
       "      <th>hitqrk</th>\n",
       "      <th>xs</th>\n",
       "      <th>Q2s</th>\n",
       "      <th>hitnuc</th>\n",
       "      <th>A</th>\n",
       "      <th>charm</th>\n",
       "      <th>Ev</th>\n",
       "      <th>Mnuc</th>\n",
       "      <th>event_num</th>\n",
       "      <th>qel</th>\n",
       "      <th>res</th>\n",
       "      <th>dis</th>\n",
       "      <th>atom</th>\n",
       "      <th>F1</th>\n",
       "      <th>F2</th>\n",
       "      <th>F3</th>\n",
       "      <th>F4</th>\n",
       "      <th>F5</th>\n",
       "    </tr>\n",
       "  </thead>\n",
       "  <tbody>\n",
       "    <tr>\n",
       "      <th>1</th>\n",
       "      <td>True</td>\n",
       "      <td>False</td>\n",
       "      <td>1</td>\n",
       "      <td>0.431447</td>\n",
       "      <td>52.596432</td>\n",
       "      <td>2112</td>\n",
       "      <td>16</td>\n",
       "      <td>False</td>\n",
       "      <td>100.0</td>\n",
       "      <td>0.918393</td>\n",
       "      <td>1</td>\n",
       "      <td>False</td>\n",
       "      <td>False</td>\n",
       "      <td>True</td>\n",
       "      <td>16</td>\n",
       "      <td>0.611472</td>\n",
       "      <td>0.534678</td>\n",
       "      <td>1.241390</td>\n",
       "      <td>0.0</td>\n",
       "      <td>1.241390</td>\n",
       "    </tr>\n",
       "    <tr>\n",
       "      <th>4</th>\n",
       "      <td>True</td>\n",
       "      <td>False</td>\n",
       "      <td>1</td>\n",
       "      <td>0.356973</td>\n",
       "      <td>5.530777</td>\n",
       "      <td>2112</td>\n",
       "      <td>16</td>\n",
       "      <td>False</td>\n",
       "      <td>100.0</td>\n",
       "      <td>0.885697</td>\n",
       "      <td>4</td>\n",
       "      <td>False</td>\n",
       "      <td>False</td>\n",
       "      <td>True</td>\n",
       "      <td>16</td>\n",
       "      <td>1.199530</td>\n",
       "      <td>0.887138</td>\n",
       "      <td>2.483910</td>\n",
       "      <td>0.0</td>\n",
       "      <td>2.483910</td>\n",
       "    </tr>\n",
       "    <tr>\n",
       "      <th>5</th>\n",
       "      <td>True</td>\n",
       "      <td>False</td>\n",
       "      <td>1</td>\n",
       "      <td>0.234142</td>\n",
       "      <td>38.530999</td>\n",
       "      <td>2212</td>\n",
       "      <td>16</td>\n",
       "      <td>False</td>\n",
       "      <td>100.0</td>\n",
       "      <td>0.906232</td>\n",
       "      <td>5</td>\n",
       "      <td>False</td>\n",
       "      <td>False</td>\n",
       "      <td>True</td>\n",
       "      <td>16</td>\n",
       "      <td>0.929012</td>\n",
       "      <td>0.455120</td>\n",
       "      <td>1.937230</td>\n",
       "      <td>0.0</td>\n",
       "      <td>1.937230</td>\n",
       "    </tr>\n",
       "    <tr>\n",
       "      <th>9</th>\n",
       "      <td>True</td>\n",
       "      <td>False</td>\n",
       "      <td>1</td>\n",
       "      <td>0.508304</td>\n",
       "      <td>80.313765</td>\n",
       "      <td>2112</td>\n",
       "      <td>16</td>\n",
       "      <td>False</td>\n",
       "      <td>100.0</td>\n",
       "      <td>0.921316</td>\n",
       "      <td>9</td>\n",
       "      <td>False</td>\n",
       "      <td>False</td>\n",
       "      <td>True</td>\n",
       "      <td>16</td>\n",
       "      <td>0.324748</td>\n",
       "      <td>0.332537</td>\n",
       "      <td>0.655794</td>\n",
       "      <td>0.0</td>\n",
       "      <td>0.655794</td>\n",
       "    </tr>\n",
       "    <tr>\n",
       "      <th>11</th>\n",
       "      <td>True</td>\n",
       "      <td>False</td>\n",
       "      <td>1</td>\n",
       "      <td>0.055564</td>\n",
       "      <td>5.017979</td>\n",
       "      <td>2112</td>\n",
       "      <td>16</td>\n",
       "      <td>False</td>\n",
       "      <td>100.0</td>\n",
       "      <td>0.894275</td>\n",
       "      <td>11</td>\n",
       "      <td>False</td>\n",
       "      <td>False</td>\n",
       "      <td>True</td>\n",
       "      <td>16</td>\n",
       "      <td>5.343950</td>\n",
       "      <td>0.763931</td>\n",
       "      <td>13.045100</td>\n",
       "      <td>0.0</td>\n",
       "      <td>13.045100</td>\n",
       "    </tr>\n",
       "    <tr>\n",
       "      <th>...</th>\n",
       "      <td>...</td>\n",
       "      <td>...</td>\n",
       "      <td>...</td>\n",
       "      <td>...</td>\n",
       "      <td>...</td>\n",
       "      <td>...</td>\n",
       "      <td>...</td>\n",
       "      <td>...</td>\n",
       "      <td>...</td>\n",
       "      <td>...</td>\n",
       "      <td>...</td>\n",
       "      <td>...</td>\n",
       "      <td>...</td>\n",
       "      <td>...</td>\n",
       "      <td>...</td>\n",
       "      <td>...</td>\n",
       "      <td>...</td>\n",
       "      <td>...</td>\n",
       "      <td>...</td>\n",
       "      <td>...</td>\n",
       "    </tr>\n",
       "    <tr>\n",
       "      <th>49993</th>\n",
       "      <td>True</td>\n",
       "      <td>False</td>\n",
       "      <td>1</td>\n",
       "      <td>0.181520</td>\n",
       "      <td>2.289143</td>\n",
       "      <td>2112</td>\n",
       "      <td>16</td>\n",
       "      <td>False</td>\n",
       "      <td>100.0</td>\n",
       "      <td>0.893828</td>\n",
       "      <td>49993</td>\n",
       "      <td>False</td>\n",
       "      <td>False</td>\n",
       "      <td>True</td>\n",
       "      <td>16</td>\n",
       "      <td>2.599130</td>\n",
       "      <td>1.189590</td>\n",
       "      <td>6.102090</td>\n",
       "      <td>0.0</td>\n",
       "      <td>6.102090</td>\n",
       "    </tr>\n",
       "    <tr>\n",
       "      <th>49994</th>\n",
       "      <td>True</td>\n",
       "      <td>True</td>\n",
       "      <td>3</td>\n",
       "      <td>0.085276</td>\n",
       "      <td>4.227376</td>\n",
       "      <td>2112</td>\n",
       "      <td>16</td>\n",
       "      <td>True</td>\n",
       "      <td>100.0</td>\n",
       "      <td>0.919576</td>\n",
       "      <td>49994</td>\n",
       "      <td>False</td>\n",
       "      <td>False</td>\n",
       "      <td>True</td>\n",
       "      <td>16</td>\n",
       "      <td>0.238472</td>\n",
       "      <td>0.052200</td>\n",
       "      <td>0.578000</td>\n",
       "      <td>0.0</td>\n",
       "      <td>0.578000</td>\n",
       "    </tr>\n",
       "    <tr>\n",
       "      <th>49995</th>\n",
       "      <td>True</td>\n",
       "      <td>False</td>\n",
       "      <td>1</td>\n",
       "      <td>0.316624</td>\n",
       "      <td>19.009370</td>\n",
       "      <td>2112</td>\n",
       "      <td>16</td>\n",
       "      <td>False</td>\n",
       "      <td>100.0</td>\n",
       "      <td>0.920764</td>\n",
       "      <td>49995</td>\n",
       "      <td>False</td>\n",
       "      <td>False</td>\n",
       "      <td>True</td>\n",
       "      <td>16</td>\n",
       "      <td>1.385610</td>\n",
       "      <td>0.911258</td>\n",
       "      <td>2.871070</td>\n",
       "      <td>0.0</td>\n",
       "      <td>2.871070</td>\n",
       "    </tr>\n",
       "    <tr>\n",
       "      <th>49997</th>\n",
       "      <td>True</td>\n",
       "      <td>False</td>\n",
       "      <td>1</td>\n",
       "      <td>0.296443</td>\n",
       "      <td>41.930283</td>\n",
       "      <td>2112</td>\n",
       "      <td>16</td>\n",
       "      <td>False</td>\n",
       "      <td>100.0</td>\n",
       "      <td>0.912010</td>\n",
       "      <td>49997</td>\n",
       "      <td>False</td>\n",
       "      <td>False</td>\n",
       "      <td>True</td>\n",
       "      <td>16</td>\n",
       "      <td>1.493360</td>\n",
       "      <td>0.914446</td>\n",
       "      <td>3.079740</td>\n",
       "      <td>0.0</td>\n",
       "      <td>3.079740</td>\n",
       "    </tr>\n",
       "    <tr>\n",
       "      <th>49998</th>\n",
       "      <td>True</td>\n",
       "      <td>False</td>\n",
       "      <td>1</td>\n",
       "      <td>0.185036</td>\n",
       "      <td>20.951110</td>\n",
       "      <td>2212</td>\n",
       "      <td>16</td>\n",
       "      <td>False</td>\n",
       "      <td>100.0</td>\n",
       "      <td>0.925266</td>\n",
       "      <td>49998</td>\n",
       "      <td>False</td>\n",
       "      <td>False</td>\n",
       "      <td>True</td>\n",
       "      <td>16</td>\n",
       "      <td>1.310560</td>\n",
       "      <td>0.521760</td>\n",
       "      <td>2.796520</td>\n",
       "      <td>0.0</td>\n",
       "      <td>2.796520</td>\n",
       "    </tr>\n",
       "  </tbody>\n",
       "</table>\n",
       "<p>30278 rows × 20 columns</p>\n",
       "</div>"
      ],
      "text/plain": [
       "         cc    sea  hitqrk        xs        Q2s  hitnuc   A  charm     Ev  \\\n",
       "1      True  False       1  0.431447  52.596432    2112  16  False  100.0   \n",
       "4      True  False       1  0.356973   5.530777    2112  16  False  100.0   \n",
       "5      True  False       1  0.234142  38.530999    2212  16  False  100.0   \n",
       "9      True  False       1  0.508304  80.313765    2112  16  False  100.0   \n",
       "11     True  False       1  0.055564   5.017979    2112  16  False  100.0   \n",
       "...     ...    ...     ...       ...        ...     ...  ..    ...    ...   \n",
       "49993  True  False       1  0.181520   2.289143    2112  16  False  100.0   \n",
       "49994  True   True       3  0.085276   4.227376    2112  16   True  100.0   \n",
       "49995  True  False       1  0.316624  19.009370    2112  16  False  100.0   \n",
       "49997  True  False       1  0.296443  41.930283    2112  16  False  100.0   \n",
       "49998  True  False       1  0.185036  20.951110    2212  16  False  100.0   \n",
       "\n",
       "           Mnuc  event_num    qel    res   dis  atom        F1        F2  \\\n",
       "1      0.918393          1  False  False  True    16  0.611472  0.534678   \n",
       "4      0.885697          4  False  False  True    16  1.199530  0.887138   \n",
       "5      0.906232          5  False  False  True    16  0.929012  0.455120   \n",
       "9      0.921316          9  False  False  True    16  0.324748  0.332537   \n",
       "11     0.894275         11  False  False  True    16  5.343950  0.763931   \n",
       "...         ...        ...    ...    ...   ...   ...       ...       ...   \n",
       "49993  0.893828      49993  False  False  True    16  2.599130  1.189590   \n",
       "49994  0.919576      49994  False  False  True    16  0.238472  0.052200   \n",
       "49995  0.920764      49995  False  False  True    16  1.385610  0.911258   \n",
       "49997  0.912010      49997  False  False  True    16  1.493360  0.914446   \n",
       "49998  0.925266      49998  False  False  True    16  1.310560  0.521760   \n",
       "\n",
       "              F3   F4         F5  \n",
       "1       1.241390  0.0   1.241390  \n",
       "4       2.483910  0.0   2.483910  \n",
       "5       1.937230  0.0   1.937230  \n",
       "9       0.655794  0.0   0.655794  \n",
       "11     13.045100  0.0  13.045100  \n",
       "...          ...  ...        ...  \n",
       "49993   6.102090  0.0   6.102090  \n",
       "49994   0.578000  0.0   0.578000  \n",
       "49995   2.871070  0.0   2.871070  \n",
       "49997   3.079740  0.0   3.079740  \n",
       "49998   2.796520  0.0   2.796520  \n",
       "\n",
       "[30278 rows x 20 columns]"
      ]
     },
     "execution_count": 66,
     "metadata": {},
     "output_type": "execute_result"
    }
   ],
   "source": [
    "gst.loc[gst[\"F1\"].notnull(), :][~f_close].drop([\"iev\", \"En\", \"pxn\", \"pyn\", \"pzn\"], axis=1)"
   ]
  },
  {
   "cell_type": "code",
   "execution_count": 67,
   "metadata": {},
   "outputs": [
    {
     "data": {
      "text/html": [
       "<div>\n",
       "<style scoped>\n",
       "    .dataframe tbody tr th:only-of-type {\n",
       "        vertical-align: middle;\n",
       "    }\n",
       "\n",
       "    .dataframe tbody tr th {\n",
       "        vertical-align: top;\n",
       "    }\n",
       "\n",
       "    .dataframe thead th {\n",
       "        text-align: right;\n",
       "    }\n",
       "</style>\n",
       "<table border=\"1\" class=\"dataframe\">\n",
       "  <thead>\n",
       "    <tr style=\"text-align: right;\">\n",
       "      <th></th>\n",
       "      <th>event_num</th>\n",
       "      <th>qel</th>\n",
       "      <th>res</th>\n",
       "      <th>dis</th>\n",
       "      <th>sea</th>\n",
       "      <th>hitqrk</th>\n",
       "      <th>xs</th>\n",
       "      <th>Q2s</th>\n",
       "      <th>hitnuc</th>\n",
       "      <th>atom</th>\n",
       "      <th>Mnuc</th>\n",
       "      <th>charm</th>\n",
       "      <th>F1</th>\n",
       "      <th>F2</th>\n",
       "      <th>F3</th>\n",
       "      <th>F4</th>\n",
       "      <th>F5</th>\n",
       "    </tr>\n",
       "  </thead>\n",
       "  <tbody>\n",
       "    <tr>\n",
       "      <th>1</th>\n",
       "      <td>1</td>\n",
       "      <td>False</td>\n",
       "      <td>False</td>\n",
       "      <td>True</td>\n",
       "      <td>False</td>\n",
       "      <td>1</td>\n",
       "      <td>0.431447</td>\n",
       "      <td>52.596432</td>\n",
       "      <td>2112</td>\n",
       "      <td>16</td>\n",
       "      <td>0.918393</td>\n",
       "      <td>False</td>\n",
       "      <td>0.611018</td>\n",
       "      <td>0.534281</td>\n",
       "      <td>1.240464</td>\n",
       "      <td>0.0</td>\n",
       "      <td>1.240464</td>\n",
       "    </tr>\n",
       "    <tr>\n",
       "      <th>4</th>\n",
       "      <td>4</td>\n",
       "      <td>False</td>\n",
       "      <td>False</td>\n",
       "      <td>True</td>\n",
       "      <td>False</td>\n",
       "      <td>1</td>\n",
       "      <td>0.356973</td>\n",
       "      <td>5.530777</td>\n",
       "      <td>2112</td>\n",
       "      <td>16</td>\n",
       "      <td>0.885697</td>\n",
       "      <td>False</td>\n",
       "      <td>1.194707</td>\n",
       "      <td>0.883572</td>\n",
       "      <td>2.473922</td>\n",
       "      <td>0.0</td>\n",
       "      <td>2.473922</td>\n",
       "    </tr>\n",
       "    <tr>\n",
       "      <th>5</th>\n",
       "      <td>5</td>\n",
       "      <td>False</td>\n",
       "      <td>False</td>\n",
       "      <td>True</td>\n",
       "      <td>False</td>\n",
       "      <td>1</td>\n",
       "      <td>0.234142</td>\n",
       "      <td>38.530999</td>\n",
       "      <td>2212</td>\n",
       "      <td>16</td>\n",
       "      <td>0.906232</td>\n",
       "      <td>False</td>\n",
       "      <td>0.928715</td>\n",
       "      <td>0.454975</td>\n",
       "      <td>1.936614</td>\n",
       "      <td>0.0</td>\n",
       "      <td>1.936614</td>\n",
       "    </tr>\n",
       "    <tr>\n",
       "      <th>9</th>\n",
       "      <td>9</td>\n",
       "      <td>False</td>\n",
       "      <td>False</td>\n",
       "      <td>True</td>\n",
       "      <td>False</td>\n",
       "      <td>1</td>\n",
       "      <td>0.508304</td>\n",
       "      <td>80.313765</td>\n",
       "      <td>2112</td>\n",
       "      <td>16</td>\n",
       "      <td>0.921316</td>\n",
       "      <td>False</td>\n",
       "      <td>0.324504</td>\n",
       "      <td>0.332288</td>\n",
       "      <td>0.655301</td>\n",
       "      <td>0.0</td>\n",
       "      <td>0.655301</td>\n",
       "    </tr>\n",
       "    <tr>\n",
       "      <th>11</th>\n",
       "      <td>11</td>\n",
       "      <td>False</td>\n",
       "      <td>False</td>\n",
       "      <td>True</td>\n",
       "      <td>False</td>\n",
       "      <td>1</td>\n",
       "      <td>0.055564</td>\n",
       "      <td>5.017979</td>\n",
       "      <td>2112</td>\n",
       "      <td>16</td>\n",
       "      <td>0.894275</td>\n",
       "      <td>False</td>\n",
       "      <td>5.352028</td>\n",
       "      <td>0.765086</td>\n",
       "      <td>13.064777</td>\n",
       "      <td>0.0</td>\n",
       "      <td>13.064777</td>\n",
       "    </tr>\n",
       "    <tr>\n",
       "      <th>...</th>\n",
       "      <td>...</td>\n",
       "      <td>...</td>\n",
       "      <td>...</td>\n",
       "      <td>...</td>\n",
       "      <td>...</td>\n",
       "      <td>...</td>\n",
       "      <td>...</td>\n",
       "      <td>...</td>\n",
       "      <td>...</td>\n",
       "      <td>...</td>\n",
       "      <td>...</td>\n",
       "      <td>...</td>\n",
       "      <td>...</td>\n",
       "      <td>...</td>\n",
       "      <td>...</td>\n",
       "      <td>...</td>\n",
       "      <td>...</td>\n",
       "    </tr>\n",
       "    <tr>\n",
       "      <th>49993</th>\n",
       "      <td>49993</td>\n",
       "      <td>False</td>\n",
       "      <td>False</td>\n",
       "      <td>True</td>\n",
       "      <td>False</td>\n",
       "      <td>1</td>\n",
       "      <td>0.181520</td>\n",
       "      <td>2.289143</td>\n",
       "      <td>2112</td>\n",
       "      <td>16</td>\n",
       "      <td>0.893828</td>\n",
       "      <td>False</td>\n",
       "      <td>2.590593</td>\n",
       "      <td>1.185687</td>\n",
       "      <td>6.082050</td>\n",
       "      <td>0.0</td>\n",
       "      <td>6.082050</td>\n",
       "    </tr>\n",
       "    <tr>\n",
       "      <th>49994</th>\n",
       "      <td>49994</td>\n",
       "      <td>False</td>\n",
       "      <td>False</td>\n",
       "      <td>True</td>\n",
       "      <td>True</td>\n",
       "      <td>3</td>\n",
       "      <td>0.085276</td>\n",
       "      <td>4.227376</td>\n",
       "      <td>2112</td>\n",
       "      <td>16</td>\n",
       "      <td>0.919576</td>\n",
       "      <td>True</td>\n",
       "      <td>0.226624</td>\n",
       "      <td>0.049607</td>\n",
       "      <td>0.549284</td>\n",
       "      <td>0.0</td>\n",
       "      <td>0.549284</td>\n",
       "    </tr>\n",
       "    <tr>\n",
       "      <th>49995</th>\n",
       "      <td>49995</td>\n",
       "      <td>False</td>\n",
       "      <td>False</td>\n",
       "      <td>True</td>\n",
       "      <td>False</td>\n",
       "      <td>1</td>\n",
       "      <td>0.316624</td>\n",
       "      <td>19.009370</td>\n",
       "      <td>2112</td>\n",
       "      <td>16</td>\n",
       "      <td>0.920764</td>\n",
       "      <td>False</td>\n",
       "      <td>1.384291</td>\n",
       "      <td>0.910392</td>\n",
       "      <td>2.868342</td>\n",
       "      <td>0.0</td>\n",
       "      <td>2.868342</td>\n",
       "    </tr>\n",
       "    <tr>\n",
       "      <th>49997</th>\n",
       "      <td>49997</td>\n",
       "      <td>False</td>\n",
       "      <td>False</td>\n",
       "      <td>True</td>\n",
       "      <td>False</td>\n",
       "      <td>1</td>\n",
       "      <td>0.296443</td>\n",
       "      <td>41.930283</td>\n",
       "      <td>2112</td>\n",
       "      <td>16</td>\n",
       "      <td>0.912010</td>\n",
       "      <td>False</td>\n",
       "      <td>1.492811</td>\n",
       "      <td>0.914110</td>\n",
       "      <td>3.078607</td>\n",
       "      <td>0.0</td>\n",
       "      <td>3.078607</td>\n",
       "    </tr>\n",
       "    <tr>\n",
       "      <th>49998</th>\n",
       "      <td>49998</td>\n",
       "      <td>False</td>\n",
       "      <td>False</td>\n",
       "      <td>True</td>\n",
       "      <td>False</td>\n",
       "      <td>1</td>\n",
       "      <td>0.185036</td>\n",
       "      <td>20.951110</td>\n",
       "      <td>2212</td>\n",
       "      <td>16</td>\n",
       "      <td>0.925266</td>\n",
       "      <td>False</td>\n",
       "      <td>1.310240</td>\n",
       "      <td>0.521632</td>\n",
       "      <td>2.795832</td>\n",
       "      <td>0.0</td>\n",
       "      <td>2.795832</td>\n",
       "    </tr>\n",
       "  </tbody>\n",
       "</table>\n",
       "<p>30278 rows × 17 columns</p>\n",
       "</div>"
      ],
      "text/plain": [
       "       event_num    qel    res   dis    sea  hitqrk        xs        Q2s  \\\n",
       "1              1  False  False  True  False       1  0.431447  52.596432   \n",
       "4              4  False  False  True  False       1  0.356973   5.530777   \n",
       "5              5  False  False  True  False       1  0.234142  38.530999   \n",
       "9              9  False  False  True  False       1  0.508304  80.313765   \n",
       "11            11  False  False  True  False       1  0.055564   5.017979   \n",
       "...          ...    ...    ...   ...    ...     ...       ...        ...   \n",
       "49993      49993  False  False  True  False       1  0.181520   2.289143   \n",
       "49994      49994  False  False  True   True       3  0.085276   4.227376   \n",
       "49995      49995  False  False  True  False       1  0.316624  19.009370   \n",
       "49997      49997  False  False  True  False       1  0.296443  41.930283   \n",
       "49998      49998  False  False  True  False       1  0.185036  20.951110   \n",
       "\n",
       "       hitnuc  atom      Mnuc  charm        F1        F2         F3   F4  \\\n",
       "1        2112    16  0.918393  False  0.611018  0.534281   1.240464  0.0   \n",
       "4        2112    16  0.885697  False  1.194707  0.883572   2.473922  0.0   \n",
       "5        2212    16  0.906232  False  0.928715  0.454975   1.936614  0.0   \n",
       "9        2112    16  0.921316  False  0.324504  0.332288   0.655301  0.0   \n",
       "11       2112    16  0.894275  False  5.352028  0.765086  13.064777  0.0   \n",
       "...       ...   ...       ...    ...       ...       ...        ...  ...   \n",
       "49993    2112    16  0.893828  False  2.590593  1.185687   6.082050  0.0   \n",
       "49994    2112    16  0.919576   True  0.226624  0.049607   0.549284  0.0   \n",
       "49995    2112    16  0.920764  False  1.384291  0.910392   2.868342  0.0   \n",
       "49997    2112    16  0.912010  False  1.492811  0.914110   3.078607  0.0   \n",
       "49998    2212    16  0.925266  False  1.310240  0.521632   2.795832  0.0   \n",
       "\n",
       "              F5  \n",
       "1       1.240464  \n",
       "4       2.473922  \n",
       "5       1.936614  \n",
       "9       0.655301  \n",
       "11     13.064777  \n",
       "...          ...  \n",
       "49993   6.082050  \n",
       "49994   0.549284  \n",
       "49995   2.868342  \n",
       "49997   3.078607  \n",
       "49998   2.795832  \n",
       "\n",
       "[30278 rows x 17 columns]"
      ]
     },
     "execution_count": 67,
     "metadata": {},
     "output_type": "execute_result"
    }
   ],
   "source": [
    "manual.loc[manual[\"F1\"].notnull(), :][~f_close]"
   ]
  },
  {
   "cell_type": "code",
   "execution_count": 69,
   "metadata": {},
   "outputs": [
    {
     "data": {
      "text/plain": [
       "True"
      ]
     },
     "execution_count": 69,
     "metadata": {},
     "output_type": "execute_result"
    }
   ],
   "source": [
    "f_close_int.all()"
   ]
  },
  {
   "cell_type": "code",
   "execution_count": 90,
   "metadata": {},
   "outputs": [
    {
     "data": {
      "text/plain": [
       "<matplotlib.lines.Line2D at 0x7f2349634f10>"
      ]
     },
     "execution_count": 90,
     "metadata": {},
     "output_type": "execute_result"
    },
    {
     "data": {
      "image/png": "[encoded data removed]",
      "text/plain": [
       "<Figure size 640x480 with 1 Axes>"
      ]
     },
     "metadata": {},
     "output_type": "display_data"
    }
   ],
   "source": [
    "ax = manual.loc[manual[\"F1\"].notnull(), :][f_close][\"Mnuc\"].plot.hist(bins=20)\n",
    "ax.axvline(0.89733, color=\"red\")"
   ]
  },
  {
   "cell_type": "code",
   "execution_count": 91,
   "metadata": {},
   "outputs": [
    {
     "data": {
      "text/plain": [
       "<Axes: ylabel='Frequency'>"
      ]
     },
     "execution_count": 91,
     "metadata": {},
     "output_type": "execute_result"
    },
    {
     "data": {
      "image/png": "[encoded data removed]",
      "text/plain": [
       "<Figure size 640x480 with 1 Axes>"
      ]
     },
     "metadata": {},
     "output_type": "display_data"
    }
   ],
   "source": [
    "manual.loc[manual[\"F1\"].notnull(), :][f_close][\"xs\"].plot.hist(bins=20)"
   ]
  },
  {
   "cell_type": "code",
   "execution_count": null,
   "metadata": {},
   "outputs": [],
   "source": []
  }
 ],
 "metadata": {
  "kernelspec": {
   "display_name": "cern-skhep",
   "language": "python",
   "name": "python3"
  },
  "language_info": {
   "codemirror_mode": {
    "name": "ipython",
    "version": 3
   },
   "file_extension": ".py",
   "mimetype": "text/x-python",
   "name": "python",
   "nbconvert_exporter": "python",
   "pygments_lexer": "ipython3",
   "version": "3.11.4"
  }
 },
 "nbformat": 4,
 "nbformat_minor": 2
}
