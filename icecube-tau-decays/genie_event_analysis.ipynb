{
 "cells": [
  {
   "cell_type": "code",
   "execution_count": 1,
   "metadata": {},
   "outputs": [],
   "source": [
    "import uproot\n",
    "import pandas as pd\n",
    "import awkward as ak\n",
    "import numpy as np"
   ]
  },
  {
   "cell_type": "code",
   "execution_count": 41,
   "metadata": {},
   "outputs": [],
   "source": [
    "with uproot.open(\"../data/gntp.3.gtrac.root\") as f:\n",
    "    # Read all pdg IDs and polarization vectors from all events as two awkward arrays\n",
    "    pdg = f[\"gRooTracker;22/StdHepPdg\"].array()\n",
    "    pol = f[\"gRooTracker;22/StdHepPolz\"].array()\n",
    "    status = f[\"gRooTracker;22/StdHepStatus\"].array()"
   ]
  },
  {
   "cell_type": "code",
   "execution_count": 52,
   "metadata": {},
   "outputs": [
    {
     "name": "stdout",
     "output_type": "stream",
     "text": [
      "1000000 * var * int32, 1000000 * var * 3 * float64, 1000000 * var * int32\n",
      "[[1], [422038]]\n",
      "422038 * 3 * float64\n"
     ]
    },
    {
     "data": {
      "text/plain": [
       "79679"
      ]
     },
     "execution_count": 52,
     "metadata": {},
     "output_type": "execute_result"
    }
   ],
   "source": [
    "print(f\"{pdg.type}, {pol.type}, {status.type}\")\n",
    "# identify all particles that are tau leptons and extract their polarization vectors and statuses\n",
    "tau_mask = pdg == 15\n",
    "tau_pol = ak.flatten(pol[tau_mask])\n",
    "tau_status = status[tau_mask]\n",
    "# Check which statuses are present\n",
    "print(np.unique(ak.flatten(tau_status), return_counts=True))\n",
    "\n",
    "print(tau_pol.type)\n",
    "\n",
    "np.sum(np.all(tau_pol == 0, axis=1))"
   ]
  },
  {
   "cell_type": "code",
   "execution_count": 47,
   "metadata": {},
   "outputs": [
    {
     "data": {
      "text/html": [
       "<div>\n",
       "<style scoped>\n",
       "    .dataframe tbody tr th:only-of-type {\n",
       "        vertical-align: middle;\n",
       "    }\n",
       "\n",
       "    .dataframe tbody tr th {\n",
       "        vertical-align: top;\n",
       "    }\n",
       "\n",
       "    .dataframe thead th {\n",
       "        text-align: right;\n",
       "    }\n",
       "</style>\n",
       "<table border=\"1\" class=\"dataframe\">\n",
       "  <thead>\n",
       "    <tr style=\"text-align: right;\">\n",
       "      <th></th>\n",
       "      <th>polx</th>\n",
       "      <th>poly</th>\n",
       "      <th>polz</th>\n",
       "    </tr>\n",
       "  </thead>\n",
       "  <tbody>\n",
       "    <tr>\n",
       "      <th>0</th>\n",
       "      <td>0.086999</td>\n",
       "      <td>0.008235</td>\n",
       "      <td>-0.996174</td>\n",
       "    </tr>\n",
       "    <tr>\n",
       "      <th>1</th>\n",
       "      <td>0.000000</td>\n",
       "      <td>0.000000</td>\n",
       "      <td>0.000000</td>\n",
       "    </tr>\n",
       "    <tr>\n",
       "      <th>2</th>\n",
       "      <td>0.132538</td>\n",
       "      <td>0.161835</td>\n",
       "      <td>-0.977877</td>\n",
       "    </tr>\n",
       "    <tr>\n",
       "      <th>3</th>\n",
       "      <td>0.179302</td>\n",
       "      <td>0.217577</td>\n",
       "      <td>-0.959433</td>\n",
       "    </tr>\n",
       "    <tr>\n",
       "      <th>4</th>\n",
       "      <td>-0.229704</td>\n",
       "      <td>0.083774</td>\n",
       "      <td>-0.969648</td>\n",
       "    </tr>\n",
       "    <tr>\n",
       "      <th>...</th>\n",
       "      <td>...</td>\n",
       "      <td>...</td>\n",
       "      <td>...</td>\n",
       "    </tr>\n",
       "    <tr>\n",
       "      <th>422033</th>\n",
       "      <td>-0.117234</td>\n",
       "      <td>-0.061026</td>\n",
       "      <td>-0.991228</td>\n",
       "    </tr>\n",
       "    <tr>\n",
       "      <th>422034</th>\n",
       "      <td>-0.068113</td>\n",
       "      <td>-0.144505</td>\n",
       "      <td>-0.987157</td>\n",
       "    </tr>\n",
       "    <tr>\n",
       "      <th>422035</th>\n",
       "      <td>0.131012</td>\n",
       "      <td>0.122818</td>\n",
       "      <td>-0.983744</td>\n",
       "    </tr>\n",
       "    <tr>\n",
       "      <th>422036</th>\n",
       "      <td>0.000000</td>\n",
       "      <td>0.000000</td>\n",
       "      <td>0.000000</td>\n",
       "    </tr>\n",
       "    <tr>\n",
       "      <th>422037</th>\n",
       "      <td>0.012495</td>\n",
       "      <td>-0.169905</td>\n",
       "      <td>-0.985381</td>\n",
       "    </tr>\n",
       "  </tbody>\n",
       "</table>\n",
       "<p>422038 rows × 3 columns</p>\n",
       "</div>"
      ],
      "text/plain": [
       "            polx      poly      polz\n",
       "0       0.086999  0.008235 -0.996174\n",
       "1       0.000000  0.000000  0.000000\n",
       "2       0.132538  0.161835 -0.977877\n",
       "3       0.179302  0.217577 -0.959433\n",
       "4      -0.229704  0.083774 -0.969648\n",
       "...          ...       ...       ...\n",
       "422033 -0.117234 -0.061026 -0.991228\n",
       "422034 -0.068113 -0.144505 -0.987157\n",
       "422035  0.131012  0.122818 -0.983744\n",
       "422036  0.000000  0.000000  0.000000\n",
       "422037  0.012495 -0.169905 -0.985381\n",
       "\n",
       "[422038 rows x 3 columns]"
      ]
     },
     "execution_count": 47,
     "metadata": {},
     "output_type": "execute_result"
    }
   ],
   "source": [
    "pd.DataFrame(tau_pol.to_numpy(), columns=[\"polx\", \"poly\", \"polz\"])"
   ]
  },
  {
   "cell_type": "code",
   "execution_count": 4,
   "metadata": {},
   "outputs": [],
   "source": [
    "taus = pd.read_csv(\"../data/genie_pol_e10.csv\")"
   ]
  },
  {
   "cell_type": "code",
   "execution_count": 51,
   "metadata": {},
   "outputs": [
    {
     "data": {
      "text/plain": [
       "79679"
      ]
     },
     "execution_count": 51,
     "metadata": {},
     "output_type": "execute_result"
    }
   ],
   "source": [
    "np.sum(np.all(taus.loc[:, \"polx\":\"polz\"] == 0, axis=1))"
   ]
  },
  {
   "cell_type": "code",
   "execution_count": 54,
   "metadata": {},
   "outputs": [],
   "source": [
    "assert np.all(np.all(tau_pol == 0, axis=1) == (taus.loc[:, \"polx\":\"polz\"] == 0).all(axis=1).values)"
   ]
  },
  {
   "cell_type": "markdown",
   "metadata": {},
   "source": [
    "## Analyze tau lepton energy loss in ice\n",
    "Based on events simulated with Geant4"
   ]
  },
  {
   "cell_type": "code",
   "execution_count": 61,
   "metadata": {},
   "outputs": [],
   "source": [
    "g4_taus = pd.read_csv(\"../data/geant4_tau_output_e50.csv\")"
   ]
  },
  {
   "cell_type": "code",
   "execution_count": 62,
   "metadata": {},
   "outputs": [],
   "source": [
    "assert (g4_taus.groupby(\"event_num\").count() == 2).all().all()"
   ]
  },
  {
   "cell_type": "code",
   "execution_count": 63,
   "metadata": {},
   "outputs": [],
   "source": [
    "g4_tau_diff = g4_taus.groupby(\"event_num\").diff().dropna(axis=0).drop(\"status\", axis=1)\n",
    "g4_tau_diff_sig = g4_tau_diff.loc[(g4_tau_diff != 0).any(axis=1), :].copy()\n",
    "g4_tau_diff_sig[\"delta_x\"] = (g4_tau_diff_sig[\"x\"]**2 + g4_tau_diff_sig[\"y\"]**2 + g4_tau_diff_sig[\"z\"]**2).pow(0.5)"
   ]
  },
  {
   "cell_type": "code",
   "execution_count": 64,
   "metadata": {},
   "outputs": [
    {
     "data": {
      "text/plain": [
       "<Axes: xlabel='moved distance (mm)', ylabel='Frequency'>"
      ]
     },
     "execution_count": 64,
     "metadata": {},
     "output_type": "execute_result"
    },
    {
     "data": {
      "image/png": "[encoded data removed]",
      "text/plain": [
       "<Figure size 640x480 with 1 Axes>"
      ]
     },
     "metadata": {},
     "output_type": "display_data"
    }
   ],
   "source": [
    "(g4_tau_diff_sig[\"delta_x\"]*1000).plot.hist(bins=20, xlabel=\"moved distance (mm)\")"
   ]
  },
  {
   "cell_type": "code",
   "execution_count": 65,
   "metadata": {},
   "outputs": [
    {
     "data": {
      "text/plain": [
       "<Axes: xlabel='energy loss (MeV)', ylabel='Frequency'>"
      ]
     },
     "execution_count": 65,
     "metadata": {},
     "output_type": "execute_result"
    },
    {
     "data": {
      "image/png": "[encoded data removed]",
      "text/plain": [
       "<Figure size 640x480 with 1 Axes>"
      ]
     },
     "metadata": {},
     "output_type": "display_data"
    }
   ],
   "source": [
    "(-g4_tau_diff_sig[\"E\"]*1000).plot.hist(bins=20, xlabel=\"energy loss (MeV)\")"
   ]
  },
  {
   "cell_type": "code",
   "execution_count": 66,
   "metadata": {},
   "outputs": [
    {
     "data": {
      "text/plain": [
       "0.9971492873218305"
      ]
     },
     "execution_count": 66,
     "metadata": {},
     "output_type": "execute_result"
    }
   ],
   "source": [
    "((-g4_tau_diff[\"E\"]*1000) < 1).sum() / len(g4_tau_diff)"
   ]
  },
  {
   "cell_type": "markdown",
   "metadata": {},
   "source": [
    "## Read all interesting parameters and store to an event file"
   ]
  },
  {
   "cell_type": "code",
   "execution_count": 2,
   "metadata": {},
   "outputs": [],
   "source": [
    "with uproot.open(\"../data/gntp.5.gst.root\") as f:\n",
    "    # Read gst/hitnuc\n",
    "    event_infos = f[\"gst\"].arrays([\"iev\", \"qel\", \"res\", \"dis\", \"cc\", \"sea\", \"hitqrk\", \"xs\", \"ys\", \"Q2s\", \"Ws\", \"hitnuc\", \"A\", \"resid\", \"En\", \"pxn\", \"pyn\", \"pzn\", \"charm\", \"Ev\", \"pxv\", \"pyv\", \"pzv\"])\n"
   ]
  },
  {
   "cell_type": "code",
   "execution_count": 3,
   "metadata": {},
   "outputs": [],
   "source": [
    "ev = event_infos[event_infos[\"iev\"] < 50000]\n",
    "ev[\"Mnuc\"] = np.sqrt(ev[\"En\"]**2 - ev[\"pxn\"]**2 - ev[\"pyn\"]**2 - ev[\"pzn\"]**2)\n",
    "ev[\"event_num\"] = ev[\"iev\"]\n",
    "ev[\"qel\"] = ev[\"qel\"] & ev[\"cc\"]\n",
    "ev[\"res\"] = ev[\"res\"] & ev[\"cc\"]\n",
    "ev[\"dis\"] = ev[\"dis\"] & ev[\"cc\"]\n",
    "ev[\"atom\"] = ev[\"A\"]\n",
    "ev[\"Enu\"] = ev[\"Ev\"]\n",
    "ev[\"pxnu\"] = ev[\"pxv\"]\n",
    "ev[\"pynu\"] = ev[\"pyv\"]\n",
    "ev[\"pznu\"] = ev[\"pzv\"]"
   ]
  },
  {
   "cell_type": "code",
   "execution_count": 4,
   "metadata": {},
   "outputs": [],
   "source": [
    "# Convert awkward array to pandas\n",
    "ev_df = pd.DataFrame(ev.to_numpy(), columns=ev.fields)\n",
    "ev_df.to_csv(\"../data/genie_tau_pol_data_gst.csv\", index=False)"
   ]
  },
  {
   "cell_type": "markdown",
   "metadata": {},
   "source": [
    "## Compare gst file values to manual extraction"
   ]
  },
  {
   "cell_type": "code",
   "execution_count": 36,
   "metadata": {},
   "outputs": [],
   "source": [
    "# Using my own code\n",
    "# gst = pd.read_csv(\"../data/genie_tau_pol_data_gst_f.csv\")\n",
    "# Using GENIE's DIS calculation, where I have created an Interaction object from the gst info\n",
    "gst_int = pd.read_csv(\"../data/genie_tau_pol_data_gst_res_dis.csv\")\n",
    "# Using the Interaction object inside the GHEP file (correct values)\n",
    "manual = pd.read_csv(\"../data/genie_tau_pol_data_e100_1.csv\")"
   ]
  },
  {
   "cell_type": "code",
   "execution_count": 37,
   "metadata": {},
   "outputs": [],
   "source": [
    "non_float_cols = [\"qel\", \"res\", \"dis\", \"sea\", \"charm\", \"hitqrk\", \"event_num\", \"atom\", \"hitnuc\"]\n",
    "# assert (gst.loc[gst[\"dis\"] | gst[\"res\"] | gst[\"qel\"], non_float_cols] == manual.loc[manual[\"dis\"] | manual[\"res\"] | manual[\"qel\"], non_float_cols]).all().all()\n",
    "assert (gst_int.loc[gst_int[\"dis\"] | gst_int[\"res\"] | gst_int[\"qel\"], non_float_cols] == manual.loc[manual[\"dis\"] | manual[\"res\"] | manual[\"qel\"], non_float_cols]).all().all()"
   ]
  },
  {
   "cell_type": "code",
   "execution_count": 38,
   "metadata": {},
   "outputs": [],
   "source": [
    "float_cols = [\"Mnuc\", \"xs\", \"Q2s\"]\n",
    "close_vals = np.isclose(gst_int.loc[gst_int[\"res\"], float_cols], manual.loc[manual[\"res\"], float_cols], atol=1e-6)\n",
    "assert close_vals.all().all()\n",
    "close_vals = np.isclose(gst_int.loc[gst_int[\"res\"], float_cols], manual.loc[manual[\"res\"], float_cols], atol=1e-6)\n",
    "assert close_vals.all().all()"
   ]
  },
  {
   "cell_type": "markdown",
   "metadata": {},
   "source": [
    "The extraction method seems to be correct, and all values match"
   ]
  },
  {
   "cell_type": "code",
   "execution_count": 39,
   "metadata": {},
   "outputs": [],
   "source": [
    "f_close = np.isclose(gst_int.loc[gst_int[\"sigmm\"].notnull(), [\"sigmm\",\"sigpp\"]], manual.loc[manual[\"sigmm\"].notnull(), [\"sigmm\",\"sigpp\"]], atol=1e-4).all(axis=1)"
   ]
  },
  {
   "cell_type": "code",
   "execution_count": 40,
   "metadata": {},
   "outputs": [
    {
     "data": {
      "text/html": [
       "<div>\n",
       "<style scoped>\n",
       "    .dataframe tbody tr th:only-of-type {\n",
       "        vertical-align: middle;\n",
       "    }\n",
       "\n",
       "    .dataframe tbody tr th {\n",
       "        vertical-align: top;\n",
       "    }\n",
       "\n",
       "    .dataframe thead th {\n",
       "        text-align: right;\n",
       "    }\n",
       "</style>\n",
       "<table border=\"1\" class=\"dataframe\">\n",
       "  <thead>\n",
       "    <tr style=\"text-align: right;\">\n",
       "      <th></th>\n",
       "      <th>sigmm</th>\n",
       "      <th>sigpp</th>\n",
       "    </tr>\n",
       "  </thead>\n",
       "  <tbody>\n",
       "    <tr>\n",
       "      <th>23</th>\n",
       "      <td>0.580899</td>\n",
       "      <td>0.000205</td>\n",
       "    </tr>\n",
       "    <tr>\n",
       "      <th>90</th>\n",
       "      <td>0.066351</td>\n",
       "      <td>0.000032</td>\n",
       "    </tr>\n",
       "    <tr>\n",
       "      <th>229</th>\n",
       "      <td>0.008338</td>\n",
       "      <td>0.000004</td>\n",
       "    </tr>\n",
       "    <tr>\n",
       "      <th>245</th>\n",
       "      <td>0.232408</td>\n",
       "      <td>0.000126</td>\n",
       "    </tr>\n",
       "    <tr>\n",
       "      <th>262</th>\n",
       "      <td>0.058504</td>\n",
       "      <td>0.000042</td>\n",
       "    </tr>\n",
       "    <tr>\n",
       "      <th>...</th>\n",
       "      <td>...</td>\n",
       "      <td>...</td>\n",
       "    </tr>\n",
       "    <tr>\n",
       "      <th>49728</th>\n",
       "      <td>2.760720</td>\n",
       "      <td>0.001144</td>\n",
       "    </tr>\n",
       "    <tr>\n",
       "      <th>49747</th>\n",
       "      <td>0.123471</td>\n",
       "      <td>0.000076</td>\n",
       "    </tr>\n",
       "    <tr>\n",
       "      <th>49779</th>\n",
       "      <td>0.528816</td>\n",
       "      <td>0.000288</td>\n",
       "    </tr>\n",
       "    <tr>\n",
       "      <th>49824</th>\n",
       "      <td>0.440913</td>\n",
       "      <td>0.000135</td>\n",
       "    </tr>\n",
       "    <tr>\n",
       "      <th>49903</th>\n",
       "      <td>0.006406</td>\n",
       "      <td>0.000002</td>\n",
       "    </tr>\n",
       "  </tbody>\n",
       "</table>\n",
       "<p>740 rows × 2 columns</p>\n",
       "</div>"
      ],
      "text/plain": [
       "          sigmm     sigpp\n",
       "23     0.580899  0.000205\n",
       "90     0.066351  0.000032\n",
       "229    0.008338  0.000004\n",
       "245    0.232408  0.000126\n",
       "262    0.058504  0.000042\n",
       "...         ...       ...\n",
       "49728  2.760720  0.001144\n",
       "49747  0.123471  0.000076\n",
       "49779  0.528816  0.000288\n",
       "49824  0.440913  0.000135\n",
       "49903  0.006406  0.000002\n",
       "\n",
       "[740 rows x 2 columns]"
      ]
     },
     "execution_count": 40,
     "metadata": {},
     "output_type": "execute_result"
    }
   ],
   "source": [
    "gst_int.loc[gst_int[\"sigmm\"].notnull(), [\"sigmm\",\"sigpp\"]]"
   ]
  },
  {
   "cell_type": "code",
   "execution_count": 42,
   "metadata": {},
   "outputs": [
    {
     "data": {
      "text/html": [
       "<div>\n",
       "<style scoped>\n",
       "    .dataframe tbody tr th:only-of-type {\n",
       "        vertical-align: middle;\n",
       "    }\n",
       "\n",
       "    .dataframe tbody tr th {\n",
       "        vertical-align: top;\n",
       "    }\n",
       "\n",
       "    .dataframe thead th {\n",
       "        text-align: right;\n",
       "    }\n",
       "</style>\n",
       "<table border=\"1\" class=\"dataframe\">\n",
       "  <thead>\n",
       "    <tr style=\"text-align: right;\">\n",
       "      <th></th>\n",
       "      <th>sigmm</th>\n",
       "      <th>sigpp</th>\n",
       "    </tr>\n",
       "  </thead>\n",
       "  <tbody>\n",
       "    <tr>\n",
       "      <th>23</th>\n",
       "      <td>0.580899</td>\n",
       "      <td>0.000205</td>\n",
       "    </tr>\n",
       "    <tr>\n",
       "      <th>90</th>\n",
       "      <td>0.066351</td>\n",
       "      <td>0.000032</td>\n",
       "    </tr>\n",
       "    <tr>\n",
       "      <th>229</th>\n",
       "      <td>0.008338</td>\n",
       "      <td>0.000004</td>\n",
       "    </tr>\n",
       "    <tr>\n",
       "      <th>245</th>\n",
       "      <td>0.232408</td>\n",
       "      <td>0.000126</td>\n",
       "    </tr>\n",
       "    <tr>\n",
       "      <th>262</th>\n",
       "      <td>0.058504</td>\n",
       "      <td>0.000042</td>\n",
       "    </tr>\n",
       "    <tr>\n",
       "      <th>...</th>\n",
       "      <td>...</td>\n",
       "      <td>...</td>\n",
       "    </tr>\n",
       "    <tr>\n",
       "      <th>49728</th>\n",
       "      <td>2.760719</td>\n",
       "      <td>0.001144</td>\n",
       "    </tr>\n",
       "    <tr>\n",
       "      <th>49747</th>\n",
       "      <td>0.123471</td>\n",
       "      <td>0.000076</td>\n",
       "    </tr>\n",
       "    <tr>\n",
       "      <th>49779</th>\n",
       "      <td>0.528816</td>\n",
       "      <td>0.000288</td>\n",
       "    </tr>\n",
       "    <tr>\n",
       "      <th>49824</th>\n",
       "      <td>0.440913</td>\n",
       "      <td>0.000135</td>\n",
       "    </tr>\n",
       "    <tr>\n",
       "      <th>49903</th>\n",
       "      <td>0.006406</td>\n",
       "      <td>0.000002</td>\n",
       "    </tr>\n",
       "  </tbody>\n",
       "</table>\n",
       "<p>740 rows × 2 columns</p>\n",
       "</div>"
      ],
      "text/plain": [
       "          sigmm     sigpp\n",
       "23     0.580899  0.000205\n",
       "90     0.066351  0.000032\n",
       "229    0.008338  0.000004\n",
       "245    0.232408  0.000126\n",
       "262    0.058504  0.000042\n",
       "...         ...       ...\n",
       "49728  2.760719  0.001144\n",
       "49747  0.123471  0.000076\n",
       "49779  0.528816  0.000288\n",
       "49824  0.440913  0.000135\n",
       "49903  0.006406  0.000002\n",
       "\n",
       "[740 rows x 2 columns]"
      ]
     },
     "execution_count": 42,
     "metadata": {},
     "output_type": "execute_result"
    }
   ],
   "source": [
    "manual.loc[manual[\"sigmm\"].notnull(), [\"sigmm\",\"sigpp\"]]"
   ]
  },
  {
   "cell_type": "code",
   "execution_count": 44,
   "metadata": {},
   "outputs": [
    {
     "data": {
      "text/plain": [
       "True"
      ]
     },
     "execution_count": 44,
     "metadata": {},
     "output_type": "execute_result"
    }
   ],
   "source": [
    "f_close.all()"
   ]
  }
 ],
 "metadata": {
  "kernelspec": {
   "display_name": "cern-skhep",
   "language": "python",
   "name": "python3"
  },
  "language_info": {
   "codemirror_mode": {
    "name": "ipython",
    "version": 3
   },
   "file_extension": ".py",
   "mimetype": "text/x-python",
   "name": "python",
   "nbconvert_exporter": "python",
   "pygments_lexer": "ipython3",
   "version": "3.11.4"
  }
 },
 "nbformat": 4,
 "nbformat_minor": 2
}
