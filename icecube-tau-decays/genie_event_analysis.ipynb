{
 "cells": [
  {
   "cell_type": "code",
   "execution_count": 30,
   "metadata": {},
   "outputs": [],
   "source": [
    "import uproot\n",
    "import pandas as pd\n",
    "import awkward as ak\n",
    "import numpy as np"
   ]
  },
  {
   "cell_type": "code",
   "execution_count": 41,
   "metadata": {},
   "outputs": [],
   "source": [
    "with uproot.open(\"../data/gntp.3.gtrac.root\") as f:\n",
    "    # Read all pdg IDs and polarization vectors from all events as two awkward arrays\n",
    "    pdg = f[\"gRooTracker;22/StdHepPdg\"].array()\n",
    "    pol = f[\"gRooTracker;22/StdHepPolz\"].array()\n",
    "    status = f[\"gRooTracker;22/StdHepStatus\"].array()"
   ]
  },
  {
   "cell_type": "code",
   "execution_count": 52,
   "metadata": {},
   "outputs": [
    {
     "name": "stdout",
     "output_type": "stream",
     "text": [
      "1000000 * var * int32, 1000000 * var * 3 * float64, 1000000 * var * int32\n",
      "[[1], [422038]]\n",
      "422038 * 3 * float64\n"
     ]
    },
    {
     "data": {
      "text/plain": [
       "79679"
      ]
     },
     "execution_count": 52,
     "metadata": {},
     "output_type": "execute_result"
    }
   ],
   "source": [
    "print(f\"{pdg.type}, {pol.type}, {status.type}\")\n",
    "# identify all particles that are tau leptons and extract their polarization vectors and statuses\n",
    "tau_mask = pdg == 15\n",
    "tau_pol = ak.flatten(pol[tau_mask])\n",
    "tau_status = status[tau_mask]\n",
    "# Check which statuses are present\n",
    "print(np.unique(ak.flatten(tau_status), return_counts=True))\n",
    "\n",
    "print(tau_pol.type)\n",
    "\n",
    "np.sum(np.all(tau_pol == 0, axis=1))"
   ]
  },
  {
   "cell_type": "code",
   "execution_count": 47,
   "metadata": {},
   "outputs": [
    {
     "data": {
      "text/html": [
       "<div>\n",
       "<style scoped>\n",
       "    .dataframe tbody tr th:only-of-type {\n",
       "        vertical-align: middle;\n",
       "    }\n",
       "\n",
       "    .dataframe tbody tr th {\n",
       "        vertical-align: top;\n",
       "    }\n",
       "\n",
       "    .dataframe thead th {\n",
       "        text-align: right;\n",
       "    }\n",
       "</style>\n",
       "<table border=\"1\" class=\"dataframe\">\n",
       "  <thead>\n",
       "    <tr style=\"text-align: right;\">\n",
       "      <th></th>\n",
       "      <th>polx</th>\n",
       "      <th>poly</th>\n",
       "      <th>polz</th>\n",
       "    </tr>\n",
       "  </thead>\n",
       "  <tbody>\n",
       "    <tr>\n",
       "      <th>0</th>\n",
       "      <td>0.086999</td>\n",
       "      <td>0.008235</td>\n",
       "      <td>-0.996174</td>\n",
       "    </tr>\n",
       "    <tr>\n",
       "      <th>1</th>\n",
       "      <td>0.000000</td>\n",
       "      <td>0.000000</td>\n",
       "      <td>0.000000</td>\n",
       "    </tr>\n",
       "    <tr>\n",
       "      <th>2</th>\n",
       "      <td>0.132538</td>\n",
       "      <td>0.161835</td>\n",
       "      <td>-0.977877</td>\n",
       "    </tr>\n",
       "    <tr>\n",
       "      <th>3</th>\n",
       "      <td>0.179302</td>\n",
       "      <td>0.217577</td>\n",
       "      <td>-0.959433</td>\n",
       "    </tr>\n",
       "    <tr>\n",
       "      <th>4</th>\n",
       "      <td>-0.229704</td>\n",
       "      <td>0.083774</td>\n",
       "      <td>-0.969648</td>\n",
       "    </tr>\n",
       "    <tr>\n",
       "      <th>...</th>\n",
       "      <td>...</td>\n",
       "      <td>...</td>\n",
       "      <td>...</td>\n",
       "    </tr>\n",
       "    <tr>\n",
       "      <th>422033</th>\n",
       "      <td>-0.117234</td>\n",
       "      <td>-0.061026</td>\n",
       "      <td>-0.991228</td>\n",
       "    </tr>\n",
       "    <tr>\n",
       "      <th>422034</th>\n",
       "      <td>-0.068113</td>\n",
       "      <td>-0.144505</td>\n",
       "      <td>-0.987157</td>\n",
       "    </tr>\n",
       "    <tr>\n",
       "      <th>422035</th>\n",
       "      <td>0.131012</td>\n",
       "      <td>0.122818</td>\n",
       "      <td>-0.983744</td>\n",
       "    </tr>\n",
       "    <tr>\n",
       "      <th>422036</th>\n",
       "      <td>0.000000</td>\n",
       "      <td>0.000000</td>\n",
       "      <td>0.000000</td>\n",
       "    </tr>\n",
       "    <tr>\n",
       "      <th>422037</th>\n",
       "      <td>0.012495</td>\n",
       "      <td>-0.169905</td>\n",
       "      <td>-0.985381</td>\n",
       "    </tr>\n",
       "  </tbody>\n",
       "</table>\n",
       "<p>422038 rows × 3 columns</p>\n",
       "</div>"
      ],
      "text/plain": [
       "            polx      poly      polz\n",
       "0       0.086999  0.008235 -0.996174\n",
       "1       0.000000  0.000000  0.000000\n",
       "2       0.132538  0.161835 -0.977877\n",
       "3       0.179302  0.217577 -0.959433\n",
       "4      -0.229704  0.083774 -0.969648\n",
       "...          ...       ...       ...\n",
       "422033 -0.117234 -0.061026 -0.991228\n",
       "422034 -0.068113 -0.144505 -0.987157\n",
       "422035  0.131012  0.122818 -0.983744\n",
       "422036  0.000000  0.000000  0.000000\n",
       "422037  0.012495 -0.169905 -0.985381\n",
       "\n",
       "[422038 rows x 3 columns]"
      ]
     },
     "execution_count": 47,
     "metadata": {},
     "output_type": "execute_result"
    }
   ],
   "source": [
    "pd.DataFrame(tau_pol.to_numpy(), columns=[\"polx\", \"poly\", \"polz\"])"
   ]
  },
  {
   "cell_type": "code",
   "execution_count": 4,
   "metadata": {},
   "outputs": [],
   "source": [
    "taus = pd.read_csv(\"../data/genie_pol_e10.csv\")"
   ]
  },
  {
   "cell_type": "code",
   "execution_count": 51,
   "metadata": {},
   "outputs": [
    {
     "data": {
      "text/plain": [
       "79679"
      ]
     },
     "execution_count": 51,
     "metadata": {},
     "output_type": "execute_result"
    }
   ],
   "source": [
    "np.sum(np.all(taus.loc[:, \"polx\":\"polz\"] == 0, axis=1))"
   ]
  },
  {
   "cell_type": "code",
   "execution_count": 54,
   "metadata": {},
   "outputs": [],
   "source": [
    "assert np.all(np.all(tau_pol == 0, axis=1) == (taus.loc[:, \"polx\":\"polz\"] == 0).all(axis=1).values)"
   ]
  }
 ],
 "metadata": {
  "kernelspec": {
   "display_name": "cern-skhep",
   "language": "python",
   "name": "python3"
  },
  "language_info": {
   "codemirror_mode": {
    "name": "ipython",
    "version": 3
   },
   "file_extension": ".py",
   "mimetype": "text/x-python",
   "name": "python",
   "nbconvert_exporter": "python",
   "pygments_lexer": "ipython3",
   "version": "3.11.4"
  }
 },
 "nbformat": 4,
 "nbformat_minor": 2
}
