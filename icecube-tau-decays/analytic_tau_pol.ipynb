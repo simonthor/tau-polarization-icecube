{
 "cells": [
  {
   "cell_type": "code",
   "execution_count": 1,
   "metadata": {},
   "outputs": [],
   "source": [
    "import numpy as np\n",
    "import matplotlib.pyplot as plt\n",
    "import vector\n",
    "import pandas as pd\n",
    "import lhapdf\n",
    "import itertools"
   ]
  },
  {
   "cell_type": "markdown",
   "metadata": {},
   "source": [
    "## General code for calculating polarization vector"
   ]
  },
  {
   "cell_type": "code",
   "execution_count": 2,
   "metadata": {},
   "outputs": [],
   "source": [
    "# Tau mass\n",
    "mtau = 1.77682 # GeV\n",
    "\n",
    "def polarization_vector(tau4m, nu4m, nucleon4m, int_type: str):\n",
    "    M = nucleon4m.m\n",
    "    ptau = tau4m.p\n",
    "    Etau = tau4m.E\n",
    "    theta = nu4m.deltaangle(tau4m) # TODO check that this is the angle that I expect\n",
    "    costheta = np.cos(theta)\n",
    "    Enu = nu4m.E\n",
    "    p = nucleon4m\n",
    "    k = nu4m\n",
    "    kprime = tau4m\n",
    "    \n",
    "    q = k - kprime # W boson 4-momentum\n",
    "    # I might also pass this as a parameter. Though probably not, since the model assumes that it is a nucleon, not a nucleus.\n",
    "    Q2 = -q**2\n",
    "    assert np.all(Q2 > 0), Q2\n",
    "\n",
    "    W2 = (p + q)**2\n",
    "    assert np.all(W2 > 0), W2\n",
    "    \n",
    "    x = Q2 / (2*p.dot(q)) # Björken scaling variable\n",
    "    \n",
    "    if int_type == \"qel\":\n",
    "        W1 = W1qel(x, Q2, p, q, M)\n",
    "        W2 = W2qel(x, Q2, p, q, M)\n",
    "        W3 = W3qel(x, Q2, p, q, M)\n",
    "        W4 = W4qel(x, Q2, p, q, M)\n",
    "        W5 = W5qel(x, Q2, p, q, M)\n",
    "    elif int_type == \"res\":\n",
    "        raise NotImplementedError(\"Resonance scattering not implemented\")\n",
    "    elif int_type == \"dis\":\n",
    "        W1 = W1dis(x, Q2, p, q, M)\n",
    "        W2 = W2dis(x, Q2, p, q, M)\n",
    "        W3 = W3dis(x, Q2, p, q, M)\n",
    "        W4 = W4dis(x, Q2, p, q, M)\n",
    "        W5 = W5dis(x, Q2, p, q, M)\n",
    "    else:\n",
    "        raise ValueError(f\"Unsupported interaction type {int_type = }\")\n",
    "    \n",
    "    R = (\n",
    "        (Etau - ptau * costheta) / M * (W1 + mtau / (2*M**2)*W4)\n",
    "        + (Etau + ptau * costheta) / (2*M) * W2\n",
    "        + ((Enu + Etau) / M * (Etau - ptau * costheta) / (2*M) - mtau**2 / (2*M**2)) * W3\n",
    "        - mtau**2 / (2*M) * W5\n",
    "    )\n",
    "\n",
    "    return (\n",
    "        # P_P component, in the tau-nu plane\n",
    "        mtau * np.sin(theta) / (2*M*R) * (\n",
    "            -(2*W1 - W2 - mtau**2/M**2 * W4 + Etau/M * W5) - Enu / M * W3 # X in lepton polarization paper, eq 7a\n",
    "        ),\n",
    "        # P_L component\n",
    "        -1 + mtau**2/(M**2 * R) * (\n",
    "            (2*M/(Etau + ptau) * W1 + (Etau - ptau) / (Etau + ptau) * W3) * np.cos(theta/2)**2\n",
    "            + (M/(Etau + ptau) * W2 + (Etau + ptau) / M * W4 - W5) * np.sin(theta/2)**2\n",
    "        ),\n",
    "    )"
   ]
  },
  {
   "cell_type": "code",
   "execution_count": 3,
   "metadata": {},
   "outputs": [],
   "source": [
    "# Cabbibo angle, from https://en.wikipedia.org/wiki/Cabibbo%E2%80%93Kobayashi%E2%80%93Maskawa_matrix\n",
    "theta_c = 13.02 * np.pi/180 # radians\n",
    "#\n",
    "M_V = 0.84 # GeV\n",
    "# difference between muon and electron magnetic moments (I think, see tau polarization paper)\n",
    "xi = 3.706\n",
    "# \n",
    "M_A = 1 # GeV\n",
    "#\n",
    "F_A_0 = -1.23\n",
    "# Pion mass\n",
    "m_pi = 0.139 # GeV\n",
    "\n",
    "\n",
    "# TODO double-check all code below this line\n",
    "def w(p, q, M):\n",
    "    return p.dot(q)/M**2\n",
    "\n",
    "def G_V_E(q):\n",
    "    return 1 / (1-q**2/M_V**2)**2\n",
    "\n",
    "def G_V_M(q):\n",
    "    return (1+xi) / (1-q**2/M_V**2)**2\n",
    "\n",
    "def F_V(q, M):\n",
    "    return (G_V_E(q) - q**2 / (4*M**2) * G_V_M(q)) / (1 - q**2 / (4*M**2))\n",
    "\n",
    "def F_A(q):\n",
    "    return F_A_0 / (1 - q**2 / M_A**2)**2\n",
    "\n",
    "def F_M(q, M):\n",
    "    return (G_V_M(q) - G_V_M(q)) / (xi * (1 - q**2 / (4*M**2)))\n",
    "\n",
    "def F_T(q):\n",
    "    return 0\n",
    "\n",
    "def F_S(q):\n",
    "    return 0\n",
    "\n",
    "def F_p(q, M):\n",
    "    return 2*M**2 * F_A(q) / (m_pi**2 - q**2)\n",
    "\n",
    "def Wqel_coefficient(x, Q2, p, q, M):\n",
    "    # assert np.isclose(x, 1), x  # a delta function here where x must be 1\n",
    "    return np.cos(theta_c)**2 * 1/w(p, q, M) \n",
    "\n",
    "def W1qel(x, Q2, p, q, M):\n",
    "    xprime = Q2 / (4*M**2)\n",
    "    return (\n",
    "        Wqel_coefficient(x, Q2, p, q, M)\n",
    "        * (F_A(q)**2 + xprime * (F_A(q)**2 + (F_V(q, M) + F_M(q, M))**2))\n",
    "    )\n",
    "\n",
    "def omega_2(x, Q2, p, q, M):\n",
    "    xprime = Q2 / (4*M**2)\n",
    "    return F_V(q, M)**2 + F_A(q)**2 + xprime * (F_M(q, M)**2 + 4*F_T(q)**2)\n",
    "\n",
    "def W2qel(x, Q2, p, q, M):\n",
    "    # assert np.isclose(x, 1), x\n",
    "    return (\n",
    "        Wqel_coefficient(x, Q2, p, q, M)\n",
    "        * omega_2(x, Q2, p, q, M)\n",
    "    )\n",
    "\n",
    "def W3qel(x, Q2, p, q, M):\n",
    "    return (\n",
    "        Wqel_coefficient(x, Q2, p, q, M)\n",
    "        * -2 * np.real(np.conj(F_A(q)) * (F_V(q, M) + F_M(q, M)))\n",
    "    )\n",
    "\n",
    "def W4qel(x, Q2, p, q, M):\n",
    "    xprime = Q2 / (4*M**2)\n",
    "    return (\n",
    "        Wqel_coefficient(x, Q2, p, q, M)\n",
    "        # omega_4\n",
    "        * (\n",
    "            np.real(np.conj(F_V(q, M)) * (F_S(q) - 1/2 * F_M(q, M)) - np.conj(F_A(q)) * (F_T(q) + F_p(q, M)))\n",
    "            + xprime * (1/2 * (F_M(q, M) - F_S(q))**2 + (F_T(q) + F_p(q, M))**2)\n",
    "            - 1/4* (1+xprime) * F_M(q, M)**2 + (1+1/2 * xprime) * F_S(q)**2\n",
    "        )\n",
    "    )\n",
    "\n",
    "def W5qel(x, Q2, p, q, M):\n",
    "    xprime = Q2 / (4*M**2)\n",
    "    return (\n",
    "        Wqel_coefficient(x, Q2, p, q, M)\n",
    "        * (\n",
    "            2 * np.real(np.conj(F_S(q)) * (F_V(q, M) - xprime*F_M(q, M)) - np.conj(F_T(q)) * (F_A(q) - 2*xprime*F_p(q, M)))\n",
    "            + omega_2(x, Q2, p, q, M)\n",
    "        )\n",
    "    )"
   ]
  },
  {
   "cell_type": "code",
   "execution_count": 4,
   "metadata": {},
   "outputs": [],
   "source": [
    "particle_info = pd.read_csv(\"../data/test_genie_NuTau_10.0_GeV_particles.csv\")\n",
    "event_info = pd.read_csv(\"../data/test_genie_NuTau_10.0_GeV_event_info.csv\")"
   ]
  },
  {
   "cell_type": "code",
   "execution_count": 5,
   "metadata": {},
   "outputs": [],
   "source": [
    "qel_particles = particle_info[\n",
    "    particle_info[\"event_num\"]\n",
    "    .isin(event_info.loc[event_info[\"qel\"], \"event_num\"].values)\n",
    "]\n",
    "taus = qel_particles[qel_particles[\"pdg\"] == 15]\n",
    "nus = qel_particles.groupby(\"event_num\").nth(1)\n",
    "assert np.all(nus[\"pdg\"] == 16)\n",
    "nucleons = qel_particles.groupby(\"event_num\").first()\n",
    "assert np.all(nucleons[\"pdg\"] > 1000)\n",
    "tau_angles = np.arctan(np.sqrt(taus[\"px\"]**2 + taus[\"py\"]**2) / taus[\"pz\"])"
   ]
  },
  {
   "cell_type": "code",
   "execution_count": 6,
   "metadata": {},
   "outputs": [],
   "source": [
    "nutaus = qel_particles.groupby(\"event_num\").nth(1).reset_index(drop=True)\n",
    "assert (nutaus[\"pdg\"] == 16).all()\n",
    "taus = qel_particles.groupby(\"event_num\").nth(2).reset_index(drop=True)\n",
    "assert (taus[\"pdg\"] == 15).all()\n",
    "\n",
    "nutau4m = vector.array({\"E\": nutaus[\"E\"], \"px\": nutaus[\"px\"], \"py\": nutaus[\"py\"], \"pz\": nutaus[\"pz\"]})\n",
    "tau4m = vector.array({\"E\": taus[\"E\"], \"px\": taus[\"px\"], \"py\": taus[\"py\"], \"pz\": taus[\"pz\"]})\n",
    "q = nutau4m - tau4m\n",
    "# Sanity checks\n",
    "assert ((q[\"E\"]**2 - q[\"px\"]**2 - q[\"py\"]**2 - q[\"pz\"]**2) < 0).all()\n",
    "assert np.all((q**2) < 0)\n",
    "\n",
    "# delta-function, where x must be 1. To get this, we adjust the mass of the nucleon\n",
    "M = -q**2 / (2*q.E)\n",
    "nucleon4m = vector.array({\"E\": M, \"px\": np.zeros(M.shape), \"py\": np.zeros(M.shape), \"pz\": np.zeros(M.shape)})\n",
    "x = -q**2 / (2*nucleon4m.dot(q))\n",
    "assert np.allclose(x, 1), x"
   ]
  },
  {
   "cell_type": "code",
   "execution_count": 7,
   "metadata": {},
   "outputs": [
    {
     "data": {
      "text/plain": [
       "(array([[-0.00235612],\n",
       "        [-0.96285849]]),\n",
       " 0.9628613746358623,\n",
       " array([-0.99999701]))"
      ]
     },
     "execution_count": 7,
     "metadata": {},
     "output_type": "execute_result"
    }
   ],
   "source": [
    "zero_angle_tau_event = np.argmin(tau_angles)\n",
    "\n",
    "s = np.array(polarization_vector(vector.MomentumNumpy4D(tau4m[zero_angle_tau_event]), vector.MomentumNumpy4D(nutau4m[zero_angle_tau_event]), vector.MomentumNumpy4D(nucleon4m[zero_angle_tau_event]), \"qel\"))\n",
    "\n",
    "# The polarization (second term) should be slightly below 1 (center left panel, fig 6 in tau polarization paper)\n",
    "# The polarization angle cos(theta_p) (third term) should be very close to -1 (bottom center panel, fig 6 in tau polarization paper)\n",
    "s, np.linalg.norm(s), s[1] / np.linalg.norm(s)"
   ]
  },
  {
   "cell_type": "code",
   "execution_count": 8,
   "metadata": {},
   "outputs": [],
   "source": [
    "# s = np.array(spin_vector(tau4m, nu4m, nucleon4m, \"qel\"))\n",
    "# # The polarization (second term) should be slightly less than 1\n",
    "# # See center left panel, figure 6 in tau polarization paper\n",
    "# s, np.linalg.norm(s)*2"
   ]
  },
  {
   "cell_type": "markdown",
   "metadata": {},
   "source": [
    "The values above are really good and close to what they should be. Let us now check $\\theta = 5^\\circ, 10^\\circ$, since these are reproduced in the paper as well."
   ]
  },
  {
   "cell_type": "code",
   "execution_count": 28,
   "metadata": {},
   "outputs": [
    {
     "data": {
      "text/plain": [
       "(5.000498804220101, 9.420946604808174)"
      ]
     },
     "execution_count": 28,
     "metadata": {},
     "output_type": "execute_result"
    }
   ],
   "source": [
    "almost5deg = np.abs(tau_angles * 180/np.pi - 5).argmin()\n",
    "tau_angles.iloc[almost5deg] * 180/np.pi, taus.iloc[almost5deg][\"E\"]"
   ]
  },
  {
   "cell_type": "code",
   "execution_count": 10,
   "metadata": {},
   "outputs": [
    {
     "data": {
      "text/plain": [
       "(array([[-0.24444344],\n",
       "        [-0.97038647]]),\n",
       " 1.0007010065630684,\n",
       " array([-0.9697067]))"
      ]
     },
     "execution_count": 10,
     "metadata": {},
     "output_type": "execute_result"
    }
   ],
   "source": [
    "s = np.array(\n",
    "    polarization_vector(\n",
    "        vector.MomentumNumpy4D(tau4m[almost5deg]), \n",
    "        vector.MomentumNumpy4D(nutau4m[almost5deg]), \n",
    "        vector.MomentumNumpy4D(nucleon4m[almost5deg]),\n",
    "        \"qel\"\n",
    "    )\n",
    ")\n",
    "\n",
    "# The polarization (second term) should be closer to 1 (center center panel, fig 6 in tau polarization paper)\n",
    "# The polarization angle cos(theta_p) (third term) should be slightly above -1 (bottom center panel, fig 6 in tau polarization paper)\n",
    "s, np.linalg.norm(s), s[1] / np.linalg.norm(s)"
   ]
  },
  {
   "cell_type": "code",
   "execution_count": 37,
   "metadata": {},
   "outputs": [
    {
     "data": {
      "text/plain": [
       "(array([[-0.35175066],\n",
       "        [-0.95547395]]),\n",
       " 1.0181645206187715,\n",
       " array([-0.93842785]))"
      ]
     },
     "execution_count": 37,
     "metadata": {},
     "output_type": "execute_result"
    }
   ],
   "source": [
    "tau_deg = tau_angles * 180/np.pi \n",
    "# Select the event with the highest energy tau and a tau angle between 9.9 and 10.1 degrees\n",
    "almost10deg = taus[((9.9 < tau_deg) & (tau_deg < 10.1)).values][\"E\"].idxmax()\n",
    "\n",
    "s = np.array(\n",
    "    polarization_vector(\n",
    "        vector.MomentumNumpy4D(tau4m[almost10deg]), \n",
    "        vector.MomentumNumpy4D(nutau4m[almost10deg]), \n",
    "        vector.MomentumNumpy4D(nucleon4m[almost10deg]),\n",
    "        \"qel\"\n",
    "    )\n",
    ")\n",
    "\n",
    "# The polarization (second term) should be closer to 1 (center center panel, fig 6 in tau polarization paper)\n",
    "# The polarization angle cos(theta_p) (third term) should be slightly above -1 (bottom center panel, fig 6 in tau polarization paper)\n",
    "s, np.linalg.norm(s), s[1] / np.linalg.norm(s)"
   ]
  },
  {
   "cell_type": "code",
   "execution_count": 38,
   "metadata": {},
   "outputs": [
    {
     "data": {
      "text/plain": [
       "event_num    8318.000000\n",
       "pdg            15.000000\n",
       "E               8.535322\n",
       "px             -1.343307\n",
       "py              0.506686\n",
       "pz              8.223955\n",
       "polx            0.060693\n",
       "poly            0.160907\n",
       "polz           -0.985102\n",
       "Name: 1328, dtype: float64"
      ]
     },
     "execution_count": 38,
     "metadata": {},
     "output_type": "execute_result"
    }
   ],
   "source": [
    "taus.iloc[almost10deg, :]"
   ]
  },
  {
   "cell_type": "markdown",
   "metadata": {},
   "source": [
    "There is something wrong with the code still. Here, the polarization value should be much higher and the angle should be closer to -1."
   ]
  },
  {
   "cell_type": "markdown",
   "metadata": {},
   "source": [
    "### Calculate polarization for all qel events"
   ]
  },
  {
   "cell_type": "code",
   "execution_count": 122,
   "metadata": {},
   "outputs": [
    {
     "data": {
      "text/plain": [
       "((array([-0.17636519, -0.16045718, -0.16980134, ..., -0.51469093,\n",
       "         -0.15810976, -0.15757129]),\n",
       "  array([-0.97810444, -0.97924092, -0.97723179, ..., -0.90019195,\n",
       "         -0.97770253, -0.97925965])),\n",
       " array([0.99387775, 0.9923    , 0.99187422, ..., 1.03694373, 0.99040443,\n",
       "        0.99185592]),\n",
       " array([-0.01180724, -0.01182096, -0.01179671, ..., -0.01086672,\n",
       "        -0.01180239, -0.01182119]))"
      ]
     },
     "execution_count": 122,
     "metadata": {},
     "output_type": "execute_result"
    }
   ],
   "source": [
    "s = polarization_vector(\n",
    "    tau4m, \n",
    "    nutau4m, \n",
    "    nucleon4m,\n",
    "    \"qel\"\n",
    ")\n",
    "\n",
    "# The polarization (second term) should be closer to 1 (center center panel, fig 6 in tau polarization paper)\n",
    "# The polarization angle cos(theta_p) (third term) should be slightly above -1 (bottom center panel, fig 6 in tau polarization paper)\n",
    "s, np.linalg.norm(s, axis=0), s[1] / np.linalg.norm(s)"
   ]
  },
  {
   "cell_type": "code",
   "execution_count": 107,
   "metadata": {},
   "outputs": [
    {
     "data": {
      "image/png": "[encoded data removed]",
      "text/plain": [
       "<Figure size 1000x300 with 3 Axes>"
      ]
     },
     "metadata": {},
     "output_type": "display_data"
    }
   ],
   "source": [
    "fig, ax = plt.subplots(ncols=3, figsize=(10, 3), layout=\"tight\")\n",
    "ax[0].hist(tau_angles * 180/np.pi, bins=100)\n",
    "ax[0].set(xlabel=\"Tau angle (degrees)\", ylabel=\"Count\")\n",
    "\n",
    "ax[1].hist(np.linalg.norm(s, axis=0), bins=100)\n",
    "ax[1].set(xlabel=\"Polarization\", ylabel=\"Count\")\n",
    "\n",
    "ax[2].hist(s[1] / np.linalg.norm(s), bins=100)\n",
    "ax[2].set(xlabel=r\"$\\cos(\\theta_p)$\", ylabel=\"Count\")\n",
    "\n",
    "for a in ax:\n",
    "    a.grid()"
   ]
  },
  {
   "cell_type": "markdown",
   "metadata": {},
   "source": [
    "## Resonance scattering"
   ]
  },
  {
   "cell_type": "code",
   "execution_count": null,
   "metadata": {},
   "outputs": [],
   "source": [
    "# Resonance scattering\n",
    "# Delta mass\n",
    "M_delta = 1.232 # GeV\n",
    "# Delta width assuming dominance of S-waves\n",
    "Gamma_delta = 0.12 # GeV\n",
    "# Is 2 if the Delta produced is Delta++ (interaction with p), \n",
    "# and 2/3 if the Delta produced is Delta+ (interaction with n). \n",
    "# Maybe take average, since there are equally many n and p in Oxygen?\n",
    "kappa = 2\n",
    "\n",
    "def W1res(x, Q2, p, q, M):\n",
    "    return (\n",
    "        kappa * np.cos(theta_c)**2 * M * M_delta * \n",
    "        eta_delta_bw(W)**2 * \n",
    "        sum(\n",
    "            V_1(x, Q2, j, k) * C_V(x, Q2, j) * C_V(x, Q2, k) \n",
    "            + A_1(x, Q2, j, k) * C_A(x, Q2, j) * C_A(x, Q2, k) \n",
    "            for j, k in itertools.product(range(3, 7), repeat=2)\n",
    "        )\n",
    "    )"
   ]
  },
  {
   "cell_type": "markdown",
   "metadata": {},
   "source": [
    "## Deep inelastic scattering"
   ]
  },
  {
   "cell_type": "code",
   "execution_count": 110,
   "metadata": {},
   "outputs": [],
   "source": [
    "# Deep inelastic scattering\n",
    "# The PDFs used in GENIE seems to bee CT10nlo, member 0 from LHAPDF. Source: https://github.com/GENIE-MC/Generator/blob/master/config/LHAPDF6.xml\n",
    "# I should therefore probably use the same here\n",
    "def pdf(quark, x, Q2):\n",
    "    p = lhapdf.mkPDF(\"CT10nlo\", 0)\n",
    "    return p.xfxQ2(quark, x, Q2)\n",
    "\n",
    "\n",
    "# def mass_corrected_xi(Q2, x, quark):\n",
    "#     if quark != 4:\n",
    "#         return x\n",
    "    \n",
    "#     m_charm = 1.27 # GeV\n",
    "#     return x / (Q2 / (Q2 + m_charm**2))\n",
    "\n",
    "def W1dis(x, Q2, p, q, M):\n",
    "    return (\n",
    "        # (1 + x/w(p, q, M)) * # Correction, see eq. 55 in tau polarization paper. Might not be completely correct since only x is used instead of xi. Unclear notation in paper\n",
    "        sum(pdf(quark, x, Q2) for quark in [*range(1, 7), *range(-6, 0)]) # F1\n",
    "    )\n",
    "\n",
    "def W2dis(x, Q2, p, q, M):\n",
    "    return (\n",
    "        1/w(p, q, M) \n",
    "        * 2 * sum(x * pdf(quark, x, Q2) for quark in [*range(1, 7), *range(-6, 0)]) # F2\n",
    "    )\n",
    "\n",
    "def W3dis(x, Q2, p, q, M):\n",
    "    return 2 * (\n",
    "        sum(pdf(quark, x, Q2) for quark in range(1, 7))\n",
    "        - sum(pdf(quark, x, Q2) for quark in range(-6, 0))\n",
    "    )\n",
    "\n",
    "def W4dis(x, Q2, p, q, M):\n",
    "    return 0\n",
    "\n",
    "def W5dis(x, Q2, p, q, M):\n",
    "    # In the tau polarization paper, there is a factor of 2 in front. \n",
    "    # I am not sure if this is a mistake, convention difference, or something else\n",
    "    return W1dis(x, Q2, p, q, M)"
   ]
  },
  {
   "cell_type": "code",
   "execution_count": 126,
   "metadata": {},
   "outputs": [],
   "source": [
    "dis_particles = particle_info[\n",
    "    particle_info[\"event_num\"]\n",
    "    .isin(event_info.loc[event_info[\"dis\"], \"event_num\"].values)\n",
    "]\n",
    "taus = dis_particles[dis_particles[\"pdg\"] == 15]\n",
    "nus = dis_particles.groupby(\"event_num\").nth(1)\n",
    "assert np.all(nus[\"pdg\"] == 16)\n",
    "nucleons = dis_particles.groupby(\"event_num\").first()\n",
    "assert np.all(nucleons[\"pdg\"] > 1000)\n",
    "tau_angles = np.arctan(np.sqrt(taus[\"px\"]**2 + taus[\"py\"]**2) / taus[\"pz\"])"
   ]
  },
  {
   "cell_type": "code",
   "execution_count": 128,
   "metadata": {},
   "outputs": [],
   "source": [
    "nutaus = dis_particles.groupby(\"event_num\").nth(1).reset_index(drop=True)\n",
    "assert (nutaus[\"pdg\"] == 16).all()\n",
    "taus = dis_particles.groupby(\"event_num\").nth(2).reset_index(drop=True)\n",
    "assert (taus[\"pdg\"] == 15).all()\n",
    "\n",
    "nutau4m = vector.array({\"E\": nutaus[\"E\"], \"px\": nutaus[\"px\"], \"py\": nutaus[\"py\"], \"pz\": nutaus[\"pz\"]})\n",
    "tau4m = vector.array({\"E\": taus[\"E\"], \"px\": taus[\"px\"], \"py\": taus[\"py\"], \"pz\": taus[\"pz\"]})\n",
    "# TODO change this to be the nucleon mass, not the total nucleus mass\n",
    "nucleon4m = vector.array({\"E\": nucleons[\"E\"], \"px\": nucleons[\"px\"], \"py\": nucleons[\"py\"], \"pz\": nucleons[\"pz\"]})\n",
    "q = nutau4m - tau4m\n",
    "# Sanity checks\n",
    "assert ((q[\"E\"]**2 - q[\"px\"]**2 - q[\"py\"]**2 - q[\"pz\"]**2) < 0).all()\n",
    "assert np.all((q**2) < 0)"
   ]
  },
  {
   "cell_type": "code",
   "execution_count": null,
   "metadata": {},
   "outputs": [
    {
     "data": {
      "text/plain": [
       "(array([[-0.00235612],\n",
       "        [-0.96285849]]),\n",
       " 0.9628613746358623,\n",
       " array([-0.99999701]))"
      ]
     },
     "metadata": {},
     "output_type": "display_data"
    }
   ],
   "source": [
    "zero_angle_tau_event = np.argmin(tau_angles)\n",
    "\n",
    "s = np.array(polarization_vector(vector.MomentumNumpy4D(tau4m[zero_angle_tau_event]), vector.MomentumNumpy4D(nutau4m[zero_angle_tau_event]), vector.MomentumNumpy4D(nucleon4m[zero_angle_tau_event]), \"qel\"))\n",
    "\n",
    "# The polarization (second term) should be slightly below 1 (center left panel, fig 6 in tau polarization paper)\n",
    "# The polarization angle cos(theta_p) (third term) should be very close to -1 (bottom center panel, fig 6 in tau polarization paper)\n",
    "s, np.linalg.norm(s), s[1] / np.linalg.norm(s)"
   ]
  },
  {
   "cell_type": "markdown",
   "metadata": {},
   "source": [
    "## Load my own GENIE events\n",
    "For testing and evaluating W and Q2 values, I will use my own GENIE events."
   ]
  },
  {
   "cell_type": "code",
   "execution_count": 176,
   "metadata": {},
   "outputs": [],
   "source": [
    "import uproot\n",
    "\n",
    "with uproot.open(\"../data/gntp.2.gst.root\") as f:\n",
    "    tree = f[\"gst\"]\n",
    "    qel = tree[\"qel\"].array()\n",
    "    cc = tree[\"cc\"].array()\n",
    "    mask = qel & cc\n",
    "    taus = {\"E\": tree[\"El\"].array()[mask], \"px\": tree[\"pxl\"].array()[mask], \"py\": tree[\"pyl\"].array()[mask], \"pz\": tree[\"pzl\"].array()[mask]}\n",
    "    Q2 = tree[\"Q2\"].array()[mask]\n",
    "    W = tree[\"W\"].array()[mask]\n",
    "    Ev = tree[\"Ev\"].array()[mask]"
   ]
  },
  {
   "cell_type": "code",
   "execution_count": 177,
   "metadata": {},
   "outputs": [
    {
     "data": {
      "text/html": [
       "<pre>[0,\n",
       " 0,\n",
       " 0,\n",
       " 0,\n",
       " 0,\n",
       " 0,\n",
       " 0,\n",
       " 0,\n",
       " 0,\n",
       " 0,\n",
       " ...,\n",
       " 0,\n",
       " 0,\n",
       " 0,\n",
       " 0,\n",
       " 0,\n",
       " 0,\n",
       " 0,\n",
       " 0,\n",
       " 0]\n",
       "---------------------\n",
       "type: 83403 * float64</pre>"
      ],
      "text/plain": [
       "<Array [0, 0, 0, 0, 0, 0, 0, ..., 0, 0, 0, 0, 0, 0, 0] type='83403 * float64'>"
      ]
     },
     "execution_count": 177,
     "metadata": {},
     "output_type": "execute_result"
    }
   ],
   "source": [
    "(-(\n",
    "    vector.array({\n",
    "        \"E\": np.ones(len(taus[\"E\"])) * Ev[0], \n",
    "        \"px\": np.zeros(len(taus[\"E\"])), \"py\": np.zeros(len(taus[\"E\"])), \n",
    "        \"pz\": np.ones(len(taus[\"E\"])) * Ev[0]})\n",
    "    - vector.array(taus)\n",
    ")**2 - Q2)"
   ]
  },
  {
   "cell_type": "code",
   "execution_count": 173,
   "metadata": {},
   "outputs": [
    {
     "data": {
      "text/html": [
       "<pre>[0.606,\n",
       " 0.9,\n",
       " 0.202,\n",
       " 0.354,\n",
       " 0.609,\n",
       " 1.05,\n",
       " 1.02,\n",
       " 0.24,\n",
       " 0.291,\n",
       " 1.04,\n",
       " ...,\n",
       " 0.337,\n",
       " 0.879,\n",
       " 0.323,\n",
       " 0.28,\n",
       " 1.4,\n",
       " 1.63,\n",
       " 1.26,\n",
       " 0.637,\n",
       " 1.38]\n",
       "---------------------\n",
       "type: 83403 * float64</pre>"
      ],
      "text/plain": [
       "<Array [0.606, 0.9, 0.202, ..., 1.26, 0.637, 1.38] type='83403 * float64'>"
      ]
     },
     "execution_count": 173,
     "metadata": {},
     "output_type": "execute_result"
    }
   ],
   "source": [
    "Q2"
   ]
  },
  {
   "cell_type": "code",
   "execution_count": 147,
   "metadata": {},
   "outputs": [
    {
     "data": {
      "text/plain": [
       "<matplotlib.lines.Line2D at 0x7fb3ef8fb890>"
      ]
     },
     "execution_count": 147,
     "metadata": {},
     "output_type": "execute_result"
    },
    {
     "data": {
      "image/png": "[encoded data removed]",
      "text/plain": [
       "<Figure size 640x480 with 1 Axes>"
      ]
     },
     "metadata": {},
     "output_type": "display_data"
    }
   ],
   "source": [
    "plt.hist(W, bins=100)\n",
    "plt.grid()\n",
    "plt.axvline(0.983, c=\"r\")\n",
    "plt.axvline(14.895082 / 16, c=\"g\")"
   ]
  },
  {
   "cell_type": "code",
   "execution_count": null,
   "metadata": {},
   "outputs": [],
   "source": [
    "\n",
    "def spin_vector(tau4m, nu4m, nucleon4m, int_type: str):\n",
    "    # WARNING: do not use this function, as it is incorrect\n",
    "    # TODO remove this or update the code if the other function does not work\n",
    "    M = nucleon4m.m\n",
    "    ptau = tau4m.p\n",
    "    Etau = tau4m.E\n",
    "    theta = nu4m.deltaangle(tau4m)\n",
    "    costheta = np.cos(theta)\n",
    "    Enu = nu4m.E\n",
    "    p = nucleon4m\n",
    "    k = nu4m\n",
    "    kprime = tau4m\n",
    "    \n",
    "    q = k - kprime # W boson 4-momentum\n",
    "    Q2 = -q**2\n",
    "\n",
    "    x = Q2 / (2*p.dot(q)) # Björken scaling variable\n",
    "\n",
    "    if int_type == \"qel\":\n",
    "        W1 = W1qel(x, Q2, p, q, M)\n",
    "        W2 = W2qel(x, Q2, p, q, M)\n",
    "        W3 = W3qel(x, Q2, p, q, M)\n",
    "        W4 = W4qel(x, Q2, p, q, M)\n",
    "        W5 = W5qel(x, Q2, p, q, M)\n",
    "    else:\n",
    "        raise NotImplementedError(\"Only qel implemented\")\n",
    "    \n",
    "    F = (\n",
    "        (2*W1 + mtau**2 / M**2 * W4) * (Etau - ptau * costheta)\n",
    "        + W2 * (Etau + ptau * costheta)\n",
    "        + W3 / M * (Enu * Etau + ptau**2 - (Enu + Etau) * ptau * costheta)\n",
    "        + mtau**2 / M * W5\n",
    "    )\n",
    "\n",
    "    return (\n",
    "        # sx component, in the tau-nu plane\n",
    "        -mtau*np.sin(theta)/2 *\n",
    "        (2*W1 - W2 + Enu / M * W3 - mtau**2/M**2 * W4 + Etau/M * W5)\n",
    "        / F,\n",
    "        # sz component\n",
    "        -1/2 * (\n",
    "            (2*W1 - mtau**2 / M**2 * W4) * (ptau - Etau * costheta)\n",
    "            + W2 * (ptau + Etau * costheta)\n",
    "            + W3 / M * ((Enu + Etau) * ptau - (Enu * Etau + ptau**2) * costheta)\n",
    "            - mtau**2 / M * W5 * costheta\n",
    "        ) / F\n",
    "    )"
   ]
  }
 ],
 "metadata": {
  "kernelspec": {
   "display_name": "cern-skhep",
   "language": "python",
   "name": "python3"
  },
  "language_info": {
   "codemirror_mode": {
    "name": "ipython",
    "version": 3
   },
   "file_extension": ".py",
   "mimetype": "text/x-python",
   "name": "python",
   "nbconvert_exporter": "python",
   "pygments_lexer": "ipython3",
   "version": "3.11.4"
  }
 },
 "nbformat": 4,
 "nbformat_minor": 2
}
