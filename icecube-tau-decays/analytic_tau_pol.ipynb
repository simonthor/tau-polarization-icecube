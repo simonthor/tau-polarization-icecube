{
 "cells": [
  {
   "cell_type": "code",
   "execution_count": 1,
   "metadata": {},
   "outputs": [],
   "source": [
    "import numpy as np\n",
    "import matplotlib.pyplot as plt\n",
    "import vector\n",
    "import pandas as pd\n",
    "import lhapdf\n",
    "import itertools"
   ]
  },
  {
   "cell_type": "markdown",
   "metadata": {},
   "source": [
    "## General code for calculating polarization vector"
   ]
  },
  {
   "cell_type": "code",
   "execution_count": 186,
   "metadata": {},
   "outputs": [],
   "source": [
    "# Tau mass\n",
    "mtau = 1.77682 # GeV\n",
    "\n",
    "def polarization_vector(tau4m, nu4m, nucleon4m, int_type: str, charm=None):\n",
    "    M = nucleon4m.m\n",
    "    ptau = tau4m.p\n",
    "    Etau = tau4m.E\n",
    "    theta = nu4m.deltaangle(tau4m) # TODO check that this is the angle that I expect\n",
    "    costheta = np.cos(theta)\n",
    "    Enu = nu4m.E\n",
    "    p = nucleon4m\n",
    "    k = nu4m\n",
    "    kprime = tau4m\n",
    "    \n",
    "    q = k - kprime # W boson 4-momentum\n",
    "    # I might also pass this as a parameter. Though probably not, since the model assumes that it is a nucleon, not a nucleus.\n",
    "    Q2 = -q**2\n",
    "    assert np.all(Q2 > 0), Q2\n",
    "\n",
    "    W2 = (p + q)**2\n",
    "    assert np.all(W2 > 0), W2\n",
    "    \n",
    "    x = Q2 / (2*p.dot(q)) # Björken scaling variable\n",
    "    \n",
    "    if int_type == \"qel\":\n",
    "        W1 = W1qel(x, Q2, p, q, M)\n",
    "        W2 = W2qel(x, Q2, p, q, M)\n",
    "        W3 = W3qel(x, Q2, p, q, M)\n",
    "        W4 = W4qel(x, Q2, p, q, M)\n",
    "        W5 = W5qel(x, Q2, p, q, M)\n",
    "    elif int_type == \"res\":\n",
    "        W1 = Wnres(x, Q2, p, q, M, 1)\n",
    "        W2 = Wnres(x, Q2, p, q, M, 2)\n",
    "        W3 = Wnres(x, Q2, p, q, M, 3)\n",
    "        W4 = Wnres(x, Q2, p, q, M, 4)\n",
    "        W5 = Wnres(x, Q2, p, q, M, 5)\n",
    "        raise NotImplementedError(\"Resonance scattering not implemented\")\n",
    "    elif int_type == \"dis\":\n",
    "        if charm is None:\n",
    "            raise ValueError(\"charm parameter must be set to an array of bools of the same size as the 4-vectors\")\n",
    "        W1 = W1dis(x, Q2, p, q, M, charm)\n",
    "        W2 = W2dis(x, Q2, p, q, M, charm)\n",
    "        W3 = W3dis(x, Q2, p, q, M, charm)\n",
    "        W4 = W4dis(x, Q2, p, q, M, charm)\n",
    "        W5 = W5dis(x, Q2, p, q, M, charm)\n",
    "    else:\n",
    "        raise ValueError(f\"Unsupported interaction type {int_type = }\")\n",
    "    \n",
    "    R = (\n",
    "        (Etau - ptau * costheta) / M * (W1 + mtau / (2*M**2)*W4)\n",
    "        + (Etau + ptau * costheta) / (2*M) * W2\n",
    "        + ((Enu + Etau) / M * (Etau - ptau * costheta) / (2*M) - mtau**2 / (2*M**2)) * W3\n",
    "        - mtau**2 / (2*M) * W5\n",
    "    )\n",
    "\n",
    "    return (\n",
    "        # P_P component, in the tau-nu plane\n",
    "        mtau * np.sin(theta) / (2*M*R) * (\n",
    "            -(2*W1 - W2 - mtau**2/M**2 * W4 + Etau/M * W5) - Enu / M * W3 # X in lepton polarization paper, eq 7a\n",
    "        ),\n",
    "        # P_L component\n",
    "        -1 + mtau**2/(M**2 * R) * (\n",
    "            (2*M/(Etau + ptau) * W1 + (Etau - ptau) / (Etau + ptau) * W3) * np.cos(theta/2)**2\n",
    "            + (M/(Etau + ptau) * W2 + (Etau + ptau) / M * W4 - W5) * np.sin(theta/2)**2\n",
    "        ),\n",
    "    )"
   ]
  },
  {
   "cell_type": "code",
   "execution_count": 187,
   "metadata": {},
   "outputs": [],
   "source": [
    "# Cabbibo angle, from https://en.wikipedia.org/wiki/Cabibbo%E2%80%93Kobayashi%E2%80%93Maskawa_matrix\n",
    "theta_c = 13.02 * np.pi/180 # radians\n",
    "#\n",
    "M_V = 0.84 # GeV\n",
    "# difference between muon and electron magnetic moments (I think, see tau polarization paper)\n",
    "xi = 3.706\n",
    "# \n",
    "M_A = 1 # GeV\n",
    "#\n",
    "F_A_0 = -1.23\n",
    "# Pion mass\n",
    "m_pi = 0.139 # GeV\n",
    "\n",
    "\n",
    "def w(p, q, M):\n",
    "    return p.dot(q)/M**2\n",
    "\n",
    "def G_V_E(q):\n",
    "    return 1 / (1-q**2/M_V**2)**2\n",
    "\n",
    "def G_V_M(q):\n",
    "    return (1+xi) / (1-q**2/M_V**2)**2\n",
    "\n",
    "def F_V(q, M):\n",
    "    return (G_V_E(q) - q**2 / (4*M**2) * G_V_M(q)) / (1 - q**2 / (4*M**2))\n",
    "\n",
    "def F_M(q, M):\n",
    "    return (G_V_M(q) - G_V_M(q)) / (xi * (1 - q**2 / (4*M**2)))\n",
    "\n",
    "def F_A(q):\n",
    "    return F_A_0 / (1 - q**2 / M_A**2)**2\n",
    "\n",
    "def F_T(q):\n",
    "    return 0\n",
    "\n",
    "def F_S(q):\n",
    "    return 0\n",
    "\n",
    "def F_p(q, M):\n",
    "    return 2*M**2 * F_A(q) / (m_pi**2 - q**2)\n",
    "\n",
    "def Wqel_coefficient(p, q, M):\n",
    "    return np.cos(theta_c)**2 * 1/w(p, q, M) \n",
    "\n",
    "def W1qel(x, Q2, p, q, M):\n",
    "    xprime = Q2 / (4*M**2)\n",
    "    return (\n",
    "        Wqel_coefficient(p, q, M)\n",
    "        * (F_A(q)**2 + xprime * (F_A(q)**2 + (F_V(q, M) + F_M(q, M))**2))\n",
    "    )\n",
    "\n",
    "def omega_2(x, Q2, p, q, M):\n",
    "    xprime = Q2 / (4*M**2)\n",
    "    return F_V(q, M)**2 + F_A(q)**2 + xprime * (F_M(q, M)**2 + 4*F_T(q)**2)\n",
    "\n",
    "def W2qel(x, Q2, p, q, M):\n",
    "    return (\n",
    "        Wqel_coefficient(p, q, M)\n",
    "        * omega_2(x, Q2, p, q, M)\n",
    "    )\n",
    "\n",
    "def W3qel(x, Q2, p, q, M):\n",
    "    return (\n",
    "        Wqel_coefficient(p, q, M)\n",
    "        * -2 * np.real(np.conj(F_A(q)) * (F_V(q, M) + F_M(q, M)))\n",
    "    )\n",
    "\n",
    "def W4qel(x, Q2, p, q, M):\n",
    "    xprime = Q2 / (4*M**2)\n",
    "    return (\n",
    "        Wqel_coefficient(p, q, M)\n",
    "        # omega_4\n",
    "        * (\n",
    "            np.real(np.conj(F_V(q, M)) * (F_S(q) - 1/2 * F_M(q, M)) - np.conj(F_A(q)) * (F_T(q) + F_p(q, M)))\n",
    "            + xprime * (1/2 * (F_M(q, M) - F_S(q))**2 + (F_T(q) + F_p(q, M))**2)\n",
    "            - 1/4* (1+xprime) * F_M(q, M)**2 + (1+1/2 * xprime) * F_S(q)**2\n",
    "        )\n",
    "    )\n",
    "\n",
    "def W5qel(x, Q2, p, q, M):\n",
    "    xprime = Q2 / (4*M**2)\n",
    "    return (\n",
    "        Wqel_coefficient(p, q, M)\n",
    "        * (\n",
    "            2 * np.real(np.conj(F_S(q)) * (F_V(q, M) - xprime*F_M(q, M)) - np.conj(F_T(q)) * (F_A(q) - 2*xprime*F_p(q, M)))\n",
    "            + omega_2(x, Q2, p, q, M)\n",
    "        )\n",
    "    )"
   ]
  },
  {
   "cell_type": "code",
   "execution_count": 188,
   "metadata": {},
   "outputs": [],
   "source": [
    "particle_info = pd.read_csv(\"../data/test_genie_NuTau_10.0_GeV_particles.csv\")\n",
    "event_info = pd.read_csv(\"../data/test_genie_NuTau_10.0_GeV_event_info.csv\")"
   ]
  },
  {
   "cell_type": "code",
   "execution_count": 189,
   "metadata": {},
   "outputs": [],
   "source": [
    "qel_particles = particle_info[\n",
    "    particle_info[\"event_num\"]\n",
    "    .isin(event_info.loc[event_info[\"qel\"], \"event_num\"].values)\n",
    "]\n",
    "taus = qel_particles[qel_particles[\"pdg\"] == 15]\n",
    "nus = qel_particles.groupby(\"event_num\").nth(1)\n",
    "assert np.all(nus[\"pdg\"] == 16)\n",
    "nucleons = qel_particles.groupby(\"event_num\").first()\n",
    "assert np.all(nucleons[\"pdg\"] > 1000)\n",
    "tau_angles = np.arctan(np.sqrt(taus[\"px\"]**2 + taus[\"py\"]**2) / taus[\"pz\"])"
   ]
  },
  {
   "cell_type": "code",
   "execution_count": 190,
   "metadata": {},
   "outputs": [],
   "source": [
    "nutaus = qel_particles.groupby(\"event_num\").nth(1).reset_index(drop=True)\n",
    "assert (nutaus[\"pdg\"] == 16).all()\n",
    "taus = qel_particles.groupby(\"event_num\").nth(2).reset_index(drop=True)\n",
    "assert (taus[\"pdg\"] == 15).all()\n",
    "\n",
    "nutau4m = vector.array({\"E\": nutaus[\"E\"], \"px\": nutaus[\"px\"], \"py\": nutaus[\"py\"], \"pz\": nutaus[\"pz\"]})\n",
    "tau4m = vector.array({\"E\": taus[\"E\"], \"px\": taus[\"px\"], \"py\": taus[\"py\"], \"pz\": taus[\"pz\"]})\n",
    "q = nutau4m - tau4m\n",
    "# Sanity checks\n",
    "assert ((q[\"E\"]**2 - q[\"px\"]**2 - q[\"py\"]**2 - q[\"pz\"]**2) < 0).all()\n",
    "assert np.all((q**2) < 0)\n",
    "\n",
    "# delta-function, where x must be 1. To get this, we adjust the mass of the nucleon\n",
    "M = np.ones(len(q.E)) * 0.938919 # GeV\n",
    "# TODO change this to use W instead, so that the \"real\" nucleon mass is used\n",
    "# M = -q**2 / (2*q.E)\n",
    "nucleon4m = vector.array({\"E\": M, \"px\": np.zeros(M.shape), \"py\": np.zeros(M.shape), \"pz\": np.zeros(M.shape)})\n",
    "# x = -q**2 / (2*nucleon4m.dot(q))\n",
    "# assert np.allclose(x, 1), x"
   ]
  },
  {
   "cell_type": "code",
   "execution_count": 265,
   "metadata": {},
   "outputs": [
    {
     "data": {
      "text/plain": [
       "(array([[-0.00140661],\n",
       "        [-0.96817194]]),\n",
       " 0.968172966244185,\n",
       " array([-0.99999894]))"
      ]
     },
     "execution_count": 265,
     "metadata": {},
     "output_type": "execute_result"
    }
   ],
   "source": [
    "zero_angle_tau_event = np.argmin(tau_angles)\n",
    "\n",
    "s = np.array(polarization_vector(vector.MomentumNumpy4D(tau4m[zero_angle_tau_event]), vector.MomentumNumpy4D(nutau4m[zero_angle_tau_event]), vector.MomentumNumpy4D(nucleon4m[zero_angle_tau_event]), \"qel\"))\n",
    "\n",
    "# The polarization (second term) should be slightly below 1 (center left panel, fig 6 in tau polarization paper)\n",
    "# The polarization angle cos(theta_p) (third term) should be very close to -1 (bottom center panel, fig 6 in tau polarization paper)\n",
    "s, np.linalg.norm(s), s[1] / np.linalg.norm(s)"
   ]
  },
  {
   "cell_type": "code",
   "execution_count": 266,
   "metadata": {},
   "outputs": [],
   "source": [
    "# s = np.array(spin_vector(tau4m, nu4m, nucleon4m, \"qel\"))\n",
    "# # The polarization (second term) should be slightly less than 1\n",
    "# # See center left panel, figure 6 in tau polarization paper\n",
    "# s, np.linalg.norm(s)*2"
   ]
  },
  {
   "cell_type": "markdown",
   "metadata": {},
   "source": [
    "The values above are really good and close to what they should be. Let us now check $\\theta = 5^\\circ, 10^\\circ$, since these are reproduced in the paper as well."
   ]
  },
  {
   "cell_type": "code",
   "execution_count": 267,
   "metadata": {},
   "outputs": [
    {
     "data": {
      "text/plain": [
       "(5.000498804220101, 9.420946604808174)"
      ]
     },
     "execution_count": 267,
     "metadata": {},
     "output_type": "execute_result"
    }
   ],
   "source": [
    "almost5deg = np.abs(tau_angles * 180/np.pi - 5).argmin()\n",
    "tau_angles.iloc[almost5deg] * 180/np.pi, taus.iloc[almost5deg][\"E\"]"
   ]
  },
  {
   "cell_type": "code",
   "execution_count": 268,
   "metadata": {},
   "outputs": [
    {
     "data": {
      "text/plain": [
       "(array([[-0.21558367],\n",
       "        [-0.97306843]]),\n",
       " 0.996663676202995,\n",
       " array([-0.97632577]))"
      ]
     },
     "execution_count": 268,
     "metadata": {},
     "output_type": "execute_result"
    }
   ],
   "source": [
    "s = np.array(\n",
    "    polarization_vector(\n",
    "        vector.MomentumNumpy4D(tau4m[almost5deg]), \n",
    "        vector.MomentumNumpy4D(nutau4m[almost5deg]), \n",
    "        vector.MomentumNumpy4D(nucleon4m[almost5deg]),\n",
    "        \"qel\"\n",
    "    )\n",
    ")\n",
    "\n",
    "# The polarization (second term) should be closer to 1 (center center panel, fig 6 in tau polarization paper)\n",
    "# The polarization angle cos(theta_p) (third term) should be slightly above -1 (bottom center panel, fig 6 in tau polarization paper)\n",
    "s, np.linalg.norm(s), s[1] / np.linalg.norm(s)"
   ]
  },
  {
   "cell_type": "code",
   "execution_count": 269,
   "metadata": {},
   "outputs": [
    {
     "data": {
      "text/plain": [
       "(array([[-0.38272862],\n",
       "        [-0.94981137]]),\n",
       " 1.0240228739277526,\n",
       " array([-0.92752945]))"
      ]
     },
     "execution_count": 269,
     "metadata": {},
     "output_type": "execute_result"
    }
   ],
   "source": [
    "tau_deg = tau_angles * 180/np.pi \n",
    "# Select the event with the highest energy tau and a tau angle between 9.9 and 10.1 degrees\n",
    "almost10deg = taus[((9.9 < tau_deg) & (tau_deg < 10.1)).values][\"E\"].idxmax()\n",
    "\n",
    "s = np.array(\n",
    "    polarization_vector(\n",
    "        vector.MomentumNumpy4D(tau4m[almost10deg]), \n",
    "        vector.MomentumNumpy4D(nutau4m[almost10deg]), \n",
    "        vector.MomentumNumpy4D(nucleon4m[almost10deg]),\n",
    "        \"qel\"\n",
    "    )\n",
    ")\n",
    "\n",
    "# The polarization (second term) should be closer to 1 (center center panel, fig 6 in tau polarization paper)\n",
    "# The polarization angle cos(theta_p) (third term) should be slightly above -1 (bottom center panel, fig 6 in tau polarization paper)\n",
    "s, np.linalg.norm(s), s[1] / np.linalg.norm(s)"
   ]
  },
  {
   "cell_type": "code",
   "execution_count": 270,
   "metadata": {},
   "outputs": [
    {
     "data": {
      "text/plain": [
       "event_num    8318.000000\n",
       "pdg            15.000000\n",
       "E               8.535322\n",
       "px             -1.343307\n",
       "py              0.506686\n",
       "pz              8.223955\n",
       "polx            0.060693\n",
       "poly            0.160907\n",
       "polz           -0.985102\n",
       "Name: 1328, dtype: float64"
      ]
     },
     "execution_count": 270,
     "metadata": {},
     "output_type": "execute_result"
    }
   ],
   "source": [
    "taus.iloc[almost10deg, :]"
   ]
  },
  {
   "cell_type": "markdown",
   "metadata": {},
   "source": [
    "There is something wrong with the code still. Here, the polarization value should be much higher and the angle should be closer to -1."
   ]
  },
  {
   "cell_type": "markdown",
   "metadata": {},
   "source": [
    "### Calculate polarization for all qel events"
   ]
  },
  {
   "cell_type": "code",
   "execution_count": 279,
   "metadata": {},
   "outputs": [
    {
     "data": {
      "text/plain": [
       "((array([-0.23267088, -0.23390953, -0.15259226, ..., -0.41494838,\n",
       "         -0.14111556, -0.19606266]),\n",
       "  array([-0.97456621, -0.97499491, -0.97813991, ..., -0.93114319,\n",
       "         -0.97854085, -0.97730061])),\n",
       " array([1.00195561, 1.00266083, 0.98997074, ..., 1.01941641, 0.98866364,\n",
       "        0.99677332]),\n",
       " array([-0.01175934, -0.01176451, -0.01180246, ..., -0.01123539,\n",
       "        -0.0118073 , -0.01179233]))"
      ]
     },
     "execution_count": 279,
     "metadata": {},
     "output_type": "execute_result"
    }
   ],
   "source": [
    "W2 = (nucleon4m + nutau4m - tau4m)**2\n",
    "\n",
    "s = polarization_vector(\n",
    "    tau4m[W2 > 0], \n",
    "    nutau4m[W2 > 0], \n",
    "    nucleon4m[W2 > 0],\n",
    "    \"qel\"\n",
    ")\n",
    "\n",
    "# The polarization (second term) should be closer to 1 (center center panel, fig 6 in tau polarization paper)\n",
    "# The polarization angle cos(theta_p) (third term) should be slightly above -1 (bottom center panel, fig 6 in tau polarization paper)\n",
    "s, np.linalg.norm(s, axis=0), s[1] / np.linalg.norm(s)"
   ]
  },
  {
   "cell_type": "code",
   "execution_count": 283,
   "metadata": {},
   "outputs": [
    {
     "data": {
      "image/png": "[encoded data removed]",
      "text/plain": [
       "<Figure size 1000x300 with 3 Axes>"
      ]
     },
     "metadata": {},
     "output_type": "display_data"
    }
   ],
   "source": [
    "fig, ax = plt.subplots(ncols=3, figsize=(10, 3), layout=\"tight\")\n",
    "ax[0].hist(tau_angles * 180/np.pi, bins=100)\n",
    "ax[0].set(xlabel=\"Tau angle (degrees)\", ylabel=\"Count\")\n",
    "\n",
    "ax[1].hist(np.linalg.norm(s, axis=0), bins=100)\n",
    "ax[1].set(xlabel=\"Polarization\", ylabel=\"Count\")\n",
    "\n",
    "ax[2].hist(s[1] / np.linalg.norm(s, axis=0), bins=100)\n",
    "ax[2].set(xlabel=r\"$\\cos(\\theta_p)$\", ylabel=\"Count\")\n",
    "\n",
    "for a in ax:\n",
    "    a.grid()\n",
    "    # a.set_yscale(\"log\")"
   ]
  },
  {
   "cell_type": "markdown",
   "metadata": {},
   "source": [
    "In some cases, I get a polarization vector that has magnitude > 1. Though this might not be completely incorrect, since the equations are not perfect and there might be some assumptions here and there that I break (e.g., they might always assume that the nucleon mass is 0.938 GeV, whereas that is not true and that is not the value that I pass to the code).\n",
    "If $|s| > 1$, I can simply normalize the vector."
   ]
  },
  {
   "cell_type": "code",
   "execution_count": 284,
   "metadata": {},
   "outputs": [
    {
     "data": {
      "image/png": "[encoded data removed]",
      "text/plain": [
       "<Figure size 700x300 with 2 Axes>"
      ]
     },
     "metadata": {},
     "output_type": "display_data"
    }
   ],
   "source": [
    "# Plot nucleon mass distribution\n",
    "fig, axs = plt.subplots(ncols=2, figsize=(7, 3), layout=\"tight\")\n",
    "axs[0].hist(M[nucleons[\"pdg\"] > 1e5], bins=100)\n",
    "axs[1].hist(M[nucleons[\"pdg\"] < 1e5], bins=100)\n",
    "\n",
    "for ax in axs:\n",
    "    ax.set(xlabel=\"Nucleon mass (GeV)\", ylabel=\"Count\")\n",
    "    ax.grid()\n",
    "    ax.axvline(0.983, color=\"red\")\n",
    "    # Nucleon mass in the Oxygen nucleus\n",
    "    ax.axvline(14.895082 / 16, color=\"green\")"
   ]
  },
  {
   "cell_type": "code",
   "execution_count": 285,
   "metadata": {},
   "outputs": [
    {
     "data": {
      "text/plain": [
       "12"
      ]
     },
     "execution_count": 285,
     "metadata": {},
     "output_type": "execute_result"
    }
   ],
   "source": [
    "(nucleons[\"pdg\"] < 1e5).sum()"
   ]
  },
  {
   "cell_type": "markdown",
   "metadata": {},
   "source": [
    "## Resonance scattering"
   ]
  },
  {
   "cell_type": "code",
   "execution_count": 286,
   "metadata": {},
   "outputs": [],
   "source": [
    "# Resonance scattering\n",
    "# Delta mass\n",
    "M_delta = 1.232 # GeV\n",
    "# Delta width assuming dominance of S-waves\n",
    "Gamma_delta = 0.12 # GeV\n",
    "# Is 2 if the Delta produced is Delta++ (interaction with p), \n",
    "# and 2/3 if the Delta produced is Delta+ (interaction with n). \n",
    "# Maybe take average, since there are equally many n and p in Oxygen?\n",
    "kappa = 2\n",
    "\n",
    "\n",
    "def Wnres(x, Q2, p, q, M, n):\n",
    "    # The invariant mass of the Delta particle. \n",
    "    # This should be a sample from a Breit-Wigner distribution \n",
    "    # around the central mass M_Delta and with width Gamma_Delta\n",
    "    W = np.sqrt((p + q)**2)\n",
    "\n",
    "    if n == 3:\n",
    "        return (\n",
    "            2 * kappa * np.cos(theta_c)**2 * M * M_delta * \n",
    "            eta_delta_bw(W)**2 * \n",
    "            sum(\n",
    "                K(x, Q2, j, k, n) * C_V(x, Q2, j) * C_A(x, Q2, k)\n",
    "                for j, k in itertools.product(range(3, 7), repeat=2)\n",
    "            )\n",
    "        )\n",
    "    \n",
    "    return (\n",
    "        kappa * np.cos(theta_c)**2 * M * M_delta * \n",
    "        eta_delta_bw(W)**2 * \n",
    "        sum(\n",
    "            V(x, Q2, j, k, n) * C_V(x, Q2, j) * C_V(x, Q2, k) \n",
    "            + A(x, Q2, j, k, n) * C_A(x, Q2, j) * C_A(x, Q2, k) \n",
    "            for j, k in itertools.product(range(3, 7), repeat=2)\n",
    "        )\n",
    "    )\n",
    "\n"
   ]
  },
  {
   "cell_type": "markdown",
   "metadata": {},
   "source": [
    "## Deep inelastic scattering"
   ]
  },
  {
   "cell_type": "code",
   "execution_count": 191,
   "metadata": {},
   "outputs": [
    {
     "name": "stdout",
     "output_type": "stream",
     "text": [
      "LHAPDF 6.5.4 loading /home/simon/miniconda3/envs/cern-skhep/share/LHAPDF/CT10nlo/CT10nlo_0000.dat\n",
      "CT10nlo PDF set, member #0, version 4; LHAPDF ID = 11000\n"
     ]
    }
   ],
   "source": [
    "# Deep inelastic scattering\n",
    "# The PDFs used in GENIE seems to bee CT10nlo, member 0 from LHAPDF. Source: https://github.com/GENIE-MC/Generator/blob/master/config/LHAPDF6.xml\n",
    "# I should therefore probably use the same here\n",
    "pdfset = lhapdf.mkPDF(\"CT10nlo\", 0)\n",
    "def pdf(quark, x, Q2):\n",
    "    # TODO division by x might be wrong. Not sure\n",
    "    f = pdfset.xfxQ2(quark, x, Q2) / x\n",
    "    return np.array(f)\n",
    "\n",
    "\n",
    "def mass_corrected_xi(x, Q2, charm):\n",
    "    xi = x\n",
    "    m_charm = 1.27 # GeV\n",
    "    # If a charm quark is produced, replace x with xi\n",
    "    xi[charm] = x[charm] / (Q2[charm] / (Q2[charm] + m_charm**2))\n",
    "    # print(xi)\n",
    "    return xi\n",
    "\n",
    "def W1dis(x, Q2, p, q, M, charm):\n",
    "    xi = mass_corrected_xi(x, Q2, charm)\n",
    "    return (\n",
    "        # Correction, see eq. 55 in tau polarization paper. \n",
    "        (1 + xi/w(p, q, M)) * \n",
    "        np.sum([pdf(quark, xi, Q2) for quark in [*range(1, 7), *range(-6, 0)]], axis=0) # F1\n",
    "    )\n",
    "\n",
    "def W2dis(x, Q2, p, q, M, charm):\n",
    "    xi = mass_corrected_xi(x, Q2, charm)\n",
    "    return (\n",
    "        1/w(p, q, M) \n",
    "        * 2 * np.sum([xi * pdf(quark, xi, Q2) for quark in [*range(1, 7), *range(-6, 0)]], axis=0) # F2\n",
    "    )\n",
    "\n",
    "def W3dis(x, Q2, p, q, M, charm):\n",
    "    xi = mass_corrected_xi(x, Q2, charm)\n",
    "    return 1/w(p, q, M) * 2 * (\n",
    "        np.sum([pdf(quark, xi, Q2) for quark in range(1, 7)], axis=0)\n",
    "        - np.sum([pdf(quark, xi, Q2) for quark in range(-6, 0)], axis=0)\n",
    "    )\n",
    "\n",
    "def W4dis(x, Q2, p, q, M, charm):\n",
    "    return 0\n",
    "\n",
    "def W5dis(x, Q2, p, q, M, charm):\n",
    "    # In the tau polarization paper, there is a factor of 2 in front. \n",
    "    xi = mass_corrected_xi(x, Q2, charm)\n",
    "    \n",
    "    # I am not sure if this is a mistake, convention difference, or something else\n",
    "    return 1/w(p, q, M) * np.sum([pdf(quark, xi, Q2) for quark in [*range(1, 7), *range(-6, 0)]], axis=0) # W1dis(x, Q2, p, q, M, charm) * \n",
    "# TODO something is wrong. Investigate"
   ]
  },
  {
   "cell_type": "code",
   "execution_count": 229,
   "metadata": {},
   "outputs": [],
   "source": [
    "dis_particles = particle_info[\n",
    "    particle_info[\"event_num\"]\n",
    "    .isin(event_info.loc[event_info[\"dis\"], \"event_num\"].values)\n",
    "]\n",
    "taus = dis_particles[dis_particles[\"pdg\"] == 15]\n",
    "nutaus = dis_particles.groupby(\"event_num\").nth(1)\n",
    "assert np.all(nutaus[\"pdg\"] == 16)\n",
    "nucleons = dis_particles.groupby(\"event_num\").first()\n",
    "assert np.all(nucleons[\"pdg\"] > 1000)\n",
    "tau_angles = np.arctan(np.sqrt(taus[\"px\"]**2 + taus[\"py\"]**2) / taus[\"pz\"])"
   ]
  },
  {
   "cell_type": "code",
   "execution_count": 230,
   "metadata": {},
   "outputs": [],
   "source": [
    "nutau4m = vector.array({\"E\": nutaus[\"E\"], \"px\": nutaus[\"px\"], \"py\": nutaus[\"py\"], \"pz\": nutaus[\"pz\"]})\n",
    "tau4m = vector.array({\"E\": taus[\"E\"], \"px\": taus[\"px\"], \"py\": taus[\"py\"], \"pz\": taus[\"pz\"]})\n",
    "\n",
    "# If the collision is with a proton, the nucleon mass should be the proton mass\n",
    "# If not, the nucleon mass should be the Oxygen mass / 16, since there are 16 nucleons in an Oxygen nucleus\n",
    "nucleon_mass = np.ones(nucleons.shape[0]) * 0.938919 #14.895082 / 16\n",
    "nucleon_mass[nucleons[\"pdg\"] < 1e5] = nucleons[nucleons[\"pdg\"] < 1e5][\"E\"]\n",
    "nucleon4m = vector.array({\"E\": nucleon_mass, \"px\": nucleons[\"px\"], \"py\": nucleons[\"py\"], \"pz\": nucleons[\"pz\"]})\n",
    "\n",
    "q = nutau4m - tau4m\n",
    "# Sanity checks\n",
    "assert ((q[\"E\"]**2 - q[\"px\"]**2 - q[\"py\"]**2 - q[\"pz\"]**2) < 0).all()\n",
    "assert np.all((q**2) < 0)"
   ]
  },
  {
   "cell_type": "code",
   "execution_count": 231,
   "metadata": {},
   "outputs": [],
   "source": [
    "zero_angle_tau_events = (tau_angles * 180/np.pi) < 0.4\n",
    "\n",
    "s = np.array(polarization_vector(\n",
    "    tau4m[zero_angle_tau_events], \n",
    "    nutau4m[zero_angle_tau_events], \n",
    "    nucleon4m[zero_angle_tau_events], \n",
    "    \"dis\",\n",
    "    charm=(np.zeros(nutau4m[zero_angle_tau_events].shape[0], dtype=bool))\n",
    "))"
   ]
  },
  {
   "cell_type": "code",
   "execution_count": 232,
   "metadata": {},
   "outputs": [
    {
     "data": {
      "image/png": "[encoded data removed]",
      "text/plain": [
       "<Figure size 700x300 with 2 Axes>"
      ]
     },
     "metadata": {},
     "output_type": "display_data"
    }
   ],
   "source": [
    "# Plot polarization vector norm and cos(theta_p) as a function of tau energy\n",
    "fig, ax = plt.subplots(ncols=2, figsize=(7, 3), layout=\"tight\")\n",
    "ax[0].scatter(tau4m[zero_angle_tau_events].E, np.linalg.norm(s, axis=0))\n",
    "ax[0].set(xlabel=\"Tau energy (GeV)\", ylabel=\"Polarization\")\n",
    "ax[1].scatter(tau4m[zero_angle_tau_events].E, s[1] / np.linalg.norm(s, axis=0))\n",
    "ax[1].set(xlabel=\"Tau energy (GeV)\", ylabel=r\"$\\cos(\\theta_p)$\")\n",
    "\n",
    "for a in ax:\n",
    "    a.grid()\n"
   ]
  },
  {
   "cell_type": "markdown",
   "metadata": {},
   "source": [
    "The value is always within 0 and 1 for the left plot, while it is within -1 and 1 for the right plots, which is good.\n",
    "However, for the left plot, there should be a dip and a discontinuity at around $E_\\tau \\approx 9$ GeV, after which the energy increases again. This is not the case here."
   ]
  },
  {
   "cell_type": "code",
   "execution_count": 233,
   "metadata": {},
   "outputs": [],
   "source": [
    "almost10deg_tau_events = np.abs(tau_angles * 180/np.pi - 5) < 0.03\n",
    "# Drop all x where it is unphysical. This will change later once I have access to W\n",
    "q = nutau4m - tau4m\n",
    "x = -q**2 / (2*nucleon4m.dot(q))\n",
    "almost10deg_tau_events.iloc[x > 1] = False\n",
    "\n",
    "s = np.array(polarization_vector(\n",
    "    tau4m[almost10deg_tau_events], \n",
    "    nutau4m[almost10deg_tau_events], \n",
    "    nucleon4m[almost10deg_tau_events], \n",
    "    \"dis\",\n",
    "    charm=(np.zeros(nutau4m[almost10deg_tau_events].shape[0], dtype=bool))\n",
    "))"
   ]
  },
  {
   "cell_type": "code",
   "execution_count": 234,
   "metadata": {},
   "outputs": [
    {
     "data": {
      "image/png": "[encoded data removed]",
      "text/plain": [
       "<Figure size 700x300 with 2 Axes>"
      ]
     },
     "metadata": {},
     "output_type": "display_data"
    }
   ],
   "source": [
    "# Plot polarization vector norm and cos(theta_p) as a function of tau energy\n",
    "fig, ax = plt.subplots(ncols=2, figsize=(7, 3), layout=\"tight\")\n",
    "ax[0].scatter(tau4m[almost10deg_tau_events].E, np.linalg.norm(s, axis=0))\n",
    "ax[0].set(xlabel=\"Tau energy (GeV)\", ylabel=\"Polarization\")\n",
    "ax[1].scatter(tau4m[almost10deg_tau_events].E, s[1] / np.linalg.norm(s, axis=0))\n",
    "ax[1].set(xlabel=\"Tau energy (GeV)\", ylabel=r\"$\\cos(\\theta_p)$\")\n",
    "\n",
    "for a in ax:\n",
    "    a.grid()\n"
   ]
  },
  {
   "cell_type": "markdown",
   "metadata": {},
   "source": [
    "The left plot should be almost constantly 1, with a very small dip around the middle. \n",
    "\n",
    "For the right plot, the curve should be a smooth transition from 1 to -1 from low energies ($E_\\tau \\approx 2$ GeV) to high energies ($E_\\tau \\approx 9$ GeV).\n",
    "\n",
    "This is not what we see here. This can either be because of a bug in my code (though the formulas are not so complicated for DIS), or because the incorrect mass for the nucleon is used (will be fixed once I get W)"
   ]
  },
  {
   "cell_type": "markdown",
   "metadata": {},
   "source": [
    "## Load my own GENIE events\n",
    "For testing and evaluating W and Q2 values, I will use my own GENIE events."
   ]
  },
  {
   "cell_type": "code",
   "execution_count": 236,
   "metadata": {},
   "outputs": [],
   "source": [
    "import uproot\n",
    "\n",
    "with uproot.open(\"../data/gntp.0.gst.root\") as f:\n",
    "    tree = f[\"gst\"]\n",
    "    qel = tree[\"qel\"].array()\n",
    "    res = tree[\"res\"].array()\n",
    "    dis = tree[\"dis\"].array()\n",
    "    cc = tree[\"cc\"].array()\n",
    "    taus = vector.array({\"E\": tree[\"El\"].array(), \"px\": tree[\"pxl\"].array(), \"py\": tree[\"pyl\"].array(), \"pz\": tree[\"pzl\"].array()})\n",
    "    Q2 = tree[\"Q2\"].array()\n",
    "    W = tree[\"W\"].array()\n",
    "    Ev = tree[\"Ev\"].array()\n",
    "    charm = tree[\"charm\"].array()\n",
    "\n",
    "nutaus = vector.array({\"E\": Ev, \"px\": np.zeros(len(Ev)), \"py\": np.zeros(len(Ev)), \"pz\": Ev})"
   ]
  },
  {
   "cell_type": "code",
   "execution_count": 237,
   "metadata": {},
   "outputs": [],
   "source": [
    "q = nutaus - taus\n",
    "M = -q.E + np.sqrt(W**2 + q.px**2 + q.py**2 + q.pz**2)"
   ]
  },
  {
   "cell_type": "code",
   "execution_count": 238,
   "metadata": {},
   "outputs": [
    {
     "data": {
      "text/plain": [
       "0.938919    10045\n",
       "0.938919     5134\n",
       "0.938919     4535\n",
       "0.938919     1125\n",
       "0.938919       58\n",
       "0.938919       21\n",
       "0.938919       15\n",
       "0.938919        4\n",
       "Name: count, dtype: int64"
      ]
     },
     "execution_count": 238,
     "metadata": {},
     "output_type": "execute_result"
    }
   ],
   "source": [
    "pd.Series(M[cc]).value_counts()"
   ]
  },
  {
   "cell_type": "code",
   "execution_count": 239,
   "metadata": {},
   "outputs": [
    {
     "data": {
      "text/html": [
       "<pre>[0.836,\n",
       " 1.44,\n",
       " 1.05,\n",
       " 0.926,\n",
       " 1.76,\n",
       " 0.915,\n",
       " 1.47,\n",
       " 0.831,\n",
       " 0.973,\n",
       " 0.7,\n",
       " ...,\n",
       " 1,\n",
       " 0.85,\n",
       " 0.815,\n",
       " 0.612,\n",
       " 0.936,\n",
       " 1.09,\n",
       " 0.986,\n",
       " 0.842,\n",
       " 1.29]\n",
       "--------------------\n",
       "type: 3133 * float64</pre>"
      ],
      "text/plain": [
       "<Array [0.836, 1.44, 1.05, ..., 0.986, 0.842, 1.29] type='3133 * float64'>"
      ]
     },
     "execution_count": 239,
     "metadata": {},
     "output_type": "execute_result"
    }
   ],
   "source": [
    "(Q2 / (2*q.E))[qel & cc]"
   ]
  },
  {
   "cell_type": "code",
   "execution_count": 240,
   "metadata": {},
   "outputs": [
    {
     "data": {
      "image/png": "[encoded data removed]",
      "text/plain": [
       "<Figure size 640x480 with 1 Axes>"
      ]
     },
     "metadata": {},
     "output_type": "display_data"
    }
   ],
   "source": [
    "W = (M + q.E)**2 - q.px**2 - q.py**2 - q.pz**2\n",
    "plt.hist(W[cc], bins=100)\n",
    "plt.grid()"
   ]
  },
  {
   "cell_type": "code",
   "execution_count": 241,
   "metadata": {},
   "outputs": [
    {
     "data": {
      "text/plain": [
       "0.74044"
      ]
     },
     "execution_count": 241,
     "metadata": {},
     "output_type": "execute_result"
    }
   ],
   "source": [
    "np.sum(W > 2) / len(W)"
   ]
  },
  {
   "cell_type": "code",
   "execution_count": 205,
   "metadata": {},
   "outputs": [
    {
     "data": {
      "text/plain": [
       "<matplotlib.lines.Line2D at 0x7fbb3afa0bd0>"
      ]
     },
     "execution_count": 205,
     "metadata": {},
     "output_type": "execute_result"
    },
    {
     "data": {
      "image/png": "[encoded data removed]",
      "text/plain": [
       "<Figure size 640x480 with 1 Axes>"
      ]
     },
     "metadata": {},
     "output_type": "display_data"
    }
   ],
   "source": [
    "plt.hist(M[cc], bins=5)\n",
    "plt.grid()\n",
    "plt.axvline(0.983, c=\"r\")\n",
    "plt.axvline(14.895082 / 16, c=\"g\")"
   ]
  },
  {
   "cell_type": "code",
   "execution_count": 211,
   "metadata": {},
   "outputs": [
    {
     "data": {
      "image/png": "[encoded data removed]",
      "text/plain": [
       "<Figure size 700x300 with 2 Axes>"
      ]
     },
     "metadata": {},
     "output_type": "display_data"
    }
   ],
   "source": [
    "# If the collision is with a proton, the nucleon mass should be the proton mass\n",
    "# If not, the nucleon mass should be the Oxygen mass / 16, since there are 16 nucleons in an Oxygen nucleus\n",
    "nucleon4m = vector.array({\"E\": M, \"px\": np.zeros(len(M)), \"py\": np.zeros(len(M)), \"pz\": np.zeros(len(M))})\n",
    "nutau4m = nutaus\n",
    "tau4m = taus\n",
    "\n",
    "q = nutau4m - tau4m\n",
    "# Sanity checks\n",
    "assert np.all((q**2) < 0)\n",
    "\n",
    "tau_angles = np.arctan(np.sqrt(tau4m.px**2 + tau4m.py**2) / tau4m.pz)\n",
    "\n",
    "zero_angle_tau_events = dis & cc & ((tau_angles * 180/np.pi) < 0.5)\n",
    "\n",
    "s = np.array(polarization_vector(\n",
    "    tau4m[zero_angle_tau_events], \n",
    "    nutau4m[zero_angle_tau_events], \n",
    "    nucleon4m[zero_angle_tau_events], \n",
    "    \"dis\",\n",
    "    charm=(np.zeros(nutau4m[zero_angle_tau_events].shape[0], dtype=bool))\n",
    "))\n",
    "# Plot polarization vector norm and cos(theta_p) as a function of tau energy\n",
    "fig, ax = plt.subplots(ncols=2, figsize=(7, 3), layout=\"tight\")\n",
    "ax[0].scatter(tau4m[zero_angle_tau_events].E, np.linalg.norm(s, axis=0))\n",
    "ax[0].set(xlabel=\"Tau energy (GeV)\", ylabel=\"Polarization\")\n",
    "ax[1].scatter(tau4m[zero_angle_tau_events].E, s[1] / np.linalg.norm(s, axis=0))\n",
    "ax[1].set(xlabel=\"Tau energy (GeV)\", ylabel=r\"$\\cos(\\theta_p)$\")\n",
    "\n",
    "for a in ax:\n",
    "    a.grid()\n"
   ]
  },
  {
   "cell_type": "markdown",
   "metadata": {},
   "source": [
    "This plot looks just as weird. It is likely something wrong with the code."
   ]
  },
  {
   "cell_type": "markdown",
   "metadata": {},
   "source": [
    "## Old code"
   ]
  },
  {
   "cell_type": "code",
   "execution_count": null,
   "metadata": {},
   "outputs": [],
   "source": [
    "def spin_vector(tau4m, nu4m, nucleon4m, int_type: str):\n",
    "    # WARNING: do not use this function, as it is incorrect\n",
    "    # TODO remove this or update the code if the other function does not work\n",
    "    M = nucleon4m.m\n",
    "    ptau = tau4m.p\n",
    "    Etau = tau4m.E\n",
    "    theta = nu4m.deltaangle(tau4m)\n",
    "    costheta = np.cos(theta)\n",
    "    Enu = nu4m.E\n",
    "    p = nucleon4m\n",
    "    k = nu4m\n",
    "    kprime = tau4m\n",
    "    \n",
    "    q = k - kprime # W boson 4-momentum\n",
    "    Q2 = -q**2\n",
    "\n",
    "    x = Q2 / (2*p.dot(q)) # Björken scaling variable\n",
    "\n",
    "    if int_type == \"qel\":\n",
    "        W1 = W1qel(x, Q2, p, q, M)\n",
    "        W2 = W2qel(x, Q2, p, q, M)\n",
    "        W3 = W3qel(x, Q2, p, q, M)\n",
    "        W4 = W4qel(x, Q2, p, q, M)\n",
    "        W5 = W5qel(x, Q2, p, q, M)\n",
    "    else:\n",
    "        raise NotImplementedError(\"Only qel implemented\")\n",
    "    \n",
    "    F = (\n",
    "        (2*W1 + mtau**2 / M**2 * W4) * (Etau - ptau * costheta)\n",
    "        + W2 * (Etau + ptau * costheta)\n",
    "        + W3 / M * (Enu * Etau + ptau**2 - (Enu + Etau) * ptau * costheta)\n",
    "        + mtau**2 / M * W5\n",
    "    )\n",
    "\n",
    "    return (\n",
    "        # sx component, in the tau-nu plane\n",
    "        -mtau*np.sin(theta)/2 *\n",
    "        (2*W1 - W2 + Enu / M * W3 - mtau**2/M**2 * W4 + Etau/M * W5)\n",
    "        / F,\n",
    "        # sz component\n",
    "        -1/2 * (\n",
    "            (2*W1 - mtau**2 / M**2 * W4) * (ptau - Etau * costheta)\n",
    "            + W2 * (ptau + Etau * costheta)\n",
    "            + W3 / M * ((Enu + Etau) * ptau - (Enu * Etau + ptau**2) * costheta)\n",
    "            - mtau**2 / M * W5 * costheta\n",
    "        ) / F\n",
    "    )"
   ]
  }
 ],
 "metadata": {
  "kernelspec": {
   "display_name": "cern-skhep",
   "language": "python",
   "name": "python3"
  },
  "language_info": {
   "codemirror_mode": {
    "name": "ipython",
    "version": 3
   },
   "file_extension": ".py",
   "mimetype": "text/x-python",
   "name": "python",
   "nbconvert_exporter": "python",
   "pygments_lexer": "ipython3",
   "version": "3.11.4"
  }
 },
 "nbformat": 4,
 "nbformat_minor": 2
}
