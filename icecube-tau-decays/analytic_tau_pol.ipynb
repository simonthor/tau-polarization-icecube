{
 "cells": [
  {
   "cell_type": "code",
   "execution_count": 2,
   "metadata": {},
   "outputs": [],
   "source": [
    "import numpy as np\n",
    "import matplotlib.pyplot as plt\n",
    "import vector\n",
    "import pandas as pd\n",
    "import lhapdf"
   ]
  },
  {
   "cell_type": "code",
   "execution_count": 29,
   "metadata": {},
   "outputs": [],
   "source": [
    "# Cabbibo angle, from https://en.wikipedia.org/wiki/Cabibbo%E2%80%93Kobayashi%E2%80%93Maskawa_matrix\n",
    "theta_c = 13.02 * np.pi/180 # radians\n",
    "# Tau mass\n",
    "mtau = 1.77682 # GeV\n",
    "#\n",
    "M_V = 0.84 # GeV\n",
    "# difference between muon and electron magnetic moments (I think, see tau polarization paper)\n",
    "xi = 3.706\n",
    "# \n",
    "M_A = 1 # GeV\n",
    "#\n",
    "F_A_0 = -1.23\n",
    "# Pion mass\n",
    "m_pi = 0.139 # GeV\n",
    "\n",
    "def spin_vector(tau4m, nu4m, nucleon4m, int_type: str):\n",
    "    M = nucleon4m.m\n",
    "    ptau = tau4m.p\n",
    "    Etau = tau4m.E\n",
    "    theta = nu4m.deltaangle(tau4m)\n",
    "    costheta = np.cos(theta)\n",
    "    Enu = nu4m.E\n",
    "    p = nucleon4m\n",
    "    k = nu4m\n",
    "    kprime = tau4m\n",
    "    \n",
    "    q = k - kprime # W boson 4-momentum\n",
    "    # I might also pass this as a parameter. Though probably not, since the model assumes that it is a nucleon, not a nucleus.\n",
    "    Q2 = -q**2\n",
    "\n",
    "    W = (p + q)**2\n",
    "    x = Q2 / (2*p.dot(q)) # Björken scaling variable\n",
    "\n",
    "    if int_type == \"qel\":\n",
    "        W1 = W1qel(x, Q2, p, q, M)\n",
    "        W2 = W2qel(x, Q2, p, q, M)\n",
    "        W3 = W3qel(x, Q2, p, q, M)\n",
    "        W4 = W4qel(x, Q2, p, q, M)\n",
    "        W5 = W5qel(x, Q2, p, q, M)\n",
    "    else:\n",
    "        raise NotImplementedError(\"Only qel implemented\")\n",
    "    \n",
    "    F = (\n",
    "        (2*W1 + mtau**2 / M**2 * W4) * (Etau - ptau * costheta)\n",
    "        + W2 * (Etau + ptau * costheta)\n",
    "        + W3 / M * (Enu * Etau + ptau**2 - (Enu + Etau) * ptau * costheta)\n",
    "        + mtau**2 / M * W5\n",
    "    )\n",
    "\n",
    "    return (\n",
    "        # sx component, in the tau-nu plane\n",
    "        -mtau*np.sin(theta)/2 *\n",
    "        (2*W1 - W2 + Enu / M * W3 - mtau**2/M**2 * W4 + Etau/M * W5)\n",
    "        / F,\n",
    "        # sz component\n",
    "        -1/2 * (\n",
    "            (2*W1 - mtau**2 / M**2 * W4) * (ptau - Etau * costheta)\n",
    "            + W2 * (ptau + Etau * costheta)\n",
    "            + W3 / M * ((Enu + Etau) * ptau - (Enu * Etau + ptau**2) * costheta)\n",
    "            - mtau**2 / M * W5 * costheta\n",
    "        ) / F\n",
    "    )\n",
    "\n",
    "def spin_vector2(tau4m, nu4m, nucleon4m, int_type: str):\n",
    "    M = nucleon4m.m\n",
    "    ptau = tau4m.p\n",
    "    Etau = tau4m.E\n",
    "    theta = nu4m.deltaangle(tau4m)\n",
    "    costheta = np.cos(theta)\n",
    "    Enu = nu4m.E\n",
    "    p = nucleon4m\n",
    "    k = nu4m\n",
    "    kprime = tau4m\n",
    "    \n",
    "    q = k - kprime # W boson 4-momentum\n",
    "    # I might also pass this as a parameter. Though probably not, since the model assumes that it is a nucleon, not a nucleus.\n",
    "    Q2 = -q**2\n",
    "    assert np.all(Q2 > 0), Q2\n",
    "\n",
    "    W2 = (p + q)**2\n",
    "    assert np.all(W2 > 0), W2\n",
    "    \n",
    "    x = Q2 / (2*p.dot(q)) # Björken scaling variable\n",
    "    print(x, Q2/(W2+Q2-M**2), W2, M**2)\n",
    "    \n",
    "    if int_type == \"qel\":\n",
    "        x = 1\n",
    "        W1 = W1qel(x, Q2, p, q, M)\n",
    "        W2 = W2qel(x, Q2, p, q, M)\n",
    "        W3 = W3qel(x, Q2, p, q, M)\n",
    "        W4 = W4qel(x, Q2, p, q, M)\n",
    "        W5 = W5qel(x, Q2, p, q, M)\n",
    "    else:\n",
    "        raise NotImplementedError(\"Only qel implemented\")\n",
    "    \n",
    "    R = (\n",
    "        (Etau - ptau * costheta) / M * (W1 + mtau / (2*M**2)*W4)\n",
    "        + (Etau + ptau * costheta) / (2*M) * W2\n",
    "        + ((Enu + Etau) / M * (Etau - ptau * costheta) / (2*M) - mtau**2 / (2*M**2)) * W3\n",
    "        - mtau**2 / (2*M) * W5\n",
    "    )\n",
    "\n",
    "    return (\n",
    "        # sz component\n",
    "        mtau * np.sin(theta) / (2*M*R) * (\n",
    "            -(2*W1 - W2 - mtau**2/M**2 * W4 + Etau/M * W5) - Enu / M * W3 # X in lepton polarization paper, eq 7a\n",
    "        ),\n",
    "        # sx component, in the tau-nu plane\n",
    "        -1 + mtau**2/(M**2 * R) * (\n",
    "            (2*M/(Etau + ptau) * W1 + (Etau - ptau) / (Etau + ptau) * W3) * np.cos(theta/2)**2\n",
    "            + (M/(Etau + ptau) * W2 + (Etau + ptau) / M * W4 - W5) * np.sin(theta/2)**2\n",
    "        ),\n",
    "    )\n",
    "\n",
    "def w(p, q, M):\n",
    "    return p.dot(q)/M**2\n",
    "\n",
    "def G_V_E(q):\n",
    "    return 1 / (1-q**2/M_V**2)**2\n",
    "\n",
    "def G_V_M(q):\n",
    "    return (1+xi) / (1-q**2/M_V**2)**2\n",
    "\n",
    "def F_V(q, M):\n",
    "    return (G_V_E(q) - q**2 / (4*M**2) * G_V_M(q)) / (1 - q**2 / (4*M**2))\n",
    "\n",
    "def F_A(q):\n",
    "    return F_A_0 / (1 - q**2 / M_A**2)**2\n",
    "\n",
    "def F_M(q, M):\n",
    "    return (G_V_M(q) - G_V_M(q)) / (xi * (1 - q**2 / (4*M**2)))\n",
    "\n",
    "def F_T(q):\n",
    "    return 0\n",
    "\n",
    "def F_S(q):\n",
    "    return 0\n",
    "\n",
    "def F_p(q, M):\n",
    "    return 2*M**2 * F_A(q) / (m_pi**2 - q**2)\n",
    "\n",
    "def Wqel_coefficient(x, Q2, p, q, M):\n",
    "    # assert np.isclose(x, 1), x  # a delta function here where x must be 1\n",
    "    return np.cos(theta_c)**2 * 1/w(p, q, M) \n",
    "\n",
    "def W1qel(x, Q2, p, q, M):\n",
    "    xprime = Q2 / (4*M**2)\n",
    "    return (\n",
    "        Wqel_coefficient(x, Q2, p, q, M)\n",
    "        * (F_A(q)**2 + xprime * (F_A(q)**2 + (F_V(q, M) + F_M(q, M))**2))\n",
    "    )\n",
    "\n",
    "def omega_2(x, Q2, p, q, M):\n",
    "    xprime = Q2 / (4*M**2)\n",
    "    return F_V(q, M)**2 + F_A(q)**2 + xprime * (F_M(q, M)**2 + 4*F_T(q)**2)\n",
    "\n",
    "def W2qel(x, Q2, p, q, M):\n",
    "    # assert np.isclose(x, 1), x\n",
    "    return (\n",
    "        Wqel_coefficient(x, Q2, p, q, M)\n",
    "        * omega_2(x, Q2, p, q, M)\n",
    "    )\n",
    "\n",
    "def W3qel(x, Q2, p, q, M):\n",
    "    return (\n",
    "        Wqel_coefficient(x, Q2, p, q, M)\n",
    "        * -2 * np.real(np.conj(F_A(q)) * (F_V(q, M) + F_M(q, M)))\n",
    "    )\n",
    "\n",
    "def W4qel(x, Q2, p, q, M):\n",
    "    xprime = Q2 / (4*M**2)\n",
    "    return (\n",
    "        Wqel_coefficient(x, Q2, p, q, M)\n",
    "        # omega_4\n",
    "        * (\n",
    "            np.real(np.conj(F_V(q, M)) * (F_S(q) - 1/2 * F_M(q, M)) - np.conj(F_A(q)) * (F_T(q) + F_p(q, M)))\n",
    "            + xprime * (1/2 * (F_M(q, M) - F_S(q))**2 + (F_T(q) + F_p(q, M))**2)\n",
    "            - 1/4* (1+xprime) * F_M(q, M)**2 + (1+1/2 * xprime) * F_S(q)**2\n",
    "        )\n",
    "    )\n",
    "\n",
    "def W5qel(x, Q2, p, q, M):\n",
    "    xprime = Q2 / (4*M**2)\n",
    "    return (\n",
    "        Wqel_coefficient(x, Q2, p, q, M)\n",
    "        * (\n",
    "            2 * np.real(np.conj(F_S(q)) * (F_V(q, M) - xprime*F_M(q, M)) - np.conj(F_T(q)) * (F_A(q) - 2*xprime*F_p(q, M)))\n",
    "            + omega_2(x, Q2, p, q, M)\n",
    "        )\n",
    "    )\n",
    "\n",
    "# Resonance scattering\n",
    "# Delta mass\n",
    "M_delta = 1.232 # GeV\n",
    "# Delta width assuming dominance of S-waves\n",
    "Gamma_delta = 0.12 # GeV\n",
    "# Is 2 if the Delta produced is Delta++ (interaction with p), \n",
    "# and 2/3 if the Delta produced is Delta+ (interaction with n). \n",
    "# Maybe take average, since there are equally many n and p in Oxygen?\n",
    "kappa = 2\n",
    "\n",
    "# def W1res(x, Q2, p, q, M):\n",
    "#     return (\n",
    "#         kappa * np.cos(theta_c)**2 * M * M_delta * \n",
    "#         eta_delta_bw(W)**2 * \n",
    "#         sum(\n",
    "#             V_1(x, Q2, j, k) * C_V(x, Q2, j) * C_V(x, Q2, k) \n",
    "#             + A_1(x, Q2, j, k) * C_A(x, Q2, j) * C_A(x, Q2, k) \n",
    "#             for j, k in itertools.product(range(3, 7), repeat=2)\n",
    "#         )\n",
    "#     )\n",
    "\n",
    "# Deep inelastic scattering\n",
    "# The PDFs used in GENIE seems to bee CT10nlo, member 0 from LHAPDF. Source: https://github.com/GENIE-MC/Generator/blob/master/config/LHAPDF6.xml\n",
    "# I should therefore probably use the same here\n",
    "def pdf(quark, x, Q2):\n",
    "    p = lhapdf.mkPDF(\"CT10nlo\", 0)\n",
    "    return p.xfxQ2(quark, x, Q2)\n",
    "\n",
    "\n",
    "def mass_corrected_xi(Q2, x, quark):\n",
    "    if quark != 4:\n",
    "        return x\n",
    "    \n",
    "    m_charm = 1.27 # GeV\n",
    "    return x / (Q2 / (Q2 + m_charm**2))\n",
    "\n",
    "def W1dis(x, Q2, p, q, M):\n",
    "    return (\n",
    "        # (1 + x/w(p, q, M)) * # Correction, see eq. 55 in tau polarization paper. Might not be completely correct since only x is used instead of xi. Unclear notation in paper\n",
    "        sum(pdf(quark, x, Q2) for quark in [*range(1, 7), *range(-6, 0)]) # F1\n",
    "    )\n",
    "\n",
    "def W2dis(x, Q2, p, q, M):\n",
    "    return (\n",
    "        1/w(p, q, M) \n",
    "        * 2 * sum(x * pdf(quark, x, Q2) for quark in [*range(1, 7), *range(-6, 0)]) # F2\n",
    "    )\n",
    "\n",
    "def W3dis(x, Q2, p, q, M):\n",
    "    return 2 * (\n",
    "        sum(pdf(quark, x, Q2) for quark in range(1, 7))\n",
    "        - sum(pdf(quark, x, Q2) for quark in range(-6, 0))\n",
    "    )\n",
    "\n",
    "def W4dis(x, Q2, p, q, M):\n",
    "    return 0\n",
    "\n",
    "def W5dis(x, Q2, p, q, M):\n",
    "    # In the tau polarization paper, there is a factor of 2 in front. \n",
    "    # I am not sure if this is a mistake, convention difference, or something else\n",
    "    return W1dis(x, Q2, p, q, M)"
   ]
  },
  {
   "cell_type": "code",
   "execution_count": 30,
   "metadata": {},
   "outputs": [],
   "source": [
    "particle_info = pd.read_csv(\"../data/test_genie_NuTau_10.0_GeV_particles.csv\")\n",
    "event_info = pd.read_csv(\"../data/test_genie_NuTau_10.0_GeV_event_info.csv\")\n",
    "\n",
    "qel_particles = particle_info[\n",
    "    particle_info[\"event_num\"]\n",
    "    .isin(event_info.loc[event_info[\"qel\"], \"event_num\"].values)\n",
    "]\n",
    "taus = qel_particles[qel_particles[\"pdg\"] == 15]\n",
    "tau_angles = np.arctan(np.sqrt(taus[\"px\"]**2 + taus[\"py\"]**2) / taus[\"pz\"])"
   ]
  },
  {
   "cell_type": "code",
   "execution_count": 31,
   "metadata": {},
   "outputs": [],
   "source": [
    "nutaus = qel_particles.groupby(\"event_num\").nth(1).reset_index(drop=True)\n",
    "assert (nutaus[\"pdg\"] == 16).all()\n",
    "taus = qel_particles.groupby(\"event_num\").nth(2).reset_index(drop=True)\n",
    "assert (taus[\"pdg\"] == 15).all()\n",
    "\n",
    "nutau4m = vector.array({\"E\": nutaus[\"E\"], \"px\": nutaus[\"px\"], \"py\": nutaus[\"py\"], \"pz\": nutaus[\"pz\"]})\n",
    "tau4m = vector.array({\"E\": taus[\"E\"], \"px\": taus[\"px\"], \"py\": taus[\"py\"], \"pz\": taus[\"pz\"]})\n",
    "q = nutau4m - tau4m\n",
    "assert ((q[\"E\"]**2 - q[\"px\"]**2 - q[\"py\"]**2 - q[\"pz\"]**2) < 0).all()\n",
    "assert np.all((q**2) < 0)"
   ]
  },
  {
   "cell_type": "code",
   "execution_count": 17,
   "metadata": {},
   "outputs": [],
   "source": [
    "nucleon4m = vector.array({\"E\": [0.983], \"px\": [0], \"py\": [0], \"pz\": [0]})\n",
    "nu4m = vector.obj({\"E\": [10], \"px\": [0], \"py\": [0], \"pz\": [10]})"
   ]
  },
  {
   "cell_type": "code",
   "execution_count": 32,
   "metadata": {},
   "outputs": [
    {
     "name": "stdout",
     "output_type": "stream",
     "text": [
      "[0.28255295] [0.28255295] [1.12268233] 0.966289\n"
     ]
    },
    {
     "data": {
      "text/plain": [
       "(array([[-0.00138453],\n",
       "        [-0.96827551]]),\n",
       " 0.9682765003697137,\n",
       " array([-0.99999898]))"
      ]
     },
     "execution_count": 32,
     "metadata": {},
     "output_type": "execute_result"
    }
   ],
   "source": [
    "zero_angle_tau = taus.values[np.argmin(tau_angles)]\n",
    "tau4m = vector.array({\"E\": [zero_angle_tau[2]], \"px\": [zero_angle_tau[3]], \"py\": [zero_angle_tau[4]], \"pz\": [zero_angle_tau[5]]})\n",
    "s = np.array(spin_vector2(tau4m, nu4m, nucleon4m, \"qel\"))\n",
    "\n",
    "# The polarization (second term) should be slightly below 1 (center left panel, fig 6 in tau polarization paper)\n",
    "# The polarization angle cos(theta_p) (third term) should be very close to -1 (bottom center panel, fig 6 in tau polarization paper)\n",
    "s, np.linalg.norm(s), s[1] / np.linalg.norm(s)"
   ]
  },
  {
   "cell_type": "code",
   "execution_count": null,
   "metadata": {},
   "outputs": [],
   "source": []
  },
  {
   "cell_type": "code",
   "execution_count": 24,
   "metadata": {},
   "outputs": [
    {
     "data": {
      "text/plain": [
       "(array([[-0.00052932],\n",
       "        [-0.31253993]]),\n",
       " 0.6250807503084903)"
      ]
     },
     "execution_count": 24,
     "metadata": {},
     "output_type": "execute_result"
    }
   ],
   "source": [
    "s = np.array(spin_vector(tau4m, nu4m, nucleon4m, \"qel\"))\n",
    "# The polarization (second term) should be slightly less than 1\n",
    "# See center left panel, figure 6 in tau polarization paper\n",
    "s, np.linalg.norm(s)*2"
   ]
  },
  {
   "cell_type": "markdown",
   "metadata": {},
   "source": [
    "The values above are really good and close to what they should be. Let us now check $\\theta = 5^\\circ, 10^\\circ$, since these are reproduced in the paper as well."
   ]
  },
  {
   "cell_type": "code",
   "execution_count": 25,
   "metadata": {},
   "outputs": [
    {
     "data": {
      "text/plain": [
       "5.000498804220101"
      ]
     },
     "execution_count": 25,
     "metadata": {},
     "output_type": "execute_result"
    }
   ],
   "source": [
    "almost5deg = np.abs(tau_angles * 180/np.pi - 5).argmin()\n",
    "tau_angles.values[almost5deg] * 180/np.pi"
   ]
  },
  {
   "cell_type": "code",
   "execution_count": 26,
   "metadata": {},
   "outputs": [
    {
     "name": "stdout",
     "output_type": "stream",
     "text": [
      "[0.56920949]\n",
      "[0.81574152] [0.81574152] [1.17605235] 0.966289\n"
     ]
    },
    {
     "data": {
      "text/plain": [
       "(array([[-0.20777652],\n",
       "        [-0.97365862]]),\n",
       " 0.9955813279072329,\n",
       " array([-0.97797999]))"
      ]
     },
     "execution_count": 26,
     "metadata": {},
     "output_type": "execute_result"
    }
   ],
   "source": [
    "tau5deg = taus.iloc[almost5deg, :].values\n",
    "s = np.array(\n",
    "    spin_vector2(\n",
    "        vector.array({\"E\": [tau5deg[2]], \"px\": [tau5deg[3]], \"py\": [tau5deg[4]], \"pz\": [tau5deg[5]]}), \n",
    "        nu4m, \n",
    "        nucleon4m, \n",
    "        \"qel\"\n",
    "    )\n",
    ")\n",
    "\n",
    "# The polarization (second term) should be closer to 1 (center center panel, fig 6 in tau polarization paper)\n",
    "# The polarization angle cos(theta_p) (third term) should be slightly above -1 (bottom center panel, fig 6 in tau polarization paper)\n",
    "s, np.linalg.norm(s), s[1] / np.linalg.norm(s)"
   ]
  },
  {
   "cell_type": "code",
   "execution_count": 27,
   "metadata": {},
   "outputs": [
    {
     "name": "stdout",
     "output_type": "stream",
     "text": [
      "[5.47767864]\n",
      "[0.50385128] [0.50385128] [6.40177547] 0.966289\n"
     ]
    },
    {
     "data": {
      "text/plain": [
       "(array([[-0.53390058],\n",
       "        [-0.71210957]]),\n",
       " 0.8900280142518681,\n",
       " array([-0.80009793]))"
      ]
     },
     "execution_count": 27,
     "metadata": {},
     "output_type": "execute_result"
    }
   ],
   "source": [
    "almost10deg = np.abs(tau_angles * 180/np.pi - 10).argmin()\n",
    "tau10deg = taus.iloc[almost10deg, :].values\n",
    "s = np.array(\n",
    "    spin_vector2(\n",
    "        vector.array({\"E\": [tau10deg[2]], \"px\": [tau10deg[3]], \"py\": [tau10deg[4]], \"pz\": [tau10deg[5]]}), \n",
    "        nu4m, \n",
    "        nucleon4m, \n",
    "        \"qel\"\n",
    "    )\n",
    ")\n",
    "\n",
    "# The polarization (second term) should be closer to 1 (center center panel, fig 6 in tau polarization paper)\n",
    "# The polarization angle cos(theta_p) (third term) should be slightly above -1 (bottom center panel, fig 6 in tau polarization paper)\n",
    "s, np.linalg.norm(s), s[1] / np.linalg.norm(s)"
   ]
  },
  {
   "cell_type": "code",
   "execution_count": 28,
   "metadata": {},
   "outputs": [
    {
     "name": "stdout",
     "output_type": "stream",
     "text": [
      "[0.39316318 0.34998314 0.23513376 ... 2.31889019 0.189363   0.27749383]\n"
     ]
    },
    {
     "ename": "ValueError",
     "evalue": "The truth value of an array with more than one element is ambiguous. Use a.any() or a.all()",
     "output_type": "error",
     "traceback": [
      "\u001b[0;31m---------------------------------------------------------------------------\u001b[0m",
      "\u001b[0;31mValueError\u001b[0m                                Traceback (most recent call last)",
      "Cell \u001b[0;32mIn[28], line 1\u001b[0m\n\u001b[0;32m----> 1\u001b[0m s \u001b[38;5;241m=\u001b[39m spin_vector2(\n\u001b[1;32m      2\u001b[0m     vector\u001b[38;5;241m.\u001b[39marray({\u001b[38;5;124m\"\u001b[39m\u001b[38;5;124mE\u001b[39m\u001b[38;5;124m\"\u001b[39m: taus[\u001b[38;5;124m\"\u001b[39m\u001b[38;5;124mE\u001b[39m\u001b[38;5;124m\"\u001b[39m], \u001b[38;5;124m\"\u001b[39m\u001b[38;5;124mpx\u001b[39m\u001b[38;5;124m\"\u001b[39m: taus[\u001b[38;5;124m\"\u001b[39m\u001b[38;5;124mpx\u001b[39m\u001b[38;5;124m\"\u001b[39m], \u001b[38;5;124m\"\u001b[39m\u001b[38;5;124mpy\u001b[39m\u001b[38;5;124m\"\u001b[39m: taus[\u001b[38;5;124m\"\u001b[39m\u001b[38;5;124mpy\u001b[39m\u001b[38;5;124m\"\u001b[39m], \u001b[38;5;124m\"\u001b[39m\u001b[38;5;124mpz\u001b[39m\u001b[38;5;124m\"\u001b[39m: taus[\u001b[38;5;124m\"\u001b[39m\u001b[38;5;124mpz\u001b[39m\u001b[38;5;124m\"\u001b[39m]}), \n\u001b[1;32m      3\u001b[0m     nu4m, \n\u001b[1;32m      4\u001b[0m     nucleon4m, \n\u001b[1;32m      5\u001b[0m     \u001b[38;5;124m\"\u001b[39m\u001b[38;5;124mqel\u001b[39m\u001b[38;5;124m\"\u001b[39m\n\u001b[1;32m      6\u001b[0m )\n\u001b[1;32m      8\u001b[0m \u001b[38;5;66;03m# The polarization (second term) should be closer to 1 (center center panel, fig 6 in tau polarization paper)\u001b[39;00m\n\u001b[1;32m      9\u001b[0m \u001b[38;5;66;03m# The polarization angle cos(theta_p) (third term) should be slightly above -1 (bottom center panel, fig 6 in tau polarization paper)\u001b[39;00m\n\u001b[1;32m     10\u001b[0m s, np\u001b[38;5;241m.\u001b[39mlinalg\u001b[38;5;241m.\u001b[39mnorm(s), s[\u001b[38;5;241m1\u001b[39m] \u001b[38;5;241m/\u001b[39m np\u001b[38;5;241m.\u001b[39mlinalg\u001b[38;5;241m.\u001b[39mnorm(s)\n",
      "Cell \u001b[0;32mIn[15], line 79\u001b[0m, in \u001b[0;36mspin_vector2\u001b[0;34m(tau4m, nu4m, nucleon4m, int_type)\u001b[0m\n\u001b[1;32m     77\u001b[0m Q2 \u001b[38;5;241m=\u001b[39m \u001b[38;5;241m-\u001b[39mq\u001b[38;5;241m*\u001b[39m\u001b[38;5;241m*\u001b[39m\u001b[38;5;241m2\u001b[39m\n\u001b[1;32m     78\u001b[0m \u001b[38;5;28mprint\u001b[39m(p\u001b[38;5;241m.\u001b[39mdot(q))\n\u001b[0;32m---> 79\u001b[0m \u001b[38;5;28;01massert\u001b[39;00m Q2 \u001b[38;5;241m>\u001b[39m \u001b[38;5;241m0\u001b[39m, Q2\n\u001b[1;32m     81\u001b[0m W2 \u001b[38;5;241m=\u001b[39m (p \u001b[38;5;241m+\u001b[39m q)\u001b[38;5;241m*\u001b[39m\u001b[38;5;241m*\u001b[39m\u001b[38;5;241m2\u001b[39m\n\u001b[1;32m     82\u001b[0m \u001b[38;5;28;01massert\u001b[39;00m W2 \u001b[38;5;241m>\u001b[39m \u001b[38;5;241m0\u001b[39m, W2\n",
      "\u001b[0;31mValueError\u001b[0m: The truth value of an array with more than one element is ambiguous. Use a.any() or a.all()"
     ]
    }
   ],
   "source": [
    "s = spin_vector2(\n",
    "    vector.array({\"E\": taus[\"E\"], \"px\": taus[\"px\"], \"py\": taus[\"py\"], \"pz\": taus[\"pz\"]}), \n",
    "    nu4m, \n",
    "    nucleon4m, \n",
    "    \"qel\"\n",
    ")\n",
    "\n",
    "# The polarization (second term) should be closer to 1 (center center panel, fig 6 in tau polarization paper)\n",
    "# The polarization angle cos(theta_p) (third term) should be slightly above -1 (bottom center panel, fig 6 in tau polarization paper)\n",
    "s, np.linalg.norm(s), s[1] / np.linalg.norm(s)"
   ]
  },
  {
   "cell_type": "code",
   "execution_count": 33,
   "metadata": {},
   "outputs": [
    {
     "data": {
      "text/plain": [
       "MomentumNumpy4D([(0.00182877, -0.00117105, 9.72818804, 9.88912213)],\n",
       "                dtype=[('x', '<f8'), ('y', '<f8'), ('z', '<f8'), ('t', '<f8')])"
      ]
     },
     "execution_count": 33,
     "metadata": {},
     "output_type": "execute_result"
    }
   ],
   "source": []
  },
  {
   "cell_type": "code",
   "execution_count": 41,
   "metadata": {},
   "outputs": [
    {
     "data": {
      "text/plain": [
       "(0.0, 2.0)"
      ]
     },
     "execution_count": 41,
     "metadata": {},
     "output_type": "execute_result"
    },
    {
     "data": {
      "image/png": "[encoded data removed]",
      "text/plain": [
       "<Figure size 640x480 with 1 Axes>"
      ]
     },
     "metadata": {},
     "output_type": "display_data"
    }
   ],
   "source": [
    "p = nucleon4m\n",
    "k = nu4m\n",
    "kprime = vector.array({\"E\": taus[\"E\"], \"px\": taus[\"px\"], \"py\": taus[\"py\"], \"pz\": taus[\"pz\"]})\n",
    "\n",
    "q = k - kprime # W boson 4-momentum\n",
    "# I might also pass this as a parameter. Though probably not, since the model assumes that it is a nucleon, not a nucleus.\n",
    "Q2 = -q**2\n",
    "\n",
    "W2 = (p + q)**2\n",
    "plt.hist(W2, bins=300)\n",
    "plt.grid()\n",
    "plt.axvline(0.983, color=\"red\")\n",
    "plt.axvline(14.895082 / 16, color=\"green\")\n",
    "plt.xlim(0, 2)"
   ]
  },
  {
   "cell_type": "code",
   "execution_count": 176,
   "metadata": {},
   "outputs": [],
   "source": [
    "import uproot\n",
    "\n",
    "with uproot.open(\"../data/gntp.2.gst.root\") as f:\n",
    "    tree = f[\"gst\"]\n",
    "    qel = tree[\"qel\"].array()\n",
    "    cc = tree[\"cc\"].array()\n",
    "    mask = qel & cc\n",
    "    taus = {\"E\": tree[\"El\"].array()[mask], \"px\": tree[\"pxl\"].array()[mask], \"py\": tree[\"pyl\"].array()[mask], \"pz\": tree[\"pzl\"].array()[mask]}\n",
    "    Q2 = tree[\"Q2\"].array()[mask]\n",
    "    W = tree[\"W\"].array()[mask]\n",
    "    Ev = tree[\"Ev\"].array()[mask]"
   ]
  },
  {
   "cell_type": "code",
   "execution_count": 177,
   "metadata": {},
   "outputs": [
    {
     "data": {
      "text/html": [
       "<pre>[0,\n",
       " 0,\n",
       " 0,\n",
       " 0,\n",
       " 0,\n",
       " 0,\n",
       " 0,\n",
       " 0,\n",
       " 0,\n",
       " 0,\n",
       " ...,\n",
       " 0,\n",
       " 0,\n",
       " 0,\n",
       " 0,\n",
       " 0,\n",
       " 0,\n",
       " 0,\n",
       " 0,\n",
       " 0]\n",
       "---------------------\n",
       "type: 83403 * float64</pre>"
      ],
      "text/plain": [
       "<Array [0, 0, 0, 0, 0, 0, 0, ..., 0, 0, 0, 0, 0, 0, 0] type='83403 * float64'>"
      ]
     },
     "execution_count": 177,
     "metadata": {},
     "output_type": "execute_result"
    }
   ],
   "source": [
    "(-(\n",
    "    vector.array({\n",
    "        \"E\": np.ones(len(taus[\"E\"])) * Ev[0], \n",
    "        \"px\": np.zeros(len(taus[\"E\"])), \"py\": np.zeros(len(taus[\"E\"])), \n",
    "        \"pz\": np.ones(len(taus[\"E\"])) * Ev[0]})\n",
    "    - vector.array(taus)\n",
    ")**2 - Q2)"
   ]
  },
  {
   "cell_type": "code",
   "execution_count": 173,
   "metadata": {},
   "outputs": [
    {
     "data": {
      "text/html": [
       "<pre>[0.606,\n",
       " 0.9,\n",
       " 0.202,\n",
       " 0.354,\n",
       " 0.609,\n",
       " 1.05,\n",
       " 1.02,\n",
       " 0.24,\n",
       " 0.291,\n",
       " 1.04,\n",
       " ...,\n",
       " 0.337,\n",
       " 0.879,\n",
       " 0.323,\n",
       " 0.28,\n",
       " 1.4,\n",
       " 1.63,\n",
       " 1.26,\n",
       " 0.637,\n",
       " 1.38]\n",
       "---------------------\n",
       "type: 83403 * float64</pre>"
      ],
      "text/plain": [
       "<Array [0.606, 0.9, 0.202, ..., 1.26, 0.637, 1.38] type='83403 * float64'>"
      ]
     },
     "execution_count": 173,
     "metadata": {},
     "output_type": "execute_result"
    }
   ],
   "source": [
    "Q2"
   ]
  },
  {
   "cell_type": "code",
   "execution_count": 147,
   "metadata": {},
   "outputs": [
    {
     "data": {
      "text/plain": [
       "<matplotlib.lines.Line2D at 0x7fb3ef8fb890>"
      ]
     },
     "execution_count": 147,
     "metadata": {},
     "output_type": "execute_result"
    },
    {
     "data": {
      "image/png": "[encoded data removed]",
      "text/plain": [
       "<Figure size 640x480 with 1 Axes>"
      ]
     },
     "metadata": {},
     "output_type": "display_data"
    }
   ],
   "source": [
    "plt.hist(W, bins=100)\n",
    "plt.grid()\n",
    "plt.axvline(0.983, c=\"r\")\n",
    "plt.axvline(14.895082 / 16, c=\"g\")"
   ]
  }
 ],
 "metadata": {
  "kernelspec": {
   "display_name": "cern-skhep",
   "language": "python",
   "name": "python3"
  },
  "language_info": {
   "codemirror_mode": {
    "name": "ipython",
    "version": 3
   },
   "file_extension": ".py",
   "mimetype": "text/x-python",
   "name": "python",
   "nbconvert_exporter": "python",
   "pygments_lexer": "ipython3",
   "version": "3.11.4"
  }
 },
 "nbformat": 4,
 "nbformat_minor": 2
}
