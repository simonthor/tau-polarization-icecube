{
 "cells": [
  {
   "cell_type": "code",
   "execution_count": 3,
   "metadata": {},
   "outputs": [],
   "source": [
    "import numpy as np\n",
    "import matplotlib.pyplot as plt\n",
    "import vector\n",
    "import pandas as pd"
   ]
  },
  {
   "cell_type": "code",
   "execution_count": 56,
   "metadata": {},
   "outputs": [],
   "source": [
    "# Cabbibo angle, from https://en.wikipedia.org/wiki/Cabibbo%E2%80%93Kobayashi%E2%80%93Maskawa_matrix\n",
    "theta_c = 13.02 * np.pi/180 # radians\n",
    "# Tau mass\n",
    "mtau = 1.77682 # GeV\n",
    "#\n",
    "M_V = 0.84 # GeV\n",
    "# difference between muon and electron magnetic moments (I think, see tau polarization paper)\n",
    "xi = 3.706\n",
    "# \n",
    "M_A = 1 # GeV\n",
    "#\n",
    "F_A_0 = -1.23\n",
    "# Pion mass\n",
    "m_pi = 0.139 # GeV\n",
    "\n",
    "def spin_vector(tau4m, nu4m, nucleon4m, int_type: str):\n",
    "    M = nucleon4m.m\n",
    "    ptau = tau4m.p\n",
    "    Etau = tau4m.E\n",
    "    theta = nu4m.deltaangle(tau4m)\n",
    "    costheta = np.cos(theta)\n",
    "    Enu = nu4m.E\n",
    "    p = nucleon4m\n",
    "    k = nu4m\n",
    "    kprime = tau4m\n",
    "    \n",
    "    q = k - kprime # W boson 4-momentum\n",
    "    # I might also pass this as a parameter. Thoug probably not, since the model assumes that it is a nucleon, not a nucleus.\n",
    "    Q2 = q**2 # TODO check that this actually gives a positive scalar.\n",
    "    x = Q2 / (2*-p.dot(q)) # Björken scaling variable\n",
    "\n",
    "    if int_type == \"qel\":\n",
    "        W1 = W1qel(x, Q2, p, q, M)\n",
    "        W2 = W2qel(x, Q2, p, q, M)\n",
    "        W3 = W3qel(x, Q2, p, q, M)\n",
    "        W4 = W4qel(x, Q2, p, q, M)\n",
    "        W5 = W5qel(x, Q2, p, q, M)\n",
    "    else:\n",
    "        raise NotImplementedError(\"Only qel implemented\")\n",
    "    \n",
    "    F = (\n",
    "        (2*W1 + mtau**2 / M**2 * W4) * (Etau - ptau * costheta)\n",
    "        + W2 * (Etau + ptau * costheta)\n",
    "        + W3 / M * (Enu * Etau + ptau**2 - (Enu + Etau) * ptau * costheta)\n",
    "        + mtau**2 / M * W5\n",
    "    )\n",
    "\n",
    "    return (\n",
    "        # sx component, in the tau-nu plane\n",
    "        -mtau*np.sin(theta)/2 *\n",
    "        (2*W1 - W2 + Enu / M * W3 - mtau**2/M**2 * W4 + Etau/M * W5)\n",
    "        / F,\n",
    "        # sz component\n",
    "        -1/2 * (\n",
    "            (2*W1 - mtau**2 / M**2 * W4) * (ptau - Etau * costheta)\n",
    "            + W2 * (ptau + Etau * costheta)\n",
    "            + W3 / M * ((Enu + Etau) * ptau - (Enu * Etau + ptau**2) * costheta)\n",
    "            - mtau**2 / M * W5 * costheta\n",
    "        ) / F\n",
    "    )\n",
    "\n",
    "\n",
    "def w(p, q, M):\n",
    "    return -p.dot(q)/M**2\n",
    "\n",
    "def G_V_E(q):\n",
    "    return 1 / (1+q**2/M_V**2)**2\n",
    "\n",
    "def G_V_M(q):\n",
    "    return (1+xi) / (1+q**2/M_V**2)**2\n",
    "\n",
    "def F_V(q, M):\n",
    "    return (G_V_E(q) + q**2 / (4*M**2) * G_V_M(q)) / (1 + q**2 / (4*M**2))\n",
    "\n",
    "def F_A(q):\n",
    "    return F_A_0 / (1 + q**2 / M_A**2)**2\n",
    "\n",
    "def F_M(q, M):\n",
    "    return (G_V_M(q) - G_V_M(q)) / (xi * (1 + q**2 / (4*M**2)))\n",
    "\n",
    "def F_T(q):\n",
    "    return 0\n",
    "\n",
    "def F_S(q):\n",
    "    return 0\n",
    "\n",
    "def F_p(q, M):\n",
    "    return 2*M**2 * F_A(q) / (m_pi**2 + q**2)\n",
    "\n",
    "def Wqel_coefficient(x, Q2, p, q, M):\n",
    "    # assert np.isclose(x, 1), x  # a delta function here where x must be 1\n",
    "    return np.cos(theta_c)**2 * 1/w(p, q, M) \n",
    "\n",
    "def W1qel(x, Q2, p, q, M):\n",
    "    xprime = Q2 / (4*M**2)\n",
    "    return (\n",
    "        Wqel_coefficient(x, Q2, p, q, M)\n",
    "        * (F_A(q)**2 + xprime * (F_A(q)**2 + (F_V(q, M) + F_M(q, M))**2))\n",
    "    )\n",
    "\n",
    "def omega_2(x, Q2, p, q, M):\n",
    "    xprime = Q2 / (4*M**2)\n",
    "    return F_V(q, M)**2 + F_A(q)**2 + xprime * (F_M(q, M)**2 + 4*F_T(q)**2)\n",
    "\n",
    "def W2qel(x, Q2, p, q, M):\n",
    "    # assert np.isclose(x, 1), x\n",
    "    return (\n",
    "        Wqel_coefficient(x, Q2, p, q, M)\n",
    "        * omega_2(x, Q2, p, q, M)\n",
    "    )\n",
    "\n",
    "def W3qel(x, Q2, p, q, M):\n",
    "    return (\n",
    "        Wqel_coefficient(x, Q2, p, q, M)\n",
    "        * -2 * np.real(np.conj(F_A(q)) * (F_V(q, M) + F_M(q, M)))\n",
    "    )\n",
    "\n",
    "def W4qel(x, Q2, p, q, M):\n",
    "    xprime = Q2 / (4*M**2)\n",
    "    return (\n",
    "        Wqel_coefficient(x, Q2, p, q, M)\n",
    "        # omega_4\n",
    "        * (\n",
    "            np.real(np.conj(F_V(q, M)) * (F_S(q) - 1/2 * F_M(q, M)) - np.conj(F_A(q)) * (F_T(q) + F_p(q, M)))\n",
    "            + xprime * (1/2 * (F_M(q, M) - F_S(q))**2 + (F_T(q) + F_p(q, M))**2)\n",
    "            - 1/4* (1+xprime) * F_M(q, M)**2 + (1+1/2 * xprime) * F_S(q)**2\n",
    "        )\n",
    "    )\n",
    "\n",
    "def W5qel(x, Q2, p, q, M):\n",
    "    xprime = Q2 / (4*M**2)\n",
    "    return (\n",
    "        Wqel_coefficient(x, Q2, p, q, M)\n",
    "        * (\n",
    "            2 * np.real(np.conj(F_S(q)) * (F_V(q, M) - xprime*F_M(q, M)) - np.conj(F_T(q)) * (F_A(q) - 2*xprime*F_p(q, M)))\n",
    "            + omega_2(x, Q2, p, q, M)\n",
    "        )\n",
    "    )\n",
    "\n",
    "# Delta mass\n",
    "M_delta = 1.232 # GeV\n",
    "# Delta width assuming dominance of S-waves\n",
    "Gamma_delta = 0.12 # GeV\n",
    "# Is 2 if the Delta produced is Delta++ (interaction with p), \n",
    "# and 2/3 if the Delta produced is Delta+ (interaction with n). \n",
    "# Maybe take average, since there are equally many n and p in Oxygen?\n",
    "kappa = 2\n",
    "\n",
    "# def W1res(x, Q2, p, q, M):\n",
    "#     return (\n",
    "#         kappa * np.cos(theta_c)**2 * M * M_delta * \n",
    "#         eta_delta_bw(W)**2 * \n",
    "#         sum(\n",
    "#             V_1(x, Q2, j, k) * C_V(x, Q2, j) * C_V(x, Q2, k) \n",
    "#             + A_1(x, Q2, j, k) * C_A(x, Q2, j) * C_A(x, Q2, k) \n",
    "#             for j, k in itertools.product(range(3, 7), repeat=2)\n",
    "#         )\n",
    "#     )"
   ]
  },
  {
   "cell_type": "code",
   "execution_count": 31,
   "metadata": {},
   "outputs": [],
   "source": [
    "particle_info = pd.read_csv(\"../data/test_genie_NuTau_10.0_GeV_particles.csv\")\n",
    "event_info = pd.read_csv(\"../data/test_genie_NuTau_10.0_GeV_event_info.csv\")\n",
    "\n",
    "qel_particles = particle_info[\n",
    "    particle_info[\"event_num\"]\n",
    "    .isin(event_info.loc[event_info[\"qel\"], \"event_num\"].values)\n",
    "]"
   ]
  },
  {
   "cell_type": "code",
   "execution_count": 55,
   "metadata": {},
   "outputs": [],
   "source": [
    "nucleon4m = vector.obj(**{\"E\": 1, \"px\": 0, \"py\": 0, \"pz\": 0})\n",
    "nu4m = vector.obj(**{\"E\": 10, \"px\": 0, \"py\": 0, \"pz\": 10})\n",
    "tau4m = vector.obj(**{\"E\": qel_particles.iloc[2, 2], \"px\": qel_particles.iloc[2, 3], \"py\": qel_particles.iloc[2, 4], \"pz\": qel_particles.iloc[2, 5]})"
   ]
  },
  {
   "cell_type": "code",
   "execution_count": 57,
   "metadata": {},
   "outputs": [
    {
     "data": {
      "text/plain": [
       "(array([-0.08103997, -0.35161256]), 0.36083080347423385)"
      ]
     },
     "execution_count": 57,
     "metadata": {},
     "output_type": "execute_result"
    }
   ],
   "source": [
    "s = np.array(spin_vector(tau4m, nu4m, nucleon4m, \"qel\"))\n",
    "s, np.linalg.norm(s)"
   ]
  },
  {
   "cell_type": "code",
   "execution_count": 58,
   "metadata": {},
   "outputs": [
    {
     "data": {
      "text/plain": [
       "(-10.0, 10.0)"
      ]
     },
     "execution_count": 58,
     "metadata": {},
     "output_type": "execute_result"
    },
    {
     "data": {
      "image/png": "[encoded data removed]",
      "text/plain": [
       "<Figure size 640x480 with 1 Axes>"
      ]
     },
     "metadata": {},
     "output_type": "display_data"
    }
   ],
   "source": [
    "# Plot the two arrows in the pz-pt plave\n",
    "plt.quiver(0, 0, nu4m.pz, nu4m.pt, angles='xy', scale_units='xy', scale=1, color=\"r\")\n",
    "plt.quiver(0, 0, tau4m.pz, tau4m.pt, angles='xy', scale_units='xy', scale=1, color=\"b\")\n",
    "plt.xlim(-10, 10)\n",
    "plt.ylim(-10, 10)"
   ]
  }
 ],
 "metadata": {
  "kernelspec": {
   "display_name": "cern-skhep",
   "language": "python",
   "name": "python3"
  },
  "language_info": {
   "codemirror_mode": {
    "name": "ipython",
    "version": 3
   },
   "file_extension": ".py",
   "mimetype": "text/x-python",
   "name": "python",
   "nbconvert_exporter": "python",
   "pygments_lexer": "ipython3",
   "version": "3.11.4"
  }
 },
 "nbformat": 4,
 "nbformat_minor": 2
}
