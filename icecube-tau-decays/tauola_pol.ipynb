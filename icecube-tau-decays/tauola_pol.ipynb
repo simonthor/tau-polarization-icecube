{
 "cells": [
  {
   "cell_type": "markdown",
   "metadata": {},
   "source": [
    "# Compare tau decay distributions between polarized and unpolarized Tauola"
   ]
  },
  {
   "cell_type": "code",
   "execution_count": 1,
   "metadata": {},
   "outputs": [],
   "source": [
    "import pandas as pd\n",
    "import numpy as np\n",
    "import matplotlib.pyplot as plt\n",
    "import pyhepmc\n",
    "from collections import Counter"
   ]
  },
  {
   "cell_type": "code",
   "execution_count": 3,
   "metadata": {},
   "outputs": [
    {
     "name": "stdout",
     "output_type": "stream",
     "text": [
      "0\n",
      "0\n",
      "10000\n",
      "20000\n",
      "30000\n",
      "40000\n",
      "50000\n",
      "60000\n",
      "70000\n"
     ]
    }
   ],
   "source": [
    "def load_hepmc(filename: str) -> pd.DataFrame:\n",
    "    particles = []\n",
    "    with pyhepmc.open(filename, \"r\") as f:\n",
    "        # Iterate over all events\n",
    "        for i, evt in enumerate(f):\n",
    "            incoming_particles = []\n",
    "            outgoing_particles = []\n",
    "            # Find the tau and identify its daughter tau neutrino\n",
    "            for vertex in evt.vertices:\n",
    "                event_number = evt.event_number\n",
    "                # Check if there is a tau neutrino as incoming particle. Then store all incoming particles and the outgoing tau\n",
    "                if any(np.abs(p.pid) == 16 for p in vertex.particles_in):\n",
    "                    for mother in sorted(vertex.particles_in, key=lambda x: x.pid, reverse=True):\n",
    "                        outgoing_particles.append([event_number, mother.pid, mother.momentum.e, mother.momentum.px, mother.momentum.py, mother.momentum.pz])\n",
    "                    for dauther in vertex.particles_out:\n",
    "                        if np.abs(dauther.pid) == 15:\n",
    "                            outgoing_particles.append([event_number, dauther.pid, dauther.momentum.e, dauther.momentum.px, dauther.momentum.py, dauther.momentum.pz])\n",
    "                    continue\n",
    "\n",
    "                # Find the final state decay particles\n",
    "                for daughter in vertex.particles_out:\n",
    "                    # If it is not a final state particle, skip it\n",
    "                    if daughter.status != 1:\n",
    "                        continue\n",
    "\n",
    "                    outgoing_particles.append(\n",
    "                        [\n",
    "                            event_number,\n",
    "                            daughter.pid,\n",
    "                            daughter.momentum.e,\n",
    "                            daughter.momentum.px,\n",
    "                            daughter.momentum.py,\n",
    "                            daughter.momentum.pz\n",
    "                        ]\n",
    "                    )\n",
    "            particles.extend(incoming_particles)\n",
    "            particles.extend(outgoing_particles)\n",
    "\n",
    "            if i % 10_000 == 0:\n",
    "                print(i)\n",
    "\n",
    "    return pd.DataFrame(particles, columns=['event_num', 'pdg', 'E', 'px', 'py', 'pz'])\n",
    "\n",
    "decay_products = load_hepmc(\"tauola_output_manualpol.dat\")\n",
    "decay_products_nopol = load_hepmc(\"tauola_output_nopol.dat\")\n",
    "# If you want to save the DataFrame to a file, run this line\n",
    "# decay_products.to_csv(\"tauola_decays.csv\", index=False)\n",
    "# decay_products_nopol.to_csv(\"tauola_decays_nopol.csv\", index=False)\n"
   ]
  },
  {
   "cell_type": "code",
   "execution_count": 4,
   "metadata": {},
   "outputs": [],
   "source": [
    "limit = 10.\n",
    "event_nums = decay_products.groupby('event_num').filter(lambda df: df.iloc[1, 2] < limit)[\"event_num\"].unique()"
   ]
  },
  {
   "cell_type": "code",
   "execution_count": 5,
   "metadata": {},
   "outputs": [],
   "source": [
    "def get_particle_property(decay_products: pd.DataFrame, pdg: int, prop: str) -> tuple[pd.Series, pd.Series]:\n",
    "    nutau_e = decay_products.query(\"pdg == 16\")[\"px\"]\n",
    "    anti_nutau_e = decay_products.query(\"pdg == -16\")[\"px\"]\n",
    "    return nutau_e, anti_nutau_e\n",
    "\n",
    "\n",
    "def compare_histos(nutau, anti_nutau, nutau_nopol, anti_nutau_nopol, bins, **kwargs):\n",
    "    fig, axs = plt.subplots(figsize=(10, 4), nrows=1, ncols=2, layout=\"constrained\")\n",
    "\n",
    "    for ax, label, lists, in zip(axs, (\"Neutrino\", \"Anti-neutrino\"), ((nutau, nutau_nopol), (anti_nutau, anti_nutau_nopol))):\n",
    "        for energies, particle_type in zip(lists, (\"Polarized\", \"unpolarized\")):\n",
    "            ax.hist(energies, bins=bins, label=f\"{label} {particle_type}\", alpha=0.5)\n",
    "            # ax.set_title(f\"{label} {particle_type}\")\n",
    "            \n",
    "    for ax in axs.flat:\n",
    "        ax.set(**kwargs, ylabel=\"Number of neutrinos\")\n",
    "        ax.grid(True, alpha=0.5)\n",
    "        ax.legend(fontsize=\"large\")\n",
    "\n",
    "    return fig, axs"
   ]
  },
  {
   "cell_type": "code",
   "execution_count": 6,
   "metadata": {},
   "outputs": [
    {
     "data": {
      "text/plain": [
       "(<Figure size 1000x400 with 2 Axes>,\n",
       " array([<Axes: xlabel='px [GeV]', ylabel='Number of neutrinos'>,\n",
       "        <Axes: xlabel='px [GeV]', ylabel='Number of neutrinos'>],\n",
       "       dtype=object))"
      ]
     },
     "execution_count": 6,
     "metadata": {},
     "output_type": "execute_result"
    },
    {
     "data": {
      "image/png": "[encoded data removed]",
      "text/plain": [
       "<Figure size 1000x400 with 2 Axes>"
      ]
     },
     "metadata": {},
     "output_type": "display_data"
    }
   ],
   "source": [
    "nutau, anti_nutau = get_particle_property(decay_products.query(\"event_num.isin(@event_nums)\"), 16, \"px\")\n",
    "nutau_nopol, anti_nutau_nopol = get_particle_property(decay_products_nopol.query(\"event_num.isin(@event_nums)\"), 16, \"px\")\n",
    "\n",
    "compare_histos(nutau, anti_nutau, nutau_nopol, anti_nutau_nopol, bins=np.linspace(-limit, limit, 100), xlabel=\"px [GeV]\")"
   ]
  },
  {
   "cell_type": "markdown",
   "metadata": {},
   "source": [
    "## Pion momentum fraction\n",
    "See Fig. 2 in the DUNE paper"
   ]
  },
  {
   "cell_type": "code",
   "execution_count": 24,
   "metadata": {},
   "outputs": [],
   "source": [
    "# Only select events that decay to a pion and a neutrino (211 and 16)\n",
    "pion_neutrino_events = (\n",
    "    decay_products\n",
    "    .groupby(\"event_num\")\n",
    "    .filter(\n",
    "        lambda df: \n",
    "        (df[\"pdg\"] == -211).any()       # There must be a pi-\n",
    "        # and (df[\"pdg\"] == 16).any()     # There must be a tau neutrino in the decays\n",
    "        and (df.shape[0] == 5)          # There must be 5 particles in the event (2 incoming, 1 tau-, 2 outgoing)\n",
    "        and 5 < df.iloc[1, 2] < 10.          # The incoming tau neutrino must have an energy less than 10 GeV\n",
    "    )[\"event_num\"]\n",
    "    .unique()\n",
    ")\n",
    "\n",
    "pion_neutrino_events_nopol = (\n",
    "    decay_products_nopol\n",
    "    .groupby(\"event_num\")\n",
    "    .filter(\n",
    "        lambda df: \n",
    "        (df[\"pdg\"] == -211).any()       # There must be a pi-\n",
    "        # and (df[\"pdg\"] == 16).any()     # There must be a tau neutrino in the decays\n",
    "        and (df.shape[0] == 5)          # There must be 5 particles in the event (2 incoming, 1 tau-, 2 outgoing)\n",
    "        and 5 < df.iloc[1, 2] < 10.          # The incoming tau neutrino must have an energy less than 10 GeV\n",
    "    )[\"event_num\"]\n",
    "    .unique()\n",
    ")"
   ]
  },
  {
   "cell_type": "code",
   "execution_count": 10,
   "metadata": {},
   "outputs": [],
   "source": [
    "def pion_momentum_fraction(decay_products, pion_neutrino_events):\n",
    "    # Calculate the momentum fraction of the pion (row 3-4) relative to the tau (row 2)\n",
    "    pion_momentum = (\n",
    "        decay_products\n",
    "        .query(\"event_num.isin(@pion_neutrino_events) and pdg.abs() == 211\")\n",
    "        .loc[:, \"px\":\"pz\"]\n",
    "        .pow(2)\n",
    "        .sum(axis=1)\n",
    "    )\n",
    "    tau_momentum = (\n",
    "        decay_products\n",
    "        .query(\"event_num.isin(@pion_neutrino_events) and pdg.abs() == 15\")\n",
    "        .loc[:, \"px\":\"pz\"]\n",
    "        .pow(2)\n",
    "        .sum(axis=1)\n",
    "    )\n",
    "    return pion_momentum.values / tau_momentum.values\n"
   ]
  },
  {
   "cell_type": "code",
   "execution_count": 26,
   "metadata": {},
   "outputs": [
    {
     "data": {
      "image/png": "[encoded data removed]",
      "text/plain": [
       "<Figure size 640x480 with 1 Axes>"
      ]
     },
     "metadata": {},
     "output_type": "display_data"
    }
   ],
   "source": [
    "# Plot the momentum fraction as a histogram from 0 to 1\n",
    "fig, ax = plt.subplots()\n",
    "ax.hist(pion_momentum_fraction(decay_products, pion_neutrino_events), bins=np.linspace(0, 1, 100), alpha=0.5, label=\"Polarized\", fill=False, histtype=\"step\", density=True)\n",
    "ax.hist(pion_momentum_fraction(decay_products_nopol, pion_neutrino_events_nopol), bins=np.linspace(0, 1, 100), alpha=0.5, label=\"Unpolarized\", fill=False, histtype=\"step\", density=True)\n",
    "ax.set(xlim=(0, 1), xlabel=\"Pion momentum fraction\", ylabel=\"Number density\")\n",
    "ax.grid(True, alpha=0.5)"
   ]
  },
  {
   "cell_type": "markdown",
   "metadata": {},
   "source": [
    "When manually imposing a tau polarization, we do indeed see a difference in distribution. So Tauola is not completely useless at least. However, I need the polarization vector for every tau lepton or else I cannot get any meaningful results."
   ]
  },
  {
   "cell_type": "markdown",
   "metadata": {},
   "source": [
    "## Polarization from GENIE"
   ]
  },
  {
   "cell_type": "code",
   "execution_count": 7,
   "metadata": {},
   "outputs": [
    {
     "name": "stdout",
     "output_type": "stream",
     "text": [
      "0\n"
     ]
    }
   ],
   "source": [
    "decay_products = load_hepmc(\"tauola_genie_output.dat\")"
   ]
  },
  {
   "cell_type": "code",
   "execution_count": 8,
   "metadata": {},
   "outputs": [
    {
     "data": {
      "text/html": [
       "<div>\n",
       "<style scoped>\n",
       "    .dataframe tbody tr th:only-of-type {\n",
       "        vertical-align: middle;\n",
       "    }\n",
       "\n",
       "    .dataframe tbody tr th {\n",
       "        vertical-align: top;\n",
       "    }\n",
       "\n",
       "    .dataframe thead th {\n",
       "        text-align: right;\n",
       "    }\n",
       "</style>\n",
       "<table border=\"1\" class=\"dataframe\">\n",
       "  <thead>\n",
       "    <tr style=\"text-align: right;\">\n",
       "      <th></th>\n",
       "      <th>event_num</th>\n",
       "      <th>pdg</th>\n",
       "      <th>E</th>\n",
       "      <th>px</th>\n",
       "      <th>py</th>\n",
       "      <th>pz</th>\n",
       "    </tr>\n",
       "  </thead>\n",
       "  <tbody>\n",
       "    <tr>\n",
       "      <th>0</th>\n",
       "      <td>2</td>\n",
       "      <td>1000080160</td>\n",
       "      <td>14.895100</td>\n",
       "      <td>0.000000</td>\n",
       "      <td>0.000000</td>\n",
       "      <td>0.000000</td>\n",
       "    </tr>\n",
       "    <tr>\n",
       "      <th>1</th>\n",
       "      <td>2</td>\n",
       "      <td>16</td>\n",
       "      <td>10.000000</td>\n",
       "      <td>0.000000</td>\n",
       "      <td>0.000000</td>\n",
       "      <td>10.000000</td>\n",
       "    </tr>\n",
       "    <tr>\n",
       "      <th>2</th>\n",
       "      <td>2</td>\n",
       "      <td>15</td>\n",
       "      <td>9.045490</td>\n",
       "      <td>-0.663836</td>\n",
       "      <td>-0.398303</td>\n",
       "      <td>8.835400</td>\n",
       "    </tr>\n",
       "    <tr>\n",
       "      <th>3</th>\n",
       "      <td>2</td>\n",
       "      <td>16</td>\n",
       "      <td>2.583507</td>\n",
       "      <td>0.254307</td>\n",
       "      <td>-0.774369</td>\n",
       "      <td>2.451548</td>\n",
       "    </tr>\n",
       "    <tr>\n",
       "      <th>4</th>\n",
       "      <td>2</td>\n",
       "      <td>-211</td>\n",
       "      <td>6.462637</td>\n",
       "      <td>-0.918191</td>\n",
       "      <td>0.376037</td>\n",
       "      <td>6.384490</td>\n",
       "    </tr>\n",
       "    <tr>\n",
       "      <th>...</th>\n",
       "      <td>...</td>\n",
       "      <td>...</td>\n",
       "      <td>...</td>\n",
       "      <td>...</td>\n",
       "      <td>...</td>\n",
       "      <td>...</td>\n",
       "    </tr>\n",
       "    <tr>\n",
       "      <th>2832</th>\n",
       "      <td>999</td>\n",
       "      <td>16</td>\n",
       "      <td>10.000000</td>\n",
       "      <td>0.000000</td>\n",
       "      <td>0.000000</td>\n",
       "      <td>10.000000</td>\n",
       "    </tr>\n",
       "    <tr>\n",
       "      <th>2833</th>\n",
       "      <td>999</td>\n",
       "      <td>15</td>\n",
       "      <td>5.556500</td>\n",
       "      <td>0.372291</td>\n",
       "      <td>0.243827</td>\n",
       "      <td>5.245890</td>\n",
       "    </tr>\n",
       "    <tr>\n",
       "      <th>2834</th>\n",
       "      <td>999</td>\n",
       "      <td>16</td>\n",
       "      <td>2.795785</td>\n",
       "      <td>0.714986</td>\n",
       "      <td>0.638260</td>\n",
       "      <td>2.626353</td>\n",
       "    </tr>\n",
       "    <tr>\n",
       "      <th>2835</th>\n",
       "      <td>999</td>\n",
       "      <td>-211</td>\n",
       "      <td>0.975619</td>\n",
       "      <td>0.027076</td>\n",
       "      <td>0.123807</td>\n",
       "      <td>0.957232</td>\n",
       "    </tr>\n",
       "    <tr>\n",
       "      <th>2836</th>\n",
       "      <td>999</td>\n",
       "      <td>111</td>\n",
       "      <td>1.785492</td>\n",
       "      <td>-0.369745</td>\n",
       "      <td>-0.518222</td>\n",
       "      <td>1.662679</td>\n",
       "    </tr>\n",
       "  </tbody>\n",
       "</table>\n",
       "<p>2837 rows × 6 columns</p>\n",
       "</div>"
      ],
      "text/plain": [
       "      event_num         pdg          E        px        py         pz\n",
       "0             2  1000080160  14.895100  0.000000  0.000000   0.000000\n",
       "1             2          16  10.000000  0.000000  0.000000  10.000000\n",
       "2             2          15   9.045490 -0.663836 -0.398303   8.835400\n",
       "3             2          16   2.583507  0.254307 -0.774369   2.451548\n",
       "4             2        -211   6.462637 -0.918191  0.376037   6.384490\n",
       "...         ...         ...        ...       ...       ...        ...\n",
       "2832        999          16  10.000000  0.000000  0.000000  10.000000\n",
       "2833        999          15   5.556500  0.372291  0.243827   5.245890\n",
       "2834        999          16   2.795785  0.714986  0.638260   2.626353\n",
       "2835        999        -211   0.975619  0.027076  0.123807   0.957232\n",
       "2836        999         111   1.785492 -0.369745 -0.518222   1.662679\n",
       "\n",
       "[2837 rows x 6 columns]"
      ]
     },
     "execution_count": 8,
     "metadata": {},
     "output_type": "execute_result"
    }
   ],
   "source": [
    "decay_products"
   ]
  },
  {
   "cell_type": "code",
   "execution_count": 15,
   "metadata": {},
   "outputs": [],
   "source": [
    "pion_neutrino_events = (\n",
    "    decay_products\n",
    "    .groupby(\"event_num\")\n",
    "    .filter(\n",
    "        lambda df: \n",
    "        (df[\"pdg\"] == -211).any()       # There must be a pi-\n",
    "        # and (df[\"pdg\"] == 16).any()     # There must be a tau neutrino in the decays\n",
    "        and (df.shape[0] == 5)          # There must be 5 particles in the event (2 incoming, 1 tau-, 2 outgoing)\n",
    "        # and 5 < df.iloc[1, 2] < 10.          # The incoming tau neutrino must have an energy less than 10 GeV\n",
    "    )[\"event_num\"]\n",
    "    .unique()\n",
    ")"
   ]
  },
  {
   "cell_type": "code",
   "execution_count": 19,
   "metadata": {},
   "outputs": [
    {
     "data": {
      "image/png": "[encoded data removed]",
      "text/plain": [
       "<Figure size 640x480 with 1 Axes>"
      ]
     },
     "metadata": {},
     "output_type": "display_data"
    }
   ],
   "source": [
    "# Plot the momentum fraction as a histogram from 0 to 1\n",
    "fig, ax = plt.subplots()\n",
    "ax.hist(pion_momentum_fraction(decay_products, pion_neutrino_events), bins=np.linspace(0, 1, 10), alpha=0.5, label=\"Polarized\", fill=False, histtype=\"step\", density=True)\n",
    "ax.set(xlim=(0, 1), xlabel=\"Pion momentum fraction\", ylabel=\"Number density\")\n",
    "ax.grid(True, alpha=0.5)"
   ]
  }
 ],
 "metadata": {
  "kernelspec": {
   "display_name": "cern-skhep",
   "language": "python",
   "name": "python3"
  },
  "language_info": {
   "codemirror_mode": {
    "name": "ipython",
    "version": 3
   },
   "file_extension": ".py",
   "mimetype": "text/x-python",
   "name": "python",
   "nbconvert_exporter": "python",
   "pygments_lexer": "ipython3",
   "version": "3.11.4"
  }
 },
 "nbformat": 4,
 "nbformat_minor": 2
}
