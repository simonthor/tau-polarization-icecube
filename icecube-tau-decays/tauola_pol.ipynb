{
 "cells": [
  {
   "cell_type": "markdown",
   "metadata": {},
   "source": [
    "# Compare tau decay distributions between polarized and unpolarized Tauola"
   ]
  },
  {
   "cell_type": "code",
   "execution_count": 1,
   "metadata": {},
   "outputs": [],
   "source": [
    "import pandas as pd\n",
    "import numpy as np\n",
    "import matplotlib.pyplot as plt\n",
    "import pyhepmc\n",
    "from collections import Counter"
   ]
  },
  {
   "cell_type": "code",
   "execution_count": 2,
   "metadata": {},
   "outputs": [
    {
     "name": "stdout",
     "output_type": "stream",
     "text": [
      "0\n"
     ]
    }
   ],
   "source": [
    "def load_hepmc(filename: str) -> pd.DataFrame:\n",
    "    particles = []\n",
    "    with pyhepmc.open(filename, \"r\") as f:\n",
    "        # Iterate over all events\n",
    "        for i, evt in enumerate(f):\n",
    "            incoming_particles = []\n",
    "            outgoing_particles = []\n",
    "            # Find the tau and identify its daughter tau neutrino\n",
    "            for vertex in evt.vertices:\n",
    "                event_number = evt.event_number\n",
    "                # Check if there is a tau neutrino as incoming particle. Then store all incoming particles and the outgoing tau\n",
    "                if any(np.abs(p.pid) == 16 for p in vertex.particles_in):\n",
    "                    for mother in sorted(vertex.particles_in, key=lambda x: x.pid, reverse=True):\n",
    "                        outgoing_particles.append([event_number, mother.pid, mother.momentum.e, mother.momentum.px, mother.momentum.py, mother.momentum.pz])\n",
    "                    for dauther in vertex.particles_out:\n",
    "                        if np.abs(dauther.pid) == 15:\n",
    "                            outgoing_particles.append([event_number, dauther.pid, dauther.momentum.e, dauther.momentum.px, dauther.momentum.py, dauther.momentum.pz])\n",
    "                    continue\n",
    "\n",
    "                # Find the final state decay particles\n",
    "                for daughter in vertex.particles_out:\n",
    "                    # If it is not a final state particle, skip it\n",
    "                    if daughter.status != 1:\n",
    "                        continue\n",
    "\n",
    "                    outgoing_particles.append(\n",
    "                        [\n",
    "                            event_number,\n",
    "                            daughter.pid,\n",
    "                            daughter.momentum.e,\n",
    "                            daughter.momentum.px,\n",
    "                            daughter.momentum.py,\n",
    "                            daughter.momentum.pz\n",
    "                        ]\n",
    "                    )\n",
    "            particles.extend(incoming_particles)\n",
    "            particles.extend(outgoing_particles)\n",
    "\n",
    "            if i % 10_000 == 0:\n",
    "                print(i)\n",
    "\n",
    "    return pd.DataFrame(particles, columns=['event_num', 'pdg', 'E', 'px', 'py', 'pz'])\n",
    "\n",
    "decay_products = load_hepmc(\"../data/tauola_output_manualpol.dat\")\n",
    "decay_products = load_hepmc(\"../data/tauola_genie_output.dat\")\n",
    "# If you want to save the DataFrame to a file, run this line\n",
    "decay_products.to_csv(\"../data/tauola_decays.csv\", index=False)\n",
    "decay_products_nopol.to_csv(\"../data/tauola_decays_nopol.csv\", index=False)\n"
   ]
  },
  {
   "cell_type": "code",
   "execution_count": 3,
   "metadata": {},
   "outputs": [],
   "source": [
    "limit = 10.\n",
    "event_nums = decay_products.groupby('event_num').filter(lambda df: df.iloc[1, 2] < limit)[\"event_num\"].unique()"
   ]
  },
  {
   "cell_type": "code",
   "execution_count": 4,
   "metadata": {},
   "outputs": [],
   "source": [
    "def get_particle_property(decay_products: pd.DataFrame, pdg: int, prop: str) -> tuple[pd.Series, pd.Series]:\n",
    "    nutau_e = decay_products.query(\"pdg == 16\")[\"px\"]\n",
    "    anti_nutau_e = decay_products.query(\"pdg == -16\")[\"px\"]\n",
    "    return nutau_e, anti_nutau_e\n",
    "\n",
    "\n",
    "def compare_histos(nutau, anti_nutau, nutau_nopol, anti_nutau_nopol, bins, **kwargs):\n",
    "    fig, axs = plt.subplots(figsize=(10, 4), nrows=1, ncols=2, layout=\"constrained\")\n",
    "\n",
    "    for ax, label, lists, in zip(axs, (\"Neutrino\", \"Anti-neutrino\"), ((nutau, nutau_nopol), (anti_nutau, anti_nutau_nopol))):\n",
    "        for energies, particle_type in zip(lists, (\"Polarized\", \"unpolarized\")):\n",
    "            ax.hist(energies, bins=bins, label=f\"{label} {particle_type}\", alpha=0.5)\n",
    "            # ax.set_title(f\"{label} {particle_type}\")\n",
    "            \n",
    "    for ax in axs.flat:\n",
    "        ax.set(**kwargs, ylabel=\"Number of neutrinos\")\n",
    "        ax.grid(True, alpha=0.5)\n",
    "        ax.legend(fontsize=\"large\")\n",
    "\n",
    "    return fig, axs"
   ]
  },
  {
   "cell_type": "code",
   "execution_count": 6,
   "metadata": {},
   "outputs": [
    {
     "ename": "AttributeError",
     "evalue": "'UnaryOp' object has no attribute 'evaluate'",
     "output_type": "error",
     "traceback": [
      "\u001b[0;31m---------------------------------------------------------------------------\u001b[0m",
      "\u001b[0;31mAttributeError\u001b[0m                            Traceback (most recent call last)",
      "Cell \u001b[0;32mIn[6], line 1\u001b[0m\n\u001b[0;32m----> 1\u001b[0m nutau, anti_nutau \u001b[38;5;241m=\u001b[39m get_particle_property(decay_products\u001b[38;5;241m.\u001b[39mquery(\u001b[38;5;124m\"\u001b[39m\u001b[38;5;124mevent_num.isin(@event_nums)\u001b[39m\u001b[38;5;124m\"\u001b[39m), \u001b[38;5;241m16\u001b[39m, \u001b[38;5;124m\"\u001b[39m\u001b[38;5;124mpx\u001b[39m\u001b[38;5;124m\"\u001b[39m)\n\u001b[1;32m      2\u001b[0m nutau_nopol, anti_nutau_nopol \u001b[38;5;241m=\u001b[39m get_particle_property(decay_products_nopol\u001b[38;5;241m.\u001b[39mquery(\u001b[38;5;124m\"\u001b[39m\u001b[38;5;124mevent_num.isin(@event_nums)\u001b[39m\u001b[38;5;124m\"\u001b[39m), \u001b[38;5;241m16\u001b[39m, \u001b[38;5;124m\"\u001b[39m\u001b[38;5;124mpx\u001b[39m\u001b[38;5;124m\"\u001b[39m)\n\u001b[1;32m      4\u001b[0m compare_histos(nutau, anti_nutau, nutau_nopol, anti_nutau_nopol, bins\u001b[38;5;241m=\u001b[39mnp\u001b[38;5;241m.\u001b[39mlinspace(\u001b[38;5;241m-\u001b[39mlimit, limit, \u001b[38;5;241m100\u001b[39m), xlabel\u001b[38;5;241m=\u001b[39m\u001b[38;5;124m\"\u001b[39m\u001b[38;5;124mpx [GeV]\u001b[39m\u001b[38;5;124m\"\u001b[39m)\n",
      "Cell \u001b[0;32mIn[5], line 3\u001b[0m, in \u001b[0;36mget_particle_property\u001b[0;34m(decay_products, pdg, prop)\u001b[0m\n\u001b[1;32m      1\u001b[0m \u001b[38;5;28;01mdef\u001b[39;00m \u001b[38;5;21mget_particle_property\u001b[39m(decay_products: pd\u001b[38;5;241m.\u001b[39mDataFrame, pdg: \u001b[38;5;28mint\u001b[39m, prop: \u001b[38;5;28mstr\u001b[39m) \u001b[38;5;241m-\u001b[39m\u001b[38;5;241m>\u001b[39m \u001b[38;5;28mtuple\u001b[39m[pd\u001b[38;5;241m.\u001b[39mSeries, pd\u001b[38;5;241m.\u001b[39mSeries]:\n\u001b[1;32m      2\u001b[0m     nutau_e \u001b[38;5;241m=\u001b[39m decay_products\u001b[38;5;241m.\u001b[39mquery(\u001b[38;5;124m\"\u001b[39m\u001b[38;5;124mpdg == 16\u001b[39m\u001b[38;5;124m\"\u001b[39m)[\u001b[38;5;124m\"\u001b[39m\u001b[38;5;124mpx\u001b[39m\u001b[38;5;124m\"\u001b[39m]\n\u001b[0;32m----> 3\u001b[0m     anti_nutau_e \u001b[38;5;241m=\u001b[39m decay_products\u001b[38;5;241m.\u001b[39mquery(\u001b[38;5;124m\"\u001b[39m\u001b[38;5;124mpdg == -16\u001b[39m\u001b[38;5;124m\"\u001b[39m)[\u001b[38;5;124m\"\u001b[39m\u001b[38;5;124mpx\u001b[39m\u001b[38;5;124m\"\u001b[39m]\n\u001b[1;32m      4\u001b[0m     \u001b[38;5;28;01mreturn\u001b[39;00m nutau_e, anti_nutau_e\n",
      "File \u001b[0;32m~/miniconda3/envs/cern-skhep/lib/python3.11/site-packages/pandas/core/frame.py:4599\u001b[0m, in \u001b[0;36mDataFrame.query\u001b[0;34m(self, expr, inplace, **kwargs)\u001b[0m\n\u001b[1;32m   4597\u001b[0m kwargs[\u001b[38;5;124m\"\u001b[39m\u001b[38;5;124mlevel\u001b[39m\u001b[38;5;124m\"\u001b[39m] \u001b[38;5;241m=\u001b[39m kwargs\u001b[38;5;241m.\u001b[39mpop(\u001b[38;5;124m\"\u001b[39m\u001b[38;5;124mlevel\u001b[39m\u001b[38;5;124m\"\u001b[39m, \u001b[38;5;241m0\u001b[39m) \u001b[38;5;241m+\u001b[39m \u001b[38;5;241m1\u001b[39m\n\u001b[1;32m   4598\u001b[0m kwargs[\u001b[38;5;124m\"\u001b[39m\u001b[38;5;124mtarget\u001b[39m\u001b[38;5;124m\"\u001b[39m] \u001b[38;5;241m=\u001b[39m \u001b[38;5;28;01mNone\u001b[39;00m\n\u001b[0;32m-> 4599\u001b[0m res \u001b[38;5;241m=\u001b[39m \u001b[38;5;28mself\u001b[39m\u001b[38;5;241m.\u001b[39meval(expr, \u001b[38;5;241m*\u001b[39m\u001b[38;5;241m*\u001b[39mkwargs)\n\u001b[1;32m   4601\u001b[0m \u001b[38;5;28;01mtry\u001b[39;00m:\n\u001b[1;32m   4602\u001b[0m     result \u001b[38;5;241m=\u001b[39m \u001b[38;5;28mself\u001b[39m\u001b[38;5;241m.\u001b[39mloc[res]\n",
      "File \u001b[0;32m~/miniconda3/envs/cern-skhep/lib/python3.11/site-packages/pandas/core/frame.py:4725\u001b[0m, in \u001b[0;36mDataFrame.eval\u001b[0;34m(self, expr, inplace, **kwargs)\u001b[0m\n\u001b[1;32m   4722\u001b[0m     kwargs[\u001b[38;5;124m\"\u001b[39m\u001b[38;5;124mtarget\u001b[39m\u001b[38;5;124m\"\u001b[39m] \u001b[38;5;241m=\u001b[39m \u001b[38;5;28mself\u001b[39m\n\u001b[1;32m   4723\u001b[0m kwargs[\u001b[38;5;124m\"\u001b[39m\u001b[38;5;124mresolvers\u001b[39m\u001b[38;5;124m\"\u001b[39m] \u001b[38;5;241m=\u001b[39m \u001b[38;5;28mtuple\u001b[39m(kwargs\u001b[38;5;241m.\u001b[39mget(\u001b[38;5;124m\"\u001b[39m\u001b[38;5;124mresolvers\u001b[39m\u001b[38;5;124m\"\u001b[39m, ())) \u001b[38;5;241m+\u001b[39m resolvers\n\u001b[0;32m-> 4725\u001b[0m \u001b[38;5;28;01mreturn\u001b[39;00m _eval(expr, inplace\u001b[38;5;241m=\u001b[39minplace, \u001b[38;5;241m*\u001b[39m\u001b[38;5;241m*\u001b[39mkwargs)\n",
      "File \u001b[0;32m~/miniconda3/envs/cern-skhep/lib/python3.11/site-packages/pandas/core/computation/eval.py:336\u001b[0m, in \u001b[0;36meval\u001b[0;34m(expr, parser, engine, local_dict, global_dict, resolvers, level, target, inplace)\u001b[0m\n\u001b[1;32m    327\u001b[0m \u001b[38;5;66;03m# get our (possibly passed-in) scope\u001b[39;00m\n\u001b[1;32m    328\u001b[0m env \u001b[38;5;241m=\u001b[39m ensure_scope(\n\u001b[1;32m    329\u001b[0m     level \u001b[38;5;241m+\u001b[39m \u001b[38;5;241m1\u001b[39m,\n\u001b[1;32m    330\u001b[0m     global_dict\u001b[38;5;241m=\u001b[39mglobal_dict,\n\u001b[0;32m   (...)\u001b[0m\n\u001b[1;32m    333\u001b[0m     target\u001b[38;5;241m=\u001b[39mtarget,\n\u001b[1;32m    334\u001b[0m )\n\u001b[0;32m--> 336\u001b[0m parsed_expr \u001b[38;5;241m=\u001b[39m Expr(expr, engine\u001b[38;5;241m=\u001b[39mengine, parser\u001b[38;5;241m=\u001b[39mparser, env\u001b[38;5;241m=\u001b[39menv)\n\u001b[1;32m    338\u001b[0m \u001b[38;5;28;01mif\u001b[39;00m engine \u001b[38;5;241m==\u001b[39m \u001b[38;5;124m\"\u001b[39m\u001b[38;5;124mnumexpr\u001b[39m\u001b[38;5;124m\"\u001b[39m \u001b[38;5;129;01mand\u001b[39;00m (\n\u001b[1;32m    339\u001b[0m     is_extension_array_dtype(parsed_expr\u001b[38;5;241m.\u001b[39mterms\u001b[38;5;241m.\u001b[39mreturn_type)\n\u001b[1;32m    340\u001b[0m     \u001b[38;5;129;01mor\u001b[39;00m \u001b[38;5;28mgetattr\u001b[39m(parsed_expr\u001b[38;5;241m.\u001b[39mterms, \u001b[38;5;124m\"\u001b[39m\u001b[38;5;124moperand_types\u001b[39m\u001b[38;5;124m\"\u001b[39m, \u001b[38;5;28;01mNone\u001b[39;00m) \u001b[38;5;129;01mis\u001b[39;00m \u001b[38;5;129;01mnot\u001b[39;00m \u001b[38;5;28;01mNone\u001b[39;00m\n\u001b[0;32m   (...)\u001b[0m\n\u001b[1;32m    344\u001b[0m     )\n\u001b[1;32m    345\u001b[0m ):\n\u001b[1;32m    346\u001b[0m     warnings\u001b[38;5;241m.\u001b[39mwarn(\n\u001b[1;32m    347\u001b[0m         \u001b[38;5;124m\"\u001b[39m\u001b[38;5;124mEngine has switched to \u001b[39m\u001b[38;5;124m'\u001b[39m\u001b[38;5;124mpython\u001b[39m\u001b[38;5;124m'\u001b[39m\u001b[38;5;124m because numexpr does not support \u001b[39m\u001b[38;5;124m\"\u001b[39m\n\u001b[1;32m    348\u001b[0m         \u001b[38;5;124m\"\u001b[39m\u001b[38;5;124mextension array dtypes. Please set your engine to python manually.\u001b[39m\u001b[38;5;124m\"\u001b[39m,\n\u001b[1;32m    349\u001b[0m         \u001b[38;5;167;01mRuntimeWarning\u001b[39;00m,\n\u001b[1;32m    350\u001b[0m         stacklevel\u001b[38;5;241m=\u001b[39mfind_stack_level(),\n\u001b[1;32m    351\u001b[0m     )\n",
      "File \u001b[0;32m~/miniconda3/envs/cern-skhep/lib/python3.11/site-packages/pandas/core/computation/expr.py:808\u001b[0m, in \u001b[0;36mExpr.__init__\u001b[0;34m(self, expr, engine, parser, env, level)\u001b[0m\n\u001b[1;32m    806\u001b[0m \u001b[38;5;28mself\u001b[39m\u001b[38;5;241m.\u001b[39mparser \u001b[38;5;241m=\u001b[39m parser\n\u001b[1;32m    807\u001b[0m \u001b[38;5;28mself\u001b[39m\u001b[38;5;241m.\u001b[39m_visitor \u001b[38;5;241m=\u001b[39m PARSERS[parser](\u001b[38;5;28mself\u001b[39m\u001b[38;5;241m.\u001b[39menv, \u001b[38;5;28mself\u001b[39m\u001b[38;5;241m.\u001b[39mengine, \u001b[38;5;28mself\u001b[39m\u001b[38;5;241m.\u001b[39mparser)\n\u001b[0;32m--> 808\u001b[0m \u001b[38;5;28mself\u001b[39m\u001b[38;5;241m.\u001b[39mterms \u001b[38;5;241m=\u001b[39m \u001b[38;5;28mself\u001b[39m\u001b[38;5;241m.\u001b[39mparse()\n",
      "File \u001b[0;32m~/miniconda3/envs/cern-skhep/lib/python3.11/site-packages/pandas/core/computation/expr.py:827\u001b[0m, in \u001b[0;36mExpr.parse\u001b[0;34m(self)\u001b[0m\n\u001b[1;32m    823\u001b[0m \u001b[38;5;28;01mdef\u001b[39;00m \u001b[38;5;21mparse\u001b[39m(\u001b[38;5;28mself\u001b[39m):\n\u001b[1;32m    824\u001b[0m \u001b[38;5;250m    \u001b[39m\u001b[38;5;124;03m\"\"\"\u001b[39;00m\n\u001b[1;32m    825\u001b[0m \u001b[38;5;124;03m    Parse an expression.\u001b[39;00m\n\u001b[1;32m    826\u001b[0m \u001b[38;5;124;03m    \"\"\"\u001b[39;00m\n\u001b[0;32m--> 827\u001b[0m     \u001b[38;5;28;01mreturn\u001b[39;00m \u001b[38;5;28mself\u001b[39m\u001b[38;5;241m.\u001b[39m_visitor\u001b[38;5;241m.\u001b[39mvisit(\u001b[38;5;28mself\u001b[39m\u001b[38;5;241m.\u001b[39mexpr)\n",
      "File \u001b[0;32m~/miniconda3/envs/cern-skhep/lib/python3.11/site-packages/pandas/core/computation/expr.py:411\u001b[0m, in \u001b[0;36mBaseExprVisitor.visit\u001b[0;34m(self, node, **kwargs)\u001b[0m\n\u001b[1;32m    409\u001b[0m method \u001b[38;5;241m=\u001b[39m \u001b[38;5;124mf\u001b[39m\u001b[38;5;124m\"\u001b[39m\u001b[38;5;124mvisit_\u001b[39m\u001b[38;5;132;01m{\u001b[39;00m\u001b[38;5;28mtype\u001b[39m(node)\u001b[38;5;241m.\u001b[39m\u001b[38;5;18m__name__\u001b[39m\u001b[38;5;132;01m}\u001b[39;00m\u001b[38;5;124m\"\u001b[39m\n\u001b[1;32m    410\u001b[0m visitor \u001b[38;5;241m=\u001b[39m \u001b[38;5;28mgetattr\u001b[39m(\u001b[38;5;28mself\u001b[39m, method)\n\u001b[0;32m--> 411\u001b[0m \u001b[38;5;28;01mreturn\u001b[39;00m visitor(node, \u001b[38;5;241m*\u001b[39m\u001b[38;5;241m*\u001b[39mkwargs)\n",
      "File \u001b[0;32m~/miniconda3/envs/cern-skhep/lib/python3.11/site-packages/pandas/core/computation/expr.py:417\u001b[0m, in \u001b[0;36mBaseExprVisitor.visit_Module\u001b[0;34m(self, node, **kwargs)\u001b[0m\n\u001b[1;32m    415\u001b[0m     \u001b[38;5;28;01mraise\u001b[39;00m \u001b[38;5;167;01mSyntaxError\u001b[39;00m(\u001b[38;5;124m\"\u001b[39m\u001b[38;5;124monly a single expression is allowed\u001b[39m\u001b[38;5;124m\"\u001b[39m)\n\u001b[1;32m    416\u001b[0m expr \u001b[38;5;241m=\u001b[39m node\u001b[38;5;241m.\u001b[39mbody[\u001b[38;5;241m0\u001b[39m]\n\u001b[0;32m--> 417\u001b[0m \u001b[38;5;28;01mreturn\u001b[39;00m \u001b[38;5;28mself\u001b[39m\u001b[38;5;241m.\u001b[39mvisit(expr, \u001b[38;5;241m*\u001b[39m\u001b[38;5;241m*\u001b[39mkwargs)\n",
      "File \u001b[0;32m~/miniconda3/envs/cern-skhep/lib/python3.11/site-packages/pandas/core/computation/expr.py:411\u001b[0m, in \u001b[0;36mBaseExprVisitor.visit\u001b[0;34m(self, node, **kwargs)\u001b[0m\n\u001b[1;32m    409\u001b[0m method \u001b[38;5;241m=\u001b[39m \u001b[38;5;124mf\u001b[39m\u001b[38;5;124m\"\u001b[39m\u001b[38;5;124mvisit_\u001b[39m\u001b[38;5;132;01m{\u001b[39;00m\u001b[38;5;28mtype\u001b[39m(node)\u001b[38;5;241m.\u001b[39m\u001b[38;5;18m__name__\u001b[39m\u001b[38;5;132;01m}\u001b[39;00m\u001b[38;5;124m\"\u001b[39m\n\u001b[1;32m    410\u001b[0m visitor \u001b[38;5;241m=\u001b[39m \u001b[38;5;28mgetattr\u001b[39m(\u001b[38;5;28mself\u001b[39m, method)\n\u001b[0;32m--> 411\u001b[0m \u001b[38;5;28;01mreturn\u001b[39;00m visitor(node, \u001b[38;5;241m*\u001b[39m\u001b[38;5;241m*\u001b[39mkwargs)\n",
      "File \u001b[0;32m~/miniconda3/envs/cern-skhep/lib/python3.11/site-packages/pandas/core/computation/expr.py:420\u001b[0m, in \u001b[0;36mBaseExprVisitor.visit_Expr\u001b[0;34m(self, node, **kwargs)\u001b[0m\n\u001b[1;32m    419\u001b[0m \u001b[38;5;28;01mdef\u001b[39;00m \u001b[38;5;21mvisit_Expr\u001b[39m(\u001b[38;5;28mself\u001b[39m, node, \u001b[38;5;241m*\u001b[39m\u001b[38;5;241m*\u001b[39mkwargs):\n\u001b[0;32m--> 420\u001b[0m     \u001b[38;5;28;01mreturn\u001b[39;00m \u001b[38;5;28mself\u001b[39m\u001b[38;5;241m.\u001b[39mvisit(node\u001b[38;5;241m.\u001b[39mvalue, \u001b[38;5;241m*\u001b[39m\u001b[38;5;241m*\u001b[39mkwargs)\n",
      "File \u001b[0;32m~/miniconda3/envs/cern-skhep/lib/python3.11/site-packages/pandas/core/computation/expr.py:411\u001b[0m, in \u001b[0;36mBaseExprVisitor.visit\u001b[0;34m(self, node, **kwargs)\u001b[0m\n\u001b[1;32m    409\u001b[0m method \u001b[38;5;241m=\u001b[39m \u001b[38;5;124mf\u001b[39m\u001b[38;5;124m\"\u001b[39m\u001b[38;5;124mvisit_\u001b[39m\u001b[38;5;132;01m{\u001b[39;00m\u001b[38;5;28mtype\u001b[39m(node)\u001b[38;5;241m.\u001b[39m\u001b[38;5;18m__name__\u001b[39m\u001b[38;5;132;01m}\u001b[39;00m\u001b[38;5;124m\"\u001b[39m\n\u001b[1;32m    410\u001b[0m visitor \u001b[38;5;241m=\u001b[39m \u001b[38;5;28mgetattr\u001b[39m(\u001b[38;5;28mself\u001b[39m, method)\n\u001b[0;32m--> 411\u001b[0m \u001b[38;5;28;01mreturn\u001b[39;00m visitor(node, \u001b[38;5;241m*\u001b[39m\u001b[38;5;241m*\u001b[39mkwargs)\n",
      "File \u001b[0;32m~/miniconda3/envs/cern-skhep/lib/python3.11/site-packages/pandas/core/computation/expr.py:718\u001b[0m, in \u001b[0;36mBaseExprVisitor.visit_Compare\u001b[0;34m(self, node, **kwargs)\u001b[0m\n\u001b[1;32m    716\u001b[0m     op \u001b[38;5;241m=\u001b[39m \u001b[38;5;28mself\u001b[39m\u001b[38;5;241m.\u001b[39mtranslate_In(ops[\u001b[38;5;241m0\u001b[39m])\n\u001b[1;32m    717\u001b[0m     binop \u001b[38;5;241m=\u001b[39m ast\u001b[38;5;241m.\u001b[39mBinOp(op\u001b[38;5;241m=\u001b[39mop, left\u001b[38;5;241m=\u001b[39mnode\u001b[38;5;241m.\u001b[39mleft, right\u001b[38;5;241m=\u001b[39mcomps[\u001b[38;5;241m0\u001b[39m])\n\u001b[0;32m--> 718\u001b[0m     \u001b[38;5;28;01mreturn\u001b[39;00m \u001b[38;5;28mself\u001b[39m\u001b[38;5;241m.\u001b[39mvisit(binop)\n\u001b[1;32m    720\u001b[0m \u001b[38;5;66;03m# recursive case: we have a chained comparison, a CMP b CMP c, etc.\u001b[39;00m\n\u001b[1;32m    721\u001b[0m left \u001b[38;5;241m=\u001b[39m node\u001b[38;5;241m.\u001b[39mleft\n",
      "File \u001b[0;32m~/miniconda3/envs/cern-skhep/lib/python3.11/site-packages/pandas/core/computation/expr.py:411\u001b[0m, in \u001b[0;36mBaseExprVisitor.visit\u001b[0;34m(self, node, **kwargs)\u001b[0m\n\u001b[1;32m    409\u001b[0m method \u001b[38;5;241m=\u001b[39m \u001b[38;5;124mf\u001b[39m\u001b[38;5;124m\"\u001b[39m\u001b[38;5;124mvisit_\u001b[39m\u001b[38;5;132;01m{\u001b[39;00m\u001b[38;5;28mtype\u001b[39m(node)\u001b[38;5;241m.\u001b[39m\u001b[38;5;18m__name__\u001b[39m\u001b[38;5;132;01m}\u001b[39;00m\u001b[38;5;124m\"\u001b[39m\n\u001b[1;32m    410\u001b[0m visitor \u001b[38;5;241m=\u001b[39m \u001b[38;5;28mgetattr\u001b[39m(\u001b[38;5;28mself\u001b[39m, method)\n\u001b[0;32m--> 411\u001b[0m \u001b[38;5;28;01mreturn\u001b[39;00m visitor(node, \u001b[38;5;241m*\u001b[39m\u001b[38;5;241m*\u001b[39mkwargs)\n",
      "File \u001b[0;32m~/miniconda3/envs/cern-skhep/lib/python3.11/site-packages/pandas/core/computation/expr.py:533\u001b[0m, in \u001b[0;36mBaseExprVisitor.visit_BinOp\u001b[0;34m(self, node, **kwargs)\u001b[0m\n\u001b[1;32m    531\u001b[0m op, op_class, left, right \u001b[38;5;241m=\u001b[39m \u001b[38;5;28mself\u001b[39m\u001b[38;5;241m.\u001b[39m_maybe_transform_eq_ne(node)\n\u001b[1;32m    532\u001b[0m left, right \u001b[38;5;241m=\u001b[39m \u001b[38;5;28mself\u001b[39m\u001b[38;5;241m.\u001b[39m_maybe_downcast_constants(left, right)\n\u001b[0;32m--> 533\u001b[0m \u001b[38;5;28;01mreturn\u001b[39;00m \u001b[38;5;28mself\u001b[39m\u001b[38;5;241m.\u001b[39m_maybe_evaluate_binop(op, op_class, left, right)\n",
      "File \u001b[0;32m~/miniconda3/envs/cern-skhep/lib/python3.11/site-packages/pandas/core/computation/expr.py:527\u001b[0m, in \u001b[0;36mBaseExprVisitor._maybe_evaluate_binop\u001b[0;34m(self, op, op_class, lhs, rhs, eval_in_python, maybe_eval_in_python)\u001b[0m\n\u001b[1;32m    520\u001b[0m \u001b[38;5;28;01melif\u001b[39;00m \u001b[38;5;28mself\u001b[39m\u001b[38;5;241m.\u001b[39mengine \u001b[38;5;241m!=\u001b[39m \u001b[38;5;124m\"\u001b[39m\u001b[38;5;124mpytables\u001b[39m\u001b[38;5;124m\"\u001b[39m:\n\u001b[1;32m    521\u001b[0m     \u001b[38;5;28;01mif\u001b[39;00m (\n\u001b[1;32m    522\u001b[0m         \u001b[38;5;28mgetattr\u001b[39m(lhs, \u001b[38;5;124m\"\u001b[39m\u001b[38;5;124mreturn_type\u001b[39m\u001b[38;5;124m\"\u001b[39m, \u001b[38;5;28;01mNone\u001b[39;00m) \u001b[38;5;241m==\u001b[39m \u001b[38;5;28mobject\u001b[39m\n\u001b[1;32m    523\u001b[0m         \u001b[38;5;129;01mor\u001b[39;00m \u001b[38;5;28mgetattr\u001b[39m(rhs, \u001b[38;5;124m\"\u001b[39m\u001b[38;5;124mreturn_type\u001b[39m\u001b[38;5;124m\"\u001b[39m, \u001b[38;5;28;01mNone\u001b[39;00m) \u001b[38;5;241m==\u001b[39m \u001b[38;5;28mobject\u001b[39m\n\u001b[1;32m    524\u001b[0m     ):\n\u001b[1;32m    525\u001b[0m         \u001b[38;5;66;03m# evaluate \"==\" and \"!=\" in python if either of our operands\u001b[39;00m\n\u001b[1;32m    526\u001b[0m         \u001b[38;5;66;03m# has an object return type\u001b[39;00m\n\u001b[0;32m--> 527\u001b[0m         \u001b[38;5;28;01mreturn\u001b[39;00m \u001b[38;5;28mself\u001b[39m\u001b[38;5;241m.\u001b[39m_maybe_eval(res, eval_in_python \u001b[38;5;241m+\u001b[39m maybe_eval_in_python)\n\u001b[1;32m    528\u001b[0m \u001b[38;5;28;01mreturn\u001b[39;00m res\n",
      "File \u001b[0;32m~/miniconda3/envs/cern-skhep/lib/python3.11/site-packages/pandas/core/computation/expr.py:487\u001b[0m, in \u001b[0;36mBaseExprVisitor._maybe_eval\u001b[0;34m(self, binop, eval_in_python)\u001b[0m\n\u001b[1;32m    480\u001b[0m \u001b[38;5;28;01mdef\u001b[39;00m \u001b[38;5;21m_maybe_eval\u001b[39m(\u001b[38;5;28mself\u001b[39m, binop, eval_in_python):\n\u001b[1;32m    481\u001b[0m     \u001b[38;5;66;03m# eval `in` and `not in` (for now) in \"partial\" python space\u001b[39;00m\n\u001b[1;32m    482\u001b[0m     \u001b[38;5;66;03m# things that can be evaluated in \"eval\" space will be turned into\u001b[39;00m\n\u001b[0;32m   (...)\u001b[0m\n\u001b[1;32m    485\u001b[0m     \u001b[38;5;66;03m# in that case a + 2 * b will be evaluated using numexpr, and the \"in\"\u001b[39;00m\n\u001b[1;32m    486\u001b[0m     \u001b[38;5;66;03m# call will be evaluated using isin (in python space)\u001b[39;00m\n\u001b[0;32m--> 487\u001b[0m     \u001b[38;5;28;01mreturn\u001b[39;00m binop\u001b[38;5;241m.\u001b[39mevaluate(\n\u001b[1;32m    488\u001b[0m         \u001b[38;5;28mself\u001b[39m\u001b[38;5;241m.\u001b[39menv, \u001b[38;5;28mself\u001b[39m\u001b[38;5;241m.\u001b[39mengine, \u001b[38;5;28mself\u001b[39m\u001b[38;5;241m.\u001b[39mparser, \u001b[38;5;28mself\u001b[39m\u001b[38;5;241m.\u001b[39mterm_type, eval_in_python\n\u001b[1;32m    489\u001b[0m     )\n",
      "File \u001b[0;32m~/miniconda3/envs/cern-skhep/lib/python3.11/site-packages/pandas/core/computation/ops.py:442\u001b[0m, in \u001b[0;36mBinOp.evaluate\u001b[0;34m(self, env, engine, parser, term_type, eval_in_python)\u001b[0m\n\u001b[1;32m    431\u001b[0m \u001b[38;5;28;01melse\u001b[39;00m:\n\u001b[1;32m    432\u001b[0m     \u001b[38;5;66;03m# recurse over the left/right nodes\u001b[39;00m\n\u001b[1;32m    434\u001b[0m     left \u001b[38;5;241m=\u001b[39m \u001b[38;5;28mself\u001b[39m\u001b[38;5;241m.\u001b[39mlhs\u001b[38;5;241m.\u001b[39mevaluate(\n\u001b[1;32m    435\u001b[0m         env,\n\u001b[1;32m    436\u001b[0m         engine\u001b[38;5;241m=\u001b[39mengine,\n\u001b[0;32m   (...)\u001b[0m\n\u001b[1;32m    439\u001b[0m         eval_in_python\u001b[38;5;241m=\u001b[39meval_in_python,\n\u001b[1;32m    440\u001b[0m     )\n\u001b[0;32m--> 442\u001b[0m     right \u001b[38;5;241m=\u001b[39m \u001b[38;5;28mself\u001b[39m\u001b[38;5;241m.\u001b[39mrhs\u001b[38;5;241m.\u001b[39mevaluate(\n\u001b[1;32m    443\u001b[0m         env,\n\u001b[1;32m    444\u001b[0m         engine\u001b[38;5;241m=\u001b[39mengine,\n\u001b[1;32m    445\u001b[0m         parser\u001b[38;5;241m=\u001b[39mparser,\n\u001b[1;32m    446\u001b[0m         term_type\u001b[38;5;241m=\u001b[39mterm_type,\n\u001b[1;32m    447\u001b[0m         eval_in_python\u001b[38;5;241m=\u001b[39meval_in_python,\n\u001b[1;32m    448\u001b[0m     )\n\u001b[1;32m    450\u001b[0m     \u001b[38;5;66;03m# base cases\u001b[39;00m\n\u001b[1;32m    451\u001b[0m     \u001b[38;5;28;01mif\u001b[39;00m \u001b[38;5;28mself\u001b[39m\u001b[38;5;241m.\u001b[39mop \u001b[38;5;129;01min\u001b[39;00m eval_in_python:\n",
      "\u001b[0;31mAttributeError\u001b[0m: 'UnaryOp' object has no attribute 'evaluate'"
     ]
    }
   ],
   "source": [
    "nutau, anti_nutau = get_particle_property(decay_products.query(\"event_num.isin(@event_nums)\"), 16, \"px\")\n",
    "nutau_nopol, anti_nutau_nopol = get_particle_property(decay_products_nopol.query(\"event_num.isin(@event_nums)\"), 16, \"px\")\n",
    "\n",
    "compare_histos(nutau, anti_nutau, nutau_nopol, anti_nutau_nopol, bins=np.linspace(-limit, limit, 100), xlabel=\"px [GeV]\")"
   ]
  },
  {
   "cell_type": "markdown",
   "metadata": {},
   "source": [
    "## Pion momentum fraction\n",
    "See Fig. 2 in the DUNE paper"
   ]
  },
  {
   "cell_type": "code",
   "execution_count": 8,
   "metadata": {},
   "outputs": [],
   "source": [
    "# Only select events that decay to a pion and a neutrino (211 and 16)\n",
    "pion_neutrino_events = (\n",
    "    decay_products\n",
    "    .groupby(\"event_num\")\n",
    "    .filter(\n",
    "        lambda df: \n",
    "        (df[\"pdg\"] == -211).any()       # There must be a pi-\n",
    "        # and (df[\"pdg\"] == 16).any()     # There must be a tau neutrino in the decays\n",
    "        and (df.shape[0] == 5)          # There must be 5 particles in the event (2 incoming, 1 tau-, 2 outgoing)\n",
    "        # and 5 < df.iloc[1, 2] < 10.          # The incoming tau neutrino must have an energy less than 10 GeV\n",
    "    )[\"event_num\"]\n",
    "    .unique()\n",
    ")\n",
    "\n",
    "# pion_neutrino_events_nopol = (\n",
    "#     decay_products_nopol\n",
    "#     .groupby(\"event_num\")\n",
    "#     .filter(\n",
    "#         lambda df: \n",
    "#         (df[\"pdg\"] == -211).any()       # There must be a pi-\n",
    "#         # and (df[\"pdg\"] == 16).any()     # There must be a tau neutrino in the decays\n",
    "#         and (df.shape[0] == 5)          # There must be 5 particles in the event (2 incoming, 1 tau-, 2 outgoing)\n",
    "#         and 5 < df.iloc[1, 2] < 10.          # The incoming tau neutrino must have an energy less than 10 GeV\n",
    "#     )[\"event_num\"]\n",
    "#     .unique()\n",
    "# )"
   ]
  },
  {
   "cell_type": "code",
   "execution_count": 9,
   "metadata": {},
   "outputs": [],
   "source": [
    "def pion_momentum_fraction(decay_products, pion_neutrino_events):\n",
    "    # Calculate the momentum fraction of the pion (row 3-4) relative to the tau (row 2)\n",
    "    pion_momentum = (\n",
    "        decay_products\n",
    "        .query(\"event_num.isin(@pion_neutrino_events) and pdg.abs() == 211\")\n",
    "        .loc[:, \"px\":\"pz\"]\n",
    "        .pow(2)\n",
    "        .sum(axis=1)\n",
    "    )\n",
    "    tau_momentum = (\n",
    "        decay_products\n",
    "        .query(\"event_num.isin(@pion_neutrino_events) and pdg.abs() == 15\")\n",
    "        .loc[:, \"px\":\"pz\"]\n",
    "        .pow(2)\n",
    "        .sum(axis=1)\n",
    "    )\n",
    "    return pion_momentum.values / tau_momentum.values\n"
   ]
  },
  {
   "cell_type": "code",
   "execution_count": 10,
   "metadata": {},
   "outputs": [
    {
     "data": {
      "image/png": "[encoded data removed]",
      "text/plain": [
       "<Figure size 640x480 with 1 Axes>"
      ]
     },
     "metadata": {},
     "output_type": "display_data"
    }
   ],
   "source": [
    "# Plot the momentum fraction as a histogram from 0 to 1\n",
    "fig, ax = plt.subplots()\n",
    "ax.hist(pion_momentum_fraction(decay_products, pion_neutrino_events), bins=np.linspace(0, 1, 100), alpha=0.5, label=\"Polarized\", fill=False, histtype=\"step\", density=True)\n",
    "# ax.hist(pion_momentum_fraction(decay_products_nopol, pion_neutrino_events_nopol), bins=np.linspace(0, 1, 100), alpha=0.5, label=\"Unpolarized\", fill=False, histtype=\"step\", density=True)\n",
    "ax.set(xlim=(0, 1), xlabel=\"Pion momentum fraction\", ylabel=\"Number density\")\n",
    "ax.grid(True, alpha=0.5)"
   ]
  },
  {
   "cell_type": "markdown",
   "metadata": {},
   "source": [
    "When manually imposing a tau polarization, we do indeed see a difference in distribution. So Tauola is not completely useless at least. However, I need the polarization vector for every tau lepton or else I cannot get any meaningful results."
   ]
  },
  {
   "cell_type": "markdown",
   "metadata": {},
   "source": [
    "## Polarization from GENIE"
   ]
  },
  {
   "cell_type": "code",
   "execution_count": 14,
   "metadata": {},
   "outputs": [
    {
     "name": "stdout",
     "output_type": "stream",
     "text": [
      "0\n",
      "10000\n"
     ]
    }
   ],
   "source": [
    "decay_products = load_hepmc(\"../data/tauola_output_genie.dat\")"
   ]
  },
  {
   "cell_type": "code",
   "execution_count": 15,
   "metadata": {},
   "outputs": [
    {
     "data": {
      "text/html": [
       "<div>\n",
       "<style scoped>\n",
       "    .dataframe tbody tr th:only-of-type {\n",
       "        vertical-align: middle;\n",
       "    }\n",
       "\n",
       "    .dataframe tbody tr th {\n",
       "        vertical-align: top;\n",
       "    }\n",
       "\n",
       "    .dataframe thead th {\n",
       "        text-align: right;\n",
       "    }\n",
       "</style>\n",
       "<table border=\"1\" class=\"dataframe\">\n",
       "  <thead>\n",
       "    <tr style=\"text-align: right;\">\n",
       "      <th></th>\n",
       "      <th>event_num</th>\n",
       "      <th>pdg</th>\n",
       "      <th>E</th>\n",
       "      <th>px</th>\n",
       "      <th>py</th>\n",
       "      <th>pz</th>\n",
       "    </tr>\n",
       "  </thead>\n",
       "  <tbody>\n",
       "    <tr>\n",
       "      <th>0</th>\n",
       "      <td>7</td>\n",
       "      <td>1000080160</td>\n",
       "      <td>14.895100</td>\n",
       "      <td>0.000000</td>\n",
       "      <td>0.000000</td>\n",
       "      <td>0.000000</td>\n",
       "    </tr>\n",
       "    <tr>\n",
       "      <th>1</th>\n",
       "      <td>7</td>\n",
       "      <td>16</td>\n",
       "      <td>10.000000</td>\n",
       "      <td>0.000000</td>\n",
       "      <td>0.000000</td>\n",
       "      <td>10.000000</td>\n",
       "    </tr>\n",
       "    <tr>\n",
       "      <th>2</th>\n",
       "      <td>7</td>\n",
       "      <td>15</td>\n",
       "      <td>9.093550</td>\n",
       "      <td>-0.775883</td>\n",
       "      <td>-0.073440</td>\n",
       "      <td>8.884150</td>\n",
       "    </tr>\n",
       "    <tr>\n",
       "      <th>3</th>\n",
       "      <td>7</td>\n",
       "      <td>16</td>\n",
       "      <td>2.596879</td>\n",
       "      <td>0.222781</td>\n",
       "      <td>-0.683829</td>\n",
       "      <td>2.495281</td>\n",
       "    </tr>\n",
       "    <tr>\n",
       "      <th>4</th>\n",
       "      <td>7</td>\n",
       "      <td>-211</td>\n",
       "      <td>6.497516</td>\n",
       "      <td>-0.998736</td>\n",
       "      <td>0.610382</td>\n",
       "      <td>6.389694</td>\n",
       "    </tr>\n",
       "    <tr>\n",
       "      <th>...</th>\n",
       "      <td>...</td>\n",
       "      <td>...</td>\n",
       "      <td>...</td>\n",
       "      <td>...</td>\n",
       "      <td>...</td>\n",
       "      <td>...</td>\n",
       "    </tr>\n",
       "    <tr>\n",
       "      <th>105978</th>\n",
       "      <td>49997</td>\n",
       "      <td>16</td>\n",
       "      <td>10.000000</td>\n",
       "      <td>0.000000</td>\n",
       "      <td>0.000000</td>\n",
       "      <td>10.000000</td>\n",
       "    </tr>\n",
       "    <tr>\n",
       "      <th>105979</th>\n",
       "      <td>49997</td>\n",
       "      <td>15</td>\n",
       "      <td>6.572090</td>\n",
       "      <td>0.525395</td>\n",
       "      <td>0.413061</td>\n",
       "      <td>6.291940</td>\n",
       "    </tr>\n",
       "    <tr>\n",
       "      <th>105980</th>\n",
       "      <td>49997</td>\n",
       "      <td>16</td>\n",
       "      <td>0.700960</td>\n",
       "      <td>0.100764</td>\n",
       "      <td>0.446541</td>\n",
       "      <td>0.530747</td>\n",
       "    </tr>\n",
       "    <tr>\n",
       "      <th>105981</th>\n",
       "      <td>49997</td>\n",
       "      <td>13</td>\n",
       "      <td>2.340637</td>\n",
       "      <td>-0.054566</td>\n",
       "      <td>-0.467526</td>\n",
       "      <td>2.290384</td>\n",
       "    </tr>\n",
       "    <tr>\n",
       "      <th>105982</th>\n",
       "      <td>49997</td>\n",
       "      <td>-14</td>\n",
       "      <td>3.531045</td>\n",
       "      <td>0.479241</td>\n",
       "      <td>0.434081</td>\n",
       "      <td>3.471337</td>\n",
       "    </tr>\n",
       "  </tbody>\n",
       "</table>\n",
       "<p>105983 rows × 6 columns</p>\n",
       "</div>"
      ],
      "text/plain": [
       "        event_num         pdg          E        px        py         pz\n",
       "0               7  1000080160  14.895100  0.000000  0.000000   0.000000\n",
       "1               7          16  10.000000  0.000000  0.000000  10.000000\n",
       "2               7          15   9.093550 -0.775883 -0.073440   8.884150\n",
       "3               7          16   2.596879  0.222781 -0.683829   2.495281\n",
       "4               7        -211   6.497516 -0.998736  0.610382   6.389694\n",
       "...           ...         ...        ...       ...       ...        ...\n",
       "105978      49997          16  10.000000  0.000000  0.000000  10.000000\n",
       "105979      49997          15   6.572090  0.525395  0.413061   6.291940\n",
       "105980      49997          16   0.700960  0.100764  0.446541   0.530747\n",
       "105981      49997          13   2.340637 -0.054566 -0.467526   2.290384\n",
       "105982      49997         -14   3.531045  0.479241  0.434081   3.471337\n",
       "\n",
       "[105983 rows x 6 columns]"
      ]
     },
     "execution_count": 15,
     "metadata": {},
     "output_type": "execute_result"
    }
   ],
   "source": [
    "decay_products"
   ]
  },
  {
   "cell_type": "code",
   "execution_count": 16,
   "metadata": {},
   "outputs": [],
   "source": [
    "pion_neutrino_events = (\n",
    "    decay_products\n",
    "    .groupby(\"event_num\")\n",
    "    .filter(\n",
    "        lambda df: \n",
    "        (df[\"pdg\"] == -211).any()       # There must be a pi-\n",
    "        # and (df[\"pdg\"] == 16).any()     # There must be a tau neutrino in the decays\n",
    "        and (df.shape[0] == 5)          # There must be 5 particles in the event (2 incoming, 1 tau-, 2 outgoing)\n",
    "        # and 5 < df.iloc[1, 2] < 10.          # The incoming tau neutrino must have an energy less than 10 GeV\n",
    "    )[\"event_num\"]\n",
    "    .unique()\n",
    ")"
   ]
  },
  {
   "cell_type": "code",
   "execution_count": 19,
   "metadata": {},
   "outputs": [
    {
     "data": {
      "image/png": "[encoded data removed]",
      "text/plain": [
       "<Figure size 640x480 with 1 Axes>"
      ]
     },
     "metadata": {},
     "output_type": "display_data"
    }
   ],
   "source": [
    "# Plot the momentum fraction as a histogram from 0 to 1\n",
    "fig, ax = plt.subplots()\n",
    "ax.hist(pion_momentum_fraction(decay_products, pion_neutrino_events), bins=np.linspace(0, 1, 20), alpha=0.5, label=\"Polarized\", fill=False, histtype=\"step\", density=True)\n",
    "ax.set(xlim=(0, 1), xlabel=\"Pion momentum fraction\", ylabel=\"Number density\")\n",
    "ax.grid(True, alpha=0.5)"
   ]
  }
 ],
 "metadata": {
  "kernelspec": {
   "display_name": "cern-skhep",
   "language": "python",
   "name": "python3"
  },
  "language_info": {
   "codemirror_mode": {
    "name": "ipython",
    "version": 3
   },
   "file_extension": ".py",
   "mimetype": "text/x-python",
   "name": "python",
   "nbconvert_exporter": "python",
   "pygments_lexer": "ipython3",
   "version": "3.11.4"
  }
 },
 "nbformat": 4,
 "nbformat_minor": 2
}
