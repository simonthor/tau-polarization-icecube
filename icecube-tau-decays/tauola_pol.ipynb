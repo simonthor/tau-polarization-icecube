{
 "cells": [
  {
   "cell_type": "markdown",
   "metadata": {},
   "source": [
    "# Compare tau decay distributions between polarized and unpolarized Tauola"
   ]
  },
  {
   "cell_type": "code",
   "execution_count": 4,
   "metadata": {},
   "outputs": [],
   "source": [
    "import pandas as pd\n",
    "import numpy as np\n",
    "import matplotlib.pyplot as plt\n",
    "import pyhepmc\n",
    "from collections import Counter"
   ]
  },
  {
   "cell_type": "code",
   "execution_count": 55,
   "metadata": {},
   "outputs": [
    {
     "name": "stdout",
     "output_type": "stream",
     "text": [
      "0\n",
      "0\n"
     ]
    }
   ],
   "source": [
    "def load_hepmc(filename: str) -> pd.DataFrame:\n",
    "    particles = []\n",
    "    with pyhepmc.open(filename, \"r\") as f:\n",
    "        # Iterate over all events\n",
    "        for i, evt in enumerate(f):\n",
    "            incoming_particles = []\n",
    "            outgoing_particles = []\n",
    "            # Find the tau and identify its daughter tau neutrino\n",
    "            for vertex in evt.vertices:\n",
    "                event_number = evt.event_number\n",
    "                # Check if there is a tau neutrino as incoming particle. Then store all incoming particles and the outgoing tau\n",
    "                if any(np.abs(p.pid) == 16 for p in vertex.particles_in):\n",
    "                    for mother in sorted(vertex.particles_in, key=lambda x: x.pid, reverse=True):\n",
    "                        outgoing_particles.append([event_number, mother.pid, mother.momentum.e, mother.momentum.px, mother.momentum.py, mother.momentum.pz])\n",
    "                    for dauther in vertex.particles_out:\n",
    "                        if np.abs(dauther.pid) == 15:\n",
    "                            outgoing_particles.append([event_number, dauther.pid, dauther.momentum.e, dauther.momentum.px, dauther.momentum.py, dauther.momentum.pz])\n",
    "                    continue\n",
    "\n",
    "                # Find the final state decay particles\n",
    "                for daughter in vertex.particles_out:\n",
    "                    # If it is not a final state particle, skip it\n",
    "                    if daughter.status != 1:\n",
    "                        continue\n",
    "\n",
    "                    outgoing_particles.append(\n",
    "                        [\n",
    "                            event_number,\n",
    "                            daughter.pid,\n",
    "                            daughter.momentum.e,\n",
    "                            daughter.momentum.px,\n",
    "                            daughter.momentum.py,\n",
    "                            daughter.momentum.pz\n",
    "                        ]\n",
    "                    )\n",
    "            particles.extend(incoming_particles)\n",
    "            particles.extend(outgoing_particles)\n",
    "\n",
    "            if i % 10_000 == 0:\n",
    "                print(i)\n",
    "\n",
    "    return pd.DataFrame(particles, columns=['event_num', 'pdg', 'E', 'px', 'py', 'pz'])\n",
    "\n",
    "decay_products = load_hepmc(\"../data/tauola_output_genie_e5.dat\")\n",
    "decay_products_nopol = load_hepmc(\"../data/tauola_output_genie_nopol_e5.dat\")\n",
    "# If you want to save the DataFrame to a file, run these line\n",
    "# decay_products.to_csv(\"../data/tauola_decays.csv\", index=False)\n",
    "# decay_products_nopol.to_csv(\"../data/tauola_decays_nopol.csv\", index=False)"
   ]
  },
  {
   "cell_type": "code",
   "execution_count": 56,
   "metadata": {},
   "outputs": [
    {
     "data": {
      "text/html": [
       "<div>\n",
       "<style scoped>\n",
       "    .dataframe tbody tr th:only-of-type {\n",
       "        vertical-align: middle;\n",
       "    }\n",
       "\n",
       "    .dataframe tbody tr th {\n",
       "        vertical-align: top;\n",
       "    }\n",
       "\n",
       "    .dataframe thead th {\n",
       "        text-align: right;\n",
       "    }\n",
       "</style>\n",
       "<table border=\"1\" class=\"dataframe\">\n",
       "  <thead>\n",
       "    <tr style=\"text-align: right;\">\n",
       "      <th></th>\n",
       "      <th>event_num</th>\n",
       "      <th>pdg</th>\n",
       "      <th>E</th>\n",
       "      <th>px</th>\n",
       "      <th>py</th>\n",
       "      <th>pz</th>\n",
       "    </tr>\n",
       "  </thead>\n",
       "  <tbody>\n",
       "    <tr>\n",
       "      <th>0</th>\n",
       "      <td>4</td>\n",
       "      <td>1000080160</td>\n",
       "      <td>14.895100</td>\n",
       "      <td>0.000000</td>\n",
       "      <td>0.000000</td>\n",
       "      <td>0.000000</td>\n",
       "    </tr>\n",
       "    <tr>\n",
       "      <th>1</th>\n",
       "      <td>4</td>\n",
       "      <td>16</td>\n",
       "      <td>5.000000</td>\n",
       "      <td>0.000000</td>\n",
       "      <td>0.000000</td>\n",
       "      <td>5.000000</td>\n",
       "    </tr>\n",
       "    <tr>\n",
       "      <th>2</th>\n",
       "      <td>4</td>\n",
       "      <td>15</td>\n",
       "      <td>3.674610</td>\n",
       "      <td>-0.000156</td>\n",
       "      <td>-0.074013</td>\n",
       "      <td>3.215590</td>\n",
       "    </tr>\n",
       "    <tr>\n",
       "      <th>3</th>\n",
       "      <td>4</td>\n",
       "      <td>16</td>\n",
       "      <td>1.132845</td>\n",
       "      <td>0.439469</td>\n",
       "      <td>-0.681560</td>\n",
       "      <td>0.790937</td>\n",
       "    </tr>\n",
       "    <tr>\n",
       "      <th>4</th>\n",
       "      <td>4</td>\n",
       "      <td>-211</td>\n",
       "      <td>2.542037</td>\n",
       "      <td>-0.439625</td>\n",
       "      <td>0.607542</td>\n",
       "      <td>2.424891</td>\n",
       "    </tr>\n",
       "    <tr>\n",
       "      <th>...</th>\n",
       "      <td>...</td>\n",
       "      <td>...</td>\n",
       "      <td>...</td>\n",
       "      <td>...</td>\n",
       "      <td>...</td>\n",
       "      <td>...</td>\n",
       "    </tr>\n",
       "    <tr>\n",
       "      <th>33727</th>\n",
       "      <td>99995</td>\n",
       "      <td>15</td>\n",
       "      <td>4.181980</td>\n",
       "      <td>-0.397872</td>\n",
       "      <td>0.128750</td>\n",
       "      <td>3.762560</td>\n",
       "    </tr>\n",
       "    <tr>\n",
       "      <th>33728</th>\n",
       "      <td>99995</td>\n",
       "      <td>16</td>\n",
       "      <td>2.105461</td>\n",
       "      <td>-0.547017</td>\n",
       "      <td>-0.051665</td>\n",
       "      <td>2.032479</td>\n",
       "    </tr>\n",
       "    <tr>\n",
       "      <th>33729</th>\n",
       "      <td>99995</td>\n",
       "      <td>111</td>\n",
       "      <td>0.340267</td>\n",
       "      <td>0.022112</td>\n",
       "      <td>0.123341</td>\n",
       "      <td>0.286120</td>\n",
       "    </tr>\n",
       "    <tr>\n",
       "      <th>33730</th>\n",
       "      <td>99995</td>\n",
       "      <td>111</td>\n",
       "      <td>1.393434</td>\n",
       "      <td>0.190467</td>\n",
       "      <td>0.342201</td>\n",
       "      <td>1.330437</td>\n",
       "    </tr>\n",
       "    <tr>\n",
       "      <th>33731</th>\n",
       "      <td>99995</td>\n",
       "      <td>-211</td>\n",
       "      <td>0.343155</td>\n",
       "      <td>-0.063466</td>\n",
       "      <td>-0.285117</td>\n",
       "      <td>0.113827</td>\n",
       "    </tr>\n",
       "  </tbody>\n",
       "</table>\n",
       "<p>33732 rows × 6 columns</p>\n",
       "</div>"
      ],
      "text/plain": [
       "       event_num         pdg          E        px        py        pz\n",
       "0              4  1000080160  14.895100  0.000000  0.000000  0.000000\n",
       "1              4          16   5.000000  0.000000  0.000000  5.000000\n",
       "2              4          15   3.674610 -0.000156 -0.074013  3.215590\n",
       "3              4          16   1.132845  0.439469 -0.681560  0.790937\n",
       "4              4        -211   2.542037 -0.439625  0.607542  2.424891\n",
       "...          ...         ...        ...       ...       ...       ...\n",
       "33727      99995          15   4.181980 -0.397872  0.128750  3.762560\n",
       "33728      99995          16   2.105461 -0.547017 -0.051665  2.032479\n",
       "33729      99995         111   0.340267  0.022112  0.123341  0.286120\n",
       "33730      99995         111   1.393434  0.190467  0.342201  1.330437\n",
       "33731      99995        -211   0.343155 -0.063466 -0.285117  0.113827\n",
       "\n",
       "[33732 rows x 6 columns]"
      ]
     },
     "execution_count": 56,
     "metadata": {},
     "output_type": "execute_result"
    }
   ],
   "source": [
    "decay_products"
   ]
  },
  {
   "cell_type": "code",
   "execution_count": 57,
   "metadata": {},
   "outputs": [],
   "source": [
    "def get_particle_property(decay_products: pd.DataFrame, pdg: int, prop: str) -> tuple[pd.Series, pd.Series]:\n",
    "    nutau_e = decay_products.groupby(\"event_num\").nth[3:].query(\"pdg == 16\")[prop]\n",
    "    anti_nutau_e = decay_products.groupby(\"event_num\").nth[3:].query(\"pdg == -16\")[prop]\n",
    "    return nutau_e, anti_nutau_e\n",
    "\n",
    "\n",
    "def compare_histos(nutau, anti_nutau, nutau_nopol, anti_nutau_nopol, bins, **kwargs):\n",
    "    fig, axs = plt.subplots(figsize=(10, 4), nrows=1, ncols=2, layout=\"constrained\")\n",
    "\n",
    "    for ax, label, lists, in zip(axs, (\"Neutrino\", \"Anti-neutrino\"), ((nutau, nutau_nopol), (anti_nutau, anti_nutau_nopol))):\n",
    "        for energies, particle_type in zip(lists, (\"polarized\", \"unpolarized\")):\n",
    "            ax.hist(energies, bins=bins, label=f\"{label} {particle_type}\", alpha=0.5)\n",
    "            # ax.set_title(f\"{label} {particle_type}\")\n",
    "            \n",
    "    for ax in axs.flat:\n",
    "        ax.set(**kwargs, ylabel=\"Number of neutrinos\")\n",
    "        ax.grid(True, alpha=0.5)\n",
    "        ax.legend(fontsize=\"large\")\n",
    "\n",
    "    return fig, axs"
   ]
  },
  {
   "cell_type": "code",
   "execution_count": 58,
   "metadata": {},
   "outputs": [
    {
     "data": {
      "text/plain": [
       "(<Figure size 1000x400 with 2 Axes>,\n",
       " array([<Axes: xlabel='E [GeV]', ylabel='Number of neutrinos'>,\n",
       "        <Axes: xlabel='E [GeV]', ylabel='Number of neutrinos'>],\n",
       "       dtype=object))"
      ]
     },
     "execution_count": 58,
     "metadata": {},
     "output_type": "execute_result"
    },
    {
     "data": {
      "image/png": "[encoded data removed]",
      "text/plain": [
       "<Figure size 1000x400 with 2 Axes>"
      ]
     },
     "metadata": {},
     "output_type": "display_data"
    }
   ],
   "source": [
    "nutau, anti_nutau = get_particle_property(decay_products, 16, \"E\")\n",
    "nutau_nopol, anti_nutau_nopol = get_particle_property(decay_products_nopol, 16, \"E\")\n",
    "\n",
    "compare_histos(nutau, anti_nutau, nutau_nopol, anti_nutau_nopol, bins=np.linspace(0, 5, 100), xlabel=\"E [GeV]\")"
   ]
  },
  {
   "cell_type": "markdown",
   "metadata": {},
   "source": [
    "## Pion momentum fraction\n",
    "See Fig. 2 in the DUNE paper"
   ]
  },
  {
   "cell_type": "code",
   "execution_count": 59,
   "metadata": {},
   "outputs": [],
   "source": [
    "def is_pion_nutau_event(event: pd.DataFrame) -> bool:\n",
    "    return (event[\"pdg\"] == -211).any() and (event[\"pdg\"] == 16).any() and (event.shape[0] == 5)\n",
    "\n",
    "# Only select events that decay to a pion and a neutrino (211 and 16)\n",
    "pion_neutrino_events = (\n",
    "    decay_products\n",
    "    .groupby(\"event_num\")\n",
    "    .filter(is_pion_nutau_event)\n",
    ")\n",
    "\n",
    "pion_neutrino_events_nopol = (\n",
    "    decay_products_nopol\n",
    "    .groupby(\"event_num\")\n",
    "    .filter(is_pion_nutau_event)\n",
    ")"
   ]
  },
  {
   "cell_type": "code",
   "execution_count": 60,
   "metadata": {},
   "outputs": [],
   "source": [
    "def pion_momentum_fraction(decay_products):\n",
    "    # Calculate the momentum fraction of the pion (row 3-4) relative to the tau (row 2)\n",
    "    pion_momentum = (\n",
    "        decay_products\n",
    "        .query(\"pdg.abs() == 211\")\n",
    "        .loc[:, \"px\":\"pz\"]\n",
    "        .pow(2)\n",
    "        .sum(axis=1)\n",
    "    )\n",
    "\n",
    "    tau_momentum = (\n",
    "        decay_products\n",
    "        .query(\"pdg.abs() == 15\")\n",
    "        .loc[:, \"px\":\"pz\"]\n",
    "        .pow(2)\n",
    "        .sum(axis=1)\n",
    "    )\n",
    "    return pion_momentum.values / tau_momentum.values\n"
   ]
  },
  {
   "cell_type": "code",
   "execution_count": 69,
   "metadata": {},
   "outputs": [
    {
     "data": {
      "text/plain": [
       "<matplotlib.legend.Legend at 0x7f096a1ef3d0>"
      ]
     },
     "execution_count": 69,
     "metadata": {},
     "output_type": "execute_result"
    },
    {
     "data": {
      "image/png": "[encoded data removed]",
      "text/plain": [
       "<Figure size 640x480 with 1 Axes>"
      ]
     },
     "metadata": {},
     "output_type": "display_data"
    }
   ],
   "source": [
    "# Plot the momentum fraction as a histogram from 0 to 1\n",
    "fig, ax = plt.subplots()\n",
    "ax.hist(pion_momentum_fraction(pion_neutrino_events), bins=np.linspace(0, 1, 20), label=\"Polarized\", alpha=0.5, density=True)\n",
    "ax.hist(pion_momentum_fraction(pion_neutrino_events_nopol), bins=np.linspace(0, 1, 20), label=\"Unpolarized\", alpha=0.5, density=True)\n",
    "ax.set(xlim=(0, 1), xlabel=\"Pion momentum fraction\", ylabel=\"Number density\")\n",
    "ax.grid(True, alpha=0.5)\n",
    "ax.legend()"
   ]
  },
  {
   "cell_type": "markdown",
   "metadata": {},
   "source": [
    "We see a clear difference between the real polarization given by GENIE and the unpolarized decay by Tauola. \n",
    "This is good, as the Geant4 decays should have a similar distribution to the Tauola unpolarized decays, which means that the decay distributions should be different between the IceCube simulations and when using Tauola + polarization."
   ]
  }
 ],
 "metadata": {
  "kernelspec": {
   "display_name": "cern-skhep",
   "language": "python",
   "name": "python3"
  },
  "language_info": {
   "codemirror_mode": {
    "name": "ipython",
    "version": 3
   },
   "file_extension": ".py",
   "mimetype": "text/x-python",
   "name": "python",
   "nbconvert_exporter": "python",
   "pygments_lexer": "ipython3",
   "version": "3.11.4"
  }
 },
 "nbformat": 4,
 "nbformat_minor": 2
}
