{
 "cells": [
  {
   "cell_type": "markdown",
   "metadata": {},
   "source": [
    "# Compare tau decay distributions between Tauola and GENIE+Geant4 simulations"
   ]
  },
  {
   "cell_type": "code",
   "execution_count": 1,
   "metadata": {},
   "outputs": [],
   "source": [
    "import pandas as pd\n",
    "import numpy as np\n",
    "import matplotlib.pyplot as plt\n",
    "import sys\n",
    "sys.path.append(\"../\")\n",
    "from utils import load_hepmc, branching_ratios \n",
    "from collections import Counter\n",
    "import numba"
   ]
  },
  {
   "cell_type": "markdown",
   "metadata": {},
   "source": [
    "## Load decays"
   ]
  },
  {
   "cell_type": "code",
   "execution_count": 110,
   "metadata": {},
   "outputs": [
    {
     "name": "stdout",
     "output_type": "stream",
     "text": [
      "0\n",
      "10000\n",
      "20000\n",
      "30000\n",
      "40000\n",
      "50000\n",
      "60000\n",
      "70000\n",
      "80000\n",
      "90000\n",
      "100000\n",
      "110000\n",
      "120000\n",
      "130000\n",
      "140000\n",
      "150000\n"
     ]
    }
   ],
   "source": [
    "genie_nutau_energy = 5 # GeV\n",
    "\n",
    "# decay_products = load_hepmc(f\"../data/tauola_output_genie_e{genie_nutau_energy}.dat\").groupby(\"event_num\").nth[3:].sort_values(\"event_num\")\n",
    "decay_products_nopol = load_hepmc(f\"../data/tauola_output_genie_nopol_e{genie_nutau_energy}.dat\")#.groupby(\"event_num\").nth[3:].sort_values(\"event_num\")\n",
    "decay_products_g4 = pd.read_csv(f\"../data/geant4_output_e{genie_nutau_energy}.csv\").sort_values(\"event_num\")"
   ]
  },
  {
   "cell_type": "code",
   "execution_count": 111,
   "metadata": {},
   "outputs": [],
   "source": [
    "decay_products_g4 = pd.read_csv(f\"../data/geant4_output_e{genie_nutau_energy}.csv\").sort_values(\"event_num\")"
   ]
  },
  {
   "cell_type": "code",
   "execution_count": 3,
   "metadata": {},
   "outputs": [
    {
     "data": {
      "text/html": [
       "<div>\n",
       "<style scoped>\n",
       "    .dataframe tbody tr th:only-of-type {\n",
       "        vertical-align: middle;\n",
       "    }\n",
       "\n",
       "    .dataframe tbody tr th {\n",
       "        vertical-align: top;\n",
       "    }\n",
       "\n",
       "    .dataframe thead th {\n",
       "        text-align: right;\n",
       "    }\n",
       "</style>\n",
       "<table border=\"1\" class=\"dataframe\">\n",
       "  <thead>\n",
       "    <tr style=\"text-align: right;\">\n",
       "      <th></th>\n",
       "      <th>event_num</th>\n",
       "      <th>pdg</th>\n",
       "      <th>E</th>\n",
       "      <th>px</th>\n",
       "      <th>py</th>\n",
       "      <th>pz</th>\n",
       "    </tr>\n",
       "  </thead>\n",
       "  <tbody>\n",
       "    <tr>\n",
       "      <th>3</th>\n",
       "      <td>7</td>\n",
       "      <td>16</td>\n",
       "      <td>2.596879</td>\n",
       "      <td>0.222781</td>\n",
       "      <td>-0.683829</td>\n",
       "      <td>2.495281</td>\n",
       "    </tr>\n",
       "    <tr>\n",
       "      <th>4</th>\n",
       "      <td>7</td>\n",
       "      <td>-211</td>\n",
       "      <td>6.497516</td>\n",
       "      <td>-0.998736</td>\n",
       "      <td>0.610382</td>\n",
       "      <td>6.389694</td>\n",
       "    </tr>\n",
       "    <tr>\n",
       "      <th>8</th>\n",
       "      <td>9</td>\n",
       "      <td>16</td>\n",
       "      <td>5.663574</td>\n",
       "      <td>0.098235</td>\n",
       "      <td>-0.664739</td>\n",
       "      <td>5.623561</td>\n",
       "    </tr>\n",
       "    <tr>\n",
       "      <th>9</th>\n",
       "      <td>9</td>\n",
       "      <td>-211</td>\n",
       "      <td>0.355156</td>\n",
       "      <td>-0.046837</td>\n",
       "      <td>-0.120631</td>\n",
       "      <td>0.299852</td>\n",
       "    </tr>\n",
       "    <tr>\n",
       "      <th>10</th>\n",
       "      <td>9</td>\n",
       "      <td>111</td>\n",
       "      <td>3.584363</td>\n",
       "      <td>0.070328</td>\n",
       "      <td>0.697047</td>\n",
       "      <td>3.512637</td>\n",
       "    </tr>\n",
       "    <tr>\n",
       "      <th>...</th>\n",
       "      <td>...</td>\n",
       "      <td>...</td>\n",
       "      <td>...</td>\n",
       "      <td>...</td>\n",
       "      <td>...</td>\n",
       "      <td>...</td>\n",
       "    </tr>\n",
       "    <tr>\n",
       "      <th>2630802</th>\n",
       "      <td>999995</td>\n",
       "      <td>16</td>\n",
       "      <td>5.224114</td>\n",
       "      <td>-0.392318</td>\n",
       "      <td>-0.767595</td>\n",
       "      <td>5.152489</td>\n",
       "    </tr>\n",
       "    <tr>\n",
       "      <th>2630809</th>\n",
       "      <td>999996</td>\n",
       "      <td>-211</td>\n",
       "      <td>1.825069</td>\n",
       "      <td>-0.147094</td>\n",
       "      <td>-0.001521</td>\n",
       "      <td>1.813770</td>\n",
       "    </tr>\n",
       "    <tr>\n",
       "      <th>2630810</th>\n",
       "      <td>999996</td>\n",
       "      <td>-211</td>\n",
       "      <td>0.143598</td>\n",
       "      <td>0.025659</td>\n",
       "      <td>-0.003986</td>\n",
       "      <td>0.021608</td>\n",
       "    </tr>\n",
       "    <tr>\n",
       "      <th>2630808</th>\n",
       "      <td>999996</td>\n",
       "      <td>16</td>\n",
       "      <td>1.525003</td>\n",
       "      <td>-0.278366</td>\n",
       "      <td>0.643834</td>\n",
       "      <td>1.354076</td>\n",
       "    </tr>\n",
       "    <tr>\n",
       "      <th>2630811</th>\n",
       "      <td>999996</td>\n",
       "      <td>211</td>\n",
       "      <td>2.519886</td>\n",
       "      <td>0.328018</td>\n",
       "      <td>0.337782</td>\n",
       "      <td>2.471569</td>\n",
       "    </tr>\n",
       "  </tbody>\n",
       "</table>\n",
       "<p>1364698 rows × 6 columns</p>\n",
       "</div>"
      ],
      "text/plain": [
       "         event_num  pdg         E        px        py        pz\n",
       "3                7   16  2.596879  0.222781 -0.683829  2.495281\n",
       "4                7 -211  6.497516 -0.998736  0.610382  6.389694\n",
       "8                9   16  5.663574  0.098235 -0.664739  5.623561\n",
       "9                9 -211  0.355156 -0.046837 -0.120631  0.299852\n",
       "10               9  111  3.584363  0.070328  0.697047  3.512637\n",
       "...            ...  ...       ...       ...       ...       ...\n",
       "2630802     999995   16  5.224114 -0.392318 -0.767595  5.152489\n",
       "2630809     999996 -211  1.825069 -0.147094 -0.001521  1.813770\n",
       "2630810     999996 -211  0.143598  0.025659 -0.003986  0.021608\n",
       "2630808     999996   16  1.525003 -0.278366  0.643834  1.354076\n",
       "2630811     999996  211  2.519886  0.328018  0.337782  2.471569\n",
       "\n",
       "[1364698 rows x 6 columns]"
      ]
     },
     "execution_count": 3,
     "metadata": {},
     "output_type": "execute_result"
    }
   ],
   "source": [
    "decay_products"
   ]
  },
  {
   "cell_type": "code",
   "execution_count": 104,
   "metadata": {},
   "outputs": [
    {
     "data": {
      "text/html": [
       "<div>\n",
       "<style scoped>\n",
       "    .dataframe tbody tr th:only-of-type {\n",
       "        vertical-align: middle;\n",
       "    }\n",
       "\n",
       "    .dataframe tbody tr th {\n",
       "        vertical-align: top;\n",
       "    }\n",
       "\n",
       "    .dataframe thead th {\n",
       "        text-align: right;\n",
       "    }\n",
       "</style>\n",
       "<table border=\"1\" class=\"dataframe\">\n",
       "  <thead>\n",
       "    <tr style=\"text-align: right;\">\n",
       "      <th></th>\n",
       "      <th>event_num</th>\n",
       "      <th>pdg</th>\n",
       "      <th>E</th>\n",
       "      <th>px</th>\n",
       "      <th>py</th>\n",
       "      <th>pz</th>\n",
       "    </tr>\n",
       "  </thead>\n",
       "  <tbody>\n",
       "    <tr>\n",
       "      <th>0</th>\n",
       "      <td>4</td>\n",
       "      <td>1000080160</td>\n",
       "      <td>14.895100</td>\n",
       "      <td>0.000000</td>\n",
       "      <td>0.000000</td>\n",
       "      <td>0.000000</td>\n",
       "    </tr>\n",
       "    <tr>\n",
       "      <th>1</th>\n",
       "      <td>4</td>\n",
       "      <td>16</td>\n",
       "      <td>5.000000</td>\n",
       "      <td>0.000000</td>\n",
       "      <td>0.000000</td>\n",
       "      <td>5.000000</td>\n",
       "    </tr>\n",
       "    <tr>\n",
       "      <th>2</th>\n",
       "      <td>4</td>\n",
       "      <td>15</td>\n",
       "      <td>3.674610</td>\n",
       "      <td>-0.000156</td>\n",
       "      <td>-0.074013</td>\n",
       "      <td>3.215590</td>\n",
       "    </tr>\n",
       "    <tr>\n",
       "      <th>3</th>\n",
       "      <td>4</td>\n",
       "      <td>16</td>\n",
       "      <td>2.926796</td>\n",
       "      <td>0.559238</td>\n",
       "      <td>-0.377204</td>\n",
       "      <td>2.847983</td>\n",
       "    </tr>\n",
       "    <tr>\n",
       "      <th>4</th>\n",
       "      <td>4</td>\n",
       "      <td>-211</td>\n",
       "      <td>0.748086</td>\n",
       "      <td>-0.559394</td>\n",
       "      <td>0.303186</td>\n",
       "      <td>0.367845</td>\n",
       "    </tr>\n",
       "    <tr>\n",
       "      <th>...</th>\n",
       "      <td>...</td>\n",
       "      <td>...</td>\n",
       "      <td>...</td>\n",
       "      <td>...</td>\n",
       "      <td>...</td>\n",
       "      <td>...</td>\n",
       "    </tr>\n",
       "    <tr>\n",
       "      <th>962326</th>\n",
       "      <td>995224</td>\n",
       "      <td>16</td>\n",
       "      <td>5.000000</td>\n",
       "      <td>0.000000</td>\n",
       "      <td>0.000000</td>\n",
       "      <td>5.000000</td>\n",
       "    </tr>\n",
       "    <tr>\n",
       "      <th>962327</th>\n",
       "      <td>995224</td>\n",
       "      <td>15</td>\n",
       "      <td>4.466730</td>\n",
       "      <td>0.114606</td>\n",
       "      <td>0.482910</td>\n",
       "      <td>4.067930</td>\n",
       "    </tr>\n",
       "    <tr>\n",
       "      <th>962328</th>\n",
       "      <td>995224</td>\n",
       "      <td>16</td>\n",
       "      <td>1.072256</td>\n",
       "      <td>0.631138</td>\n",
       "      <td>0.398764</td>\n",
       "      <td>0.769601</td>\n",
       "    </tr>\n",
       "    <tr>\n",
       "      <th>962329</th>\n",
       "      <td>995224</td>\n",
       "      <td>11</td>\n",
       "      <td>3.073834</td>\n",
       "      <td>-0.520938</td>\n",
       "      <td>-0.088451</td>\n",
       "      <td>3.028078</td>\n",
       "    </tr>\n",
       "    <tr>\n",
       "      <th>962330</th>\n",
       "      <td>995224</td>\n",
       "      <td>-12</td>\n",
       "      <td>0.320954</td>\n",
       "      <td>0.004414</td>\n",
       "      <td>0.172631</td>\n",
       "      <td>0.270537</td>\n",
       "    </tr>\n",
       "  </tbody>\n",
       "</table>\n",
       "<p>962331 rows × 6 columns</p>\n",
       "</div>"
      ],
      "text/plain": [
       "        event_num         pdg          E        px        py        pz\n",
       "0               4  1000080160  14.895100  0.000000  0.000000  0.000000\n",
       "1               4          16   5.000000  0.000000  0.000000  5.000000\n",
       "2               4          15   3.674610 -0.000156 -0.074013  3.215590\n",
       "3               4          16   2.926796  0.559238 -0.377204  2.847983\n",
       "4               4        -211   0.748086 -0.559394  0.303186  0.367845\n",
       "...           ...         ...        ...       ...       ...       ...\n",
       "962326     995224          16   5.000000  0.000000  0.000000  5.000000\n",
       "962327     995224          15   4.466730  0.114606  0.482910  4.067930\n",
       "962328     995224          16   1.072256  0.631138  0.398764  0.769601\n",
       "962329     995224          11   3.073834 -0.520938 -0.088451  3.028078\n",
       "962330     995224         -12   0.320954  0.004414  0.172631  0.270537\n",
       "\n",
       "[962331 rows x 6 columns]"
      ]
     },
     "execution_count": 104,
     "metadata": {},
     "output_type": "execute_result"
    }
   ],
   "source": [
    "decay_products_nopol"
   ]
  },
  {
   "cell_type": "code",
   "execution_count": 112,
   "metadata": {},
   "outputs": [
    {
     "data": {
      "text/html": [
       "<div>\n",
       "<style scoped>\n",
       "    .dataframe tbody tr th:only-of-type {\n",
       "        vertical-align: middle;\n",
       "    }\n",
       "\n",
       "    .dataframe tbody tr th {\n",
       "        vertical-align: top;\n",
       "    }\n",
       "\n",
       "    .dataframe thead th {\n",
       "        text-align: right;\n",
       "    }\n",
       "</style>\n",
       "<table border=\"1\" class=\"dataframe\">\n",
       "  <thead>\n",
       "    <tr style=\"text-align: right;\">\n",
       "      <th></th>\n",
       "      <th>event_num</th>\n",
       "      <th>pdg</th>\n",
       "      <th>E</th>\n",
       "      <th>px</th>\n",
       "      <th>py</th>\n",
       "      <th>pz</th>\n",
       "    </tr>\n",
       "  </thead>\n",
       "  <tbody>\n",
       "    <tr>\n",
       "      <th>0</th>\n",
       "      <td>0</td>\n",
       "      <td>-211</td>\n",
       "      <td>2.149550</td>\n",
       "      <td>0.471007</td>\n",
       "      <td>-0.772448</td>\n",
       "      <td>1.944890</td>\n",
       "    </tr>\n",
       "    <tr>\n",
       "      <th>21</th>\n",
       "      <td>0</td>\n",
       "      <td>16</td>\n",
       "      <td>1.524980</td>\n",
       "      <td>-0.470983</td>\n",
       "      <td>0.699429</td>\n",
       "      <td>1.270650</td>\n",
       "    </tr>\n",
       "    <tr>\n",
       "      <th>41</th>\n",
       "      <td>1</td>\n",
       "      <td>-211</td>\n",
       "      <td>0.468578</td>\n",
       "      <td>0.369889</td>\n",
       "      <td>0.010412</td>\n",
       "      <td>0.251316</td>\n",
       "    </tr>\n",
       "    <tr>\n",
       "      <th>40</th>\n",
       "      <td>1</td>\n",
       "      <td>16</td>\n",
       "      <td>3.118620</td>\n",
       "      <td>-0.279838</td>\n",
       "      <td>-0.232610</td>\n",
       "      <td>3.097310</td>\n",
       "    </tr>\n",
       "    <tr>\n",
       "      <th>22</th>\n",
       "      <td>1</td>\n",
       "      <td>111</td>\n",
       "      <td>0.548567</td>\n",
       "      <td>0.403863</td>\n",
       "      <td>-0.018455</td>\n",
       "      <td>0.345342</td>\n",
       "    </tr>\n",
       "    <tr>\n",
       "      <th>...</th>\n",
       "      <td>...</td>\n",
       "      <td>...</td>\n",
       "      <td>...</td>\n",
       "      <td>...</td>\n",
       "      <td>...</td>\n",
       "      <td>...</td>\n",
       "    </tr>\n",
       "    <tr>\n",
       "      <th>476072</th>\n",
       "      <td>154396</td>\n",
       "      <td>111</td>\n",
       "      <td>1.573080</td>\n",
       "      <td>-0.210799</td>\n",
       "      <td>0.439569</td>\n",
       "      <td>1.489530</td>\n",
       "    </tr>\n",
       "    <tr>\n",
       "      <th>476075</th>\n",
       "      <td>154396</td>\n",
       "      <td>-211</td>\n",
       "      <td>0.374216</td>\n",
       "      <td>0.226221</td>\n",
       "      <td>-0.186625</td>\n",
       "      <td>0.185885</td>\n",
       "    </tr>\n",
       "    <tr>\n",
       "      <th>476076</th>\n",
       "      <td>154396</td>\n",
       "      <td>16</td>\n",
       "      <td>2.108650</td>\n",
       "      <td>-0.597034</td>\n",
       "      <td>0.439295</td>\n",
       "      <td>1.974070</td>\n",
       "    </tr>\n",
       "    <tr>\n",
       "      <th>476081</th>\n",
       "      <td>154397</td>\n",
       "      <td>-211</td>\n",
       "      <td>1.250420</td>\n",
       "      <td>-0.686881</td>\n",
       "      <td>0.402554</td>\n",
       "      <td>0.954049</td>\n",
       "    </tr>\n",
       "    <tr>\n",
       "      <th>476082</th>\n",
       "      <td>154397</td>\n",
       "      <td>16</td>\n",
       "      <td>3.216270</td>\n",
       "      <td>0.801167</td>\n",
       "      <td>0.080347</td>\n",
       "      <td>3.113850</td>\n",
       "    </tr>\n",
       "  </tbody>\n",
       "</table>\n",
       "<p>476182 rows × 6 columns</p>\n",
       "</div>"
      ],
      "text/plain": [
       "        event_num  pdg         E        px        py        pz\n",
       "0               0 -211  2.149550  0.471007 -0.772448  1.944890\n",
       "21              0   16  1.524980 -0.470983  0.699429  1.270650\n",
       "41              1 -211  0.468578  0.369889  0.010412  0.251316\n",
       "40              1   16  3.118620 -0.279838 -0.232610  3.097310\n",
       "22              1  111  0.548567  0.403863 -0.018455  0.345342\n",
       "...           ...  ...       ...       ...       ...       ...\n",
       "476072     154396  111  1.573080 -0.210799  0.439569  1.489530\n",
       "476075     154396 -211  0.374216  0.226221 -0.186625  0.185885\n",
       "476076     154396   16  2.108650 -0.597034  0.439295  1.974070\n",
       "476081     154397 -211  1.250420 -0.686881  0.402554  0.954049\n",
       "476082     154397   16  3.216270  0.801167  0.080347  3.113850\n",
       "\n",
       "[476182 rows x 6 columns]"
      ]
     },
     "execution_count": 112,
     "metadata": {},
     "output_type": "execute_result"
    }
   ],
   "source": [
    "decay_products_g4"
   ]
  },
  {
   "cell_type": "code",
   "execution_count": 6,
   "metadata": {},
   "outputs": [],
   "source": [
    "assert decay_products[\"event_num\"].nunique() == decay_products_nopol[\"event_num\"].nunique() \n",
    "assert decay_products[\"event_num\"].nunique() == decay_products_g4[\"event_num\"].nunique()"
   ]
  },
  {
   "cell_type": "markdown",
   "metadata": {},
   "source": [
    "## Geant4 data sanity check\n",
    "\n",
    "From the [source code for tau decays](https://github.com/Geant4/geant4/blob/master/source/particles/leptons/src/G4TauMinus.cc) in Geant4, the branching ratios should be:\n",
    "<!--Table with tau 2 columns: decay products and branching ratio -->\n",
    "| Decay products | Branching ratio |\n",
    "|----------------|-----------------|\n",
    "| $mu \\nu_tau \\bar\\nu_mu | 0.1736  |\n",
    "| $e \\nu_tau \\bar\\nu_e | 0.1784    |\n",
    "| $\\pi^- \\nu_tau | 0.1106 |\n",
    "\n",
    "```c++\n",
    " mode = new G4TauLeptonicDecayChannel(\"tau-\", 0.1736, \"mu-\");\n",
    "    table->Insert(mode);\n",
    "    // tau- -> e- + anti_nu_e + nu_tau\n",
    "    mode = new G4TauLeptonicDecayChannel(\"tau-\", 0.1784, \"e-\");\n",
    "    table->Insert(mode);\n",
    "    // tau- -> pi- + nu_tau\n",
    "    mode = new G4PhaseSpaceDecayChannel(\"tau-\", 0.1106, 2, \"pi-\", \"nu_tau\");\n",
    "    table->Insert(mode);\n",
    "    // tau- -> pi0 + pi- + nu_tau\n",
    "    mode = new G4PhaseSpaceDecayChannel(\"tau-\", 0.2541, 3, \"pi0\", \"pi-\", \"nu_tau\");\n",
    "    table->Insert(mode);\n",
    "    // tau- -> pi0 + pi0 + pi- + nu_tau\n",
    "    mode = new G4PhaseSpaceDecayChannel();\n",
    "    mode->SetParent(\"tau-\");\n",
    "    mode->SetBR(0.0917);\n",
    "    mode->SetNumberOfDaughters(4);\n",
    "    mode->SetDaughter(0, \"pi0\");\n",
    "    mode->SetDaughter(1, \"pi0\");\n",
    "    mode->SetDaughter(2, \"pi-\");\n",
    "    mode->SetDaughter(3, \"nu_tau\");\n",
    "    table->Insert(mode);\n",
    "    // tau- -> pi- + pi- + pi+ + nu_tau\n",
    "    mode = new G4PhaseSpaceDecayChannel();\n",
    "    mode->SetParent(\"tau-\");\n",
    "    mode->SetBR(0.0946);\n",
    "    mode->SetNumberOfDaughters(4);\n",
    "    mode->SetDaughter(0, \"pi-\");\n",
    "    mode->SetDaughter(1, \"pi-\");\n",
    "    mode->SetDaughter(2, \"pi+\");\n",
    "    mode->SetDaughter(3, \"nu_tau\");\n",
    "    table->Insert(mode);\n",
    "\n",
    "    anInstance->SetDecayTable(table);\n",
    "```"
   ]
  },
  {
   "cell_type": "code",
   "execution_count": 113,
   "metadata": {},
   "outputs": [
    {
     "data": {
      "text/html": [
       "<div>\n",
       "<style scoped>\n",
       "    .dataframe tbody tr th:only-of-type {\n",
       "        vertical-align: middle;\n",
       "    }\n",
       "\n",
       "    .dataframe tbody tr th {\n",
       "        vertical-align: top;\n",
       "    }\n",
       "\n",
       "    .dataframe thead th {\n",
       "        text-align: right;\n",
       "    }\n",
       "</style>\n",
       "<table border=\"1\" class=\"dataframe\">\n",
       "  <thead>\n",
       "    <tr style=\"text-align: right;\">\n",
       "      <th></th>\n",
       "      <th>event_num</th>\n",
       "      <th>pdg</th>\n",
       "      <th>E</th>\n",
       "      <th>px</th>\n",
       "      <th>py</th>\n",
       "      <th>pz</th>\n",
       "      <th>polx</th>\n",
       "      <th>poly</th>\n",
       "      <th>polz</th>\n",
       "    </tr>\n",
       "  </thead>\n",
       "  <tbody>\n",
       "    <tr>\n",
       "      <th>0</th>\n",
       "      <td>4</td>\n",
       "      <td>15</td>\n",
       "      <td>3.67461</td>\n",
       "      <td>-0.000156</td>\n",
       "      <td>-0.074012</td>\n",
       "      <td>3.21559</td>\n",
       "      <td>0.000048</td>\n",
       "      <td>0.023011</td>\n",
       "      <td>-0.999735</td>\n",
       "    </tr>\n",
       "    <tr>\n",
       "      <th>1</th>\n",
       "      <td>5</td>\n",
       "      <td>15</td>\n",
       "      <td>4.13579</td>\n",
       "      <td>0.493657</td>\n",
       "      <td>-0.240467</td>\n",
       "      <td>3.69405</td>\n",
       "      <td>0.000000</td>\n",
       "      <td>0.000000</td>\n",
       "      <td>0.000000</td>\n",
       "    </tr>\n",
       "    <tr>\n",
       "      <th>2</th>\n",
       "      <td>15</td>\n",
       "      <td>15</td>\n",
       "      <td>3.31492</td>\n",
       "      <td>-0.107529</td>\n",
       "      <td>-0.036129</td>\n",
       "      <td>2.79617</td>\n",
       "      <td>0.038424</td>\n",
       "      <td>0.012910</td>\n",
       "      <td>-0.999178</td>\n",
       "    </tr>\n",
       "    <tr>\n",
       "      <th>3</th>\n",
       "      <td>20</td>\n",
       "      <td>15</td>\n",
       "      <td>4.69982</td>\n",
       "      <td>-0.441461</td>\n",
       "      <td>0.209511</td>\n",
       "      <td>4.32346</td>\n",
       "      <td>0.000000</td>\n",
       "      <td>0.000000</td>\n",
       "      <td>0.000000</td>\n",
       "    </tr>\n",
       "    <tr>\n",
       "      <th>4</th>\n",
       "      <td>22</td>\n",
       "      <td>15</td>\n",
       "      <td>3.52693</td>\n",
       "      <td>0.523667</td>\n",
       "      <td>0.128337</td>\n",
       "      <td>2.99855</td>\n",
       "      <td>-0.171884</td>\n",
       "      <td>-0.042124</td>\n",
       "      <td>-0.984216</td>\n",
       "    </tr>\n",
       "    <tr>\n",
       "      <th>...</th>\n",
       "      <td>...</td>\n",
       "      <td>...</td>\n",
       "      <td>...</td>\n",
       "      <td>...</td>\n",
       "      <td>...</td>\n",
       "      <td>...</td>\n",
       "      <td>...</td>\n",
       "      <td>...</td>\n",
       "      <td>...</td>\n",
       "    </tr>\n",
       "    <tr>\n",
       "      <th>154393</th>\n",
       "      <td>995189</td>\n",
       "      <td>15</td>\n",
       "      <td>3.79233</td>\n",
       "      <td>-0.418670</td>\n",
       "      <td>-0.278067</td>\n",
       "      <td>3.31239</td>\n",
       "      <td>0.000000</td>\n",
       "      <td>0.000000</td>\n",
       "      <td>0.000000</td>\n",
       "    </tr>\n",
       "    <tr>\n",
       "      <th>154394</th>\n",
       "      <td>995201</td>\n",
       "      <td>15</td>\n",
       "      <td>4.37156</td>\n",
       "      <td>-0.744747</td>\n",
       "      <td>-0.107314</td>\n",
       "      <td>3.92264</td>\n",
       "      <td>0.000000</td>\n",
       "      <td>0.000000</td>\n",
       "      <td>0.000000</td>\n",
       "    </tr>\n",
       "    <tr>\n",
       "      <th>154395</th>\n",
       "      <td>995214</td>\n",
       "      <td>15</td>\n",
       "      <td>3.59273</td>\n",
       "      <td>-0.117279</td>\n",
       "      <td>-0.596226</td>\n",
       "      <td>3.06287</td>\n",
       "      <td>0.037559</td>\n",
       "      <td>0.190941</td>\n",
       "      <td>-0.980883</td>\n",
       "    </tr>\n",
       "    <tr>\n",
       "      <th>154396</th>\n",
       "      <td>995223</td>\n",
       "      <td>15</td>\n",
       "      <td>4.52561</td>\n",
       "      <td>-0.583319</td>\n",
       "      <td>0.568008</td>\n",
       "      <td>4.08179</td>\n",
       "      <td>0.000000</td>\n",
       "      <td>0.000000</td>\n",
       "      <td>0.000000</td>\n",
       "    </tr>\n",
       "    <tr>\n",
       "      <th>154397</th>\n",
       "      <td>995224</td>\n",
       "      <td>15</td>\n",
       "      <td>4.46673</td>\n",
       "      <td>0.114606</td>\n",
       "      <td>0.482910</td>\n",
       "      <td>4.06793</td>\n",
       "      <td>0.000000</td>\n",
       "      <td>0.000000</td>\n",
       "      <td>0.000000</td>\n",
       "    </tr>\n",
       "  </tbody>\n",
       "</table>\n",
       "<p>154398 rows × 9 columns</p>\n",
       "</div>"
      ],
      "text/plain": [
       "        event_num  pdg        E        px        py       pz      polx  \\\n",
       "0               4   15  3.67461 -0.000156 -0.074012  3.21559  0.000048   \n",
       "1               5   15  4.13579  0.493657 -0.240467  3.69405  0.000000   \n",
       "2              15   15  3.31492 -0.107529 -0.036129  2.79617  0.038424   \n",
       "3              20   15  4.69982 -0.441461  0.209511  4.32346  0.000000   \n",
       "4              22   15  3.52693  0.523667  0.128337  2.99855 -0.171884   \n",
       "...           ...  ...      ...       ...       ...      ...       ...   \n",
       "154393     995189   15  3.79233 -0.418670 -0.278067  3.31239  0.000000   \n",
       "154394     995201   15  4.37156 -0.744747 -0.107314  3.92264  0.000000   \n",
       "154395     995214   15  3.59273 -0.117279 -0.596226  3.06287  0.037559   \n",
       "154396     995223   15  4.52561 -0.583319  0.568008  4.08179  0.000000   \n",
       "154397     995224   15  4.46673  0.114606  0.482910  4.06793  0.000000   \n",
       "\n",
       "            poly      polz  \n",
       "0       0.023011 -0.999735  \n",
       "1       0.000000  0.000000  \n",
       "2       0.012910 -0.999178  \n",
       "3       0.000000  0.000000  \n",
       "4      -0.042124 -0.984216  \n",
       "...          ...       ...  \n",
       "154393  0.000000  0.000000  \n",
       "154394  0.000000  0.000000  \n",
       "154395  0.190941 -0.980883  \n",
       "154396  0.000000  0.000000  \n",
       "154397  0.000000  0.000000  \n",
       "\n",
       "[154398 rows x 9 columns]"
      ]
     },
     "execution_count": 113,
     "metadata": {},
     "output_type": "execute_result"
    }
   ],
   "source": [
    "taus = pd.read_csv(f\"../data/genie_pol_e{genie_nutau_energy}.csv\").sort_values(\"event_num\")\n",
    "taus"
   ]
  },
  {
   "cell_type": "code",
   "execution_count": 114,
   "metadata": {},
   "outputs": [
    {
     "data": {
      "text/html": [
       "<div>\n",
       "<style scoped>\n",
       "    .dataframe tbody tr th:only-of-type {\n",
       "        vertical-align: middle;\n",
       "    }\n",
       "\n",
       "    .dataframe tbody tr th {\n",
       "        vertical-align: top;\n",
       "    }\n",
       "\n",
       "    .dataframe thead th {\n",
       "        text-align: right;\n",
       "    }\n",
       "</style>\n",
       "<table border=\"1\" class=\"dataframe\">\n",
       "  <thead>\n",
       "    <tr style=\"text-align: right;\">\n",
       "      <th></th>\n",
       "      <th>event_num</th>\n",
       "      <th>pdg</th>\n",
       "      <th>E</th>\n",
       "      <th>px</th>\n",
       "      <th>py</th>\n",
       "      <th>pz</th>\n",
       "    </tr>\n",
       "  </thead>\n",
       "  <tbody>\n",
       "    <tr>\n",
       "      <th>0</th>\n",
       "      <td>4</td>\n",
       "      <td>-211</td>\n",
       "      <td>2.149550</td>\n",
       "      <td>0.471007</td>\n",
       "      <td>-0.772448</td>\n",
       "      <td>1.944890</td>\n",
       "    </tr>\n",
       "    <tr>\n",
       "      <th>21</th>\n",
       "      <td>4</td>\n",
       "      <td>16</td>\n",
       "      <td>1.524980</td>\n",
       "      <td>-0.470983</td>\n",
       "      <td>0.699429</td>\n",
       "      <td>1.270650</td>\n",
       "    </tr>\n",
       "    <tr>\n",
       "      <th>41</th>\n",
       "      <td>5</td>\n",
       "      <td>-211</td>\n",
       "      <td>0.468578</td>\n",
       "      <td>0.369889</td>\n",
       "      <td>0.010412</td>\n",
       "      <td>0.251316</td>\n",
       "    </tr>\n",
       "    <tr>\n",
       "      <th>40</th>\n",
       "      <td>5</td>\n",
       "      <td>16</td>\n",
       "      <td>3.118620</td>\n",
       "      <td>-0.279838</td>\n",
       "      <td>-0.232610</td>\n",
       "      <td>3.097310</td>\n",
       "    </tr>\n",
       "    <tr>\n",
       "      <th>22</th>\n",
       "      <td>5</td>\n",
       "      <td>111</td>\n",
       "      <td>0.548567</td>\n",
       "      <td>0.403863</td>\n",
       "      <td>-0.018455</td>\n",
       "      <td>0.345342</td>\n",
       "    </tr>\n",
       "    <tr>\n",
       "      <th>...</th>\n",
       "      <td>...</td>\n",
       "      <td>...</td>\n",
       "      <td>...</td>\n",
       "      <td>...</td>\n",
       "      <td>...</td>\n",
       "      <td>...</td>\n",
       "    </tr>\n",
       "    <tr>\n",
       "      <th>476072</th>\n",
       "      <td>995223</td>\n",
       "      <td>111</td>\n",
       "      <td>1.573080</td>\n",
       "      <td>-0.210799</td>\n",
       "      <td>0.439569</td>\n",
       "      <td>1.489530</td>\n",
       "    </tr>\n",
       "    <tr>\n",
       "      <th>476075</th>\n",
       "      <td>995223</td>\n",
       "      <td>-211</td>\n",
       "      <td>0.374216</td>\n",
       "      <td>0.226221</td>\n",
       "      <td>-0.186625</td>\n",
       "      <td>0.185885</td>\n",
       "    </tr>\n",
       "    <tr>\n",
       "      <th>476076</th>\n",
       "      <td>995223</td>\n",
       "      <td>16</td>\n",
       "      <td>2.108650</td>\n",
       "      <td>-0.597034</td>\n",
       "      <td>0.439295</td>\n",
       "      <td>1.974070</td>\n",
       "    </tr>\n",
       "    <tr>\n",
       "      <th>476081</th>\n",
       "      <td>995224</td>\n",
       "      <td>-211</td>\n",
       "      <td>1.250420</td>\n",
       "      <td>-0.686881</td>\n",
       "      <td>0.402554</td>\n",
       "      <td>0.954049</td>\n",
       "    </tr>\n",
       "    <tr>\n",
       "      <th>476082</th>\n",
       "      <td>995224</td>\n",
       "      <td>16</td>\n",
       "      <td>3.216270</td>\n",
       "      <td>0.801167</td>\n",
       "      <td>0.080347</td>\n",
       "      <td>3.113850</td>\n",
       "    </tr>\n",
       "  </tbody>\n",
       "</table>\n",
       "<p>476182 rows × 6 columns</p>\n",
       "</div>"
      ],
      "text/plain": [
       "        event_num  pdg         E        px        py        pz\n",
       "0               4 -211  2.149550  0.471007 -0.772448  1.944890\n",
       "21              4   16  1.524980 -0.470983  0.699429  1.270650\n",
       "41              5 -211  0.468578  0.369889  0.010412  0.251316\n",
       "40              5   16  3.118620 -0.279838 -0.232610  3.097310\n",
       "22              5  111  0.548567  0.403863 -0.018455  0.345342\n",
       "...           ...  ...       ...       ...       ...       ...\n",
       "476072     995223  111  1.573080 -0.210799  0.439569  1.489530\n",
       "476075     995223 -211  0.374216  0.226221 -0.186625  0.185885\n",
       "476076     995223   16  2.108650 -0.597034  0.439295  1.974070\n",
       "476081     995224 -211  1.250420 -0.686881  0.402554  0.954049\n",
       "476082     995224   16  3.216270  0.801167  0.080347  3.113850\n",
       "\n",
       "[476182 rows x 6 columns]"
      ]
     },
     "execution_count": 114,
     "metadata": {},
     "output_type": "execute_result"
    }
   ],
   "source": [
    "# Take the event_num in decay_products_g4, use it as the index for event_num in taus, and then create a new array with those values as the event_num in decay_products_g4\n",
    "decay_products_g4[\"event_num\"] = taus[\"event_num\"][decay_products_g4[\"event_num\"]].values\n",
    "decay_products_g4"
   ]
  },
  {
   "cell_type": "code",
   "execution_count": 115,
   "metadata": {},
   "outputs": [],
   "source": [
    "# Group by event_num and calculate the sum of the 4-momentum\n",
    "tau_rec = decay_products_g4.groupby(\"event_num\")[[\"E\", \"px\", \"py\", \"pz\"]].sum()\n",
    "closeness = np.isclose(tau_rec, taus.loc[:, \"E\":\"pz\"], atol=0.01)"
   ]
  },
  {
   "cell_type": "code",
   "execution_count": 117,
   "metadata": {},
   "outputs": [],
   "source": [
    "bad_event_nums = taus[~closeness[:, 0]][\"event_num\"].values"
   ]
  },
  {
   "cell_type": "code",
   "execution_count": 118,
   "metadata": {},
   "outputs": [
    {
     "data": {
      "text/html": [
       "<div>\n",
       "<style scoped>\n",
       "    .dataframe tbody tr th:only-of-type {\n",
       "        vertical-align: middle;\n",
       "    }\n",
       "\n",
       "    .dataframe tbody tr th {\n",
       "        vertical-align: top;\n",
       "    }\n",
       "\n",
       "    .dataframe thead th {\n",
       "        text-align: right;\n",
       "    }\n",
       "</style>\n",
       "<table border=\"1\" class=\"dataframe\">\n",
       "  <thead>\n",
       "    <tr style=\"text-align: right;\">\n",
       "      <th></th>\n",
       "      <th>event_num</th>\n",
       "      <th>pdg</th>\n",
       "      <th>E</th>\n",
       "      <th>px</th>\n",
       "      <th>py</th>\n",
       "      <th>pz</th>\n",
       "    </tr>\n",
       "  </thead>\n",
       "  <tbody>\n",
       "  </tbody>\n",
       "</table>\n",
       "</div>"
      ],
      "text/plain": [
       "Empty DataFrame\n",
       "Columns: [event_num, pdg, E, px, py, pz]\n",
       "Index: []"
      ]
     },
     "execution_count": 118,
     "metadata": {},
     "output_type": "execute_result"
    }
   ],
   "source": [
    "decay_products_g4[decay_products_g4[\"event_num\"].isin(bad_event_nums)].head(20)"
   ]
  },
  {
   "cell_type": "code",
   "execution_count": 119,
   "metadata": {},
   "outputs": [
    {
     "data": {
      "text/html": [
       "<div>\n",
       "<style scoped>\n",
       "    .dataframe tbody tr th:only-of-type {\n",
       "        vertical-align: middle;\n",
       "    }\n",
       "\n",
       "    .dataframe tbody tr th {\n",
       "        vertical-align: top;\n",
       "    }\n",
       "\n",
       "    .dataframe thead th {\n",
       "        text-align: right;\n",
       "    }\n",
       "</style>\n",
       "<table border=\"1\" class=\"dataframe\">\n",
       "  <thead>\n",
       "    <tr style=\"text-align: right;\">\n",
       "      <th></th>\n",
       "      <th>event_num</th>\n",
       "      <th>pdg</th>\n",
       "      <th>E</th>\n",
       "      <th>px</th>\n",
       "      <th>py</th>\n",
       "      <th>pz</th>\n",
       "      <th>polx</th>\n",
       "      <th>poly</th>\n",
       "      <th>polz</th>\n",
       "    </tr>\n",
       "  </thead>\n",
       "  <tbody>\n",
       "  </tbody>\n",
       "</table>\n",
       "</div>"
      ],
      "text/plain": [
       "Empty DataFrame\n",
       "Columns: [event_num, pdg, E, px, py, pz, polx, poly, polz]\n",
       "Index: []"
      ]
     },
     "execution_count": 119,
     "metadata": {},
     "output_type": "execute_result"
    }
   ],
   "source": [
    "taus[taus[\"event_num\"].isin(bad_event_nums)]"
   ]
  },
  {
   "cell_type": "code",
   "execution_count": 120,
   "metadata": {},
   "outputs": [
    {
     "data": {
      "text/html": [
       "<div>\n",
       "<style scoped>\n",
       "    .dataframe tbody tr th:only-of-type {\n",
       "        vertical-align: middle;\n",
       "    }\n",
       "\n",
       "    .dataframe tbody tr th {\n",
       "        vertical-align: top;\n",
       "    }\n",
       "\n",
       "    .dataframe thead th {\n",
       "        text-align: right;\n",
       "    }\n",
       "</style>\n",
       "<table border=\"1\" class=\"dataframe\">\n",
       "  <thead>\n",
       "    <tr style=\"text-align: right;\">\n",
       "      <th></th>\n",
       "      <th>E</th>\n",
       "      <th>px</th>\n",
       "      <th>py</th>\n",
       "      <th>pz</th>\n",
       "    </tr>\n",
       "    <tr>\n",
       "      <th>event_num</th>\n",
       "      <th></th>\n",
       "      <th></th>\n",
       "      <th></th>\n",
       "      <th></th>\n",
       "    </tr>\n",
       "  </thead>\n",
       "  <tbody>\n",
       "  </tbody>\n",
       "</table>\n",
       "</div>"
      ],
      "text/plain": [
       "Empty DataFrame\n",
       "Columns: [E, px, py, pz]\n",
       "Index: []"
      ]
     },
     "execution_count": 120,
     "metadata": {},
     "output_type": "execute_result"
    }
   ],
   "source": [
    "tau_rec[tau_rec.index.isin(bad_event_nums)]"
   ]
  },
  {
   "cell_type": "code",
   "execution_count": 6,
   "metadata": {},
   "outputs": [
    {
     "data": {
      "text/plain": [
       "True"
      ]
     },
     "execution_count": 6,
     "metadata": {},
     "output_type": "execute_result"
    }
   ],
   "source": [
    "(taus.loc[:, \"E\"].values > tau_rec.loc[:, \"E\"].values).all()"
   ]
  },
  {
   "cell_type": "markdown",
   "metadata": {},
   "source": [
    "4-momentum is not conserved at all, for some events. It seems like something is missing or that I am not saving certain particles when the tau lepton decays in Geant4."
   ]
  },
  {
   "cell_type": "markdown",
   "metadata": {},
   "source": [
    "## Plot neutrino energy distribution for Geant4 decay products"
   ]
  },
  {
   "cell_type": "code",
   "execution_count": 123,
   "metadata": {},
   "outputs": [
    {
     "data": {
      "text/plain": [
       "{(-211, 16, 111): 0.2821085765359655,\n",
       " (-12, 11, 16): 0.19684192800424877,\n",
       " (-14, 13, 16): 0.19288462285780905,\n",
       " (-211, 16): 0.12202230598841954,\n",
       " (-211, -211, 16, 211): 0.10570732781512714,\n",
       " (-211, 16, 111, 111): 0.10043523879843003}"
      ]
     },
     "execution_count": 123,
     "metadata": {},
     "output_type": "execute_result"
    }
   ],
   "source": [
    "branching_ratios(decay_products_g4)"
   ]
  },
  {
   "cell_type": "code",
   "execution_count": 124,
   "metadata": {},
   "outputs": [],
   "source": [
    "def particle_energy_fraction(df, pdg, n=0):\n",
    "    particle_energy = (\n",
    "        df\n",
    "        # .groupby(\"event_num\")\n",
    "        # .nth[3:]\n",
    "        .query(f\"pdg == {pdg}\")\n",
    "        .groupby(\"event_num\")\n",
    "        .nth(n)\n",
    "        [\"E\"]\n",
    "        .values\n",
    "    )\n",
    "    \n",
    "    total_energy = df.groupby(\"event_num\")[\"E\"].sum().values\n",
    "    return particle_energy / total_energy\n",
    "\n",
    "@numba.njit\n",
    "def is_pi0_pim_nutau_event(values, index) -> bool:\n",
    "    \"\"\"Check if a given event contains a pi0, a pi- and a tau neutrino\"\"\"\n",
    "    return ((values == -211).sum() == 1) and ((values == 111).sum() == 1) and (values == 16).any() and (values.size == 3)\n",
    "\n",
    "@numba.njit\n",
    "def is_2pim_pip_nutau_event(values, index) -> bool:\n",
    "    return ((values == -211).sum() == 2) and ((values == 211).sum() == 1) and (values == 16).any() and (values.size == 4)\n",
    "\n",
    "@numba.njit\n",
    "def is_2pi0_pim_nutau_event(values, index) -> bool:\n",
    "    return ((values == -211).sum() == 1) and ((values == 111).sum() == 2) and (values == 16).any() and (values.size == 4)"
   ]
  },
  {
   "cell_type": "code",
   "execution_count": 125,
   "metadata": {},
   "outputs": [],
   "source": [
    "from utils import filter_events"
   ]
  },
  {
   "cell_type": "code",
   "execution_count": 126,
   "metadata": {},
   "outputs": [],
   "source": [
    "datasets = {\"Tauola unpolarized\": decay_products_nopol.groupby(\"event_num\").nth[3:], \"Geant4\": decay_products_g4}"
   ]
  },
  {
   "cell_type": "code",
   "execution_count": 127,
   "metadata": {},
   "outputs": [
    {
     "data": {
      "image/png": "[encoded data removed]",
      "text/plain": [
       "<Figure size 640x480 with 1 Axes>"
      ]
     },
     "metadata": {},
     "output_type": "display_data"
    }
   ],
   "source": [
    "fig, ax = plt.subplots(\n",
    "    # ncols=len(d1), \n",
    "    # nrows=2, \n",
    "    # figsize=(4, 4), \n",
    "    layout=\"constrained\")\n",
    "\n",
    "for label, df in datasets.items():\n",
    "    selected_events = filter_events(df, \"pdg\", is_pi0_pim_nutau_event, engine=\"numba\")\n",
    "    ax.hist(particle_energy_fraction(selected_events, 16), bins=np.linspace(0, 1, 20), histtype=\"step\", label=label, density=True, lw=2)\n",
    "\n",
    "ax.set(xlabel=\"Energy fraction\", title=r\"$\\nu_\\tau$ energy fraction for $\\tau \\to \\pi^- \\pi^0 \\nu_\\tau$ events | $E_\\nu =$\" + f\"{genie_nutau_energy} GeV\")\n",
    "ax.legend()\n",
    "ax.grid(True)"
   ]
  },
  {
   "cell_type": "code",
   "execution_count": 128,
   "metadata": {},
   "outputs": [
    {
     "data": {
      "image/png": "[encoded data removed]",
      "text/plain": [
       "<Figure size 640x480 with 1 Axes>"
      ]
     },
     "metadata": {},
     "output_type": "display_data"
    }
   ],
   "source": [
    "fig, ax = plt.subplots(\n",
    "    # ncols=len(d1), \n",
    "    # nrows=2, \n",
    "    # figsize=(4, 4), \n",
    "    layout=\"constrained\")\n",
    "\n",
    "for label, df in datasets.items():\n",
    "    selected_events = filter_events(df, \"pdg\", is_2pim_pip_nutau_event, engine=\"numba\")\n",
    "    ax.hist(particle_energy_fraction(selected_events, 16), bins=np.linspace(0, 1, 20), histtype=\"step\", label=label, density=True, lw=2)\n",
    "\n",
    "ax.set(xlabel=\"Energy fraction\", title=r\"$\\nu_\\tau$ energy fraction for $\\tau \\to \\pi^- \\pi^- \\pi^+ \\nu_\\tau$ events | $E_\\nu =$\" + f\"{genie_nutau_energy} GeV\")\n",
    "ax.legend()\n",
    "ax.grid(True)"
   ]
  },
  {
   "cell_type": "code",
   "execution_count": 129,
   "metadata": {},
   "outputs": [
    {
     "data": {
      "image/png": "[encoded data removed]",
      "text/plain": [
       "<Figure size 640x480 with 1 Axes>"
      ]
     },
     "metadata": {},
     "output_type": "display_data"
    }
   ],
   "source": [
    "fig, ax = plt.subplots(\n",
    "    # ncols=len(d1), \n",
    "    # nrows=2, \n",
    "    # figsize=(4, 4), \n",
    "    layout=\"constrained\")\n",
    "\n",
    "for label, df in datasets.items():\n",
    "    selected_events = filter_events(df, \"pdg\", is_2pi0_pim_nutau_event, engine=\"numba\")\n",
    "    ax.hist(particle_energy_fraction(selected_events, 16), bins=np.linspace(0, 1, 20), histtype=\"step\", label=label, density=True, lw=2)\n",
    "\n",
    "ax.set(xlabel=\"Energy fraction\", title=r\"$\\nu_\\tau$ energy fraction for $\\tau \\to \\pi^0 \\pi^0 \\pi^- \\nu_\\tau$ events | $E_\\nu =$\" + f\"{genie_nutau_energy} GeV\")\n",
    "ax.legend()\n",
    "ax.grid(True)"
   ]
  },
  {
   "cell_type": "markdown",
   "metadata": {},
   "source": [
    "## Compare Geant4 decay products with Tauola decay products"
   ]
  },
  {
   "cell_type": "code",
   "execution_count": 28,
   "metadata": {},
   "outputs": [],
   "source": [
    "def get_particle_property(decay_products: pd.DataFrame, pdg: int, prop: str) -> tuple[pd.Series, pd.Series]:\n",
    "    nutau_e = decay_products.query(\"pdg == 16\")[prop]\n",
    "    anti_nutau_e = decay_products.query(\"pdg == -16\")[prop]\n",
    "    return nutau_e, anti_nutau_e\n",
    "\n",
    "\n",
    "def compare_histos(nutau, anti_nutau, nutau_nopol, anti_nutau_nopol, nutau_g4, anti_nutau_g4, bins, density=None, **kwargs):\n",
    "    fig, axs = plt.subplots(figsize=(10, 4), nrows=1, ncols=2, layout=\"constrained\")\n",
    "\n",
    "    for ax, label, lists, in zip(axs, (\"Neutrino\", \"Anti-neutrino\"), ((nutau, nutau_nopol, nutau_g4), (anti_nutau, anti_nutau_nopol, anti_nutau_g4))):\n",
    "        for energies, particle_type in zip(lists, (\"polarized\", \"unpolarized (Tauola)\", \"unpolarized (Geant4)\")):\n",
    "            ax.hist(energies, bins=bins, label=f\"{label} {particle_type}\", density=density, histtype=\"step\", lw=2)\n",
    "            # ax.set_title(f\"{label} {particle_type}\")\n",
    "            \n",
    "    for ax in axs.flat:\n",
    "        ax.set(**kwargs, ylabel=\"Density of number of neutrinos\")\n",
    "        ax.grid(True, alpha=0.5)\n",
    "        ax.legend(fontsize=\"large\")\n",
    "\n",
    "    return fig, axs"
   ]
  },
  {
   "cell_type": "code",
   "execution_count": 1,
   "metadata": {},
   "outputs": [
    {
     "ename": "NameError",
     "evalue": "name 'get_particle_property' is not defined",
     "output_type": "error",
     "traceback": [
      "\u001b[0;31m---------------------------------------------------------------------------\u001b[0m",
      "\u001b[0;31mNameError\u001b[0m                                 Traceback (most recent call last)",
      "Cell \u001b[0;32mIn[1], line 1\u001b[0m\n\u001b[0;32m----> 1\u001b[0m nutau, anti_nutau \u001b[38;5;241m=\u001b[39m get_particle_property(decay_products, \u001b[38;5;241m16\u001b[39m, \u001b[38;5;124m\"\u001b[39m\u001b[38;5;124mE\u001b[39m\u001b[38;5;124m\"\u001b[39m)\n\u001b[1;32m      2\u001b[0m nutau_nopol, anti_nutau_nopol \u001b[38;5;241m=\u001b[39m get_particle_property(decay_products_nopol, \u001b[38;5;241m16\u001b[39m, \u001b[38;5;124m\"\u001b[39m\u001b[38;5;124mE\u001b[39m\u001b[38;5;124m\"\u001b[39m)\n\u001b[1;32m      3\u001b[0m nutau_g4, anti_nutau_g4 \u001b[38;5;241m=\u001b[39m get_particle_property(decay_products_g4, \u001b[38;5;241m16\u001b[39m, \u001b[38;5;124m\"\u001b[39m\u001b[38;5;124mE\u001b[39m\u001b[38;5;124m\"\u001b[39m)\n",
      "\u001b[0;31mNameError\u001b[0m: name 'get_particle_property' is not defined"
     ]
    }
   ],
   "source": [
    "nutau, anti_nutau = get_particle_property(decay_products, 16, \"E\")\n",
    "nutau_nopol, anti_nutau_nopol = get_particle_property(decay_products_nopol, 16, \"E\")\n",
    "nutau_g4, anti_nutau_g4 = get_particle_property(decay_products_g4, 16, \"E\")\n",
    "\n",
    "compare_histos(nutau, anti_nutau, nutau_nopol, anti_nutau_nopol, nutau_g4, anti_nutau_g4, \n",
    "               bins=np.linspace(0, genie_nutau_energy, 50), xlabel=\"Neutrino energy [GeV]\", density=True)"
   ]
  },
  {
   "cell_type": "code",
   "execution_count": 9,
   "metadata": {},
   "outputs": [
    {
     "name": "stderr",
     "output_type": "stream",
     "text": [
      "/home/simon/miniconda3/envs/cern-skhep/lib/python3.11/site-packages/numpy/lib/histograms.py:883: RuntimeWarning: divide by zero encountered in divide\n",
      "  return n/db/n.sum(), bin_edges\n",
      "/home/simon/miniconda3/envs/cern-skhep/lib/python3.11/site-packages/numpy/lib/histograms.py:883: RuntimeWarning: invalid value encountered in divide\n",
      "  return n/db/n.sum(), bin_edges\n"
     ]
    },
    {
     "data": {
      "text/plain": [
       "(<Figure size 1000x400 with 2 Axes>,\n",
       " array([<Axes: xlabel='Tau visible energy [GeV]', ylabel='Density of number of neutrinos'>,\n",
       "        <Axes: xlabel='Tau visible energy [GeV]', ylabel='Density of number of neutrinos'>],\n",
       "       dtype=object))"
      ]
     },
     "execution_count": 9,
     "metadata": {},
     "output_type": "execute_result"
    },
    {
     "data": {
      "image/png": "[encoded data removed]",
      "text/plain": [
       "<Figure size 1000x400 with 2 Axes>"
      ]
     },
     "metadata": {},
     "output_type": "display_data"
    }
   ],
   "source": [
    "nutau = decay_products.query(\"pdg != 16\").groupby(\"event_num\")[\"E\"].sum()\n",
    "nutau_nopol = decay_products_nopol.query(\"pdg != 16\").groupby(\"event_num\")[\"E\"].sum()\n",
    "nutau_g4 = decay_products_g4.query(\"pdg != 16\").groupby(\"event_num\")[\"E\"].sum()\n",
    "\n",
    "compare_histos(nutau, np.array([]), nutau_nopol, np.array([]), nutau_g4, np.array([]), \n",
    "               bins=np.linspace(0, genie_nutau_energy, 50), xlabel=\"Tau visible energy [GeV]\", density=True)"
   ]
  },
  {
   "cell_type": "markdown",
   "metadata": {},
   "source": [
    "When viewing the distribution of all events (regardless of decay mode) and the neutrino energy in these cases, there is a slight shift. In the polarized simulations, the neutrinos typically have a lower energy that in the unpolarized case. This would mean that IceCube simulations using the unpolarized simulations underestimate the energy deposited in the detector, i.e., overestimate the missing energy."
   ]
  },
  {
   "cell_type": "markdown",
   "metadata": {},
   "source": [
    "## Pion momentum fraction\n",
    "See Fig. 2 in the DUNE paper"
   ]
  },
  {
   "cell_type": "code",
   "execution_count": 10,
   "metadata": {},
   "outputs": [],
   "source": [
    "def filter_events(decay_products: pd.DataFrame, col: str, filter_func: callable, **kwargs) -> pd.DataFrame:\n",
    "    mask = decay_products.groupby(\"event_num\")[col].agg(filter_func, **kwargs)\n",
    "    allowed_events = mask[mask > 0].index\n",
    "    return decay_products[decay_products[\"event_num\"].isin(allowed_events)]"
   ]
  },
  {
   "cell_type": "code",
   "execution_count": 11,
   "metadata": {},
   "outputs": [],
   "source": [
    "@numba.njit\n",
    "def is_pion_nutau_event(values: np.ndarray, index: np.ndarray) -> bool:\n",
    "    # at index 0, we should have the pdg, since the event number is now the index\n",
    "    # print(values)\n",
    "    # return True\n",
    "    return (values == -211).any() and (values == 16).any() and (values.size == 2)\n",
    "\n",
    "\n",
    "# Only select events that decay to a pion and a neutrino (211 and 16)\n",
    "pion_neutrino_events = filter_events(decay_products, \"pdg\", is_pion_nutau_event, engine=\"numba\")\n",
    "pion_neutrino_events_nopol = filter_events(decay_products_nopol, \"pdg\", is_pion_nutau_event, engine=\"numba\")\n",
    "pion_neutrino_events_g4 = filter_events(decay_products_g4, \"pdg\", is_pion_nutau_event, engine=\"numba\")"
   ]
  },
  {
   "cell_type": "code",
   "execution_count": 12,
   "metadata": {},
   "outputs": [],
   "source": [
    "def pion_momentum_fraction(decay_products):\n",
    "    # Calculate the momentum fraction of the tau neutrino relative to the total momentum of all decay products\n",
    "    pion_momentum = (\n",
    "        decay_products\n",
    "        .query(\"pdg.abs() == 211\")\n",
    "        .loc[:, \"px\":\"pz\"]\n",
    "        .pow(2)\n",
    "        .sum(axis=1)\n",
    "        .pow(0.5)\n",
    "    )\n",
    "\n",
    "    decay_products = decay_products.copy()\n",
    "    decay_products.loc[:, \"P\"] = decay_products.loc[:, \"px\":\"pz\"].pow(2).sum(axis=1).pow(0.5)\n",
    "    \n",
    "    tau_momentum = (\n",
    "        decay_products\n",
    "        .groupby(\"event_num\")\n",
    "        [\"P\"].sum()\n",
    "    )\n",
    "    return pion_momentum.values / tau_momentum.values\n",
    "\n",
    "\n",
    "def nu_momentum_fraction(decay_products):\n",
    "    # Calculate the momentum fraction of the tau neutrino relative to the total momentum of all decay products\n",
    "    nu_momentum = (\n",
    "        decay_products\n",
    "        .query(\"pdg.abs() == 16\")\n",
    "        .loc[:, \"px\":\"pz\"]\n",
    "        .pow(2)\n",
    "        .sum(axis=1)\n",
    "        .pow(0.5)\n",
    "    )\n",
    "\n",
    "    decay_products = decay_products.copy()\n",
    "    decay_products.loc[:, \"P\"] = decay_products.loc[:, \"px\":\"pz\"].pow(2).sum(axis=1).pow(0.5)\n",
    "    \n",
    "    tau_momentum = (\n",
    "        decay_products\n",
    "        .groupby(\"event_num\")\n",
    "        [\"P\"].sum()\n",
    "    )\n",
    "    return nu_momentum.values / tau_momentum.values"
   ]
  },
  {
   "cell_type": "code",
   "execution_count": 13,
   "metadata": {},
   "outputs": [
    {
     "data": {
      "text/plain": [
       "<matplotlib.legend.Legend at 0x7f704404a590>"
      ]
     },
     "execution_count": 13,
     "metadata": {},
     "output_type": "execute_result"
    },
    {
     "data": {
      "image/png": "[encoded data removed]",
      "text/plain": [
       "<Figure size 640x480 with 1 Axes>"
      ]
     },
     "metadata": {},
     "output_type": "display_data"
    }
   ],
   "source": [
    "# Plot the momentum fraction as a histogram from 0 to 1\n",
    "fig, ax = plt.subplots()\n",
    "ax.hist(pion_momentum_fraction(pion_neutrino_events), bins=np.linspace(0, 1, 20), label=\"Polarized\", histtype=\"step\", density=True, lw=2)\n",
    "ax.hist(pion_momentum_fraction(pion_neutrino_events_nopol), bins=np.linspace(0, 1, 20), label=\"Unpolarized (Tauola)\", histtype=\"step\", density=True, lw=2)\n",
    "ax.hist(pion_momentum_fraction(pion_neutrino_events_g4), bins=np.linspace(0, 1, 20), label=\"Unpolarized (Geant4)\", histtype=\"step\", density=True, lw=2)\n",
    "ax.set(xlim=(0, 1), xlabel=\"Pion momentum fraction\", ylabel=\"Number density\")\n",
    "ax.grid(True, alpha=0.5)\n",
    "ax.legend()"
   ]
  },
  {
   "cell_type": "markdown",
   "metadata": {},
   "source": [
    "We see a clear difference between the decay using Tauola with real polarization given by GENIE and the unpolarized decay by Geant4.\n",
    "A similar difference would likely be seen for the IceCube simulations."
   ]
  },
  {
   "cell_type": "code",
   "execution_count": 14,
   "metadata": {},
   "outputs": [],
   "source": [
    "@numba.njit\n",
    "def is_pion_nutau_event(values: np.ndarray, index: np.ndarray) -> bool:\n",
    "    # at index 0, we should have the pdg, since the event number is now the index\n",
    "    # print(values)\n",
    "    # return True\n",
    "    return (values == -211).any() and (values == 16).any() and (values.size == 2)\n",
    "\n",
    "\n",
    "# Only select events that decay to a pion and a neutrino (211 and 16)\n",
    "pion_neutrino_events = filter_events(decay_products, \"pdg\", is_pion_nutau_event, engine=\"numba\")\n",
    "pion_neutrino_events_nopol = filter_events(decay_products_nopol, \"pdg\", is_pion_nutau_event, engine=\"numba\")\n",
    "pion_neutrino_events_g4 = filter_events(decay_products_g4, \"pdg\", is_pion_nutau_event, engine=\"numba\")"
   ]
  },
  {
   "cell_type": "code",
   "execution_count": 15,
   "metadata": {},
   "outputs": [],
   "source": [
    "@numba.njit\n",
    "def is_pi0_pim_nutau_event(values, index) -> bool:\n",
    "    return (values == -211).any() and (values == 111).any() and (values == 16).any() and (values.size == 3)\n",
    "\n",
    "# Only select events that decay to a pi-, a neutrino and a pi0(211, 16 and 111)\n",
    "pion_neutrino_events = filter_events(decay_products, \"pdg\", is_pi0_pim_nutau_event, engine=\"numba\")\n",
    "pion_neutrino_events_nopol = filter_events(decay_products_nopol, \"pdg\", is_pi0_pim_nutau_event, engine=\"numba\")\n",
    "pion_neutrino_events_g4 = filter_events(decay_products_g4, \"pdg\", is_pi0_pim_nutau_event, engine=\"numba\")"
   ]
  },
  {
   "cell_type": "code",
   "execution_count": 16,
   "metadata": {},
   "outputs": [
    {
     "data": {
      "text/plain": [
       "<matplotlib.legend.Legend at 0x7f705c6be310>"
      ]
     },
     "execution_count": 16,
     "metadata": {},
     "output_type": "execute_result"
    },
    {
     "data": {
      "image/png": "[encoded data removed]",
      "text/plain": [
       "<Figure size 640x480 with 1 Axes>"
      ]
     },
     "metadata": {},
     "output_type": "display_data"
    }
   ],
   "source": [
    "# Plot the momentum fraction as a histogram from 0 to 1\n",
    "fig, ax = plt.subplots()\n",
    "ax.hist(nu_momentum_fraction(pion_neutrino_events), bins=np.linspace(0, 1, 20), label=\"Polarized\", histtype=\"step\", density=True, lw=2)\n",
    "ax.hist(nu_momentum_fraction(pion_neutrino_events_nopol), bins=np.linspace(0, 1, 20), label=\"Unpolarized (Tauola)\", histtype=\"step\", density=True, lw=2)\n",
    "ax.hist(nu_momentum_fraction(pion_neutrino_events_g4), bins=np.linspace(0, 1, 20), label=\"Unpolarized (Geant4)\", histtype=\"step\", density=True, lw=2)\n",
    "ax.set(xlim=(0, 1), xlabel=r\"$\\nu_\\tau$ momentum fraction for $\\tau\\to\\pi^0\\pi^-\\nu_\\tau$\", ylabel=\"Number density\")\n",
    "ax.grid(True, alpha=0.5)\n",
    "ax.legend()"
   ]
  },
  {
   "cell_type": "code",
   "execution_count": 57,
   "metadata": {},
   "outputs": [],
   "source": [
    "# TODO plot angular distributions of particles in tau rest frame"
   ]
  },
  {
   "cell_type": "markdown",
   "metadata": {},
   "source": [
    "## Branching ratios"
   ]
  },
  {
   "cell_type": "code",
   "execution_count": 18,
   "metadata": {},
   "outputs": [
    {
     "data": {
      "text/plain": [
       "{(-211, 16, 111): 0.2528492694970595,\n",
       " (-14, 13, 16): 0.17060075159108895,\n",
       " (-12, 11, 16): 0.15218534823878418,\n",
       " (-211, 16): 0.11143309370246281,\n",
       " (-211, 16, 111, 111): 0.09160786469464835,\n",
       " (-211, -211, 16, 211): 0.08970993133319749,\n",
       " (-211, -211, 16, 111, 211): 0.04555040067482075,\n",
       " (-12, 11, 16, 22): 0.02840502513991631,\n",
       " (-211, 16, 111, 111, 111): 0.009864040678801434,\n",
       " (-321, 16): 0.0068974831650230545,\n",
       " (-14, 13, 16, 22): 0.0058928342945421975,\n",
       " (-321, -211, 16, 211): 0.005091958544017363,\n",
       " (-321, 16, 111): 0.004672565029689269,\n",
       " (-211, 16, 310): 0.004407186082769798,\n",
       " (-211, 16, 130): 0.004328994071623882,\n",
       " (-211, 16, 111, 310): 0.0028196513110193867,\n",
       " (-211, 16, 111, 130): 0.0027225036608077946,\n",
       " (-211, 16, 111, 221): 0.001670465692662746,\n",
       " (-321, -211, 16, 321): 0.0014595842080570944,\n",
       " (-211, 16, 22, 111): 0.0012984612759988437,\n",
       " (-211, -211, 16, 111, 111, 211): 0.0008932844909700074,\n",
       " (-321, 16, 111, 310): 0.0007961368407584152,\n",
       " (-321, 16, 111, 130): 0.0007487477430942238,\n",
       " (-211, 16, 130, 310): 0.0007037281003132419,\n",
       " (-321, 16, 130): 0.0005046938901236382,\n",
       " (-211, -211, 16, 111, 111, 111, 211): 0.0005023244352404286,\n",
       " (-321, 16, 111, 111): 0.0004999549803572191,\n",
       " (-321, 16, 310): 0.0004715215217587042,\n",
       " (-211, -211, -211, 16, 211, 211): 0.0004265018789777224,\n",
       " (-211, 16, 130, 130): 0.000379112781313531,\n",
       " (-211, 16, 310, 310): 0.0003696349617806927,\n",
       " (-211, -211, -211, 16, 111, 211, 211): 0.00023694548832095687}"
      ]
     },
     "execution_count": 18,
     "metadata": {},
     "output_type": "execute_result"
    }
   ],
   "source": [
    "branching_ratios(decay_products)"
   ]
  },
  {
   "cell_type": "code",
   "execution_count": 19,
   "metadata": {},
   "outputs": [
    {
     "data": {
      "text/plain": [
       "{(-211, 16, 111): 0.2526028461892057,\n",
       " (-14, 13, 16): 0.17087086944777485,\n",
       " (-12, 11, 16): 0.1524080769978059,\n",
       " (-211, 16): 0.11133831550713442,\n",
       " (-211, 16, 111, 111): 0.09188509091598387,\n",
       " (-211, -211, 16, 211): 0.08870291300783342,\n",
       " (-211, -211, 16, 111, 211): 0.04560726759201778,\n",
       " (-12, 11, 16, 22): 0.02863012335382122,\n",
       " (-211, 16, 111, 111, 111): 0.010205242181983612,\n",
       " (-321, 16): 0.007053867187314886,\n",
       " (-14, 13, 16, 22): 0.00576725318573209,\n",
       " (-321, -211, 16, 211): 0.00516778110028007,\n",
       " (-321, 16, 111): 0.004809993412915424,\n",
       " (-211, 16, 310): 0.004369274804638445,\n",
       " (-211, 16, 130): 0.004146546045616746,\n",
       " (-211, 16, 111, 130): 0.0027438287547566806,\n",
       " (-211, 16, 111, 310): 0.002731981480340633,\n",
       " (-211, 16, 111, 221): 0.0017225937000933565,\n",
       " (-321, -211, 16, 321): 0.0016159682303489259,\n",
       " (-211, 16, 22, 111): 0.0012889834564660055,\n",
       " (-211, -211, 16, 111, 111, 211): 0.0008980234007364265,\n",
       " (-321, 16, 111, 310): 0.000791397930991996,\n",
       " (-321, 16, 111, 130): 0.0007060975551964515,\n",
       " (-211, 16, 130, 310): 0.0007037281003132419,\n",
       " (-321, 16, 130): 0.0005402357133717817,\n",
       " (-321, 16, 310): 0.00046678261199228503,\n",
       " (-321, 16, 111, 111): 0.0004620437022258659,\n",
       " (-211, -211, 16, 111, 111, 111, 211): 0.0004336102436273511,\n",
       " (-211, -211, -211, 16, 211, 211): 0.000379112781313531,\n",
       " (-211, 16, 130, 130): 0.0003340931385325492,\n",
       " (-211, 16, 310, 310): 0.0003198764092332918,\n",
       " (-211, -211, -211, 16, 111, 211, 211): 0.0002961818604011961}"
      ]
     },
     "execution_count": 19,
     "metadata": {},
     "output_type": "execute_result"
    }
   ],
   "source": [
    "branching_ratios(decay_products_nopol)"
   ]
  },
  {
   "cell_type": "code",
   "execution_count": 14,
   "metadata": {},
   "outputs": [
    {
     "data": {
      "text/plain": [
       "{(-211, 16, 111): 0.2785104658822191,\n",
       " (-12, 11, 16): 0.19635435671669377,\n",
       " (-14, 13, 16): 0.19045204460261872,\n",
       " (-211, 16): 0.12160279406119828,\n",
       " (-211, -211, 16, 211): 0.10418256175984153,\n",
       " (-211, 16, 111, 111): 0.10039143394670622,\n",
       " (-211, 11, 16, 111): 0.00236234651855994,\n",
       " (-12, 11, 11, 16): 0.0016823129670787938,\n",
       " (-14, 11, 13, 16): 0.0016183376852321354,\n",
       " (-211, 11, 16): 0.0010046488704808572,\n",
       " (-211, -211, 11, 16, 211): 0.0009383041337509893,\n",
       " (-211, 11, 16, 111, 111): 0.0008174619347073013,\n",
       " (-211, 11, 11, 16, 111): 2.6064003715305258e-05,\n",
       " (-12, 11, 11, 11, 16): 1.895563906567655e-05,\n",
       " (-211, 11, 11, 16, 111, 111): 1.4216729299257413e-05,\n",
       " (-14, 11, 11, 13, 16): 9.477819532838276e-06,\n",
       " (-211, -211, 11, 11, 16, 211): 7.108364649628706e-06,\n",
       " (-211, 11, 11, 16): 4.738909766419138e-06,\n",
       " (-211, 11, 11, 11, 16, 111, 111): 2.369454883209569e-06}"
      ]
     },
     "execution_count": 14,
     "metadata": {},
     "output_type": "execute_result"
    }
   ],
   "source": [
    "branching_ratios(decay_products_g4)"
   ]
  },
  {
   "cell_type": "markdown",
   "metadata": {},
   "source": [
    "We see that there is no large difference ($\\mathcal{O}(0.1\\%)$) in branching ratio between polarized and unpolarized Tauola decays. This is good, as they should be identical, since the branching ratio is not affected by the polarization.\n",
    "\n",
    "The Geant4 branching ratios differ by $\\mathcal{O}(10\\%)$ from the Tauola branching ratios. This discrepancy might be the reason for the large difference between the neutrino energy distributions between the unpolarized Tauola and Geant4 simulations. This is further strenghened by the fact that when only looking at the $\\tau^- \\to \\pi^- \\nu_tau$ decay mode, the distributions for unpolarized Tauola and Geant4 are much more similar."
   ]
  },
  {
   "cell_type": "markdown",
   "metadata": {},
   "source": [
    "## Check which GENIE events have 0 polarization for tau"
   ]
  },
  {
   "cell_type": "code",
   "execution_count": 3,
   "metadata": {},
   "outputs": [],
   "source": [
    "event_info = pd.read_csv(\"../data/event_info.csv\")\n",
    "particle_info = pd.read_csv(\"../data/genie_tau_pol_data_e10_1.csv\")"
   ]
  },
  {
   "cell_type": "code",
   "execution_count": 5,
   "metadata": {},
   "outputs": [],
   "source": [
    "nopol_taus = particle_info.query(\"(pdg == 15) and (polx == 0) and (poly == 0) and (polz == 0)\")"
   ]
  },
  {
   "cell_type": "code",
   "execution_count": 8,
   "metadata": {},
   "outputs": [
    {
     "data": {
      "text/plain": [
       "event_num    5.289447e+10\n",
       "xsec         2.912386e-05\n",
       "qel          3.164700e+04\n",
       "res          6.518400e+04\n",
       "dis          1.048860e+05\n",
       "coh          2.000000e+01\n",
       "dfr          1.150000e+02\n",
       "dtype: float64"
      ]
     },
     "execution_count": 8,
     "metadata": {},
     "output_type": "execute_result"
    }
   ],
   "source": [
    "event_info.sum(axis=0)"
   ]
  },
  {
   "cell_type": "code",
   "execution_count": 7,
   "metadata": {},
   "outputs": [
    {
     "data": {
      "text/plain": [
       "event_num    9.978691e+09\n",
       "xsec         3.954598e-06\n",
       "qel          3.075200e+04\n",
       "res          0.000000e+00\n",
       "dis          0.000000e+00\n",
       "coh          0.000000e+00\n",
       "dfr          0.000000e+00\n",
       "dtype: float64"
      ]
     },
     "execution_count": 7,
     "metadata": {},
     "output_type": "execute_result"
    }
   ],
   "source": [
    "event_info[event_info[\"event_num\"].isin(nopol_taus[\"event_num\"])].sum(axis=0)"
   ]
  }
 ],
 "metadata": {
  "kernelspec": {
   "display_name": "cern-skhep",
   "language": "python",
   "name": "python3"
  },
  "language_info": {
   "codemirror_mode": {
    "name": "ipython",
    "version": 3
   },
   "file_extension": ".py",
   "mimetype": "text/x-python",
   "name": "python",
   "nbconvert_exporter": "python",
   "pygments_lexer": "ipython3",
   "version": "3.11.4"
  }
 },
 "nbformat": 4,
 "nbformat_minor": 2
}
