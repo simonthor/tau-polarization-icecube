{
 "cells": [
  {
   "cell_type": "markdown",
   "metadata": {},
   "source": [
    "# Compare tau decay distributions between Tauola and IceCube simulations"
   ]
  },
  {
   "cell_type": "code",
   "execution_count": 5,
   "metadata": {},
   "outputs": [],
   "source": [
    "import pandas as pd\n",
    "import numpy as np\n",
    "import matplotlib.pyplot as plt\n",
    "import sys\n",
    "sys.path.append(\"../\")\n",
    "from utils.hepmc_io import load_hepmc \n",
    "from collections import Counter"
   ]
  },
  {
   "cell_type": "markdown",
   "metadata": {},
   "source": [
    "## Load decays"
   ]
  },
  {
   "cell_type": "code",
   "execution_count": 6,
   "metadata": {},
   "outputs": [
    {
     "name": "stdout",
     "output_type": "stream",
     "text": [
      "0\n",
      "10000\n",
      "20000\n",
      "30000\n",
      "40000\n",
      "50000\n",
      "0\n",
      "10000\n",
      "20000\n",
      "30000\n",
      "40000\n",
      "50000\n"
     ]
    }
   ],
   "source": [
    "decay_products = load_hepmc(\"../data/tauola_output_genie_e5.dat\").groupby(\"event_num\").nth[3:].sort_values(\"event_num\")\n",
    "decay_products_nopol = load_hepmc(\"../data/tauola_output_genie_nopol_e5.dat\").groupby(\"event_num\").nth[3:].sort_values(\"event_num\")\n",
    "decay_products_g4 = pd.read_csv(\"../data/geant4_output_e5.csv\").sort_values(\"event_num\")"
   ]
  },
  {
   "cell_type": "code",
   "execution_count": 7,
   "metadata": {},
   "outputs": [
    {
     "data": {
      "text/html": [
       "<div>\n",
       "<style scoped>\n",
       "    .dataframe tbody tr th:only-of-type {\n",
       "        vertical-align: middle;\n",
       "    }\n",
       "\n",
       "    .dataframe tbody tr th {\n",
       "        vertical-align: top;\n",
       "    }\n",
       "\n",
       "    .dataframe thead th {\n",
       "        text-align: right;\n",
       "    }\n",
       "</style>\n",
       "<table border=\"1\" class=\"dataframe\">\n",
       "  <thead>\n",
       "    <tr style=\"text-align: right;\">\n",
       "      <th></th>\n",
       "      <th>event_num</th>\n",
       "      <th>pdg</th>\n",
       "      <th>E</th>\n",
       "      <th>px</th>\n",
       "      <th>py</th>\n",
       "      <th>pz</th>\n",
       "    </tr>\n",
       "  </thead>\n",
       "  <tbody>\n",
       "    <tr>\n",
       "      <th>3</th>\n",
       "      <td>4</td>\n",
       "      <td>16</td>\n",
       "      <td>1.132845</td>\n",
       "      <td>0.439469</td>\n",
       "      <td>-0.681560</td>\n",
       "      <td>0.790937</td>\n",
       "    </tr>\n",
       "    <tr>\n",
       "      <th>4</th>\n",
       "      <td>4</td>\n",
       "      <td>-211</td>\n",
       "      <td>2.542037</td>\n",
       "      <td>-0.439625</td>\n",
       "      <td>0.607542</td>\n",
       "      <td>2.424891</td>\n",
       "    </tr>\n",
       "    <tr>\n",
       "      <th>8</th>\n",
       "      <td>15</td>\n",
       "      <td>16</td>\n",
       "      <td>1.864992</td>\n",
       "      <td>-0.042088</td>\n",
       "      <td>-0.634777</td>\n",
       "      <td>1.753106</td>\n",
       "    </tr>\n",
       "    <tr>\n",
       "      <th>9</th>\n",
       "      <td>15</td>\n",
       "      <td>-211</td>\n",
       "      <td>0.190599</td>\n",
       "      <td>-0.051441</td>\n",
       "      <td>-0.118041</td>\n",
       "      <td>0.016393</td>\n",
       "    </tr>\n",
       "    <tr>\n",
       "      <th>10</th>\n",
       "      <td>15</td>\n",
       "      <td>111</td>\n",
       "      <td>1.259576</td>\n",
       "      <td>-0.014008</td>\n",
       "      <td>0.716687</td>\n",
       "      <td>1.026879</td>\n",
       "    </tr>\n",
       "    <tr>\n",
       "      <th>...</th>\n",
       "      <td>...</td>\n",
       "      <td>...</td>\n",
       "      <td>...</td>\n",
       "      <td>...</td>\n",
       "      <td>...</td>\n",
       "      <td>...</td>\n",
       "    </tr>\n",
       "    <tr>\n",
       "      <th>343061</th>\n",
       "      <td>999982</td>\n",
       "      <td>16</td>\n",
       "      <td>0.632004</td>\n",
       "      <td>-0.451806</td>\n",
       "      <td>-0.333709</td>\n",
       "      <td>0.289549</td>\n",
       "    </tr>\n",
       "    <tr>\n",
       "      <th>343067</th>\n",
       "      <td>999988</td>\n",
       "      <td>-211</td>\n",
       "      <td>0.890761</td>\n",
       "      <td>0.224052</td>\n",
       "      <td>-0.473834</td>\n",
       "      <td>0.706582</td>\n",
       "    </tr>\n",
       "    <tr>\n",
       "      <th>343068</th>\n",
       "      <td>999988</td>\n",
       "      <td>-211</td>\n",
       "      <td>0.221205</td>\n",
       "      <td>-0.113495</td>\n",
       "      <td>0.109653</td>\n",
       "      <td>0.067436</td>\n",
       "    </tr>\n",
       "    <tr>\n",
       "      <th>343066</th>\n",
       "      <td>999988</td>\n",
       "      <td>16</td>\n",
       "      <td>1.333526</td>\n",
       "      <td>0.133969</td>\n",
       "      <td>0.192002</td>\n",
       "      <td>1.312775</td>\n",
       "    </tr>\n",
       "    <tr>\n",
       "      <th>343069</th>\n",
       "      <td>999988</td>\n",
       "      <td>211</td>\n",
       "      <td>1.371521</td>\n",
       "      <td>-0.483554</td>\n",
       "      <td>-0.091097</td>\n",
       "      <td>1.272583</td>\n",
       "    </tr>\n",
       "  </tbody>\n",
       "</table>\n",
       "<p>177974 rows × 6 columns</p>\n",
       "</div>"
      ],
      "text/plain": [
       "        event_num  pdg         E        px        py        pz\n",
       "3               4   16  1.132845  0.439469 -0.681560  0.790937\n",
       "4               4 -211  2.542037 -0.439625  0.607542  2.424891\n",
       "8              15   16  1.864992 -0.042088 -0.634777  1.753106\n",
       "9              15 -211  0.190599 -0.051441 -0.118041  0.016393\n",
       "10             15  111  1.259576 -0.014008  0.716687  1.026879\n",
       "...           ...  ...       ...       ...       ...       ...\n",
       "343061     999982   16  0.632004 -0.451806 -0.333709  0.289549\n",
       "343067     999988 -211  0.890761  0.224052 -0.473834  0.706582\n",
       "343068     999988 -211  0.221205 -0.113495  0.109653  0.067436\n",
       "343066     999988   16  1.333526  0.133969  0.192002  1.312775\n",
       "343069     999988  211  1.371521 -0.483554 -0.091097  1.272583\n",
       "\n",
       "[177974 rows x 6 columns]"
      ]
     },
     "execution_count": 7,
     "metadata": {},
     "output_type": "execute_result"
    }
   ],
   "source": [
    "decay_products"
   ]
  },
  {
   "cell_type": "code",
   "execution_count": 8,
   "metadata": {},
   "outputs": [
    {
     "data": {
      "text/html": [
       "<div>\n",
       "<style scoped>\n",
       "    .dataframe tbody tr th:only-of-type {\n",
       "        vertical-align: middle;\n",
       "    }\n",
       "\n",
       "    .dataframe tbody tr th {\n",
       "        vertical-align: top;\n",
       "    }\n",
       "\n",
       "    .dataframe thead th {\n",
       "        text-align: right;\n",
       "    }\n",
       "</style>\n",
       "<table border=\"1\" class=\"dataframe\">\n",
       "  <thead>\n",
       "    <tr style=\"text-align: right;\">\n",
       "      <th></th>\n",
       "      <th>event_num</th>\n",
       "      <th>pdg</th>\n",
       "      <th>E</th>\n",
       "      <th>px</th>\n",
       "      <th>py</th>\n",
       "      <th>pz</th>\n",
       "    </tr>\n",
       "  </thead>\n",
       "  <tbody>\n",
       "    <tr>\n",
       "      <th>3</th>\n",
       "      <td>4</td>\n",
       "      <td>16</td>\n",
       "      <td>2.926796</td>\n",
       "      <td>0.559238</td>\n",
       "      <td>-0.377204</td>\n",
       "      <td>2.847983</td>\n",
       "    </tr>\n",
       "    <tr>\n",
       "      <th>4</th>\n",
       "      <td>4</td>\n",
       "      <td>-211</td>\n",
       "      <td>0.748086</td>\n",
       "      <td>-0.559394</td>\n",
       "      <td>0.303186</td>\n",
       "      <td>0.367845</td>\n",
       "    </tr>\n",
       "    <tr>\n",
       "      <th>8</th>\n",
       "      <td>15</td>\n",
       "      <td>16</td>\n",
       "      <td>0.812844</td>\n",
       "      <td>0.591308</td>\n",
       "      <td>0.134654</td>\n",
       "      <td>0.541145</td>\n",
       "    </tr>\n",
       "    <tr>\n",
       "      <th>9</th>\n",
       "      <td>15</td>\n",
       "      <td>-211</td>\n",
       "      <td>1.442244</td>\n",
       "      <td>-0.289090</td>\n",
       "      <td>0.250823</td>\n",
       "      <td>1.383511</td>\n",
       "    </tr>\n",
       "    <tr>\n",
       "      <th>10</th>\n",
       "      <td>15</td>\n",
       "      <td>111</td>\n",
       "      <td>1.060078</td>\n",
       "      <td>-0.409755</td>\n",
       "      <td>-0.421608</td>\n",
       "      <td>0.871721</td>\n",
       "    </tr>\n",
       "    <tr>\n",
       "      <th>...</th>\n",
       "      <td>...</td>\n",
       "      <td>...</td>\n",
       "      <td>...</td>\n",
       "      <td>...</td>\n",
       "      <td>...</td>\n",
       "      <td>...</td>\n",
       "    </tr>\n",
       "    <tr>\n",
       "      <th>343274</th>\n",
       "      <td>999988</td>\n",
       "      <td>-211</td>\n",
       "      <td>0.942294</td>\n",
       "      <td>-0.040821</td>\n",
       "      <td>-0.147700</td>\n",
       "      <td>0.919215</td>\n",
       "    </tr>\n",
       "    <tr>\n",
       "      <th>343275</th>\n",
       "      <td>999988</td>\n",
       "      <td>211</td>\n",
       "      <td>0.277870</td>\n",
       "      <td>-0.130407</td>\n",
       "      <td>0.046377</td>\n",
       "      <td>0.196408</td>\n",
       "    </tr>\n",
       "    <tr>\n",
       "      <th>343272</th>\n",
       "      <td>999988</td>\n",
       "      <td>16</td>\n",
       "      <td>1.034345</td>\n",
       "      <td>0.107242</td>\n",
       "      <td>-0.285457</td>\n",
       "      <td>0.988324</td>\n",
       "    </tr>\n",
       "    <tr>\n",
       "      <th>343273</th>\n",
       "      <td>999988</td>\n",
       "      <td>-211</td>\n",
       "      <td>0.429344</td>\n",
       "      <td>0.318941</td>\n",
       "      <td>0.040296</td>\n",
       "      <td>0.248011</td>\n",
       "    </tr>\n",
       "    <tr>\n",
       "      <th>343276</th>\n",
       "      <td>999988</td>\n",
       "      <td>111</td>\n",
       "      <td>1.133161</td>\n",
       "      <td>-0.493983</td>\n",
       "      <td>0.083209</td>\n",
       "      <td>1.007420</td>\n",
       "    </tr>\n",
       "  </tbody>\n",
       "</table>\n",
       "<p>178181 rows × 6 columns</p>\n",
       "</div>"
      ],
      "text/plain": [
       "        event_num  pdg         E        px        py        pz\n",
       "3               4   16  2.926796  0.559238 -0.377204  2.847983\n",
       "4               4 -211  0.748086 -0.559394  0.303186  0.367845\n",
       "8              15   16  0.812844  0.591308  0.134654  0.541145\n",
       "9              15 -211  1.442244 -0.289090  0.250823  1.383511\n",
       "10             15  111  1.060078 -0.409755 -0.421608  0.871721\n",
       "...           ...  ...       ...       ...       ...       ...\n",
       "343274     999988 -211  0.942294 -0.040821 -0.147700  0.919215\n",
       "343275     999988  211  0.277870 -0.130407  0.046377  0.196408\n",
       "343272     999988   16  1.034345  0.107242 -0.285457  0.988324\n",
       "343273     999988 -211  0.429344  0.318941  0.040296  0.248011\n",
       "343276     999988  111  1.133161 -0.493983  0.083209  1.007420\n",
       "\n",
       "[178181 rows x 6 columns]"
      ]
     },
     "execution_count": 8,
     "metadata": {},
     "output_type": "execute_result"
    }
   ],
   "source": [
    "decay_products_nopol"
   ]
  },
  {
   "cell_type": "code",
   "execution_count": 9,
   "metadata": {},
   "outputs": [
    {
     "data": {
      "text/html": [
       "<div>\n",
       "<style scoped>\n",
       "    .dataframe tbody tr th:only-of-type {\n",
       "        vertical-align: middle;\n",
       "    }\n",
       "\n",
       "    .dataframe tbody tr th {\n",
       "        vertical-align: top;\n",
       "    }\n",
       "\n",
       "    .dataframe thead th {\n",
       "        text-align: right;\n",
       "    }\n",
       "</style>\n",
       "<table border=\"1\" class=\"dataframe\">\n",
       "  <thead>\n",
       "    <tr style=\"text-align: right;\">\n",
       "      <th></th>\n",
       "      <th>event_num</th>\n",
       "      <th>pdg</th>\n",
       "      <th>E</th>\n",
       "      <th>px</th>\n",
       "      <th>py</th>\n",
       "      <th>pz</th>\n",
       "    </tr>\n",
       "  </thead>\n",
       "  <tbody>\n",
       "    <tr>\n",
       "      <th>0</th>\n",
       "      <td>0</td>\n",
       "      <td>-211</td>\n",
       "      <td>2.146640</td>\n",
       "      <td>0.471600</td>\n",
       "      <td>-0.772368</td>\n",
       "      <td>1.941550</td>\n",
       "    </tr>\n",
       "    <tr>\n",
       "      <th>50</th>\n",
       "      <td>0</td>\n",
       "      <td>16</td>\n",
       "      <td>1.524980</td>\n",
       "      <td>-0.470983</td>\n",
       "      <td>0.699429</td>\n",
       "      <td>1.270650</td>\n",
       "    </tr>\n",
       "    <tr>\n",
       "      <th>16687</th>\n",
       "      <td>0</td>\n",
       "      <td>-211</td>\n",
       "      <td>2.146640</td>\n",
       "      <td>0.471600</td>\n",
       "      <td>-0.772368</td>\n",
       "      <td>1.941550</td>\n",
       "    </tr>\n",
       "    <tr>\n",
       "      <th>16733</th>\n",
       "      <td>0</td>\n",
       "      <td>16</td>\n",
       "      <td>1.524980</td>\n",
       "      <td>-0.470983</td>\n",
       "      <td>0.699429</td>\n",
       "      <td>1.270650</td>\n",
       "    </tr>\n",
       "    <tr>\n",
       "      <th>65</th>\n",
       "      <td>1</td>\n",
       "      <td>-211</td>\n",
       "      <td>0.315613</td>\n",
       "      <td>0.260604</td>\n",
       "      <td>0.039485</td>\n",
       "      <td>0.103239</td>\n",
       "    </tr>\n",
       "    <tr>\n",
       "      <th>...</th>\n",
       "      <td>...</td>\n",
       "      <td>...</td>\n",
       "      <td>...</td>\n",
       "      <td>...</td>\n",
       "      <td>...</td>\n",
       "      <td>...</td>\n",
       "    </tr>\n",
       "    <tr>\n",
       "      <th>183182</th>\n",
       "      <td>55030</td>\n",
       "      <td>16</td>\n",
       "      <td>1.312980</td>\n",
       "      <td>0.772382</td>\n",
       "      <td>0.404478</td>\n",
       "      <td>0.981708</td>\n",
       "    </tr>\n",
       "    <tr>\n",
       "      <th>183188</th>\n",
       "      <td>55031</td>\n",
       "      <td>111</td>\n",
       "      <td>0.877980</td>\n",
       "      <td>-0.127199</td>\n",
       "      <td>-0.390204</td>\n",
       "      <td>0.764324</td>\n",
       "    </tr>\n",
       "    <tr>\n",
       "      <th>183194</th>\n",
       "      <td>55031</td>\n",
       "      <td>111</td>\n",
       "      <td>1.523760</td>\n",
       "      <td>0.552076</td>\n",
       "      <td>-0.092933</td>\n",
       "      <td>1.410740</td>\n",
       "    </tr>\n",
       "    <tr>\n",
       "      <th>183212</th>\n",
       "      <td>55031</td>\n",
       "      <td>-211</td>\n",
       "      <td>1.077900</td>\n",
       "      <td>-0.490375</td>\n",
       "      <td>0.053564</td>\n",
       "      <td>0.948186</td>\n",
       "    </tr>\n",
       "    <tr>\n",
       "      <th>183218</th>\n",
       "      <td>55031</td>\n",
       "      <td>16</td>\n",
       "      <td>0.336563</td>\n",
       "      <td>-0.174103</td>\n",
       "      <td>0.166671</td>\n",
       "      <td>0.234912</td>\n",
       "    </tr>\n",
       "  </tbody>\n",
       "</table>\n",
       "<p>186544 rows × 6 columns</p>\n",
       "</div>"
      ],
      "text/plain": [
       "        event_num  pdg         E        px        py        pz\n",
       "0               0 -211  2.146640  0.471600 -0.772368  1.941550\n",
       "50              0   16  1.524980 -0.470983  0.699429  1.270650\n",
       "16687           0 -211  2.146640  0.471600 -0.772368  1.941550\n",
       "16733           0   16  1.524980 -0.470983  0.699429  1.270650\n",
       "65              1 -211  0.315613  0.260604  0.039485  0.103239\n",
       "...           ...  ...       ...       ...       ...       ...\n",
       "183182      55030   16  1.312980  0.772382  0.404478  0.981708\n",
       "183188      55031  111  0.877980 -0.127199 -0.390204  0.764324\n",
       "183194      55031  111  1.523760  0.552076 -0.092933  1.410740\n",
       "183212      55031 -211  1.077900 -0.490375  0.053564  0.948186\n",
       "183218      55031   16  0.336563 -0.174103  0.166671  0.234912\n",
       "\n",
       "[186544 rows x 6 columns]"
      ]
     },
     "execution_count": 9,
     "metadata": {},
     "output_type": "execute_result"
    }
   ],
   "source": [
    "decay_products_g4"
   ]
  },
  {
   "cell_type": "markdown",
   "metadata": {},
   "source": [
    "## Compare Geant4 decay products with Tauola decay products"
   ]
  },
  {
   "cell_type": "code",
   "execution_count": 37,
   "metadata": {},
   "outputs": [],
   "source": [
    "def get_particle_property(decay_products: pd.DataFrame, pdg: int, prop: str) -> tuple[pd.Series, pd.Series]:\n",
    "    nutau_e = decay_products.query(\"pdg == 16\")[prop]\n",
    "    anti_nutau_e = decay_products.query(\"pdg == -16\")[prop]\n",
    "    return nutau_e, anti_nutau_e\n",
    "\n",
    "\n",
    "def compare_histos(nutau, anti_nutau, nutau_nopol, anti_nutau_nopol, nutau_g4, anti_nutau_g4, bins, density=None, **kwargs):\n",
    "    fig, axs = plt.subplots(figsize=(10, 4), nrows=1, ncols=2, layout=\"constrained\")\n",
    "\n",
    "    for ax, label, lists, in zip(axs, (\"Neutrino\", \"Anti-neutrino\"), ((nutau, nutau_nopol, nutau_g4), (anti_nutau, anti_nutau_nopol, anti_nutau_g4))):\n",
    "        for energies, particle_type in zip(lists, (\"polarized\", \"unpolarized (Tauola)\", \"unpolarized (Geant4)\")):\n",
    "            ax.hist(energies, bins=bins, label=f\"{label} {particle_type}\", density=density, histtype=\"step\", lw=2)\n",
    "            # ax.set_title(f\"{label} {particle_type}\")\n",
    "            \n",
    "    for ax in axs.flat:\n",
    "        ax.set(**kwargs, ylabel=\"Density of number of neutrinos\")\n",
    "        ax.grid(True, alpha=0.5)\n",
    "        ax.legend(fontsize=\"large\")\n",
    "\n",
    "    return fig, axs"
   ]
  },
  {
   "cell_type": "code",
   "execution_count": 38,
   "metadata": {},
   "outputs": [
    {
     "name": "stderr",
     "output_type": "stream",
     "text": [
      "/home/simon/miniconda3/envs/cern-skhep/lib/python3.11/site-packages/numpy/lib/histograms.py:883: RuntimeWarning: divide by zero encountered in divide\n",
      "  return n/db/n.sum(), bin_edges\n",
      "/home/simon/miniconda3/envs/cern-skhep/lib/python3.11/site-packages/numpy/lib/histograms.py:883: RuntimeWarning: invalid value encountered in divide\n",
      "  return n/db/n.sum(), bin_edges\n"
     ]
    },
    {
     "data": {
      "text/plain": [
       "(<Figure size 1000x400 with 2 Axes>,\n",
       " array([<Axes: xlabel='Neutrino energy [GeV]', ylabel='Density of number of neutrinos'>,\n",
       "        <Axes: xlabel='Neutrino energy [GeV]', ylabel='Density of number of neutrinos'>],\n",
       "       dtype=object))"
      ]
     },
     "execution_count": 38,
     "metadata": {},
     "output_type": "execute_result"
    },
    {
     "data": {
      "image/png": "[encoded data removed]",
      "text/plain": [
       "<Figure size 1000x400 with 2 Axes>"
      ]
     },
     "metadata": {},
     "output_type": "display_data"
    }
   ],
   "source": [
    "nutau, anti_nutau = get_particle_property(decay_products, 16, \"E\")\n",
    "nutau_nopol, anti_nutau_nopol = get_particle_property(decay_products_nopol, 16, \"E\")\n",
    "nutau_g4, anti_nutau_g4 = get_particle_property(decay_products_g4, 16, \"E\")\n",
    "\n",
    "compare_histos(nutau, anti_nutau, nutau_nopol, anti_nutau_nopol, nutau_g4, anti_nutau_g4, \n",
    "               bins=np.linspace(0, 5, 50), xlabel=\"Neutrino energy [GeV]\", density=True)"
   ]
  },
  {
   "cell_type": "markdown",
   "metadata": {},
   "source": [
    "When viewing the distribution of all events (regardless of decay mode) and the neutrino energy in these cases, there is a slight shift. In the polarized simulations, the neutrinos typically have a lower energy that in the unpolarized case. This would mean that IceCube simulations using the unpolarized simulations underestimate the energy deposited in the detector, i.e., overestimate the missing energy."
   ]
  },
  {
   "cell_type": "markdown",
   "metadata": {},
   "source": [
    "## Pion momentum fraction\n",
    "See Fig. 2 in the DUNE paper"
   ]
  },
  {
   "cell_type": "code",
   "execution_count": 34,
   "metadata": {},
   "outputs": [],
   "source": [
    "def is_pion_nutau_event(event: pd.DataFrame) -> bool:\n",
    "    return (event[\"pdg\"] == -211).any() and (event[\"pdg\"] == 16).any() and (event.shape[0] == 2)\n",
    "\n",
    "# Only select events that decay to a pion and a neutrino (211 and 16)\n",
    "pion_neutrino_events = (\n",
    "    decay_products\n",
    "    .groupby(\"event_num\")\n",
    "    .filter(is_pion_nutau_event)\n",
    ")\n",
    "\n",
    "pion_neutrino_events_nopol = (\n",
    "    decay_products_nopol\n",
    "    .groupby(\"event_num\")\n",
    "    .filter(is_pion_nutau_event)\n",
    ")\n",
    "\n",
    "pion_neutrino_events_g4 = (\n",
    "    decay_products_g4\n",
    "    .groupby(\"event_num\")\n",
    "    .filter(is_pion_nutau_event)\n",
    ")"
   ]
  },
  {
   "cell_type": "code",
   "execution_count": 35,
   "metadata": {},
   "outputs": [],
   "source": [
    "def pion_momentum_fraction(decay_products):\n",
    "    # Calculate the momentum fraction of the pion (row 3-4) relative to the tau (row 2)\n",
    "    pion_momentum = (\n",
    "        decay_products\n",
    "        .query(\"pdg.abs() == 211\")\n",
    "        .loc[:, \"px\":\"pz\"]\n",
    "        .pow(2)\n",
    "        .sum(axis=1)\n",
    "        .pow(0.5)\n",
    "    )\n",
    "\n",
    "    decay_products = decay_products.copy()\n",
    "    decay_products.loc[:, \"P\"] = decay_products.loc[:, \"px\":\"pz\"].pow(2).sum(axis=1).pow(0.5)\n",
    "    \n",
    "    tau_momentum = (\n",
    "        decay_products\n",
    "        .groupby(\"event_num\")\n",
    "        [\"P\"].sum()\n",
    "    )\n",
    "    return pion_momentum.values / tau_momentum.values\n"
   ]
  },
  {
   "cell_type": "code",
   "execution_count": 36,
   "metadata": {},
   "outputs": [
    {
     "data": {
      "text/plain": [
       "<matplotlib.legend.Legend at 0x7ff3cb9393d0>"
      ]
     },
     "execution_count": 36,
     "metadata": {},
     "output_type": "execute_result"
    },
    {
     "data": {
      "image/png": "[encoded data removed]",
      "text/plain": [
       "<Figure size 640x480 with 1 Axes>"
      ]
     },
     "metadata": {},
     "output_type": "display_data"
    }
   ],
   "source": [
    "# Plot the momentum fraction as a histogram from 0 to 1\n",
    "fig, ax = plt.subplots()\n",
    "ax.hist(pion_momentum_fraction(pion_neutrino_events), bins=np.linspace(0, 1, 20), label=\"Polarized\", histtype=\"step\", density=True, lw=2)\n",
    "ax.hist(pion_momentum_fraction(pion_neutrino_events_nopol), bins=np.linspace(0, 1, 20), label=\"Unpolarized (Tauola)\", histtype=\"step\", density=True, lw=2)\n",
    "ax.hist(pion_momentum_fraction(pion_neutrino_events_g4), bins=np.linspace(0, 1, 20), label=\"Unpolarized (Geant4)\", histtype=\"step\", density=True, lw=2)\n",
    "ax.set(xlim=(0, 1), xlabel=\"Pion momentum fraction\", ylabel=\"Number density\")\n",
    "ax.grid(True, alpha=0.5)\n",
    "ax.legend()"
   ]
  },
  {
   "cell_type": "markdown",
   "metadata": {},
   "source": [
    "We see a clear difference between the decay using Tauola with real polarization given by GENIE and the unpolarized decay by Geant4.\n",
    "A similar difference would likely be seen for the IceCube simulations."
   ]
  },
  {
   "cell_type": "code",
   "execution_count": 1,
   "metadata": {},
   "outputs": [],
   "source": [
    "# TODO plot amount of tau polarization that is given by GENIE. Either here or in tauola_pol.ipynb"
   ]
  },
  {
   "cell_type": "code",
   "execution_count": 2,
   "metadata": {},
   "outputs": [],
   "source": [
    "# TODO plot angular distributions of particles in tau rest frame"
   ]
  },
  {
   "cell_type": "code",
   "execution_count": null,
   "metadata": {},
   "outputs": [],
   "source": [
    "# TODO plot momentum fraction of neutrino for various decay modes. tau -> pi0 pi- nu_tau, tau -> pi0 pi0 pi- nu_tau etc. See Dune paper for details"
   ]
  },
  {
   "cell_type": "markdown",
   "metadata": {},
   "source": [
    "## Branching ratios"
   ]
  },
  {
   "cell_type": "code",
   "execution_count": 27,
   "metadata": {},
   "outputs": [],
   "source": [
    "def branching_ratios(decay_products: pd.DataFrame) -> dict[tuple[int], float]:\n",
    "    n_taus = decay_products.query(\"pdg == 16\").shape[0]\n",
    "    n_anti_taus = decay_products.query(\"pdg == -16\").shape[0]\n",
    "    c = Counter(tuple(sorted(a.tolist())) for i, a in decay_products.groupby(\"event_num\")[\"pdg\"])\n",
    "    \n",
    "    br = {}\n",
    "    \n",
    "    for pdgs, n in c.items():\n",
    "        if 16 in pdgs:\n",
    "            br[pdgs] = n / n_taus\n",
    "        elif -16 in pdgs:\n",
    "            br[pdgs] = n / n_anti_taus\n",
    "        else:\n",
    "            raise ValueError(\"No tau in the event\")\n",
    "    \n",
    "    # Sort based on the branching ratio. Highest first\n",
    "    br = dict(sorted(br.items(), key=lambda item: item[1], reverse=True))\n",
    "    return br"
   ]
  },
  {
   "cell_type": "code",
   "execution_count": 28,
   "metadata": {},
   "outputs": [
    {
     "data": {
      "text/plain": [
       "{(-211, 16, 111): 0.2534161942142753,\n",
       " (-14, 13, 16): 0.16886538741096088,\n",
       " (-12, 11, 16): 0.15365605465910742,\n",
       " (-211, 16): 0.11093545573484519,\n",
       " (-211, 16, 111, 111): 0.09221907253961331,\n",
       " (-211, -211, 16, 211): 0.08929350196249455,\n",
       " (-211, -211, 16, 111, 211): 0.04551897078063672,\n",
       " (-12, 11, 16, 22): 0.02787469108882105,\n",
       " (-211, 16, 111, 111, 111): 0.009467219072539614,\n",
       " (-321, 16): 0.006468963512138392,\n",
       " (-14, 13, 16, 22): 0.0059238261375199885,\n",
       " (-321, -211, 16, 211): 0.005651257450210787,\n",
       " (-321, 16, 111): 0.004633667684256433,\n",
       " (-211, 16, 310): 0.004615496438435819,\n",
       " (-211, 16, 130): 0.004470126471870912,\n",
       " (-211, 16, 111, 310): 0.003198139264427969,\n",
       " (-211, 16, 111, 130): 0.003034598052042448,\n",
       " (-211, 16, 111, 221): 0.001617240878034598,\n",
       " (-321, -211, 16, 321): 0.001617240878034598,\n",
       " (-211, 16, 22, 111): 0.0012356447158017154,\n",
       " (-211, -211, 16, 111, 111, 211): 0.0009449047826718999,\n",
       " (-321, 16, 111, 310): 0.000708678587003925,\n",
       " (-321, 16, 130): 0.0006905073411833116,\n",
       " (-211, 16, 130, 310): 0.0006905073411833116,\n",
       " (-321, 16, 111, 130): 0.0006359936037214711,\n",
       " (-321, 16, 310): 0.0005269661287977904,\n",
       " (-211, -211, 16, 111, 111, 111, 211): 0.0004906236371565634,\n",
       " (-321, 16, 111, 111): 0.0004361098996947231,\n",
       " (-211, -211, -211, 16, 211, 211): 0.00039976740805349614,\n",
       " (-211, 16, 310, 310): 0.00030891117895042884,\n",
       " (-211, 16, 130, 130): 0.0002725686873092019,\n",
       " (-211, -211, -211, 16, 111, 211, 211): 0.0001817124582061346}"
      ]
     },
     "execution_count": 28,
     "metadata": {},
     "output_type": "execute_result"
    }
   ],
   "source": [
    "branching_ratios(decay_products)"
   ]
  },
  {
   "cell_type": "code",
   "execution_count": 29,
   "metadata": {},
   "outputs": [
    {
     "data": {
      "text/plain": [
       "{(-211, 16, 111): 0.2525439744148859,\n",
       " (-14, 13, 16): 0.1707733682221253,\n",
       " (-12, 11, 16): 0.1546918156708824,\n",
       " (-211, 16): 0.10939089984009304,\n",
       " (-211, 16, 111, 111): 0.09171027765663614,\n",
       " (-211, -211, 16, 211): 0.08856665212967,\n",
       " (-211, -211, 16, 111, 211): 0.0465729030382323,\n",
       " (-12, 11, 16, 22): 0.027965547317924118,\n",
       " (-211, 16, 111, 111, 111): 0.010175897659543538,\n",
       " (-321, 16): 0.006305422299752871,\n",
       " (-321, -211, 16, 211): 0.0059238261375199885,\n",
       " (-14, 13, 16, 22): 0.005487716237825266,\n",
       " (-321, 16, 111): 0.004833551388283181,\n",
       " (-211, 16, 130): 0.004706352667538887,\n",
       " (-211, 16, 310): 0.004161215292920482,\n",
       " (-211, 16, 111, 310): 0.0029255705771187674,\n",
       " (-211, 16, 111, 130): 0.0027075156272714056,\n",
       " (-211, 16, 111, 221): 0.0017807820904201192,\n",
       " (-321, -211, 16, 321): 0.0016717546154964384,\n",
       " (-211, 16, 22, 111): 0.0013083296990841692,\n",
       " (-211, -211, 16, 111, 111, 211): 0.0009994185201337403,\n",
       " (-321, 16, 111, 310): 0.0006541648495420846,\n",
       " (-321, 16, 111, 130): 0.0005633086204390173,\n",
       " (-321, 16, 130): 0.0005451373746184038,\n",
       " (-211, 16, 130, 310): 0.0005269661287977904,\n",
       " (-211, -211, 16, 111, 111, 111, 211): 0.0004906236371565634,\n",
       " (-321, 16, 111, 111): 0.0004179386538741096,\n",
       " (-321, 16, 310): 0.00039976740805349614,\n",
       " (-211, -211, -211, 16, 111, 211, 211): 0.0003270824247710423,\n",
       " (-211, 16, 310, 310): 0.0003270824247710423,\n",
       " (-211, -211, -211, 16, 211, 211): 0.00030891117895042884,\n",
       " (-211, 16, 130, 130): 0.00023622619566797498}"
      ]
     },
     "execution_count": 29,
     "metadata": {},
     "output_type": "execute_result"
    }
   ],
   "source": [
    "branching_ratios(decay_products_nopol)"
   ]
  },
  {
   "cell_type": "code",
   "execution_count": 30,
   "metadata": {},
   "outputs": [
    {
     "data": {
      "text/plain": [
       "{(-211, 16, 111): 0.23029711487559557,\n",
       " (-12, 11, 16): 0.16134528851244045,\n",
       " (-14, 13, 16): 0.15830134992059292,\n",
       " (-211, 16): 0.09968898888300688,\n",
       " (-211, -211, 16, 211): 0.08612361037586025,\n",
       " (-211, 16, 111, 111): 0.08172313393329804,\n",
       " (-211, -211, 16, 16, 111, 111): 0.02567496029645315,\n",
       " (-12, -12, 11, 11, 16, 16): 0.01765153520381154,\n",
       " (-14, -14, 13, 13, 16, 16): 0.017469560614081524,\n",
       " (-211, -211, 16, 16): 0.010786130227633669,\n",
       " (-211, -211, -211, -211, 16, 16, 211, 211): 0.009346876654314452,\n",
       " (-211, -211, 16, 16, 111, 111, 111, 111): 0.008403917416622551,\n",
       " (-12, 11, 11, 16): 0.0007444415034409741,\n",
       " (-211, 11, 16, 111): 0.0007444415034409741,\n",
       " (-14, 11, 13, 16): 0.0007278983589200635,\n",
       " (-211, 11, 16): 0.0005459237691900476,\n",
       " (-211, 11, 16, 111, 111): 0.0002812334568554791,\n",
       " (-211, -211, 11, 16, 211): 0.00026469031233456857,\n",
       " (-211, -211, 11, 11, 16, 16, 111, 111): 9.925886712546321e-05,\n",
       " (-14, -14, 11, 11, 13, 13, 16, 16): 4.9629433562731603e-05,\n",
       " (-211, -211, 11, 11, 16, 16, 111, 111, 111, 111): 4.9629433562731603e-05,\n",
       " (-211, -211, 11, 11, 16, 16): 3.308628904182107e-05,\n",
       " (-211, -211, -211, -211, 11, 11, 16, 16, 211, 211): 1.6543144520910536e-05,\n",
       " (-12, -12, 11, 11, 11, 11, 16, 16): 1.6543144520910536e-05,\n",
       " (-14, 11, 11, 13, 16): 1.6543144520910536e-05}"
      ]
     },
     "execution_count": 30,
     "metadata": {},
     "output_type": "execute_result"
    }
   ],
   "source": [
    "branching_ratios(decay_products_g4)"
   ]
  },
  {
   "cell_type": "markdown",
   "metadata": {},
   "source": [
    "We see that there is no large difference ($\\mathcal{O}(0.1\\%)$) in branching ratio between polarized and unpolarized Tauola decays. This is good, as they should be identical, since the branching ratio is not affected by the polarization.\n",
    "\n",
    "The Geant4 branching ratios differ by $\\mathcal{O}(1\\%)$ from the Tauola branching ratios. This discrepancy might be the reason for the large difference between the neutrino energy distributions between the unpolarized Tauola and Geant4 simulations. This is further strenghened by the fact that when only looking at the $\\tau^- \\to \\pi^- \\nu_tau$ decay mode, the distributions for unpolarized Tauola and Geant4 are much more similar."
   ]
  }
 ],
 "metadata": {
  "kernelspec": {
   "display_name": "cern-skhep",
   "language": "python",
   "name": "python3"
  },
  "language_info": {
   "codemirror_mode": {
    "name": "ipython",
    "version": 3
   },
   "file_extension": ".py",
   "mimetype": "text/x-python",
   "name": "python",
   "nbconvert_exporter": "python",
   "pygments_lexer": "ipython3",
   "version": "3.11.4"
  }
 },
 "nbformat": 4,
 "nbformat_minor": 2
}
