{
 "cells": [
  {
   "cell_type": "markdown",
   "metadata": {},
   "source": [
    "# Compare tau decay distributions between Tauola and IceCube simulations"
   ]
  },
  {
   "cell_type": "code",
   "execution_count": 4,
   "metadata": {},
   "outputs": [],
   "source": [
    "import pandas as pd\n",
    "import numpy as np\n",
    "import matplotlib.pyplot as plt\n",
    "import sys\n",
    "sys.path.append(\"../utils/\")\n",
    "from hepmc_io import load_hepmc \n",
    "from collections import Counter"
   ]
  },
  {
   "cell_type": "markdown",
   "metadata": {},
   "source": [
    "## Load decays"
   ]
  },
  {
   "cell_type": "code",
   "execution_count": 28,
   "metadata": {},
   "outputs": [
    {
     "name": "stdout",
     "output_type": "stream",
     "text": [
      "0\n"
     ]
    }
   ],
   "source": [
    "decay_products = load_hepmc(\"../data/tauola_output_genie_e5.dat\").groupby(\"event_num\").nth[3:].sort_values(\"event_num\")\n",
    "decay_products_nopol = pd.read_csv(\"../data/geant4_output_e5.csv\").sort_values(\"event_num\")"
   ]
  },
  {
   "cell_type": "code",
   "execution_count": 29,
   "metadata": {},
   "outputs": [
    {
     "data": {
      "text/html": [
       "<div>\n",
       "<style scoped>\n",
       "    .dataframe tbody tr th:only-of-type {\n",
       "        vertical-align: middle;\n",
       "    }\n",
       "\n",
       "    .dataframe tbody tr th {\n",
       "        vertical-align: top;\n",
       "    }\n",
       "\n",
       "    .dataframe thead th {\n",
       "        text-align: right;\n",
       "    }\n",
       "</style>\n",
       "<table border=\"1\" class=\"dataframe\">\n",
       "  <thead>\n",
       "    <tr style=\"text-align: right;\">\n",
       "      <th></th>\n",
       "      <th>event_num</th>\n",
       "      <th>pdg</th>\n",
       "      <th>E</th>\n",
       "      <th>px</th>\n",
       "      <th>py</th>\n",
       "      <th>pz</th>\n",
       "    </tr>\n",
       "  </thead>\n",
       "  <tbody>\n",
       "    <tr>\n",
       "      <th>3</th>\n",
       "      <td>4</td>\n",
       "      <td>16</td>\n",
       "      <td>1.132845</td>\n",
       "      <td>0.439469</td>\n",
       "      <td>-0.681560</td>\n",
       "      <td>0.790937</td>\n",
       "    </tr>\n",
       "    <tr>\n",
       "      <th>4</th>\n",
       "      <td>4</td>\n",
       "      <td>-211</td>\n",
       "      <td>2.542037</td>\n",
       "      <td>-0.439625</td>\n",
       "      <td>0.607542</td>\n",
       "      <td>2.424891</td>\n",
       "    </tr>\n",
       "    <tr>\n",
       "      <th>8</th>\n",
       "      <td>15</td>\n",
       "      <td>16</td>\n",
       "      <td>1.864992</td>\n",
       "      <td>-0.042088</td>\n",
       "      <td>-0.634777</td>\n",
       "      <td>1.753106</td>\n",
       "    </tr>\n",
       "    <tr>\n",
       "      <th>9</th>\n",
       "      <td>15</td>\n",
       "      <td>-211</td>\n",
       "      <td>0.190599</td>\n",
       "      <td>-0.051441</td>\n",
       "      <td>-0.118041</td>\n",
       "      <td>0.016393</td>\n",
       "    </tr>\n",
       "    <tr>\n",
       "      <th>10</th>\n",
       "      <td>15</td>\n",
       "      <td>111</td>\n",
       "      <td>1.259576</td>\n",
       "      <td>-0.014008</td>\n",
       "      <td>0.716687</td>\n",
       "      <td>1.026879</td>\n",
       "    </tr>\n",
       "    <tr>\n",
       "      <th>...</th>\n",
       "      <td>...</td>\n",
       "      <td>...</td>\n",
       "      <td>...</td>\n",
       "      <td>...</td>\n",
       "      <td>...</td>\n",
       "      <td>...</td>\n",
       "    </tr>\n",
       "    <tr>\n",
       "      <th>33722</th>\n",
       "      <td>99981</td>\n",
       "      <td>16</td>\n",
       "      <td>2.744785</td>\n",
       "      <td>-0.113223</td>\n",
       "      <td>0.281086</td>\n",
       "      <td>2.727988</td>\n",
       "    </tr>\n",
       "    <tr>\n",
       "      <th>33729</th>\n",
       "      <td>99995</td>\n",
       "      <td>111</td>\n",
       "      <td>0.340267</td>\n",
       "      <td>0.022112</td>\n",
       "      <td>0.123341</td>\n",
       "      <td>0.286120</td>\n",
       "    </tr>\n",
       "    <tr>\n",
       "      <th>33730</th>\n",
       "      <td>99995</td>\n",
       "      <td>111</td>\n",
       "      <td>1.393434</td>\n",
       "      <td>0.190467</td>\n",
       "      <td>0.342201</td>\n",
       "      <td>1.330437</td>\n",
       "    </tr>\n",
       "    <tr>\n",
       "      <th>33728</th>\n",
       "      <td>99995</td>\n",
       "      <td>16</td>\n",
       "      <td>2.105461</td>\n",
       "      <td>-0.547017</td>\n",
       "      <td>-0.051665</td>\n",
       "      <td>2.032479</td>\n",
       "    </tr>\n",
       "    <tr>\n",
       "      <th>33731</th>\n",
       "      <td>99995</td>\n",
       "      <td>-211</td>\n",
       "      <td>0.343155</td>\n",
       "      <td>-0.063466</td>\n",
       "      <td>-0.285117</td>\n",
       "      <td>0.113827</td>\n",
       "    </tr>\n",
       "  </tbody>\n",
       "</table>\n",
       "<p>17484 rows × 6 columns</p>\n",
       "</div>"
      ],
      "text/plain": [
       "       event_num  pdg         E        px        py        pz\n",
       "3              4   16  1.132845  0.439469 -0.681560  0.790937\n",
       "4              4 -211  2.542037 -0.439625  0.607542  2.424891\n",
       "8             15   16  1.864992 -0.042088 -0.634777  1.753106\n",
       "9             15 -211  0.190599 -0.051441 -0.118041  0.016393\n",
       "10            15  111  1.259576 -0.014008  0.716687  1.026879\n",
       "...          ...  ...       ...       ...       ...       ...\n",
       "33722      99981   16  2.744785 -0.113223  0.281086  2.727988\n",
       "33729      99995  111  0.340267  0.022112  0.123341  0.286120\n",
       "33730      99995  111  1.393434  0.190467  0.342201  1.330437\n",
       "33728      99995   16  2.105461 -0.547017 -0.051665  2.032479\n",
       "33731      99995 -211  0.343155 -0.063466 -0.285117  0.113827\n",
       "\n",
       "[17484 rows x 6 columns]"
      ]
     },
     "execution_count": 29,
     "metadata": {},
     "output_type": "execute_result"
    }
   ],
   "source": [
    "decay_products"
   ]
  },
  {
   "cell_type": "code",
   "execution_count": 30,
   "metadata": {},
   "outputs": [
    {
     "data": {
      "text/html": [
       "<div>\n",
       "<style scoped>\n",
       "    .dataframe tbody tr th:only-of-type {\n",
       "        vertical-align: middle;\n",
       "    }\n",
       "\n",
       "    .dataframe tbody tr th {\n",
       "        vertical-align: top;\n",
       "    }\n",
       "\n",
       "    .dataframe thead th {\n",
       "        text-align: right;\n",
       "    }\n",
       "</style>\n",
       "<table border=\"1\" class=\"dataframe\">\n",
       "  <thead>\n",
       "    <tr style=\"text-align: right;\">\n",
       "      <th></th>\n",
       "      <th>event_num</th>\n",
       "      <th>pdg</th>\n",
       "      <th>E</th>\n",
       "      <th>px</th>\n",
       "      <th>py</th>\n",
       "      <th>pz</th>\n",
       "    </tr>\n",
       "  </thead>\n",
       "  <tbody>\n",
       "    <tr>\n",
       "      <th>0</th>\n",
       "      <td>0</td>\n",
       "      <td>-211</td>\n",
       "      <td>2.146640</td>\n",
       "      <td>0.471600</td>\n",
       "      <td>-0.772368</td>\n",
       "      <td>1.941550</td>\n",
       "    </tr>\n",
       "    <tr>\n",
       "      <th>50</th>\n",
       "      <td>0</td>\n",
       "      <td>16</td>\n",
       "      <td>1.524980</td>\n",
       "      <td>-0.470983</td>\n",
       "      <td>0.699429</td>\n",
       "      <td>1.270650</td>\n",
       "    </tr>\n",
       "    <tr>\n",
       "      <th>65</th>\n",
       "      <td>1</td>\n",
       "      <td>-211</td>\n",
       "      <td>0.315613</td>\n",
       "      <td>0.260604</td>\n",
       "      <td>0.039485</td>\n",
       "      <td>0.103239</td>\n",
       "    </tr>\n",
       "    <tr>\n",
       "      <th>64</th>\n",
       "      <td>1</td>\n",
       "      <td>16</td>\n",
       "      <td>2.610770</td>\n",
       "      <td>-0.686313</td>\n",
       "      <td>-0.095131</td>\n",
       "      <td>2.517150</td>\n",
       "    </tr>\n",
       "    <tr>\n",
       "      <th>53</th>\n",
       "      <td>1</td>\n",
       "      <td>111</td>\n",
       "      <td>0.376114</td>\n",
       "      <td>0.303569</td>\n",
       "      <td>0.016122</td>\n",
       "      <td>0.175581</td>\n",
       "    </tr>\n",
       "    <tr>\n",
       "      <th>...</th>\n",
       "      <td>...</td>\n",
       "      <td>...</td>\n",
       "      <td>...</td>\n",
       "      <td>...</td>\n",
       "      <td>...</td>\n",
       "      <td>...</td>\n",
       "    </tr>\n",
       "    <tr>\n",
       "      <th>15939</th>\n",
       "      <td>5414</td>\n",
       "      <td>16</td>\n",
       "      <td>1.128300</td>\n",
       "      <td>-0.661300</td>\n",
       "      <td>-0.147522</td>\n",
       "      <td>0.902203</td>\n",
       "    </tr>\n",
       "    <tr>\n",
       "      <th>15885</th>\n",
       "      <td>5414</td>\n",
       "      <td>-211</td>\n",
       "      <td>1.148000</td>\n",
       "      <td>0.335387</td>\n",
       "      <td>-0.163792</td>\n",
       "      <td>1.076620</td>\n",
       "    </tr>\n",
       "    <tr>\n",
       "      <th>15945</th>\n",
       "      <td>5415</td>\n",
       "      <td>111</td>\n",
       "      <td>1.828820</td>\n",
       "      <td>-0.298557</td>\n",
       "      <td>-0.272463</td>\n",
       "      <td>1.778480</td>\n",
       "    </tr>\n",
       "    <tr>\n",
       "      <th>16016</th>\n",
       "      <td>5415</td>\n",
       "      <td>-211</td>\n",
       "      <td>0.866230</td>\n",
       "      <td>-0.585862</td>\n",
       "      <td>0.153265</td>\n",
       "      <td>0.603449</td>\n",
       "    </tr>\n",
       "    <tr>\n",
       "      <th>16015</th>\n",
       "      <td>5415</td>\n",
       "      <td>16</td>\n",
       "      <td>1.483870</td>\n",
       "      <td>0.489313</td>\n",
       "      <td>0.250266</td>\n",
       "      <td>1.378330</td>\n",
       "    </tr>\n",
       "  </tbody>\n",
       "</table>\n",
       "<p>16687 rows × 6 columns</p>\n",
       "</div>"
      ],
      "text/plain": [
       "       event_num  pdg         E        px        py        pz\n",
       "0              0 -211  2.146640  0.471600 -0.772368  1.941550\n",
       "50             0   16  1.524980 -0.470983  0.699429  1.270650\n",
       "65             1 -211  0.315613  0.260604  0.039485  0.103239\n",
       "64             1   16  2.610770 -0.686313 -0.095131  2.517150\n",
       "53             1  111  0.376114  0.303569  0.016122  0.175581\n",
       "...          ...  ...       ...       ...       ...       ...\n",
       "15939       5414   16  1.128300 -0.661300 -0.147522  0.902203\n",
       "15885       5414 -211  1.148000  0.335387 -0.163792  1.076620\n",
       "15945       5415  111  1.828820 -0.298557 -0.272463  1.778480\n",
       "16016       5415 -211  0.866230 -0.585862  0.153265  0.603449\n",
       "16015       5415   16  1.483870  0.489313  0.250266  1.378330\n",
       "\n",
       "[16687 rows x 6 columns]"
      ]
     },
     "execution_count": 30,
     "metadata": {},
     "output_type": "execute_result"
    }
   ],
   "source": [
    "decay_products_nopol"
   ]
  },
  {
   "cell_type": "markdown",
   "metadata": {},
   "source": [
    "## Compare Geant4 decay products with Tauola decay products"
   ]
  },
  {
   "cell_type": "code",
   "execution_count": 31,
   "metadata": {},
   "outputs": [],
   "source": [
    "def get_particle_property(decay_products: pd.DataFrame, pdg: int, prop: str) -> tuple[pd.Series, pd.Series]:\n",
    "    nutau_e = decay_products.query(\"pdg == 16\")[prop]\n",
    "    anti_nutau_e = decay_products.query(\"pdg == -16\")[prop]\n",
    "    return nutau_e, anti_nutau_e\n",
    "\n",
    "\n",
    "def compare_histos(nutau, anti_nutau, nutau_nopol, anti_nutau_nopol, bins, density=None, **kwargs):\n",
    "    fig, axs = plt.subplots(figsize=(10, 4), nrows=1, ncols=2, layout=\"constrained\")\n",
    "\n",
    "    for ax, label, lists, in zip(axs, (\"Neutrino\", \"Anti-neutrino\"), ((nutau, nutau_nopol), (anti_nutau, anti_nutau_nopol))):\n",
    "        for energies, particle_type in zip(lists, (\"polarized\", \"unpolarized\")):\n",
    "            ax.hist(energies, bins=bins, label=f\"{label} {particle_type}\", alpha=0.5, density=density)\n",
    "            # ax.set_title(f\"{label} {particle_type}\")\n",
    "            \n",
    "    for ax in axs.flat:\n",
    "        ax.set(**kwargs, ylabel=\"Density of number of neutrinos\")\n",
    "        ax.grid(True, alpha=0.5)\n",
    "        ax.legend(fontsize=\"large\")\n",
    "\n",
    "    return fig, axs"
   ]
  },
  {
   "cell_type": "code",
   "execution_count": 32,
   "metadata": {},
   "outputs": [
    {
     "name": "stderr",
     "output_type": "stream",
     "text": [
      "/home/simon/miniconda3/envs/cern-skhep/lib/python3.11/site-packages/numpy/lib/histograms.py:883: RuntimeWarning: divide by zero encountered in divide\n",
      "  return n/db/n.sum(), bin_edges\n",
      "/home/simon/miniconda3/envs/cern-skhep/lib/python3.11/site-packages/numpy/lib/histograms.py:883: RuntimeWarning: invalid value encountered in divide\n",
      "  return n/db/n.sum(), bin_edges\n"
     ]
    },
    {
     "data": {
      "text/plain": [
       "(<Figure size 1000x400 with 2 Axes>,\n",
       " array([<Axes: xlabel='E [GeV]', ylabel='Density of number of neutrinos'>,\n",
       "        <Axes: xlabel='E [GeV]', ylabel='Density of number of neutrinos'>],\n",
       "       dtype=object))"
      ]
     },
     "execution_count": 32,
     "metadata": {},
     "output_type": "execute_result"
    },
    {
     "data": {
      "image/png": "[encoded data removed]",
      "text/plain": [
       "<Figure size 1000x400 with 2 Axes>"
      ]
     },
     "metadata": {},
     "output_type": "display_data"
    }
   ],
   "source": [
    "nutau, anti_nutau = get_particle_property(decay_products, 16, \"E\")\n",
    "nutau_nopol, anti_nutau_nopol = get_particle_property(decay_products_nopol, 16, \"E\")\n",
    "\n",
    "compare_histos(nutau, anti_nutau, nutau_nopol, anti_nutau_nopol, bins=np.linspace(0, 5, 50), xlabel=\"E [GeV]\", density=True)"
   ]
  },
  {
   "cell_type": "markdown",
   "metadata": {},
   "source": [
    "When viewing the distribution of all events (regardless of decay mode) and the neutrino energy in these cases, there is a slight shift. In the polarized simulations, the neutrinos typically have a lower energy that in the unpolarized case. This would mean that IceCube simulations using the unpolarized simulations underestimate the energy deposited in the detector, i.e., overestimate the missing energy."
   ]
  },
  {
   "cell_type": "markdown",
   "metadata": {},
   "source": [
    "## Pion momentum fraction\n",
    "See Fig. 2 in the DUNE paper"
   ]
  },
  {
   "cell_type": "code",
   "execution_count": 33,
   "metadata": {},
   "outputs": [],
   "source": [
    "def is_pion_nutau_event(event: pd.DataFrame) -> bool:\n",
    "    return (event[\"pdg\"] == -211).any() and (event[\"pdg\"] == 16).any() and (event.shape[0] == 2)\n",
    "\n",
    "# Only select events that decay to a pion and a neutrino (211 and 16)\n",
    "pion_neutrino_events = (\n",
    "    decay_products\n",
    "    .groupby(\"event_num\")\n",
    "    .filter(is_pion_nutau_event)\n",
    ")\n",
    "\n",
    "pion_neutrino_events_nopol = (\n",
    "    decay_products_nopol\n",
    "    .groupby(\"event_num\")\n",
    "    .filter(is_pion_nutau_event)\n",
    ")"
   ]
  },
  {
   "cell_type": "code",
   "execution_count": 42,
   "metadata": {},
   "outputs": [],
   "source": [
    "def pion_momentum_fraction(decay_products):\n",
    "    # Calculate the momentum fraction of the pion (row 3-4) relative to the tau (row 2)\n",
    "    pion_momentum = (\n",
    "        decay_products\n",
    "        .query(\"pdg.abs() == 211\")\n",
    "        .loc[:, \"px\":\"pz\"]\n",
    "        .pow(2)\n",
    "        .sum(axis=1)\n",
    "        .pow(0.5)\n",
    "    )\n",
    "\n",
    "    decay_products = decay_products.copy()\n",
    "    decay_products.loc[:, \"P\"] = decay_products.loc[:, \"px\":\"pz\"].pow(2).sum(axis=1).pow(0.5)\n",
    "    \n",
    "    tau_momentum = (\n",
    "        decay_products\n",
    "        .groupby(\"event_num\")\n",
    "        [\"P\"].sum()\n",
    "    )\n",
    "    return pion_momentum.values / tau_momentum.values\n"
   ]
  },
  {
   "cell_type": "code",
   "execution_count": 43,
   "metadata": {},
   "outputs": [
    {
     "data": {
      "text/plain": [
       "<matplotlib.legend.Legend at 0x7fd7b95553d0>"
      ]
     },
     "execution_count": 43,
     "metadata": {},
     "output_type": "execute_result"
    },
    {
     "data": {
      "image/png": "[encoded data removed]",
      "text/plain": [
       "<Figure size 640x480 with 1 Axes>"
      ]
     },
     "metadata": {},
     "output_type": "display_data"
    }
   ],
   "source": [
    "# Plot the momentum fraction as a histogram from 0 to 1\n",
    "fig, ax = plt.subplots()\n",
    "ax.hist(pion_momentum_fraction(pion_neutrino_events), bins=np.linspace(0, 1, 20), label=\"Polarized\", alpha=0.5, density=True)\n",
    "ax.hist(pion_momentum_fraction(pion_neutrino_events_nopol), bins=np.linspace(0, 1, 20), label=\"Unpolarized\", alpha=0.5, density=True)\n",
    "ax.set(xlim=(0, 1), xlabel=\"Pion momentum fraction\", ylabel=\"Number density\")\n",
    "ax.grid(True, alpha=0.5)\n",
    "ax.legend()"
   ]
  },
  {
   "cell_type": "markdown",
   "metadata": {},
   "source": [
    "We see a clear difference between the decay using Tauola with real polarization given by GENIE and the unpolarized decay by Geant4.\n",
    "A similar difference would likely be seen for the IceCube simulations."
   ]
  }
 ],
 "metadata": {
  "kernelspec": {
   "display_name": "cern-skhep",
   "language": "python",
   "name": "python3"
  },
  "language_info": {
   "codemirror_mode": {
    "name": "ipython",
    "version": 3
   },
   "file_extension": ".py",
   "mimetype": "text/x-python",
   "name": "python",
   "nbconvert_exporter": "python",
   "pygments_lexer": "ipython3",
   "version": "3.11.4"
  }
 },
 "nbformat": 4,
 "nbformat_minor": 2
}
