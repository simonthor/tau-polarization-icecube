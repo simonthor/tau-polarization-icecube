{
 "cells": [
  {
   "cell_type": "markdown",
   "metadata": {},
   "source": [
    "# Compare tau decay distributions between Tauola and GENIE+Geant4 simulations"
   ]
  },
  {
   "cell_type": "code",
   "execution_count": 2,
   "metadata": {},
   "outputs": [],
   "source": [
    "import pandas as pd\n",
    "import numpy as np\n",
    "import matplotlib.pyplot as plt\n",
    "import sys\n",
    "sys.path.append(\"../\")\n",
    "from utils import load_hepmc, branching_ratios \n",
    "from collections import Counter\n",
    "import numba"
   ]
  },
  {
   "cell_type": "markdown",
   "metadata": {},
   "source": [
    "## Load decays"
   ]
  },
  {
   "cell_type": "code",
   "execution_count": 3,
   "metadata": {},
   "outputs": [
    {
     "name": "stdout",
     "output_type": "stream",
     "text": [
      "0\n",
      "10000\n",
      "20000\n",
      "30000\n",
      "40000\n",
      "50000\n",
      "60000\n",
      "70000\n",
      "80000\n",
      "90000\n",
      "100000\n",
      "110000\n",
      "120000\n",
      "130000\n",
      "140000\n",
      "150000\n",
      "160000\n",
      "170000\n",
      "180000\n",
      "190000\n",
      "200000\n",
      "210000\n",
      "220000\n",
      "230000\n",
      "240000\n",
      "250000\n",
      "260000\n",
      "270000\n",
      "280000\n",
      "290000\n",
      "300000\n",
      "310000\n",
      "320000\n",
      "330000\n",
      "340000\n",
      "350000\n",
      "360000\n",
      "370000\n",
      "380000\n",
      "390000\n",
      "400000\n",
      "410000\n",
      "420000\n"
     ]
    }
   ],
   "source": [
    "genie_nutau_energy = 10 # GeV\n",
    "\n",
    "# decay_products = load_hepmc(f\"../data/tauola_output_genie_e{genie_nutau_energy}.dat\").groupby(\"event_num\").nth[3:].sort_values(\"event_num\")\n",
    "decay_products_nopol = load_hepmc(f\"../data/tauola_output_genie_nopol_e{genie_nutau_energy}.dat\")#.groupby(\"event_num\").nth[3:].sort_values(\"event_num\")\n",
    "decay_products_g4 = pd.read_csv(f\"../data/geant4_output_e{genie_nutau_energy}_tauola.csv\").sort_values(\"event_num\")"
   ]
  },
  {
   "cell_type": "code",
   "execution_count": 4,
   "metadata": {},
   "outputs": [
    {
     "data": {
      "text/html": [
       "<div>\n",
       "<style scoped>\n",
       "    .dataframe tbody tr th:only-of-type {\n",
       "        vertical-align: middle;\n",
       "    }\n",
       "\n",
       "    .dataframe tbody tr th {\n",
       "        vertical-align: top;\n",
       "    }\n",
       "\n",
       "    .dataframe thead th {\n",
       "        text-align: right;\n",
       "    }\n",
       "</style>\n",
       "<table border=\"1\" class=\"dataframe\">\n",
       "  <thead>\n",
       "    <tr style=\"text-align: right;\">\n",
       "      <th></th>\n",
       "      <th>event_num</th>\n",
       "      <th>pdg</th>\n",
       "      <th>E</th>\n",
       "      <th>px</th>\n",
       "      <th>py</th>\n",
       "      <th>pz</th>\n",
       "    </tr>\n",
       "  </thead>\n",
       "  <tbody>\n",
       "    <tr>\n",
       "      <th>0</th>\n",
       "      <td>7</td>\n",
       "      <td>1000080160</td>\n",
       "      <td>14.895100</td>\n",
       "      <td>0.000000</td>\n",
       "      <td>0.000000</td>\n",
       "      <td>0.000000</td>\n",
       "    </tr>\n",
       "    <tr>\n",
       "      <th>1</th>\n",
       "      <td>7</td>\n",
       "      <td>16</td>\n",
       "      <td>10.000000</td>\n",
       "      <td>0.000000</td>\n",
       "      <td>0.000000</td>\n",
       "      <td>10.000000</td>\n",
       "    </tr>\n",
       "    <tr>\n",
       "      <th>2</th>\n",
       "      <td>7</td>\n",
       "      <td>15</td>\n",
       "      <td>9.093550</td>\n",
       "      <td>-0.775883</td>\n",
       "      <td>-0.073440</td>\n",
       "      <td>8.884150</td>\n",
       "    </tr>\n",
       "    <tr>\n",
       "      <th>3</th>\n",
       "      <td>7</td>\n",
       "      <td>16</td>\n",
       "      <td>7.571083</td>\n",
       "      <td>-0.099063</td>\n",
       "      <td>-0.374085</td>\n",
       "      <td>7.561180</td>\n",
       "    </tr>\n",
       "    <tr>\n",
       "      <th>4</th>\n",
       "      <td>7</td>\n",
       "      <td>-211</td>\n",
       "      <td>1.523311</td>\n",
       "      <td>-0.676892</td>\n",
       "      <td>0.300638</td>\n",
       "      <td>1.323795</td>\n",
       "    </tr>\n",
       "    <tr>\n",
       "      <th>...</th>\n",
       "      <td>...</td>\n",
       "      <td>...</td>\n",
       "      <td>...</td>\n",
       "      <td>...</td>\n",
       "      <td>...</td>\n",
       "      <td>...</td>\n",
       "    </tr>\n",
       "    <tr>\n",
       "      <th>2630793</th>\n",
       "      <td>999996</td>\n",
       "      <td>16</td>\n",
       "      <td>10.000000</td>\n",
       "      <td>0.000000</td>\n",
       "      <td>0.000000</td>\n",
       "      <td>10.000000</td>\n",
       "    </tr>\n",
       "    <tr>\n",
       "      <th>2630794</th>\n",
       "      <td>999996</td>\n",
       "      <td>15</td>\n",
       "      <td>6.013170</td>\n",
       "      <td>-0.071778</td>\n",
       "      <td>0.976046</td>\n",
       "      <td>5.660660</td>\n",
       "    </tr>\n",
       "    <tr>\n",
       "      <th>2630795</th>\n",
       "      <td>999996</td>\n",
       "      <td>16</td>\n",
       "      <td>4.613543</td>\n",
       "      <td>0.054601</td>\n",
       "      <td>0.919325</td>\n",
       "      <td>4.520679</td>\n",
       "    </tr>\n",
       "    <tr>\n",
       "      <th>2630796</th>\n",
       "      <td>999996</td>\n",
       "      <td>-211</td>\n",
       "      <td>1.210565</td>\n",
       "      <td>-0.040580</td>\n",
       "      <td>-0.024239</td>\n",
       "      <td>1.201563</td>\n",
       "    </tr>\n",
       "    <tr>\n",
       "      <th>2630797</th>\n",
       "      <td>999996</td>\n",
       "      <td>111</td>\n",
       "      <td>0.189447</td>\n",
       "      <td>-0.085804</td>\n",
       "      <td>0.081023</td>\n",
       "      <td>-0.061220</td>\n",
       "    </tr>\n",
       "  </tbody>\n",
       "</table>\n",
       "<p>2630798 rows × 6 columns</p>\n",
       "</div>"
      ],
      "text/plain": [
       "         event_num         pdg          E        px        py         pz\n",
       "0                7  1000080160  14.895100  0.000000  0.000000   0.000000\n",
       "1                7          16  10.000000  0.000000  0.000000  10.000000\n",
       "2                7          15   9.093550 -0.775883 -0.073440   8.884150\n",
       "3                7          16   7.571083 -0.099063 -0.374085   7.561180\n",
       "4                7        -211   1.523311 -0.676892  0.300638   1.323795\n",
       "...            ...         ...        ...       ...       ...        ...\n",
       "2630793     999996          16  10.000000  0.000000  0.000000  10.000000\n",
       "2630794     999996          15   6.013170 -0.071778  0.976046   5.660660\n",
       "2630795     999996          16   4.613543  0.054601  0.919325   4.520679\n",
       "2630796     999996        -211   1.210565 -0.040580 -0.024239   1.201563\n",
       "2630797     999996         111   0.189447 -0.085804  0.081023  -0.061220\n",
       "\n",
       "[2630798 rows x 6 columns]"
      ]
     },
     "execution_count": 4,
     "metadata": {},
     "output_type": "execute_result"
    }
   ],
   "source": [
    "decay_products_nopol"
   ]
  },
  {
   "cell_type": "code",
   "execution_count": 5,
   "metadata": {},
   "outputs": [
    {
     "data": {
      "text/html": [
       "<div>\n",
       "<style scoped>\n",
       "    .dataframe tbody tr th:only-of-type {\n",
       "        vertical-align: middle;\n",
       "    }\n",
       "\n",
       "    .dataframe tbody tr th {\n",
       "        vertical-align: top;\n",
       "    }\n",
       "\n",
       "    .dataframe thead th {\n",
       "        text-align: right;\n",
       "    }\n",
       "</style>\n",
       "<table border=\"1\" class=\"dataframe\">\n",
       "  <thead>\n",
       "    <tr style=\"text-align: right;\">\n",
       "      <th></th>\n",
       "      <th>event_num</th>\n",
       "      <th>pdg</th>\n",
       "      <th>E</th>\n",
       "      <th>px</th>\n",
       "      <th>py</th>\n",
       "      <th>pz</th>\n",
       "    </tr>\n",
       "  </thead>\n",
       "  <tbody>\n",
       "    <tr>\n",
       "      <th>0</th>\n",
       "      <td>0</td>\n",
       "      <td>16</td>\n",
       "      <td>7.570820</td>\n",
       "      <td>-0.097708</td>\n",
       "      <td>-0.374194</td>\n",
       "      <td>7.560940</td>\n",
       "    </tr>\n",
       "    <tr>\n",
       "      <th>1</th>\n",
       "      <td>0</td>\n",
       "      <td>-211</td>\n",
       "      <td>1.523270</td>\n",
       "      <td>-0.676654</td>\n",
       "      <td>0.300618</td>\n",
       "      <td>1.323870</td>\n",
       "    </tr>\n",
       "    <tr>\n",
       "      <th>2</th>\n",
       "      <td>1</td>\n",
       "      <td>16</td>\n",
       "      <td>0.763888</td>\n",
       "      <td>-0.240838</td>\n",
       "      <td>-0.112000</td>\n",
       "      <td>0.716225</td>\n",
       "    </tr>\n",
       "    <tr>\n",
       "      <th>3</th>\n",
       "      <td>1</td>\n",
       "      <td>-211</td>\n",
       "      <td>2.472850</td>\n",
       "      <td>-0.101234</td>\n",
       "      <td>-0.035973</td>\n",
       "      <td>2.466570</td>\n",
       "    </tr>\n",
       "    <tr>\n",
       "      <th>4</th>\n",
       "      <td>1</td>\n",
       "      <td>-211</td>\n",
       "      <td>2.365910</td>\n",
       "      <td>-0.001675</td>\n",
       "      <td>0.026367</td>\n",
       "      <td>2.361640</td>\n",
       "    </tr>\n",
       "    <tr>\n",
       "      <th>...</th>\n",
       "      <td>...</td>\n",
       "      <td>...</td>\n",
       "      <td>...</td>\n",
       "      <td>...</td>\n",
       "      <td>...</td>\n",
       "      <td>...</td>\n",
       "    </tr>\n",
       "    <tr>\n",
       "      <th>323450</th>\n",
       "      <td>99998</td>\n",
       "      <td>16</td>\n",
       "      <td>3.032180</td>\n",
       "      <td>0.502254</td>\n",
       "      <td>-0.528934</td>\n",
       "      <td>2.943140</td>\n",
       "    </tr>\n",
       "    <tr>\n",
       "      <th>323454</th>\n",
       "      <td>99999</td>\n",
       "      <td>-211</td>\n",
       "      <td>2.366140</td>\n",
       "      <td>-0.268975</td>\n",
       "      <td>0.091507</td>\n",
       "      <td>2.344870</td>\n",
       "    </tr>\n",
       "    <tr>\n",
       "      <th>323455</th>\n",
       "      <td>99999</td>\n",
       "      <td>-211</td>\n",
       "      <td>2.109700</td>\n",
       "      <td>0.150131</td>\n",
       "      <td>-0.134221</td>\n",
       "      <td>2.095420</td>\n",
       "    </tr>\n",
       "    <tr>\n",
       "      <th>323453</th>\n",
       "      <td>99999</td>\n",
       "      <td>16</td>\n",
       "      <td>0.985872</td>\n",
       "      <td>0.414652</td>\n",
       "      <td>-0.043830</td>\n",
       "      <td>0.893357</td>\n",
       "    </tr>\n",
       "    <tr>\n",
       "      <th>323456</th>\n",
       "      <td>99999</td>\n",
       "      <td>211</td>\n",
       "      <td>4.402340</td>\n",
       "      <td>-0.395952</td>\n",
       "      <td>0.408257</td>\n",
       "      <td>4.363220</td>\n",
       "    </tr>\n",
       "  </tbody>\n",
       "</table>\n",
       "<p>323457 rows × 6 columns</p>\n",
       "</div>"
      ],
      "text/plain": [
       "        event_num  pdg         E        px        py        pz\n",
       "0               0   16  7.570820 -0.097708 -0.374194  7.560940\n",
       "1               0 -211  1.523270 -0.676654  0.300618  1.323870\n",
       "2               1   16  0.763888 -0.240838 -0.112000  0.716225\n",
       "3               1 -211  2.472850 -0.101234 -0.035973  2.466570\n",
       "4               1 -211  2.365910 -0.001675  0.026367  2.361640\n",
       "...           ...  ...       ...       ...       ...       ...\n",
       "323450      99998   16  3.032180  0.502254 -0.528934  2.943140\n",
       "323454      99999 -211  2.366140 -0.268975  0.091507  2.344870\n",
       "323455      99999 -211  2.109700  0.150131 -0.134221  2.095420\n",
       "323453      99999   16  0.985872  0.414652 -0.043830  0.893357\n",
       "323456      99999  211  4.402340 -0.395952  0.408257  4.363220\n",
       "\n",
       "[323457 rows x 6 columns]"
      ]
     },
     "execution_count": 5,
     "metadata": {},
     "output_type": "execute_result"
    }
   ],
   "source": [
    "decay_products_g4"
   ]
  },
  {
   "cell_type": "code",
   "execution_count": 6,
   "metadata": {},
   "outputs": [
    {
     "ename": "AssertionError",
     "evalue": "",
     "output_type": "error",
     "traceback": [
      "\u001b[0;31m---------------------------------------------------------------------------\u001b[0m",
      "\u001b[0;31mAssertionError\u001b[0m                            Traceback (most recent call last)",
      "Cell \u001b[0;32mIn[6], line 1\u001b[0m\n\u001b[0;32m----> 1\u001b[0m \u001b[38;5;28;01massert\u001b[39;00m decay_products_nopol[\u001b[38;5;124m\"\u001b[39m\u001b[38;5;124mevent_num\u001b[39m\u001b[38;5;124m\"\u001b[39m]\u001b[38;5;241m.\u001b[39mnunique() \u001b[38;5;241m==\u001b[39m decay_products_g4[\u001b[38;5;124m\"\u001b[39m\u001b[38;5;124mevent_num\u001b[39m\u001b[38;5;124m\"\u001b[39m]\u001b[38;5;241m.\u001b[39mnunique()\n",
      "\u001b[0;31mAssertionError\u001b[0m: "
     ]
    }
   ],
   "source": [
    "assert decay_products_nopol[\"event_num\"].nunique() == decay_products_g4[\"event_num\"].nunique()"
   ]
  },
  {
   "cell_type": "markdown",
   "metadata": {},
   "source": [
    "## Geant4 data sanity check\n",
    "\n",
    "From the [source code for tau decays](https://github.com/Geant4/geant4/blob/master/source/particles/leptons/src/G4TauMinus.cc) in Geant4, the branching ratios should be:\n",
    "<!--Table with tau 2 columns: decay products and branching ratio -->\n",
    "| Decay products | Branching ratio |\n",
    "|----------------|-----------------|\n",
    "| $mu \\nu_tau \\bar\\nu_mu | 0.1736  |\n",
    "| $e \\nu_tau \\bar\\nu_e | 0.1784    |\n",
    "| $\\pi^- \\nu_tau | 0.1106 |\n",
    "\n",
    "```c++\n",
    " mode = new G4TauLeptonicDecayChannel(\"tau-\", 0.1736, \"mu-\");\n",
    "    table->Insert(mode);\n",
    "    // tau- -> e- + anti_nu_e + nu_tau\n",
    "    mode = new G4TauLeptonicDecayChannel(\"tau-\", 0.1784, \"e-\");\n",
    "    table->Insert(mode);\n",
    "    // tau- -> pi- + nu_tau\n",
    "    mode = new G4PhaseSpaceDecayChannel(\"tau-\", 0.1106, 2, \"pi-\", \"nu_tau\");\n",
    "    table->Insert(mode);\n",
    "    // tau- -> pi0 + pi- + nu_tau\n",
    "    mode = new G4PhaseSpaceDecayChannel(\"tau-\", 0.2541, 3, \"pi0\", \"pi-\", \"nu_tau\");\n",
    "    table->Insert(mode);\n",
    "    // tau- -> pi0 + pi0 + pi- + nu_tau\n",
    "    mode = new G4PhaseSpaceDecayChannel();\n",
    "    mode->SetParent(\"tau-\");\n",
    "    mode->SetBR(0.0917);\n",
    "    mode->SetNumberOfDaughters(4);\n",
    "    mode->SetDaughter(0, \"pi0\");\n",
    "    mode->SetDaughter(1, \"pi0\");\n",
    "    mode->SetDaughter(2, \"pi-\");\n",
    "    mode->SetDaughter(3, \"nu_tau\");\n",
    "    table->Insert(mode);\n",
    "    // tau- -> pi- + pi- + pi+ + nu_tau\n",
    "    mode = new G4PhaseSpaceDecayChannel();\n",
    "    mode->SetParent(\"tau-\");\n",
    "    mode->SetBR(0.0946);\n",
    "    mode->SetNumberOfDaughters(4);\n",
    "    mode->SetDaughter(0, \"pi-\");\n",
    "    mode->SetDaughter(1, \"pi-\");\n",
    "    mode->SetDaughter(2, \"pi+\");\n",
    "    mode->SetDaughter(3, \"nu_tau\");\n",
    "    table->Insert(mode);\n",
    "\n",
    "    anInstance->SetDecayTable(table);\n",
    "```"
   ]
  },
  {
   "cell_type": "code",
   "execution_count": 7,
   "metadata": {},
   "outputs": [
    {
     "data": {
      "text/html": [
       "<div>\n",
       "<style scoped>\n",
       "    .dataframe tbody tr th:only-of-type {\n",
       "        vertical-align: middle;\n",
       "    }\n",
       "\n",
       "    .dataframe tbody tr th {\n",
       "        vertical-align: top;\n",
       "    }\n",
       "\n",
       "    .dataframe thead th {\n",
       "        text-align: right;\n",
       "    }\n",
       "</style>\n",
       "<table border=\"1\" class=\"dataframe\">\n",
       "  <thead>\n",
       "    <tr style=\"text-align: right;\">\n",
       "      <th></th>\n",
       "      <th>event_num</th>\n",
       "      <th>pdg</th>\n",
       "      <th>E</th>\n",
       "      <th>px</th>\n",
       "      <th>py</th>\n",
       "      <th>pz</th>\n",
       "      <th>polx</th>\n",
       "      <th>poly</th>\n",
       "      <th>polz</th>\n",
       "    </tr>\n",
       "  </thead>\n",
       "  <tbody>\n",
       "    <tr>\n",
       "      <th>0</th>\n",
       "      <td>7</td>\n",
       "      <td>15</td>\n",
       "      <td>9.09355</td>\n",
       "      <td>-0.775883</td>\n",
       "      <td>-0.073440</td>\n",
       "      <td>8.88415</td>\n",
       "      <td>0.086999</td>\n",
       "      <td>0.008235</td>\n",
       "      <td>-0.996174</td>\n",
       "    </tr>\n",
       "    <tr>\n",
       "      <th>1</th>\n",
       "      <td>9</td>\n",
       "      <td>15</td>\n",
       "      <td>9.60237</td>\n",
       "      <td>0.121718</td>\n",
       "      <td>-0.088316</td>\n",
       "      <td>9.43534</td>\n",
       "      <td>0.000000</td>\n",
       "      <td>0.000000</td>\n",
       "      <td>0.000000</td>\n",
       "    </tr>\n",
       "    <tr>\n",
       "      <th>2</th>\n",
       "      <td>10</td>\n",
       "      <td>15</td>\n",
       "      <td>6.71352</td>\n",
       "      <td>-0.858065</td>\n",
       "      <td>-1.047740</td>\n",
       "      <td>6.33089</td>\n",
       "      <td>0.132538</td>\n",
       "      <td>0.161835</td>\n",
       "      <td>-0.977877</td>\n",
       "    </tr>\n",
       "    <tr>\n",
       "      <th>3</th>\n",
       "      <td>11</td>\n",
       "      <td>15</td>\n",
       "      <td>4.47782</td>\n",
       "      <td>-0.736966</td>\n",
       "      <td>-0.894283</td>\n",
       "      <td>3.94345</td>\n",
       "      <td>0.179302</td>\n",
       "      <td>0.217577</td>\n",
       "      <td>-0.959433</td>\n",
       "    </tr>\n",
       "    <tr>\n",
       "      <th>4</th>\n",
       "      <td>13</td>\n",
       "      <td>15</td>\n",
       "      <td>4.64310</td>\n",
       "      <td>0.985353</td>\n",
       "      <td>-0.359363</td>\n",
       "      <td>4.15946</td>\n",
       "      <td>-0.229704</td>\n",
       "      <td>0.083774</td>\n",
       "      <td>-0.969648</td>\n",
       "    </tr>\n",
       "    <tr>\n",
       "      <th>...</th>\n",
       "      <td>...</td>\n",
       "      <td>...</td>\n",
       "      <td>...</td>\n",
       "      <td>...</td>\n",
       "      <td>...</td>\n",
       "      <td>...</td>\n",
       "      <td>...</td>\n",
       "      <td>...</td>\n",
       "      <td>...</td>\n",
       "    </tr>\n",
       "    <tr>\n",
       "      <th>422033</th>\n",
       "      <td>999985</td>\n",
       "      <td>15</td>\n",
       "      <td>7.63077</td>\n",
       "      <td>0.869994</td>\n",
       "      <td>0.452875</td>\n",
       "      <td>7.35591</td>\n",
       "      <td>-0.117234</td>\n",
       "      <td>-0.061026</td>\n",
       "      <td>-0.991228</td>\n",
       "    </tr>\n",
       "    <tr>\n",
       "      <th>422034</th>\n",
       "      <td>999986</td>\n",
       "      <td>15</td>\n",
       "      <td>8.09538</td>\n",
       "      <td>0.537955</td>\n",
       "      <td>1.141290</td>\n",
       "      <td>7.79654</td>\n",
       "      <td>-0.068113</td>\n",
       "      <td>-0.144505</td>\n",
       "      <td>-0.987157</td>\n",
       "    </tr>\n",
       "    <tr>\n",
       "      <th>422035</th>\n",
       "      <td>999989</td>\n",
       "      <td>15</td>\n",
       "      <td>3.72208</td>\n",
       "      <td>-0.428483</td>\n",
       "      <td>-0.401685</td>\n",
       "      <td>3.21740</td>\n",
       "      <td>0.131012</td>\n",
       "      <td>0.122818</td>\n",
       "      <td>-0.983744</td>\n",
       "    </tr>\n",
       "    <tr>\n",
       "      <th>422036</th>\n",
       "      <td>999995</td>\n",
       "      <td>15</td>\n",
       "      <td>9.72986</td>\n",
       "      <td>-0.541620</td>\n",
       "      <td>-0.328638</td>\n",
       "      <td>9.54523</td>\n",
       "      <td>0.000000</td>\n",
       "      <td>0.000000</td>\n",
       "      <td>0.000000</td>\n",
       "    </tr>\n",
       "    <tr>\n",
       "      <th>422037</th>\n",
       "      <td>999996</td>\n",
       "      <td>15</td>\n",
       "      <td>6.01317</td>\n",
       "      <td>-0.071778</td>\n",
       "      <td>0.976046</td>\n",
       "      <td>5.66066</td>\n",
       "      <td>0.012495</td>\n",
       "      <td>-0.169905</td>\n",
       "      <td>-0.985381</td>\n",
       "    </tr>\n",
       "  </tbody>\n",
       "</table>\n",
       "<p>422038 rows × 9 columns</p>\n",
       "</div>"
      ],
      "text/plain": [
       "        event_num  pdg        E        px        py       pz      polx  \\\n",
       "0               7   15  9.09355 -0.775883 -0.073440  8.88415  0.086999   \n",
       "1               9   15  9.60237  0.121718 -0.088316  9.43534  0.000000   \n",
       "2              10   15  6.71352 -0.858065 -1.047740  6.33089  0.132538   \n",
       "3              11   15  4.47782 -0.736966 -0.894283  3.94345  0.179302   \n",
       "4              13   15  4.64310  0.985353 -0.359363  4.15946 -0.229704   \n",
       "...           ...  ...      ...       ...       ...      ...       ...   \n",
       "422033     999985   15  7.63077  0.869994  0.452875  7.35591 -0.117234   \n",
       "422034     999986   15  8.09538  0.537955  1.141290  7.79654 -0.068113   \n",
       "422035     999989   15  3.72208 -0.428483 -0.401685  3.21740  0.131012   \n",
       "422036     999995   15  9.72986 -0.541620 -0.328638  9.54523  0.000000   \n",
       "422037     999996   15  6.01317 -0.071778  0.976046  5.66066  0.012495   \n",
       "\n",
       "            poly      polz  \n",
       "0       0.008235 -0.996174  \n",
       "1       0.000000  0.000000  \n",
       "2       0.161835 -0.977877  \n",
       "3       0.217577 -0.959433  \n",
       "4       0.083774 -0.969648  \n",
       "...          ...       ...  \n",
       "422033 -0.061026 -0.991228  \n",
       "422034 -0.144505 -0.987157  \n",
       "422035  0.122818 -0.983744  \n",
       "422036  0.000000  0.000000  \n",
       "422037 -0.169905 -0.985381  \n",
       "\n",
       "[422038 rows x 9 columns]"
      ]
     },
     "execution_count": 7,
     "metadata": {},
     "output_type": "execute_result"
    }
   ],
   "source": [
    "taus = pd.read_csv(f\"../data/genie_pol_e{genie_nutau_energy}.csv\").sort_values(\"event_num\")\n",
    "taus"
   ]
  },
  {
   "cell_type": "code",
   "execution_count": 8,
   "metadata": {},
   "outputs": [
    {
     "data": {
      "text/html": [
       "<div>\n",
       "<style scoped>\n",
       "    .dataframe tbody tr th:only-of-type {\n",
       "        vertical-align: middle;\n",
       "    }\n",
       "\n",
       "    .dataframe tbody tr th {\n",
       "        vertical-align: top;\n",
       "    }\n",
       "\n",
       "    .dataframe thead th {\n",
       "        text-align: right;\n",
       "    }\n",
       "</style>\n",
       "<table border=\"1\" class=\"dataframe\">\n",
       "  <thead>\n",
       "    <tr style=\"text-align: right;\">\n",
       "      <th></th>\n",
       "      <th>event_num</th>\n",
       "      <th>pdg</th>\n",
       "      <th>E</th>\n",
       "      <th>px</th>\n",
       "      <th>py</th>\n",
       "      <th>pz</th>\n",
       "    </tr>\n",
       "  </thead>\n",
       "  <tbody>\n",
       "    <tr>\n",
       "      <th>0</th>\n",
       "      <td>7</td>\n",
       "      <td>16</td>\n",
       "      <td>7.570820</td>\n",
       "      <td>-0.097708</td>\n",
       "      <td>-0.374194</td>\n",
       "      <td>7.560940</td>\n",
       "    </tr>\n",
       "    <tr>\n",
       "      <th>1</th>\n",
       "      <td>7</td>\n",
       "      <td>-211</td>\n",
       "      <td>1.523270</td>\n",
       "      <td>-0.676654</td>\n",
       "      <td>0.300618</td>\n",
       "      <td>1.323870</td>\n",
       "    </tr>\n",
       "    <tr>\n",
       "      <th>2</th>\n",
       "      <td>9</td>\n",
       "      <td>16</td>\n",
       "      <td>0.763888</td>\n",
       "      <td>-0.240838</td>\n",
       "      <td>-0.112000</td>\n",
       "      <td>0.716225</td>\n",
       "    </tr>\n",
       "    <tr>\n",
       "      <th>3</th>\n",
       "      <td>9</td>\n",
       "      <td>-211</td>\n",
       "      <td>2.472850</td>\n",
       "      <td>-0.101234</td>\n",
       "      <td>-0.035973</td>\n",
       "      <td>2.466570</td>\n",
       "    </tr>\n",
       "    <tr>\n",
       "      <th>4</th>\n",
       "      <td>9</td>\n",
       "      <td>-211</td>\n",
       "      <td>2.365910</td>\n",
       "      <td>-0.001675</td>\n",
       "      <td>0.026367</td>\n",
       "      <td>2.361640</td>\n",
       "    </tr>\n",
       "    <tr>\n",
       "      <th>...</th>\n",
       "      <td>...</td>\n",
       "      <td>...</td>\n",
       "      <td>...</td>\n",
       "      <td>...</td>\n",
       "      <td>...</td>\n",
       "      <td>...</td>\n",
       "    </tr>\n",
       "    <tr>\n",
       "      <th>323450</th>\n",
       "      <td>237390</td>\n",
       "      <td>16</td>\n",
       "      <td>3.032180</td>\n",
       "      <td>0.502254</td>\n",
       "      <td>-0.528934</td>\n",
       "      <td>2.943140</td>\n",
       "    </tr>\n",
       "    <tr>\n",
       "      <th>323454</th>\n",
       "      <td>237391</td>\n",
       "      <td>-211</td>\n",
       "      <td>2.366140</td>\n",
       "      <td>-0.268975</td>\n",
       "      <td>0.091507</td>\n",
       "      <td>2.344870</td>\n",
       "    </tr>\n",
       "    <tr>\n",
       "      <th>323455</th>\n",
       "      <td>237391</td>\n",
       "      <td>-211</td>\n",
       "      <td>2.109700</td>\n",
       "      <td>0.150131</td>\n",
       "      <td>-0.134221</td>\n",
       "      <td>2.095420</td>\n",
       "    </tr>\n",
       "    <tr>\n",
       "      <th>323453</th>\n",
       "      <td>237391</td>\n",
       "      <td>16</td>\n",
       "      <td>0.985872</td>\n",
       "      <td>0.414652</td>\n",
       "      <td>-0.043830</td>\n",
       "      <td>0.893357</td>\n",
       "    </tr>\n",
       "    <tr>\n",
       "      <th>323456</th>\n",
       "      <td>237391</td>\n",
       "      <td>211</td>\n",
       "      <td>4.402340</td>\n",
       "      <td>-0.395952</td>\n",
       "      <td>0.408257</td>\n",
       "      <td>4.363220</td>\n",
       "    </tr>\n",
       "  </tbody>\n",
       "</table>\n",
       "<p>323457 rows × 6 columns</p>\n",
       "</div>"
      ],
      "text/plain": [
       "        event_num  pdg         E        px        py        pz\n",
       "0               7   16  7.570820 -0.097708 -0.374194  7.560940\n",
       "1               7 -211  1.523270 -0.676654  0.300618  1.323870\n",
       "2               9   16  0.763888 -0.240838 -0.112000  0.716225\n",
       "3               9 -211  2.472850 -0.101234 -0.035973  2.466570\n",
       "4               9 -211  2.365910 -0.001675  0.026367  2.361640\n",
       "...           ...  ...       ...       ...       ...       ...\n",
       "323450     237390   16  3.032180  0.502254 -0.528934  2.943140\n",
       "323454     237391 -211  2.366140 -0.268975  0.091507  2.344870\n",
       "323455     237391 -211  2.109700  0.150131 -0.134221  2.095420\n",
       "323453     237391   16  0.985872  0.414652 -0.043830  0.893357\n",
       "323456     237391  211  4.402340 -0.395952  0.408257  4.363220\n",
       "\n",
       "[323457 rows x 6 columns]"
      ]
     },
     "execution_count": 8,
     "metadata": {},
     "output_type": "execute_result"
    }
   ],
   "source": [
    "# Take the event_num in decay_products_g4, use it as the index for event_num in taus, and then create a new array with those values as the event_num in decay_products_g4\n",
    "decay_products_g4[\"event_num\"] = taus[\"event_num\"][decay_products_g4[\"event_num\"]].values\n",
    "decay_products_g4"
   ]
  },
  {
   "cell_type": "code",
   "execution_count": 10,
   "metadata": {},
   "outputs": [],
   "source": [
    "# Group by event_num and calculate the sum of the 4-momentum\n",
    "tau_rec = decay_products_g4.groupby(\"event_num\")[[\"E\", \"px\", \"py\", \"pz\"]].sum()\n",
    "closeness = np.isclose(tau_rec, taus[taus[\"event_num\"].isin(decay_products_g4[\"event_num\"])].loc[:, \"E\":\"pz\"], atol=0.01)"
   ]
  },
  {
   "cell_type": "code",
   "execution_count": 11,
   "metadata": {},
   "outputs": [
    {
     "ename": "ValueError",
     "evalue": "Item wrong length 100000 instead of 422038.",
     "output_type": "error",
     "traceback": [
      "\u001b[0;31m---------------------------------------------------------------------------\u001b[0m",
      "\u001b[0;31mValueError\u001b[0m                                Traceback (most recent call last)",
      "Cell \u001b[0;32mIn[11], line 1\u001b[0m\n\u001b[0;32m----> 1\u001b[0m bad_event_nums \u001b[38;5;241m=\u001b[39m taus[\u001b[38;5;241m~\u001b[39mcloseness[:, \u001b[38;5;241m0\u001b[39m]][\u001b[38;5;124m\"\u001b[39m\u001b[38;5;124mevent_num\u001b[39m\u001b[38;5;124m\"\u001b[39m]\u001b[38;5;241m.\u001b[39mvalues\n",
      "File \u001b[0;32m~/miniconda3/envs/cern-skhep/lib/python3.11/site-packages/pandas/core/frame.py:3884\u001b[0m, in \u001b[0;36mDataFrame.__getitem__\u001b[0;34m(self, key)\u001b[0m\n\u001b[1;32m   3882\u001b[0m \u001b[38;5;66;03m# Do we have a (boolean) 1d indexer?\u001b[39;00m\n\u001b[1;32m   3883\u001b[0m \u001b[38;5;28;01mif\u001b[39;00m com\u001b[38;5;241m.\u001b[39mis_bool_indexer(key):\n\u001b[0;32m-> 3884\u001b[0m     \u001b[38;5;28;01mreturn\u001b[39;00m \u001b[38;5;28mself\u001b[39m\u001b[38;5;241m.\u001b[39m_getitem_bool_array(key)\n\u001b[1;32m   3886\u001b[0m \u001b[38;5;66;03m# We are left with two options: a single key, and a collection of keys,\u001b[39;00m\n\u001b[1;32m   3887\u001b[0m \u001b[38;5;66;03m# We interpret tuples as collections only for non-MultiIndex\u001b[39;00m\n\u001b[1;32m   3888\u001b[0m is_single_key \u001b[38;5;241m=\u001b[39m \u001b[38;5;28misinstance\u001b[39m(key, \u001b[38;5;28mtuple\u001b[39m) \u001b[38;5;129;01mor\u001b[39;00m \u001b[38;5;129;01mnot\u001b[39;00m is_list_like(key)\n",
      "File \u001b[0;32m~/miniconda3/envs/cern-skhep/lib/python3.11/site-packages/pandas/core/frame.py:3934\u001b[0m, in \u001b[0;36mDataFrame._getitem_bool_array\u001b[0;34m(self, key)\u001b[0m\n\u001b[1;32m   3928\u001b[0m     warnings\u001b[38;5;241m.\u001b[39mwarn(\n\u001b[1;32m   3929\u001b[0m         \u001b[38;5;124m\"\u001b[39m\u001b[38;5;124mBoolean Series key will be reindexed to match DataFrame index.\u001b[39m\u001b[38;5;124m\"\u001b[39m,\n\u001b[1;32m   3930\u001b[0m         \u001b[38;5;167;01mUserWarning\u001b[39;00m,\n\u001b[1;32m   3931\u001b[0m         stacklevel\u001b[38;5;241m=\u001b[39mfind_stack_level(),\n\u001b[1;32m   3932\u001b[0m     )\n\u001b[1;32m   3933\u001b[0m \u001b[38;5;28;01melif\u001b[39;00m \u001b[38;5;28mlen\u001b[39m(key) \u001b[38;5;241m!=\u001b[39m \u001b[38;5;28mlen\u001b[39m(\u001b[38;5;28mself\u001b[39m\u001b[38;5;241m.\u001b[39mindex):\n\u001b[0;32m-> 3934\u001b[0m     \u001b[38;5;28;01mraise\u001b[39;00m \u001b[38;5;167;01mValueError\u001b[39;00m(\n\u001b[1;32m   3935\u001b[0m         \u001b[38;5;124mf\u001b[39m\u001b[38;5;124m\"\u001b[39m\u001b[38;5;124mItem wrong length \u001b[39m\u001b[38;5;132;01m{\u001b[39;00m\u001b[38;5;28mlen\u001b[39m(key)\u001b[38;5;132;01m}\u001b[39;00m\u001b[38;5;124m instead of \u001b[39m\u001b[38;5;132;01m{\u001b[39;00m\u001b[38;5;28mlen\u001b[39m(\u001b[38;5;28mself\u001b[39m\u001b[38;5;241m.\u001b[39mindex)\u001b[38;5;132;01m}\u001b[39;00m\u001b[38;5;124m.\u001b[39m\u001b[38;5;124m\"\u001b[39m\n\u001b[1;32m   3936\u001b[0m     )\n\u001b[1;32m   3938\u001b[0m \u001b[38;5;66;03m# check_bool_indexer will throw exception if Series key cannot\u001b[39;00m\n\u001b[1;32m   3939\u001b[0m \u001b[38;5;66;03m# be reindexed to match DataFrame rows\u001b[39;00m\n\u001b[1;32m   3940\u001b[0m key \u001b[38;5;241m=\u001b[39m check_bool_indexer(\u001b[38;5;28mself\u001b[39m\u001b[38;5;241m.\u001b[39mindex, key)\n",
      "\u001b[0;31mValueError\u001b[0m: Item wrong length 100000 instead of 422038."
     ]
    }
   ],
   "source": [
    "bad_event_nums = taus[~closeness[:, 0]][\"event_num\"].values"
   ]
  },
  {
   "cell_type": "code",
   "execution_count": 118,
   "metadata": {},
   "outputs": [
    {
     "data": {
      "text/html": [
       "<div>\n",
       "<style scoped>\n",
       "    .dataframe tbody tr th:only-of-type {\n",
       "        vertical-align: middle;\n",
       "    }\n",
       "\n",
       "    .dataframe tbody tr th {\n",
       "        vertical-align: top;\n",
       "    }\n",
       "\n",
       "    .dataframe thead th {\n",
       "        text-align: right;\n",
       "    }\n",
       "</style>\n",
       "<table border=\"1\" class=\"dataframe\">\n",
       "  <thead>\n",
       "    <tr style=\"text-align: right;\">\n",
       "      <th></th>\n",
       "      <th>event_num</th>\n",
       "      <th>pdg</th>\n",
       "      <th>E</th>\n",
       "      <th>px</th>\n",
       "      <th>py</th>\n",
       "      <th>pz</th>\n",
       "    </tr>\n",
       "  </thead>\n",
       "  <tbody>\n",
       "  </tbody>\n",
       "</table>\n",
       "</div>"
      ],
      "text/plain": [
       "Empty DataFrame\n",
       "Columns: [event_num, pdg, E, px, py, pz]\n",
       "Index: []"
      ]
     },
     "execution_count": 118,
     "metadata": {},
     "output_type": "execute_result"
    }
   ],
   "source": [
    "decay_products_g4[decay_products_g4[\"event_num\"].isin(bad_event_nums)].head(20)"
   ]
  },
  {
   "cell_type": "code",
   "execution_count": 119,
   "metadata": {},
   "outputs": [
    {
     "data": {
      "text/html": [
       "<div>\n",
       "<style scoped>\n",
       "    .dataframe tbody tr th:only-of-type {\n",
       "        vertical-align: middle;\n",
       "    }\n",
       "\n",
       "    .dataframe tbody tr th {\n",
       "        vertical-align: top;\n",
       "    }\n",
       "\n",
       "    .dataframe thead th {\n",
       "        text-align: right;\n",
       "    }\n",
       "</style>\n",
       "<table border=\"1\" class=\"dataframe\">\n",
       "  <thead>\n",
       "    <tr style=\"text-align: right;\">\n",
       "      <th></th>\n",
       "      <th>event_num</th>\n",
       "      <th>pdg</th>\n",
       "      <th>E</th>\n",
       "      <th>px</th>\n",
       "      <th>py</th>\n",
       "      <th>pz</th>\n",
       "      <th>polx</th>\n",
       "      <th>poly</th>\n",
       "      <th>polz</th>\n",
       "    </tr>\n",
       "  </thead>\n",
       "  <tbody>\n",
       "  </tbody>\n",
       "</table>\n",
       "</div>"
      ],
      "text/plain": [
       "Empty DataFrame\n",
       "Columns: [event_num, pdg, E, px, py, pz, polx, poly, polz]\n",
       "Index: []"
      ]
     },
     "execution_count": 119,
     "metadata": {},
     "output_type": "execute_result"
    }
   ],
   "source": [
    "taus[taus[\"event_num\"].isin(bad_event_nums)]"
   ]
  },
  {
   "cell_type": "code",
   "execution_count": 120,
   "metadata": {},
   "outputs": [
    {
     "data": {
      "text/html": [
       "<div>\n",
       "<style scoped>\n",
       "    .dataframe tbody tr th:only-of-type {\n",
       "        vertical-align: middle;\n",
       "    }\n",
       "\n",
       "    .dataframe tbody tr th {\n",
       "        vertical-align: top;\n",
       "    }\n",
       "\n",
       "    .dataframe thead th {\n",
       "        text-align: right;\n",
       "    }\n",
       "</style>\n",
       "<table border=\"1\" class=\"dataframe\">\n",
       "  <thead>\n",
       "    <tr style=\"text-align: right;\">\n",
       "      <th></th>\n",
       "      <th>E</th>\n",
       "      <th>px</th>\n",
       "      <th>py</th>\n",
       "      <th>pz</th>\n",
       "    </tr>\n",
       "    <tr>\n",
       "      <th>event_num</th>\n",
       "      <th></th>\n",
       "      <th></th>\n",
       "      <th></th>\n",
       "      <th></th>\n",
       "    </tr>\n",
       "  </thead>\n",
       "  <tbody>\n",
       "  </tbody>\n",
       "</table>\n",
       "</div>"
      ],
      "text/plain": [
       "Empty DataFrame\n",
       "Columns: [E, px, py, pz]\n",
       "Index: []"
      ]
     },
     "execution_count": 120,
     "metadata": {},
     "output_type": "execute_result"
    }
   ],
   "source": [
    "tau_rec[tau_rec.index.isin(bad_event_nums)]"
   ]
  },
  {
   "cell_type": "code",
   "execution_count": 6,
   "metadata": {},
   "outputs": [
    {
     "data": {
      "text/plain": [
       "True"
      ]
     },
     "execution_count": 6,
     "metadata": {},
     "output_type": "execute_result"
    }
   ],
   "source": [
    "(taus.loc[:, \"E\"].values > tau_rec.loc[:, \"E\"].values).all()"
   ]
  },
  {
   "cell_type": "markdown",
   "metadata": {},
   "source": [
    "4-momentum is not conserved at all, for some events. It seems like something is missing or that I am not saving certain particles when the tau lepton decays in Geant4."
   ]
  },
  {
   "cell_type": "markdown",
   "metadata": {},
   "source": [
    "## Plot neutrino energy distribution for Geant4 decay products"
   ]
  },
  {
   "cell_type": "code",
   "execution_count": 12,
   "metadata": {},
   "outputs": [
    {
     "data": {
      "text/plain": [
       "{(-211, 16, 111): 0.25261,\n",
       " (-14, 13, 16): 0.17031,\n",
       " (-12, 11, 16): 0.15336,\n",
       " (-211, 16): 0.11067,\n",
       " (-211, 16, 111, 111): 0.09186,\n",
       " (-211, -211, 16, 211): 0.08877,\n",
       " (-211, -211, 16, 111, 211): 0.0464,\n",
       " (-12, 11, 16, 22): 0.02819,\n",
       " (-211, 16, 111, 111, 111): 0.00991,\n",
       " (-321, 16): 0.00714,\n",
       " (-14, 13, 16, 22): 0.00605,\n",
       " (-321, -211, 16, 211): 0.00508,\n",
       " (-211, 16, 310): 0.00453,\n",
       " (-321, 16, 111): 0.00452,\n",
       " (-211, 16, 130): 0.00426,\n",
       " (-211, 16, 111, 130): 0.0029,\n",
       " (-211, 16, 111, 310): 0.00281,\n",
       " (-321, -211, 16, 321): 0.00163,\n",
       " (-211, 16, 111, 221): 0.00161,\n",
       " (-211, 16, 22, 111): 0.00137,\n",
       " (-211, -211, 16, 111, 111, 211): 0.00081,\n",
       " (-321, 16, 111, 310): 0.00081,\n",
       " (-211, 16, 130, 310): 0.00067,\n",
       " (-321, 16, 111, 130): 0.00066,\n",
       " (-211, -211, 16, 111, 111, 111, 211): 0.00048,\n",
       " (-321, 16, 310): 0.00047,\n",
       " (-321, 16, 111, 111): 0.00046,\n",
       " (-321, 16, 130): 0.00045,\n",
       " (-211, -211, -211, 16, 211, 211): 0.00038,\n",
       " (-211, 16, 310, 310): 0.00038,\n",
       " (-211, 16, 130, 130): 0.00026,\n",
       " (-211, -211, -211, 16, 111, 211, 211): 0.00019}"
      ]
     },
     "execution_count": 12,
     "metadata": {},
     "output_type": "execute_result"
    }
   ],
   "source": [
    "branching_ratios(decay_products_g4)"
   ]
  },
  {
   "cell_type": "code",
   "execution_count": 13,
   "metadata": {},
   "outputs": [],
   "source": [
    "def particle_energy_fraction(df, pdg, n=0):\n",
    "    particle_energy = (\n",
    "        df\n",
    "        # .groupby(\"event_num\")\n",
    "        # .nth[3:]\n",
    "        .query(f\"pdg == {pdg}\")\n",
    "        .groupby(\"event_num\")\n",
    "        .nth(n)\n",
    "        [\"E\"]\n",
    "        .values\n",
    "    )\n",
    "    \n",
    "    total_energy = df.groupby(\"event_num\")[\"E\"].sum().values\n",
    "    return particle_energy / total_energy\n",
    "\n",
    "@numba.njit\n",
    "def is_pi0_pim_nutau_event(values, index) -> bool:\n",
    "    \"\"\"Check if a given event contains a pi0, a pi- and a tau neutrino\"\"\"\n",
    "    return ((values == -211).sum() == 1) and ((values == 111).sum() == 1) and (values == 16).any() and (values.size == 3)\n",
    "\n",
    "@numba.njit\n",
    "def is_2pim_pip_nutau_event(values, index) -> bool:\n",
    "    return ((values == -211).sum() == 2) and ((values == 211).sum() == 1) and (values == 16).any() and (values.size == 4)\n",
    "\n",
    "@numba.njit\n",
    "def is_2pi0_pim_nutau_event(values, index) -> bool:\n",
    "    return ((values == -211).sum() == 1) and ((values == 111).sum() == 2) and (values == 16).any() and (values.size == 4)\n",
    "\n",
    "\n",
    "def tau_visible_m(df) -> np.ndarray:\n",
    "    visible = df.query(\"(pdg.abs() != 12) and (pdg.abs() != 14) and (pdg.abs() != 16)\").groupby(\"event_num\")[[\"E\", \"px\", \"py\", \"pz\"]].sum()\n",
    "    return np.sqrt(visible[\"E\"]**2 - visible[\"px\"]**2 - visible[\"py\"]**2 - visible[\"pz\"]**2).values\n"
   ]
  },
  {
   "cell_type": "code",
   "execution_count": 14,
   "metadata": {},
   "outputs": [],
   "source": [
    "from utils import filter_events"
   ]
  },
  {
   "cell_type": "code",
   "execution_count": 15,
   "metadata": {},
   "outputs": [],
   "source": [
    "datasets = {\"Tauola unpolarized\": decay_products_nopol.groupby(\"event_num\").nth[3:], \"Geant4\": decay_products_g4}"
   ]
  },
  {
   "cell_type": "code",
   "execution_count": 16,
   "metadata": {},
   "outputs": [
    {
     "data": {
      "image/png": "[encoded data removed]",
      "text/plain": [
       "<Figure size 640x480 with 1 Axes>"
      ]
     },
     "metadata": {},
     "output_type": "display_data"
    }
   ],
   "source": [
    "fig, ax = plt.subplots(\n",
    "    # ncols=len(d1), \n",
    "    # nrows=2, \n",
    "    # figsize=(4, 4), \n",
    "    layout=\"constrained\")\n",
    "\n",
    "for label, df in datasets.items():\n",
    "    selected_events = filter_events(df, \"pdg\", is_pi0_pim_nutau_event, engine=\"numba\")\n",
    "    ax.hist(particle_energy_fraction(selected_events, 16), bins=np.linspace(0, 1, 20), histtype=\"step\", label=label, density=True, lw=2)\n",
    "\n",
    "ax.set(xlabel=\"Energy fraction\", title=r\"$\\nu_\\tau$ energy fraction for $\\tau \\to \\pi^- \\pi^0 \\nu_\\tau$ events | $E_\\nu =$\" + f\"{genie_nutau_energy} GeV\")\n",
    "ax.legend()\n",
    "ax.grid(True)"
   ]
  },
  {
   "cell_type": "code",
   "execution_count": 17,
   "metadata": {},
   "outputs": [
    {
     "data": {
      "image/png": "[encoded data removed]",
      "text/plain": [
       "<Figure size 640x480 with 1 Axes>"
      ]
     },
     "metadata": {},
     "output_type": "display_data"
    }
   ],
   "source": [
    "fig, ax = plt.subplots(\n",
    "    # ncols=len(d1), \n",
    "    # nrows=2, \n",
    "    # figsize=(4, 4), \n",
    "    layout=\"constrained\")\n",
    "\n",
    "for label, df in datasets.items():\n",
    "    selected_events = filter_events(df, \"pdg\", is_pi0_pim_nutau_event, engine=\"numba\")\n",
    "    ax.hist(tau_visible_m(selected_events), bins=np.linspace(0, 1.7, 20), histtype=\"step\", label=label, density=True, lw=2)\n",
    "\n",
    "ax.set(xlabel=\"Energy fraction\", title=r\"$\\nu_\\tau$ energy fraction for $\\tau \\to \\pi^- \\pi^0 \\nu_\\tau$ events | $E_\\nu =$\" + f\"{genie_nutau_energy} GeV\")\n",
    "ax.legend()\n",
    "ax.grid(True)"
   ]
  },
  {
   "cell_type": "code",
   "execution_count": 18,
   "metadata": {},
   "outputs": [
    {
     "data": {
      "image/png": "[encoded data removed]",
      "text/plain": [
       "<Figure size 640x480 with 1 Axes>"
      ]
     },
     "metadata": {},
     "output_type": "display_data"
    }
   ],
   "source": [
    "fig, ax = plt.subplots(\n",
    "    # ncols=len(d1), \n",
    "    # nrows=2, \n",
    "    # figsize=(4, 4), \n",
    "    layout=\"constrained\")\n",
    "\n",
    "for label, df in datasets.items():\n",
    "    selected_events = filter_events(df, \"pdg\", is_2pi0_pim_nutau_event, engine=\"numba\")\n",
    "    ax.hist(tau_visible_m(selected_events), bins=np.linspace(0, 1.7, 20), histtype=\"step\", label=label, density=True, lw=2)\n",
    "\n",
    "ax.set(xlabel=\"Energy fraction\", title=r\"$\\nu_\\tau$ energy fraction for $\\tau \\to \\pi^- \\pi^0 \\nu_\\tau$ events | $E_\\nu =$\" + f\"{genie_nutau_energy} GeV\")\n",
    "ax.legend()\n",
    "ax.grid(True)"
   ]
  },
  {
   "cell_type": "code",
   "execution_count": 19,
   "metadata": {},
   "outputs": [
    {
     "data": {
      "image/png": "[encoded data removed]",
      "text/plain": [
       "<Figure size 640x480 with 1 Axes>"
      ]
     },
     "metadata": {},
     "output_type": "display_data"
    }
   ],
   "source": [
    "fig, ax = plt.subplots(\n",
    "    # ncols=len(d1), \n",
    "    # nrows=2, \n",
    "    # figsize=(4, 4), \n",
    "    layout=\"constrained\")\n",
    "\n",
    "for label, df in datasets.items():\n",
    "    selected_events = filter_events(df, \"pdg\", is_2pim_pip_nutau_event, engine=\"numba\")\n",
    "    ax.hist(tau_visible_m(selected_events), bins=np.linspace(0, 1.7, 20), histtype=\"step\", label=label, density=True, lw=2)\n",
    "\n",
    "ax.set(xlabel=\"Energy fraction\", title=r\"$\\nu_\\tau$ energy fraction for $\\tau \\to \\pi^- \\pi^0 \\nu_\\tau$ events | $E_\\nu =$\" + f\"{genie_nutau_energy} GeV\")\n",
    "ax.legend()\n",
    "ax.grid(True)"
   ]
  },
  {
   "cell_type": "code",
   "execution_count": 128,
   "metadata": {},
   "outputs": [
    {
     "data": {
      "image/png": "[encoded data removed]",
      "text/plain": [
       "<Figure size 640x480 with 1 Axes>"
      ]
     },
     "metadata": {},
     "output_type": "display_data"
    }
   ],
   "source": [
    "fig, ax = plt.subplots(\n",
    "    # ncols=len(d1), \n",
    "    # nrows=2, \n",
    "    # figsize=(4, 4), \n",
    "    layout=\"constrained\")\n",
    "\n",
    "for label, df in datasets.items():\n",
    "    selected_events = filter_events(df, \"pdg\", is_2pim_pip_nutau_event, engine=\"numba\")\n",
    "    ax.hist(particle_energy_fraction(selected_events, 16), bins=np.linspace(0, 1, 20), histtype=\"step\", label=label, density=True, lw=2)\n",
    "\n",
    "ax.set(xlabel=\"Energy fraction\", title=r\"$\\nu_\\tau$ energy fraction for $\\tau \\to \\pi^- \\pi^- \\pi^+ \\nu_\\tau$ events | $E_\\nu =$\" + f\"{genie_nutau_energy} GeV\")\n",
    "ax.legend()\n",
    "ax.grid(True)"
   ]
  },
  {
   "cell_type": "code",
   "execution_count": 129,
   "metadata": {},
   "outputs": [
    {
     "data": {
      "image/png": "[encoded data removed]",
      "text/plain": [
       "<Figure size 640x480 with 1 Axes>"
      ]
     },
     "metadata": {},
     "output_type": "display_data"
    }
   ],
   "source": [
    "fig, ax = plt.subplots(\n",
    "    # ncols=len(d1), \n",
    "    # nrows=2, \n",
    "    # figsize=(4, 4), \n",
    "    layout=\"constrained\")\n",
    "\n",
    "for label, df in datasets.items():\n",
    "    selected_events = filter_events(df, \"pdg\", is_2pi0_pim_nutau_event, engine=\"numba\")\n",
    "    ax.hist(particle_energy_fraction(selected_events, 16), bins=np.linspace(0, 1, 20), histtype=\"step\", label=label, density=True, lw=2)\n",
    "\n",
    "ax.set(xlabel=\"Energy fraction\", title=r\"$\\nu_\\tau$ energy fraction for $\\tau \\to \\pi^0 \\pi^0 \\pi^- \\nu_\\tau$ events | $E_\\nu =$\" + f\"{genie_nutau_energy} GeV\")\n",
    "ax.legend()\n",
    "ax.grid(True)"
   ]
  },
  {
   "cell_type": "markdown",
   "metadata": {},
   "source": [
    "## Compare Geant4 decay products with Tauola decay products"
   ]
  },
  {
   "cell_type": "code",
   "execution_count": 5,
   "metadata": {},
   "outputs": [],
   "source": [
    "def get_particle_property(decay_products: pd.DataFrame, pdg: int, prop: str) -> tuple[pd.Series, pd.Series]:\n",
    "    nutau_e = decay_products.query(\"pdg == 16\")[prop]\n",
    "    anti_nutau_e = decay_products.query(\"pdg == -16\")[prop]\n",
    "    return nutau_e, anti_nutau_e\n",
    "\n",
    "\n",
    "def compare_histos(nutau, anti_nutau, nutau_nopol, anti_nutau_nopol, nutau_g4, anti_nutau_g4, bins, density=None, **kwargs):\n",
    "    fig, axs = plt.subplots(figsize=(10, 4), nrows=1, ncols=2, layout=\"constrained\")\n",
    "\n",
    "    for ax, label, lists, in zip(axs, (\"Neutrino\", \"Anti-neutrino\"), ((nutau, nutau_nopol, nutau_g4), (anti_nutau, anti_nutau_nopol, anti_nutau_g4))):\n",
    "        for energies, particle_type in zip(lists, (\"polarized\", \"unpolarized (Tauola)\", \"unpolarized (Geant4)\")):\n",
    "            ax.hist(energies, bins=bins, label=f\"{label} {particle_type}\", density=density, histtype=\"step\", lw=2)\n",
    "            # ax.set_title(f\"{label} {particle_type}\")\n",
    "            \n",
    "    for ax in axs.flat:\n",
    "        ax.set(**kwargs, ylabel=\"Density of number of neutrinos\")\n",
    "        ax.grid(True, alpha=0.5)\n",
    "        ax.legend(fontsize=\"large\")\n",
    "\n",
    "    return fig, axs"
   ]
  },
  {
   "cell_type": "code",
   "execution_count": 1,
   "metadata": {},
   "outputs": [
    {
     "ename": "NameError",
     "evalue": "name 'get_particle_property' is not defined",
     "output_type": "error",
     "traceback": [
      "\u001b[0;31m---------------------------------------------------------------------------\u001b[0m",
      "\u001b[0;31mNameError\u001b[0m                                 Traceback (most recent call last)",
      "Cell \u001b[0;32mIn[1], line 1\u001b[0m\n\u001b[0;32m----> 1\u001b[0m nutau, anti_nutau \u001b[38;5;241m=\u001b[39m get_particle_property(decay_products, \u001b[38;5;241m16\u001b[39m, \u001b[38;5;124m\"\u001b[39m\u001b[38;5;124mE\u001b[39m\u001b[38;5;124m\"\u001b[39m)\n\u001b[1;32m      2\u001b[0m nutau_nopol, anti_nutau_nopol \u001b[38;5;241m=\u001b[39m get_particle_property(decay_products_nopol, \u001b[38;5;241m16\u001b[39m, \u001b[38;5;124m\"\u001b[39m\u001b[38;5;124mE\u001b[39m\u001b[38;5;124m\"\u001b[39m)\n\u001b[1;32m      3\u001b[0m nutau_g4, anti_nutau_g4 \u001b[38;5;241m=\u001b[39m get_particle_property(decay_products_g4, \u001b[38;5;241m16\u001b[39m, \u001b[38;5;124m\"\u001b[39m\u001b[38;5;124mE\u001b[39m\u001b[38;5;124m\"\u001b[39m)\n",
      "\u001b[0;31mNameError\u001b[0m: name 'get_particle_property' is not defined"
     ]
    }
   ],
   "source": [
    "nutau, anti_nutau = get_particle_property(decay_products, 16, \"E\")\n",
    "nutau_nopol, anti_nutau_nopol = get_particle_property(decay_products_nopol, 16, \"E\")\n",
    "nutau_g4, anti_nutau_g4 = get_particle_property(decay_products_g4, 16, \"E\")\n",
    "\n",
    "compare_histos(nutau, anti_nutau, nutau_nopol, anti_nutau_nopol, nutau_g4, anti_nutau_g4, \n",
    "               bins=np.linspace(0, genie_nutau_energy, 50), xlabel=\"Neutrino energy [GeV]\", density=True)"
   ]
  },
  {
   "cell_type": "code",
   "execution_count": 9,
   "metadata": {},
   "outputs": [
    {
     "name": "stderr",
     "output_type": "stream",
     "text": [
      "/home/simon/miniconda3/envs/cern-skhep/lib/python3.11/site-packages/numpy/lib/histograms.py:883: RuntimeWarning: divide by zero encountered in divide\n",
      "  return n/db/n.sum(), bin_edges\n",
      "/home/simon/miniconda3/envs/cern-skhep/lib/python3.11/site-packages/numpy/lib/histograms.py:883: RuntimeWarning: invalid value encountered in divide\n",
      "  return n/db/n.sum(), bin_edges\n"
     ]
    },
    {
     "data": {
      "text/plain": [
       "(<Figure size 1000x400 with 2 Axes>,\n",
       " array([<Axes: xlabel='Tau visible energy [GeV]', ylabel='Density of number of neutrinos'>,\n",
       "        <Axes: xlabel='Tau visible energy [GeV]', ylabel='Density of number of neutrinos'>],\n",
       "       dtype=object))"
      ]
     },
     "execution_count": 9,
     "metadata": {},
     "output_type": "execute_result"
    },
    {
     "data": {
      "image/png": "[encoded data removed]",
      "text/plain": [
       "<Figure size 1000x400 with 2 Axes>"
      ]
     },
     "metadata": {},
     "output_type": "display_data"
    }
   ],
   "source": [
    "nutau = decay_products.query(\"pdg != 16\").groupby(\"event_num\")[\"E\"].sum()\n",
    "nutau_nopol = decay_products_nopol.query(\"pdg != 16\").groupby(\"event_num\")[\"E\"].sum()\n",
    "nutau_g4 = decay_products_g4.query(\"pdg != 16\").groupby(\"event_num\")[\"E\"].sum()\n",
    "\n",
    "compare_histos(nutau, np.array([]), nutau_nopol, np.array([]), nutau_g4, np.array([]), \n",
    "               bins=np.linspace(0, genie_nutau_energy, 50), xlabel=\"Tau visible energy [GeV]\", density=True)"
   ]
  },
  {
   "cell_type": "markdown",
   "metadata": {},
   "source": [
    "When viewing the distribution of all events (regardless of decay mode) and the neutrino energy in these cases, there is a slight shift. In the polarized simulations, the neutrinos typically have a lower energy that in the unpolarized case. This would mean that IceCube simulations using the unpolarized simulations underestimate the energy deposited in the detector, i.e., overestimate the missing energy."
   ]
  },
  {
   "cell_type": "markdown",
   "metadata": {},
   "source": [
    "## Pion momentum fraction\n",
    "See Fig. 2 in the DUNE paper"
   ]
  },
  {
   "cell_type": "code",
   "execution_count": 10,
   "metadata": {},
   "outputs": [],
   "source": [
    "def filter_events(decay_products: pd.DataFrame, col: str, filter_func: callable, **kwargs) -> pd.DataFrame:\n",
    "    mask = decay_products.groupby(\"event_num\")[col].agg(filter_func, **kwargs)\n",
    "    allowed_events = mask[mask > 0].index\n",
    "    return decay_products[decay_products[\"event_num\"].isin(allowed_events)]"
   ]
  },
  {
   "cell_type": "code",
   "execution_count": 11,
   "metadata": {},
   "outputs": [],
   "source": [
    "@numba.njit\n",
    "def is_pion_nutau_event(values: np.ndarray, index: np.ndarray) -> bool:\n",
    "    # at index 0, we should have the pdg, since the event number is now the index\n",
    "    # print(values)\n",
    "    # return True\n",
    "    return (values == -211).any() and (values == 16).any() and (values.size == 2)\n",
    "\n",
    "\n",
    "# Only select events that decay to a pion and a neutrino (211 and 16)\n",
    "pion_neutrino_events = filter_events(decay_products, \"pdg\", is_pion_nutau_event, engine=\"numba\")\n",
    "pion_neutrino_events_nopol = filter_events(decay_products_nopol, \"pdg\", is_pion_nutau_event, engine=\"numba\")\n",
    "pion_neutrino_events_g4 = filter_events(decay_products_g4, \"pdg\", is_pion_nutau_event, engine=\"numba\")"
   ]
  },
  {
   "cell_type": "code",
   "execution_count": 12,
   "metadata": {},
   "outputs": [],
   "source": [
    "def pion_momentum_fraction(decay_products):\n",
    "    # Calculate the momentum fraction of the tau neutrino relative to the total momentum of all decay products\n",
    "    pion_momentum = (\n",
    "        decay_products\n",
    "        .query(\"pdg.abs() == 211\")\n",
    "        .loc[:, \"px\":\"pz\"]\n",
    "        .pow(2)\n",
    "        .sum(axis=1)\n",
    "        .pow(0.5)\n",
    "    )\n",
    "\n",
    "    decay_products = decay_products.copy()\n",
    "    decay_products.loc[:, \"P\"] = decay_products.loc[:, \"px\":\"pz\"].pow(2).sum(axis=1).pow(0.5)\n",
    "    \n",
    "    tau_momentum = (\n",
    "        decay_products\n",
    "        .groupby(\"event_num\")\n",
    "        [\"P\"].sum()\n",
    "    )\n",
    "    return pion_momentum.values / tau_momentum.values\n",
    "\n",
    "\n",
    "def nu_momentum_fraction(decay_products):\n",
    "    # Calculate the momentum fraction of the tau neutrino relative to the total momentum of all decay products\n",
    "    nu_momentum = (\n",
    "        decay_products\n",
    "        .query(\"pdg.abs() == 16\")\n",
    "        .loc[:, \"px\":\"pz\"]\n",
    "        .pow(2)\n",
    "        .sum(axis=1)\n",
    "        .pow(0.5)\n",
    "    )\n",
    "\n",
    "    decay_products = decay_products.copy()\n",
    "    decay_products.loc[:, \"P\"] = decay_products.loc[:, \"px\":\"pz\"].pow(2).sum(axis=1).pow(0.5)\n",
    "    \n",
    "    tau_momentum = (\n",
    "        decay_products\n",
    "        .groupby(\"event_num\")\n",
    "        [\"P\"].sum()\n",
    "    )\n",
    "    return nu_momentum.values / tau_momentum.values"
   ]
  },
  {
   "cell_type": "code",
   "execution_count": 13,
   "metadata": {},
   "outputs": [
    {
     "data": {
      "text/plain": [
       "<matplotlib.legend.Legend at 0x7f704404a590>"
      ]
     },
     "execution_count": 13,
     "metadata": {},
     "output_type": "execute_result"
    },
    {
     "data": {
      "image/png": "[encoded data removed]",
      "text/plain": [
       "<Figure size 640x480 with 1 Axes>"
      ]
     },
     "metadata": {},
     "output_type": "display_data"
    }
   ],
   "source": [
    "# Plot the momentum fraction as a histogram from 0 to 1\n",
    "fig, ax = plt.subplots()\n",
    "ax.hist(pion_momentum_fraction(pion_neutrino_events), bins=np.linspace(0, 1, 20), label=\"Polarized\", histtype=\"step\", density=True, lw=2)\n",
    "ax.hist(pion_momentum_fraction(pion_neutrino_events_nopol), bins=np.linspace(0, 1, 20), label=\"Unpolarized (Tauola)\", histtype=\"step\", density=True, lw=2)\n",
    "ax.hist(pion_momentum_fraction(pion_neutrino_events_g4), bins=np.linspace(0, 1, 20), label=\"Unpolarized (Geant4)\", histtype=\"step\", density=True, lw=2)\n",
    "ax.set(xlim=(0, 1), xlabel=\"Pion momentum fraction\", ylabel=\"Number density\")\n",
    "ax.grid(True, alpha=0.5)\n",
    "ax.legend()"
   ]
  },
  {
   "cell_type": "markdown",
   "metadata": {},
   "source": [
    "We see a clear difference between the decay using Tauola with real polarization given by GENIE and the unpolarized decay by Geant4.\n",
    "A similar difference would likely be seen for the IceCube simulations."
   ]
  },
  {
   "cell_type": "code",
   "execution_count": 14,
   "metadata": {},
   "outputs": [],
   "source": [
    "@numba.njit\n",
    "def is_pion_nutau_event(values: np.ndarray, index: np.ndarray) -> bool:\n",
    "    # at index 0, we should have the pdg, since the event number is now the index\n",
    "    # print(values)\n",
    "    # return True\n",
    "    return (values == -211).any() and (values == 16).any() and (values.size == 2)\n",
    "\n",
    "\n",
    "# Only select events that decay to a pion and a neutrino (211 and 16)\n",
    "pion_neutrino_events = filter_events(decay_products, \"pdg\", is_pion_nutau_event, engine=\"numba\")\n",
    "pion_neutrino_events_nopol = filter_events(decay_products_nopol, \"pdg\", is_pion_nutau_event, engine=\"numba\")\n",
    "pion_neutrino_events_g4 = filter_events(decay_products_g4, \"pdg\", is_pion_nutau_event, engine=\"numba\")"
   ]
  },
  {
   "cell_type": "code",
   "execution_count": 15,
   "metadata": {},
   "outputs": [],
   "source": [
    "@numba.njit\n",
    "def is_pi0_pim_nutau_event(values, index) -> bool:\n",
    "    return (values == -211).any() and (values == 111).any() and (values == 16).any() and (values.size == 3)\n",
    "\n",
    "# Only select events that decay to a pi-, a neutrino and a pi0(211, 16 and 111)\n",
    "pion_neutrino_events = filter_events(decay_products, \"pdg\", is_pi0_pim_nutau_event, engine=\"numba\")\n",
    "pion_neutrino_events_nopol = filter_events(decay_products_nopol, \"pdg\", is_pi0_pim_nutau_event, engine=\"numba\")\n",
    "pion_neutrino_events_g4 = filter_events(decay_products_g4, \"pdg\", is_pi0_pim_nutau_event, engine=\"numba\")"
   ]
  },
  {
   "cell_type": "code",
   "execution_count": 16,
   "metadata": {},
   "outputs": [
    {
     "data": {
      "text/plain": [
       "<matplotlib.legend.Legend at 0x7f705c6be310>"
      ]
     },
     "execution_count": 16,
     "metadata": {},
     "output_type": "execute_result"
    },
    {
     "data": {
      "image/png": "[encoded data removed]",
      "text/plain": [
       "<Figure size 640x480 with 1 Axes>"
      ]
     },
     "metadata": {},
     "output_type": "display_data"
    }
   ],
   "source": [
    "# Plot the momentum fraction as a histogram from 0 to 1\n",
    "fig, ax = plt.subplots()\n",
    "ax.hist(nu_momentum_fraction(pion_neutrino_events), bins=np.linspace(0, 1, 20), label=\"Polarized\", histtype=\"step\", density=True, lw=2)\n",
    "ax.hist(nu_momentum_fraction(pion_neutrino_events_nopol), bins=np.linspace(0, 1, 20), label=\"Unpolarized (Tauola)\", histtype=\"step\", density=True, lw=2)\n",
    "ax.hist(nu_momentum_fraction(pion_neutrino_events_g4), bins=np.linspace(0, 1, 20), label=\"Unpolarized (Geant4)\", histtype=\"step\", density=True, lw=2)\n",
    "ax.set(xlim=(0, 1), xlabel=r\"$\\nu_\\tau$ momentum fraction for $\\tau\\to\\pi^0\\pi^-\\nu_\\tau$\", ylabel=\"Number density\")\n",
    "ax.grid(True, alpha=0.5)\n",
    "ax.legend()"
   ]
  },
  {
   "cell_type": "code",
   "execution_count": 57,
   "metadata": {},
   "outputs": [],
   "source": [
    "# TODO plot angular distributions of particles in tau rest frame"
   ]
  },
  {
   "cell_type": "markdown",
   "metadata": {},
   "source": [
    "## Branching ratios"
   ]
  },
  {
   "cell_type": "code",
   "execution_count": 18,
   "metadata": {},
   "outputs": [
    {
     "data": {
      "text/plain": [
       "{(-211, 16, 111): 0.2528492694970595,\n",
       " (-14, 13, 16): 0.17060075159108895,\n",
       " (-12, 11, 16): 0.15218534823878418,\n",
       " (-211, 16): 0.11143309370246281,\n",
       " (-211, 16, 111, 111): 0.09160786469464835,\n",
       " (-211, -211, 16, 211): 0.08970993133319749,\n",
       " (-211, -211, 16, 111, 211): 0.04555040067482075,\n",
       " (-12, 11, 16, 22): 0.02840502513991631,\n",
       " (-211, 16, 111, 111, 111): 0.009864040678801434,\n",
       " (-321, 16): 0.0068974831650230545,\n",
       " (-14, 13, 16, 22): 0.0058928342945421975,\n",
       " (-321, -211, 16, 211): 0.005091958544017363,\n",
       " (-321, 16, 111): 0.004672565029689269,\n",
       " (-211, 16, 310): 0.004407186082769798,\n",
       " (-211, 16, 130): 0.004328994071623882,\n",
       " (-211, 16, 111, 310): 0.0028196513110193867,\n",
       " (-211, 16, 111, 130): 0.0027225036608077946,\n",
       " (-211, 16, 111, 221): 0.001670465692662746,\n",
       " (-321, -211, 16, 321): 0.0014595842080570944,\n",
       " (-211, 16, 22, 111): 0.0012984612759988437,\n",
       " (-211, -211, 16, 111, 111, 211): 0.0008932844909700074,\n",
       " (-321, 16, 111, 310): 0.0007961368407584152,\n",
       " (-321, 16, 111, 130): 0.0007487477430942238,\n",
       " (-211, 16, 130, 310): 0.0007037281003132419,\n",
       " (-321, 16, 130): 0.0005046938901236382,\n",
       " (-211, -211, 16, 111, 111, 111, 211): 0.0005023244352404286,\n",
       " (-321, 16, 111, 111): 0.0004999549803572191,\n",
       " (-321, 16, 310): 0.0004715215217587042,\n",
       " (-211, -211, -211, 16, 211, 211): 0.0004265018789777224,\n",
       " (-211, 16, 130, 130): 0.000379112781313531,\n",
       " (-211, 16, 310, 310): 0.0003696349617806927,\n",
       " (-211, -211, -211, 16, 111, 211, 211): 0.00023694548832095687}"
      ]
     },
     "execution_count": 18,
     "metadata": {},
     "output_type": "execute_result"
    }
   ],
   "source": [
    "branching_ratios(decay_products)"
   ]
  },
  {
   "cell_type": "code",
   "execution_count": 19,
   "metadata": {},
   "outputs": [
    {
     "data": {
      "text/plain": [
       "{(-211, 16, 111): 0.2526028461892057,\n",
       " (-14, 13, 16): 0.17087086944777485,\n",
       " (-12, 11, 16): 0.1524080769978059,\n",
       " (-211, 16): 0.11133831550713442,\n",
       " (-211, 16, 111, 111): 0.09188509091598387,\n",
       " (-211, -211, 16, 211): 0.08870291300783342,\n",
       " (-211, -211, 16, 111, 211): 0.04560726759201778,\n",
       " (-12, 11, 16, 22): 0.02863012335382122,\n",
       " (-211, 16, 111, 111, 111): 0.010205242181983612,\n",
       " (-321, 16): 0.007053867187314886,\n",
       " (-14, 13, 16, 22): 0.00576725318573209,\n",
       " (-321, -211, 16, 211): 0.00516778110028007,\n",
       " (-321, 16, 111): 0.004809993412915424,\n",
       " (-211, 16, 310): 0.004369274804638445,\n",
       " (-211, 16, 130): 0.004146546045616746,\n",
       " (-211, 16, 111, 130): 0.0027438287547566806,\n",
       " (-211, 16, 111, 310): 0.002731981480340633,\n",
       " (-211, 16, 111, 221): 0.0017225937000933565,\n",
       " (-321, -211, 16, 321): 0.0016159682303489259,\n",
       " (-211, 16, 22, 111): 0.0012889834564660055,\n",
       " (-211, -211, 16, 111, 111, 211): 0.0008980234007364265,\n",
       " (-321, 16, 111, 310): 0.000791397930991996,\n",
       " (-321, 16, 111, 130): 0.0007060975551964515,\n",
       " (-211, 16, 130, 310): 0.0007037281003132419,\n",
       " (-321, 16, 130): 0.0005402357133717817,\n",
       " (-321, 16, 310): 0.00046678261199228503,\n",
       " (-321, 16, 111, 111): 0.0004620437022258659,\n",
       " (-211, -211, 16, 111, 111, 111, 211): 0.0004336102436273511,\n",
       " (-211, -211, -211, 16, 211, 211): 0.000379112781313531,\n",
       " (-211, 16, 130, 130): 0.0003340931385325492,\n",
       " (-211, 16, 310, 310): 0.0003198764092332918,\n",
       " (-211, -211, -211, 16, 111, 211, 211): 0.0002961818604011961}"
      ]
     },
     "execution_count": 19,
     "metadata": {},
     "output_type": "execute_result"
    }
   ],
   "source": [
    "branching_ratios(decay_products_nopol)"
   ]
  },
  {
   "cell_type": "code",
   "execution_count": 14,
   "metadata": {},
   "outputs": [
    {
     "data": {
      "text/plain": [
       "{(-211, 16, 111): 0.2785104658822191,\n",
       " (-12, 11, 16): 0.19635435671669377,\n",
       " (-14, 13, 16): 0.19045204460261872,\n",
       " (-211, 16): 0.12160279406119828,\n",
       " (-211, -211, 16, 211): 0.10418256175984153,\n",
       " (-211, 16, 111, 111): 0.10039143394670622,\n",
       " (-211, 11, 16, 111): 0.00236234651855994,\n",
       " (-12, 11, 11, 16): 0.0016823129670787938,\n",
       " (-14, 11, 13, 16): 0.0016183376852321354,\n",
       " (-211, 11, 16): 0.0010046488704808572,\n",
       " (-211, -211, 11, 16, 211): 0.0009383041337509893,\n",
       " (-211, 11, 16, 111, 111): 0.0008174619347073013,\n",
       " (-211, 11, 11, 16, 111): 2.6064003715305258e-05,\n",
       " (-12, 11, 11, 11, 16): 1.895563906567655e-05,\n",
       " (-211, 11, 11, 16, 111, 111): 1.4216729299257413e-05,\n",
       " (-14, 11, 11, 13, 16): 9.477819532838276e-06,\n",
       " (-211, -211, 11, 11, 16, 211): 7.108364649628706e-06,\n",
       " (-211, 11, 11, 16): 4.738909766419138e-06,\n",
       " (-211, 11, 11, 11, 16, 111, 111): 2.369454883209569e-06}"
      ]
     },
     "execution_count": 14,
     "metadata": {},
     "output_type": "execute_result"
    }
   ],
   "source": [
    "branching_ratios(decay_products_g4)"
   ]
  },
  {
   "cell_type": "markdown",
   "metadata": {},
   "source": [
    "We see that there is no large difference ($\\mathcal{O}(0.1\\%)$) in branching ratio between polarized and unpolarized Tauola decays. This is good, as they should be identical, since the branching ratio is not affected by the polarization.\n",
    "\n",
    "The Geant4 branching ratios differ by $\\mathcal{O}(10\\%)$ from the Tauola branching ratios. This discrepancy might be the reason for the large difference between the neutrino energy distributions between the unpolarized Tauola and Geant4 simulations. This is further strenghened by the fact that when only looking at the $\\tau^- \\to \\pi^- \\nu_tau$ decay mode, the distributions for unpolarized Tauola and Geant4 are much more similar."
   ]
  },
  {
   "cell_type": "markdown",
   "metadata": {},
   "source": [
    "## Check which GENIE events have 0 polarization for tau"
   ]
  },
  {
   "cell_type": "code",
   "execution_count": 3,
   "metadata": {},
   "outputs": [],
   "source": [
    "event_info = pd.read_csv(\"../data/event_info.csv\")\n",
    "particle_info = pd.read_csv(\"../data/genie_tau_pol_data_e10_1.csv\")"
   ]
  },
  {
   "cell_type": "code",
   "execution_count": 5,
   "metadata": {},
   "outputs": [],
   "source": [
    "nopol_taus = particle_info.query(\"(pdg == 15) and (polx == 0) and (poly == 0) and (polz == 0)\")"
   ]
  },
  {
   "cell_type": "code",
   "execution_count": 8,
   "metadata": {},
   "outputs": [
    {
     "data": {
      "text/plain": [
       "event_num    5.289447e+10\n",
       "xsec         2.912386e-05\n",
       "qel          3.164700e+04\n",
       "res          6.518400e+04\n",
       "dis          1.048860e+05\n",
       "coh          2.000000e+01\n",
       "dfr          1.150000e+02\n",
       "dtype: float64"
      ]
     },
     "execution_count": 8,
     "metadata": {},
     "output_type": "execute_result"
    }
   ],
   "source": [
    "event_info.sum(axis=0)"
   ]
  },
  {
   "cell_type": "code",
   "execution_count": 7,
   "metadata": {},
   "outputs": [
    {
     "data": {
      "text/plain": [
       "event_num    9.978691e+09\n",
       "xsec         3.954598e-06\n",
       "qel          3.075200e+04\n",
       "res          0.000000e+00\n",
       "dis          0.000000e+00\n",
       "coh          0.000000e+00\n",
       "dfr          0.000000e+00\n",
       "dtype: float64"
      ]
     },
     "execution_count": 7,
     "metadata": {},
     "output_type": "execute_result"
    }
   ],
   "source": [
    "event_info[event_info[\"event_num\"].isin(nopol_taus[\"event_num\"])].sum(axis=0)"
   ]
  }
 ],
 "metadata": {
  "kernelspec": {
   "display_name": "cern-skhep",
   "language": "python",
   "name": "python3"
  },
  "language_info": {
   "codemirror_mode": {
    "name": "ipython",
    "version": 3
   },
   "file_extension": ".py",
   "mimetype": "text/x-python",
   "name": "python",
   "nbconvert_exporter": "python",
   "pygments_lexer": "ipython3",
   "version": "3.11.4"
  }
 },
 "nbformat": 4,
 "nbformat_minor": 2
}
