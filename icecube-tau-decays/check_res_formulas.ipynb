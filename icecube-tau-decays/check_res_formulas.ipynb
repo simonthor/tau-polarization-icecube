{
 "cells": [
  {
   "cell_type": "code",
   "execution_count": 2,
   "metadata": {},
   "outputs": [],
   "source": [
    "import latexify"
   ]
  },
  {
   "cell_type": "code",
   "execution_count": null,
   "metadata": {},
   "outputs": [
    {
     "data": {
      "text/latex": [
       "$$ \\displaystyle \\begin{array}{l} \\mathrm{K\\_333} = -2 \\zeta^{3} \\cdot \\mathopen{}\\left( 1 - 2 x \\mathclose{}\\right)^{2} w^{2} + 2 \\zeta \\cdot \\mathopen{}\\left( 2 - 3 x \\mathclose{}\\right) w \\\\ \\mathrm{K\\_334} = -\\zeta^{2} \\cdot \\mathopen{}\\left( 1 - 2 x \\mathclose{}\\right)^{2} w^{2} + 2 \\mathopen{}\\left( 1 + \\zeta \\mathclose{}\\right) \\mathopen{}\\left( 1 - 2 x \\mathclose{}\\right) w \\\\ \\mathrm{K\\_335} = -\\zeta^{2} \\cdot \\mathopen{}\\left( 1 - 2 x \\mathclose{}\\right) w + 2 \\mathopen{}\\left( 1 + \\zeta \\mathclose{}\\right) \\\\ \\mathrm{K\\_343} = -\\zeta^{2} \\cdot \\mathopen{}\\left( 1 - 2 x \\mathclose{}\\right)^{2} w^{2} + 2 \\mathopen{}\\left( 1 - \\zeta \\mathclose{}\\right) \\mathopen{}\\left( 1 - 2 x \\mathclose{}\\right) w \\\\ \\mathrm{K\\_344} = \\zeta \\cdot \\mathopen{}\\left( 1 - 2 x \\mathclose{}\\right)^{2} w^{2} \\\\ \\mathrm{K\\_345} = \\zeta \\cdot \\mathopen{}\\left( 1 - 2 x \\mathclose{}\\right) w \\\\ \\mathrm{K\\_353} = -\\zeta^{2} \\cdot \\mathopen{}\\left( 1 - 2 x \\mathclose{}\\right) w^{2} - 2 \\mathopen{}\\left( 1 - \\zeta \\mathclose{}\\right) w \\\\ \\mathrm{K\\_354} = \\zeta \\cdot \\mathopen{}\\left( 1 - 2 x \\mathclose{}\\right) w^{2} \\\\ \\mathrm{K\\_355} = \\zeta w \\\\ \\mathrm{K\\_333} \\end{array} $$"
      ],
      "text/plain": [
       "<latexify.ipython_wrappers.LatexifiedFunction at 0x7b1ecd5c51b0>"
      ]
     },
     "metadata": {},
     "output_type": "display_data"
    }
   ],
   "source": [
    "@latexify.expression(use_math_symbols=True)\n",
    "def K(zeta, x, w):\n",
    "    K_333 = -2 * zeta**3 * (1 - 2*x)**2 * w**2 + 2 * zeta * (2 - 3*x) * w\n",
    "    K_334 = -zeta**2 * (1 - 2*x)**2 * w**2 + 2 * (1 + zeta) * (1 - 2*x) * w\n",
    "    K_335 = -zeta**2 * (1 - 2*x) * w + 2 * (1 + zeta)\n",
    "    K_343 = -zeta**2 * (1 - 2*x)**2 * w**2 + 2 * (1 - zeta) * (1 - 2*x) * w\n",
    "    K_344 = zeta * (1 - 2*x)**2 * w**2\n",
    "    K_345 = zeta * (1 - 2*x) * w\n",
    "    K_353 = -zeta**2 * (1 - 2*x) * w**2 - 2 * (1 - zeta) * w\n",
    "    K_354 = zeta * (1 - 2*x) * w**2\n",
    "    K_355 = zeta * w\n",
    "\n",
    "    return K_333\n",
    "\n",
    "K"
   ]
  },
  {
   "cell_type": "code",
   "execution_count": null,
   "metadata": {},
   "outputs": [
    {
     "data": {
      "text/latex": [
       "$$ \\displaystyle \\begin{array}{l} \\mathrm{A\\_133} = \\zeta^{3} \\cdot \\mathopen{}\\left( 1 - 2 x \\mathclose{}\\right)^{2} w^{3} + \\zeta \\cdot \\mathopen{}\\left( 1 + \\zeta^{2} \\cdot \\mathopen{}\\left( 1 - 2 x \\mathclose{}\\right)^{2} \\mathclose{}\\right) w^{2} - 2 \\mathopen{}\\left( 1 - \\zeta \\mathclose{}\\right) x w \\\\ \\mathrm{A\\_134} = \\zeta^{2} \\cdot \\mathopen{}\\left( 1 - 2 x \\mathclose{}\\right)^{2} w^{3} + \\mathopen{}\\left( 1 + \\zeta \\cdot \\mathopen{}\\left( 2 + \\zeta \\mathclose{}\\right) \\mathopen{}\\left( 1 - 2 x \\mathclose{}\\right) \\mathclose{}\\right) \\mathopen{}\\left( 1 - 2 x \\mathclose{}\\right) w^{2} \\\\ \\mathrm{A\\_135} = \\zeta^{2} \\cdot \\mathopen{}\\left( 1 - 2 x \\mathclose{}\\right) w^{2} + \\mathopen{}\\left( 1 + \\zeta \\cdot \\mathopen{}\\left( 2 + \\zeta \\mathclose{}\\right) \\mathopen{}\\left( 1 - 2 x \\mathclose{}\\right) \\mathclose{}\\right) w \\\\ \\mathrm{A\\_144} = \\zeta \\cdot \\mathopen{}\\left( 1 - 2 x \\mathclose{}\\right)^{2} w^{3} + \\mathopen{}\\left( 1 + \\zeta \\mathclose{}\\right) \\mathopen{}\\left( 1 - 2 x \\mathclose{}\\right)^{2} w^{2} \\\\ \\mathrm{A\\_145} = 2 \\zeta \\cdot \\mathopen{}\\left( 1 - 2 x \\mathclose{}\\right) w^{2} + 2 \\mathopen{}\\left( 1 + \\zeta \\mathclose{}\\right) \\mathopen{}\\left( 1 - 2 x \\mathclose{}\\right) w \\\\ \\mathrm{A\\_155} = \\zeta w + 1 + \\zeta \\\\ \\mathrm{A\\_233} = 2 \\zeta^{3} x w^{2} + 2 \\zeta \\cdot \\mathopen{}\\left( 1 + \\zeta^{2} \\mathclose{}\\right) x w \\\\ \\mathrm{A\\_234} = 2 \\zeta^{2} x w^{2} + 2 \\mathopen{}\\left( 1 + \\zeta \\mathclose{}\\right)^{2} x w \\\\ \\mathrm{A\\_235} = 2 \\zeta^{2} x w \\\\ \\mathrm{A\\_244} = 2 \\zeta x w^{2} + 2 \\mathopen{}\\left( 1 + \\zeta \\mathclose{}\\right) x w \\\\ \\mathrm{A\\_255} = \\zeta^{3} w + \\zeta^{2} \\cdot \\mathopen{}\\left( 1 + \\zeta \\mathclose{}\\right) \\\\ \\mathrm{A\\_433} = 2 \\zeta^{3} \\cdot \\mathopen{}\\left( 1 - x \\mathclose{}\\right) w^{2} + 2 \\zeta^{3} \\cdot \\mathopen{}\\left( 1 - x \\mathclose{}\\right) w + 1 - \\zeta \\\\ \\mathrm{A\\_434} = 2 \\zeta^{2} \\cdot \\mathopen{}\\left( 1 - x \\mathclose{}\\right) w^{2} + \\mathopen{}\\left( 1 + 2 \\zeta \\cdot \\mathopen{}\\left( 2 + \\zeta \\mathclose{}\\right) \\mathopen{}\\left( 1 - x \\mathclose{}\\right) \\mathclose{}\\right) w \\\\ \\mathrm{A\\_435} = 2 \\zeta^{2} w + \\zeta \\cdot \\mathopen{}\\left( 2 + \\zeta \\mathclose{}\\right) \\\\ \\mathrm{A\\_436} = -2 \\zeta^{2} x w^{2} - \\mathopen{}\\left( 1 + \\zeta \\mathclose{}\\right)^{2} w \\\\ \\mathrm{A\\_444} = 2 \\zeta \\cdot \\mathopen{}\\left( 1 - x \\mathclose{}\\right) w^{2} + 2 \\mathopen{}\\left( 1 + \\zeta \\mathclose{}\\right) \\mathopen{}\\left( 1 - x \\mathclose{}\\right) w \\\\ \\mathrm{A\\_445} = 2 \\zeta w + 2 \\mathopen{}\\left( 1 + \\zeta \\mathclose{}\\right) \\\\ \\mathrm{A\\_446} = -2 \\zeta w^{2} - 2 \\mathopen{}\\left( 1 + \\zeta \\mathclose{}\\right) w \\\\ \\mathrm{A\\_455} = \\zeta^{3} w + \\zeta^{2} \\cdot \\mathopen{}\\left( 1 + \\zeta \\mathclose{}\\right) \\\\ \\mathrm{A\\_456} = 2 \\zeta^{3} \\cdot \\mathopen{}\\left( 1 - 2 x \\mathclose{}\\right) w^{2} + 2 \\zeta \\cdot \\mathopen{}\\left( \\zeta \\cdot \\mathopen{}\\left( 1 + \\zeta \\mathclose{}\\right) \\mathopen{}\\left( 1 - 2 x \\mathclose{}\\right) - 1 \\mathclose{}\\right) w - 2 \\mathopen{}\\left( 1 + \\zeta \\mathclose{}\\right) \\\\ \\mathrm{A\\_466} = \\zeta^{3} \\cdot \\mathopen{}\\left( 1 - 2 x \\mathclose{}\\right)^{2} w^{3} + \\zeta \\cdot \\mathopen{}\\left( \\zeta \\cdot \\mathopen{}\\left( 1 + \\zeta \\mathclose{}\\right) \\mathopen{}\\left( 1 - 2 x \\mathclose{}\\right)^{2} + 2 x \\mathclose{}\\right) w^{2} + 2 \\mathopen{}\\left( 1 + \\zeta \\mathclose{}\\right) x w \\\\ \\mathrm{A\\_533} = 2 \\zeta^{3} w^{2} + 2 \\zeta \\cdot \\mathopen{}\\left( 1 + \\zeta^{2} \\mathclose{}\\right) w \\\\ \\mathrm{A\\_534} = 2 \\zeta^{2} w^{2} + 2 \\mathopen{}\\left( 1 + \\zeta \\mathclose{}\\right)^{2} w \\\\ \\mathrm{A\\_535} = 2 \\zeta^{2} \\cdot \\mathopen{}\\left( 1 + x \\mathclose{}\\right) w + \\mathopen{}\\left( 1 + \\zeta \\mathclose{}\\right)^{2} \\\\ \\mathrm{A\\_536} = -4 \\zeta^{2} x^{2} w^{2} - 2 \\mathopen{}\\left( 1 + \\zeta \\mathclose{}\\right)^{2} x w \\\\ \\mathrm{A\\_544} = 2 \\zeta w^{2} + 2 \\mathopen{}\\left( 1 + \\zeta \\mathclose{}\\right) w \\\\ \\mathrm{A\\_545} = 2 \\zeta w + 2 \\mathopen{}\\left( 1 + \\zeta \\mathclose{}\\right) \\\\ \\mathrm{A\\_546} = -4 \\zeta x w^{2} - 4 \\mathopen{}\\left( 1 + \\zeta \\mathclose{}\\right) x w \\\\ \\mathrm{A\\_555} = 2 \\zeta^{3} w + 2 \\zeta^{2} \\cdot \\mathopen{}\\left( 1 + \\zeta \\mathclose{}\\right) \\\\ \\mathrm{A\\_556} = 2 \\zeta^{3} \\cdot \\mathopen{}\\left( 1 - 2 x \\mathclose{}\\right) w^{2} + 2 \\zeta^{2} \\cdot \\mathopen{}\\left( 1 + \\zeta \\mathclose{}\\right) \\mathopen{}\\left( 1 - 2 x \\mathclose{}\\right) w \\\\ \\mathrm{A\\_133} \\end{array} $$"
      ],
      "text/plain": [
       "<latexify.ipython_wrappers.LatexifiedFunction at 0x7b1ecd5c6440>"
      ]
     },
     "metadata": {},
     "output_type": "display_data"
    }
   ],
   "source": [
    "@latexify.expression(use_math_symbols=True)\n",
    "def A(zeta, x, w):\n",
    "    A_133 = zeta**3 * (1 - 2*x)**2 * w**3 + zeta * (1 + zeta**2 * (1 - 2*x)**2) * w**2 - 2 * (1 - zeta) * x * w\n",
    "    A_134 = zeta**2 * (1 - 2*x)**2 * w**3 + (1 + zeta * (2 + zeta) * (1 - 2*x)) * (1 - 2*x) * w**2\n",
    "    A_135 = zeta**2 * (1 - 2*x) * w**2 + (1 + zeta * (2 + zeta) * (1 - 2*x)) * w\n",
    "    A_144 = zeta * (1 - 2*x)**2 * w**3 + (1 + zeta) * (1 - 2*x)**2 * w**2\n",
    "    A_145 = 2 * zeta * (1 - 2*x) * w**2 + 2 * (1 + zeta) * (1 - 2*x) * w\n",
    "    A_155 = zeta * w + 1 + zeta\n",
    "    A_233 = 2 * zeta**3 * x * w**2 + 2 * zeta * (1 + zeta**2) * x * w\n",
    "    A_234 = 2 * zeta**2 * x * w**2 + 2 * (1 + zeta)**2 * x * w\n",
    "    A_235 = 2 * zeta**2 * x * w\n",
    "    A_244 = 2 * zeta * x * w**2 + 2 * (1 + zeta) * x * w\n",
    "    A_255 = zeta**3 * w + zeta**2 * (1 + zeta)\n",
    "    A_433 = 2 * zeta**3 * (1 - x) * w**2 + 2 * zeta**3 * (1 - x) * w + 1 - zeta\n",
    "    A_434 = 2 * zeta**2 * (1 - x) * w**2 + (1 + 2 * zeta * (2 + zeta) * (1 - x)) * w\n",
    "    A_435 = 2 * zeta**2 * w + zeta * (2 + zeta)\n",
    "    A_436 = -2 * zeta**2 * x * w**2 - (1 + zeta)**2 * w\n",
    "    A_444 = 2 * zeta * (1 - x) * w**2 + 2 * (1 + zeta) * (1 - x) * w\n",
    "    A_445 = 2 * zeta * w + 2 * (1 + zeta)\n",
    "    A_446 = -2 * zeta * w**2 - 2 * (1 + zeta) * w\n",
    "    A_455 = zeta**3 * w + zeta**2 * (1 + zeta)\n",
    "    A_456 = 2 * zeta**3 * (1 - 2*x) * w**2 + 2 * zeta * (zeta * (1 + zeta) * (1 - 2*x) - 1) * w - 2 * (1 + zeta)\n",
    "    A_466 = zeta**3 * (1 - 2*x)**2 * w**3 + zeta * (zeta * (1 + zeta) * (1 - 2*x)**2 + 2 * x) * w**2 + 2 * (1 + zeta) * x * w\n",
    "    A_533 = 2 * zeta**3 * w**2 + 2 * zeta * (1 + zeta**2) * w\n",
    "    A_534 = 2 * zeta**2 * w**2 + 2 * (1 + zeta)**2 * w\n",
    "    A_535 = 2 * zeta**2 * (1 + x) * w + (1 + zeta)**2\n",
    "    A_536 = -4 * zeta**2 * x**2 * w**2 - 2 * (1 + zeta)**2 * x * w\n",
    "    A_544 = 2 * zeta * w**2 + 2 * (1 + zeta) * w\n",
    "    A_545 = 2 * zeta * w + 2 * (1 + zeta)\n",
    "    A_546 = -4 * zeta * x * w**2 - 4 * (1 + zeta) * x * w\n",
    "    A_555 = 2 * zeta**3 * w + 2 * zeta**2 * (1 + zeta)\n",
    "    A_556 = 2 * zeta**3 * (1 - 2*x) * w**2 + 2 * zeta**2 * (1 + zeta) * (1 - 2*x) * w\n",
    "\n",
    "    return A_133\n",
    "\n",
    "A"
   ]
  },
  {
   "cell_type": "code",
   "execution_count": null,
   "metadata": {},
   "outputs": [
    {
     "data": {
      "text/latex": [
       "$$ \\displaystyle \\begin{array}{l} \\mathrm{V\\_133} = \\zeta^{3} \\cdot \\mathopen{}\\left( 1 - 2 x \\mathclose{}\\right)^{2} w^{3} + \\zeta \\cdot \\mathopen{}\\left( 1 + \\zeta^{2} \\cdot \\mathopen{}\\left( 1 - 2 x \\mathclose{}\\right)^{2} \\mathclose{}\\right) w^{2} + 2 \\mathopen{}\\left( 1 + \\zeta \\mathclose{}\\right) x w \\\\ \\mathrm{V\\_134} = \\zeta^{2} \\cdot \\mathopen{}\\left( 1 - 2 x \\mathclose{}\\right)^{2} w^{3} + \\mathopen{}\\left( 1 - \\zeta \\cdot \\mathopen{}\\left( 2 - \\zeta \\mathclose{}\\right) \\mathopen{}\\left( 1 - 2 x \\mathclose{}\\right) \\mathclose{}\\right) \\mathopen{}\\left( 1 - 2 x \\mathclose{}\\right) w^{2} \\\\ \\mathrm{V\\_135} = \\zeta^{2} \\cdot \\mathopen{}\\left( 1 - 2 x \\mathclose{}\\right) w^{3} + \\mathopen{}\\left( 1 - \\zeta \\cdot \\mathopen{}\\left( 2 - \\zeta \\mathclose{}\\right) \\mathopen{}\\left( 1 - 2 x \\mathclose{}\\right) \\mathclose{}\\right) w^{2} \\\\ \\mathrm{V\\_144} = \\zeta \\cdot \\mathopen{}\\left( 1 - 2 x \\mathclose{}\\right)^{2} w^{3} - \\mathopen{}\\left( 1 - \\zeta \\mathclose{}\\right) \\mathopen{}\\left( 1 - 2 x \\mathclose{}\\right)^{2} w^{2} \\\\ \\mathrm{V\\_145} = 2 \\zeta \\cdot \\mathopen{}\\left( 1 - 2 x \\mathclose{}\\right) w^{3} - \\mathopen{}\\left( 1 - \\zeta \\mathclose{}\\right) \\mathopen{}\\left( 1 - 4 x \\mathclose{}\\right) w^{2} \\\\ \\mathrm{V\\_155} = \\zeta w^{3} - \\mathopen{}\\left( 1 - \\zeta \\mathclose{}\\right) w^{2} \\\\ \\mathrm{V\\_233} = 2 \\zeta^{3} x w^{2} + 2 \\zeta \\cdot \\mathopen{}\\left( 1 + \\zeta^{2} \\mathclose{}\\right) x w \\\\ \\mathrm{V\\_234} = 2 \\zeta^{2} x w^{2} + 2 \\mathopen{}\\left( 1 - \\zeta \\mathclose{}\\right)^{2} x w \\\\ \\mathrm{V\\_235} = 2 \\zeta^{2} \\cdot \\mathopen{}\\left( 1 + 2 x \\mathclose{}\\right) x w^{2} + 2 \\mathopen{}\\left( 1 - \\zeta \\mathclose{}\\right)^{2} x w \\\\ \\mathrm{V\\_244} = 2 \\zeta x w^{2} - 2 \\mathopen{}\\left( 1 - \\zeta \\mathclose{}\\right) x w \\\\ \\mathrm{V\\_245} = 4 \\zeta x w^{2} - 4 \\mathopen{}\\left( 1 - \\zeta \\mathclose{}\\right) x w \\\\ \\mathrm{V\\_255} = 4 \\zeta^{3} x^{2} w^{3} + 2 \\zeta \\cdot \\mathopen{}\\left( 1 - 2 \\zeta \\cdot \\mathopen{}\\left( 1 - \\zeta \\mathclose{}\\right) x \\mathclose{}\\right) x w^{2} - 2 \\mathopen{}\\left( 1 - \\zeta \\mathclose{}\\right) x w \\\\ \\mathrm{V\\_433} = 2 \\zeta^{3} \\cdot \\mathopen{}\\left( 1 - x \\mathclose{}\\right) w^{2} + 2 \\zeta^{3} \\cdot \\mathopen{}\\left( 1 - x \\mathclose{}\\right) w - 1 - \\zeta \\\\ \\mathrm{V\\_434} = 2 \\zeta^{2} \\cdot \\mathopen{}\\left( 1 - x \\mathclose{}\\right) w^{2} + \\mathopen{}\\left( 1 - 2 \\zeta \\cdot \\mathopen{}\\left( 2 - \\zeta \\mathclose{}\\right) \\mathopen{}\\left( 1 - x \\mathclose{}\\right) \\mathclose{}\\right) w \\\\ \\mathrm{V\\_435} = 2 \\zeta^{2} w^{2} - \\zeta \\cdot \\mathopen{}\\left( 2 - \\zeta \\mathclose{}\\right) w \\\\ \\mathrm{V\\_436} = -2 \\zeta^{2} x w^{2} - \\mathopen{}\\left( 1 - \\zeta \\mathclose{}\\right)^{2} w \\\\ \\mathrm{V\\_444} = 2 \\zeta \\cdot \\mathopen{}\\left( 1 - x \\mathclose{}\\right) w^{2} - 2 \\mathopen{}\\left( 1 - \\zeta \\mathclose{}\\right) \\mathopen{}\\left( 1 - x \\mathclose{}\\right) w \\\\ \\mathrm{V\\_445} = 2 \\zeta w^{2} - 2 \\mathopen{}\\left( 1 - \\zeta \\mathclose{}\\right) w \\\\ \\mathrm{V\\_446} = -2 \\zeta w^{2} + 2 \\mathopen{}\\left( 1 - \\zeta \\mathclose{}\\right) w \\\\ \\mathrm{V\\_455} = \\zeta^{3} w^{3} - \\zeta^{2} \\cdot \\mathopen{}\\left( 1 - \\zeta \\mathclose{}\\right) w^{2} \\\\ \\mathrm{V\\_456} = 2 \\zeta^{3} \\cdot \\mathopen{}\\left( 1 - 2 x \\mathclose{}\\right) w^{3} - 2 \\zeta \\cdot \\mathopen{}\\left( 1 + \\zeta \\cdot \\mathopen{}\\left( 1 - \\zeta \\mathclose{}\\right) \\mathopen{}\\left( 1 - 2 x \\mathclose{}\\right) \\mathclose{}\\right) w^{2} + 2 \\mathopen{}\\left( 1 - \\zeta \\mathclose{}\\right) w \\\\ \\mathrm{V\\_466} = \\zeta^{3} \\cdot \\mathopen{}\\left( 1 - 2 x \\mathclose{}\\right)^{2} w^{3} - \\zeta \\cdot \\mathopen{}\\left( \\zeta \\cdot \\mathopen{}\\left( 1 - \\zeta \\mathclose{}\\right) \\mathopen{}\\left( 1 - 2 x \\mathclose{}\\right)^{2} - 2 x \\mathclose{}\\right) w^{2} - 2 \\mathopen{}\\left( 1 - \\zeta \\mathclose{}\\right) x w \\\\ \\mathrm{V\\_533} = 2 \\zeta^{3} w^{2} + 2 \\zeta \\cdot \\mathopen{}\\left( 1 + \\zeta^{2} \\mathclose{}\\right) w \\\\ \\mathrm{V\\_534} = 2 \\zeta^{2} w^{2} + 2 \\mathopen{}\\left( 1 - \\zeta \\mathclose{}\\right)^{2} w \\\\ \\mathrm{V\\_535} = 2 \\zeta^{2} \\cdot \\mathopen{}\\left( 1 + 2 x \\mathclose{}\\right) w^{2} + 2 \\mathopen{}\\left( 1 - \\zeta \\mathclose{}\\right)^{2} w \\\\ \\mathrm{V\\_536} = -4 \\zeta^{2} x^{2} w^{2} - 2 \\mathopen{}\\left( 1 - \\zeta \\mathclose{}\\right)^{2} x w \\\\ \\mathrm{V\\_544} = 2 \\zeta w^{2} - 2 \\mathopen{}\\left( 1 - \\zeta \\mathclose{}\\right) w \\\\ \\mathrm{V\\_545} = 4 \\zeta w^{2} - 4 \\mathopen{}\\left( 1 - \\zeta \\mathclose{}\\right) w \\\\ \\mathrm{V\\_546} = -4 \\zeta x w^{2} + 4 \\mathopen{}\\left( 1 - \\zeta \\mathclose{}\\right) x w \\\\ \\mathrm{V\\_555} = 4 \\zeta^{3} x w^{3} + 2 \\zeta \\cdot \\mathopen{}\\left( 1 - 2 \\zeta \\cdot \\mathopen{}\\left( 1 - \\zeta \\mathclose{}\\right) x \\mathclose{}\\right) w^{2} - 2 \\mathopen{}\\left( 1 - \\zeta \\mathclose{}\\right) w \\\\ \\mathrm{V\\_556} = 4 \\zeta^{3} \\cdot \\mathopen{}\\left( 1 - 2 x \\mathclose{}\\right) x w^{3} - 4 \\zeta \\cdot \\mathopen{}\\left( \\zeta \\cdot \\mathopen{}\\left( 1 - \\zeta \\mathclose{}\\right) \\mathopen{}\\left( 1 - 2 x \\mathclose{}\\right) + 1 \\mathclose{}\\right) x w^{2} + 4 \\mathopen{}\\left( 1 - \\zeta \\mathclose{}\\right) x w \\\\ \\mathrm{V\\_133} \\end{array} $$"
      ],
      "text/plain": [
       "<latexify.ipython_wrappers.LatexifiedFunction at 0x7b1ecd58b640>"
      ]
     },
     "metadata": {},
     "output_type": "display_data"
    }
   ],
   "source": [
    "@latexify.expression(use_math_symbols=True)\n",
    "def V(zeta, x, w):\n",
    "    V_133 = zeta**3 * (1 - 2*x)**2 * w**3 + zeta * (1 + zeta**2 * (1 - 2*x)**2) * w**2 + 2 * (1 + zeta) * x * w\n",
    "    V_134 = zeta**2 * (1 - 2*x)**2 * w**3 + (1 - zeta * (2 - zeta) * (1 - 2*x)) * (1 - 2*x) * w**2\n",
    "    V_135 = zeta**2 * (1 - 2*x) * w**3 + (1 - zeta * (2 - zeta) * (1 - 2*x)) * w**2\n",
    "    V_144 = zeta * (1 - 2*x)**2 * w**3 - (1 - zeta) * (1 - 2*x)**2 * w**2\n",
    "    V_145 = 2 * zeta * (1 - 2*x) * w**3 - (1 - zeta) * (1 - 4*x) * w**2\n",
    "    V_155 = zeta * w**3 - (1 - zeta) * w**2\n",
    "    V_233 = 2 * zeta**3 * x * w**2 + 2 * zeta * (1 + zeta**2) * x * w\n",
    "    V_234 = 2 * zeta**2 * x * w**2 + 2 * (1 - zeta)**2 * x * w\n",
    "    V_235 = 2 * zeta**2 * (1 + 2*x) * x * w**2 + 2 * (1 - zeta)**2 * x * w\n",
    "    V_244 = 2 * zeta * x * w**2 - 2 * (1 - zeta) * x * w\n",
    "    V_245 = 4 * zeta * x * w**2 - 4 * (1 - zeta) * x * w\n",
    "    V_255 = 4 * zeta**3 * x**2 * w**3 + 2 * zeta * (1 - 2 * zeta * (1 - zeta) * x) * x * w**2 - 2 * (1 - zeta) * x * w\n",
    "    V_433 = 2 * zeta**3 * (1 - x) * w**2 + 2 * zeta**3 * (1 - x) * w - 1 - zeta\n",
    "    V_434 = 2 * zeta**2 * (1 - x) * w**2 + (1 - 2 * zeta * (2 - zeta) * (1 - x)) * w\n",
    "    V_435 = 2 * zeta**2 * w**2 - zeta * (2 - zeta) * w\n",
    "    V_436 = -2 * zeta**2 * x * w**2 - (1 - zeta)**2 * w\n",
    "    V_444 = 2 * zeta * (1 - x) * w**2 - 2 * (1 - zeta) * (1 - x) * w\n",
    "    V_445 = 2 * zeta * w**2 - 2 * (1 - zeta) * w\n",
    "    V_446 = -2 * zeta * w**2 + 2 * (1 - zeta) * w\n",
    "    V_455 = zeta**3 * w**3 - zeta**2 * (1 - zeta) * w**2\n",
    "    V_456 = 2 * zeta**3 * (1 - 2*x) * w**3 - 2 * zeta * (1 + zeta * (1 - zeta) * (1 - 2*x)) * w**2 + 2 * (1 - zeta) * w\n",
    "    V_466 = zeta**3 * (1 - 2*x)**2 * w**3 - zeta * (zeta * (1 - zeta) * (1 - 2*x)**2 - 2*x) * w**2 - 2 * (1 - zeta) * x * w\n",
    "    V_533 = 2 * zeta**3 * w**2 + 2 * zeta * (1 + zeta**2) * w\n",
    "    V_534 = 2 * zeta**2 * w**2 + 2 * (1 - zeta)**2 * w\n",
    "    V_535 = 2 * zeta**2 * (1 + 2*x) * w**2 + 2 * (1 - zeta)**2 * w\n",
    "    V_536 = -4 * zeta**2 * x**2 * w**2 - 2 * (1 - zeta)**2 * x * w\n",
    "    V_544 = 2 * zeta * w**2 - 2 * (1 - zeta) * w\n",
    "    V_545 = 4 * zeta * w**2 - 4 * (1 - zeta) * w\n",
    "    V_546 = -4 * zeta * x * w**2 + 4 * (1 - zeta) * x * w\n",
    "    V_555 = 4 * zeta**3 * x * w**3 + 2 * zeta * (1 - 2 * zeta * (1 - zeta) * x) * w**2 - 2 * (1 - zeta) * w\n",
    "    V_556 = 4 * zeta**3 * (1 - 2*x) * x * w**3 - 4 * zeta * (zeta * (1 - zeta) * (1 - 2*x) + 1) * x * w**2 + 4 * (1 - zeta) * x * w\n",
    "\n",
    "    return V_133\n",
    "\n",
    "V"
   ]
  },
  {
   "cell_type": "markdown",
   "metadata": {},
   "source": [
    "## Tau decay table"
   ]
  },
  {
   "cell_type": "code",
   "execution_count": 10,
   "metadata": {},
   "outputs": [],
   "source": [
    "import numpy as np\n",
    "import matplotlib.pyplot as plt\n",
    "import pandas as pd"
   ]
  },
  {
   "cell_type": "code",
   "execution_count": 11,
   "metadata": {},
   "outputs": [],
   "source": [
    "branching_ratios = {\n",
    "    (-211, 16, 111): 0.2526028461892057,\n",
    "    (-14, 13, 16): 0.17087086944777485,\n",
    "    (-12, 11, 16): 0.1524080769978059,\n",
    "    (-211, 16): 0.11133831550713442,\n",
    "    (-211, 16, 111, 111): 0.09188509091598387,\n",
    "    (-211, -211, 16, 211): 0.08870291300783342,\n",
    "    (-211, -211, 16, 111, 211): 0.04560726759201778,\n",
    "    (-12, 11, 16, 22): 0.02863012335382122,\n",
    "    (-211, 16, 111, 111, 111): 0.010205242181983612,\n",
    "    (-321, 16): 0.007053867187314886,\n",
    "    (-14, 13, 16, 22): 0.00576725318573209,\n",
    "    (-321, -211, 16, 211): 0.00516778110028007,\n",
    "    (-321, 16, 111): 0.004809993412915424,\n",
    "    (-211, 16, 310): 0.004369274804638445,\n",
    "    (-211, 16, 130): 0.004146546045616746,\n",
    "    (-211, 16, 111, 130): 0.0027438287547566806,\n",
    "    (-211, 16, 111, 310): 0.002731981480340633,\n",
    "    (-211, 16, 111, 221): 0.0017225937000933565,\n",
    "    (-321, -211, 16, 321): 0.0016159682303489259,\n",
    "    (-211, 16, 22, 111): 0.0012889834564660055,\n",
    "    (-211, -211, 16, 111, 111, 211): 0.0008980234007364265,\n",
    "    (-321, 16, 111, 310): 0.000791397930991996,\n",
    "    (-321, 16, 111, 130): 0.0007060975551964515,\n",
    "    (-211, 16, 130, 310): 0.0007037281003132419,\n",
    "    (-321, 16, 130): 0.0005402357133717817,\n",
    "    (-321, 16, 310): 0.00046678261199228503,\n",
    "    (-321, 16, 111, 111): 0.0004620437022258659,\n",
    "    (-211, -211, 16, 111, 111, 111, 211): 0.0004336102436273511,\n",
    "    (-211, -211, -211, 16, 211, 211): 0.000379112781313531,\n",
    "    (-211, 16, 130, 130): 0.0003340931385325492,\n",
    "    (-211, 16, 310, 310): 0.0003198764092332918,\n",
    "    (-211, -211, -211, 16, 111, 211, 211): 0.0002961818604011961\n",
    "}"
   ]
  },
  {
   "cell_type": "code",
   "execution_count": 121,
   "metadata": {},
   "outputs": [
    {
     "data": {
      "image/png": "[encoded data removed]",
      "text/plain": [
       "<Figure size 500x800 with 1 Axes>"
      ]
     },
     "metadata": {},
     "output_type": "display_data"
    }
   ],
   "source": [
    "# Plot a bar chart with all the branching ratios stacked on top of each other, and their PDG IDs printed on each section.\n",
    "# For branching ratios smaller than 1%, combine all of them into one and call it \"other\"\n",
    "def plot_branching_ratios(branching_ratios):\n",
    "    br = branching_ratios.copy()\n",
    "\n",
    "    other_ratio = 0\n",
    "    other_pdg_ids = []\n",
    "    for pdg_ids, ratio in br.items():\n",
    "        if ratio < 0.02:\n",
    "            other_ratio += ratio\n",
    "            other_pdg_ids.append(pdg_ids)\n",
    "    \n",
    "    for pdg_ids in other_pdg_ids:\n",
    "        del br[pdg_ids]\n",
    "\n",
    "    pdg_ids = [str(pdg_id) for pdg_id in br.keys()]\n",
    "    pdg_ids.append(\"other\")\n",
    "    ratios = [ratio for ratio in br.values()]\n",
    "    ratios.append(other_ratio)\n",
    "    # Plot a stacked barh\n",
    "    df = pd.DataFrame({\"Fraction\": ratios}).T\n",
    "    df.columns = pdg_ids\n",
    "    \n",
    "    lep_mask = np.sum([df.columns.str.contains(\"-14\"), df.columns.str.contains(\"-12\")], axis=0).astype(bool)\n",
    "    # Make a list of colors where leptons are blue and hadrons are green\n",
    "    # lep_colors = list(mpl.colormaps[\"Purples\"](30*(3+np.arange(np.sum(lep_mask)+1, dtype=int))))\n",
    "    # had_colors = list(mpl.colormaps[\"Blues\"](25*(3+np.arange(len(pdg_ids)-np.sum(lep_mask)+1, dtype=int))))\n",
    "    lep_colors = [\"white\"] * np.sum(lep_mask)\n",
    "    had_colors = [\"white\"] * (len(pdg_ids) - np.sum(lep_mask))\n",
    "\n",
    "    colors = [lep_colors.pop(0) if lep else had_colors.pop(0) for lep in lep_mask]\n",
    "    colors[-1] = \"gray\"\n",
    "\n",
    "    ax = df.plot.bar(stacked=True, legend=False, figsize=(5, 8), color=colors, linewidth=1, edgecolor=\"black\", width=1)\n",
    "    ax.axis(\"off\")\n",
    "    ax.invert_yaxis()\n",
    "\n",
    "    # Write the decay product particles in the center of each bin\n",
    "    pdg2name = {\n",
    "        16: r\"$\\nu_\\tau$\",\n",
    "        13: r\"$\\mu^-$\",\n",
    "        -14: r\"$\\bar\\nu_\\mu$\",\n",
    "        11: r\"$e^-$\",\n",
    "        -12: r\"$\\bar\\nu_e$\",\n",
    "        22: r\"$\\gamma$\",\n",
    "        211: r\"$\\pi^+$\",\n",
    "        -211: r\"$\\pi^-$\",\n",
    "        111: r\"$\\pi^0$\",\n",
    "        310: r\"$K^0$\",\n",
    "        130: r\"$K_L^0$\",\n",
    "        221: r\"$\\eta$\",\n",
    "        321: r\"$K^+$\"\n",
    "    }\n",
    "    ratio_sum = np.r_[0, np.cumsum(ratios)]\n",
    "\n",
    "    for i, pdg_id in enumerate(pdg_ids):\n",
    "        text = \"\"\n",
    "        if pdg_id == \"other\":\n",
    "            text = \"other\"\n",
    "        else:\n",
    "            for pdg in pdg_id.strip(\"()\").split(\", \"):\n",
    "                # print(pdg)\n",
    "                text += pdg2name[int(pdg)]\n",
    "                text += \" \"\n",
    "        ax.text(0, ratio_sum[i] + ratios[i] / 2, text, ha=\"center\", va=\"center\", color=\"black\", fontsize=20)\n",
    "    \n",
    "plot_branching_ratios(branching_ratios)"
   ]
  },
  {
   "cell_type": "code",
   "execution_count": 51,
   "metadata": {},
   "outputs": [],
   "source": [
    "import matplotlib as mpl"
   ]
  },
  {
   "cell_type": "code",
   "execution_count": 72,
   "metadata": {},
   "outputs": [
    {
     "data": {
      "text/plain": [
       "(0.6346020761245674, 0.8575163398692811, 0.7178777393310266, 1.0)"
      ]
     },
     "execution_count": 72,
     "metadata": {},
     "output_type": "execute_result"
    }
   ],
   "source": [
    "mpl.colormaps[\"GnBu\"](100)"
   ]
  }
 ],
 "metadata": {
  "kernelspec": {
   "display_name": "uni",
   "language": "python",
   "name": "python3"
  },
  "language_info": {
   "codemirror_mode": {
    "name": "ipython",
    "version": 3
   },
   "file_extension": ".py",
   "mimetype": "text/x-python",
   "name": "python",
   "nbconvert_exporter": "python",
   "pygments_lexer": "ipython3",
   "version": "3.10.9"
  }
 },
 "nbformat": 4,
 "nbformat_minor": 2
}
