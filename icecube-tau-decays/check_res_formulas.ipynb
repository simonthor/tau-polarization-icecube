{
 "cells": [
  {
   "cell_type": "code",
   "execution_count": 2,
   "metadata": {},
   "outputs": [],
   "source": [
    "import latexify"
   ]
  },
  {
   "cell_type": "code",
   "execution_count": null,
   "metadata": {},
   "outputs": [
    {
     "data": {
      "text/latex": [
       "$$ \\displaystyle \\begin{array}{l} \\mathrm{K\\_333} = -2 \\zeta^{3} \\cdot \\mathopen{}\\left( 1 - 2 x \\mathclose{}\\right)^{2} w^{2} + 2 \\zeta \\cdot \\mathopen{}\\left( 2 - 3 x \\mathclose{}\\right) w \\\\ \\mathrm{K\\_334} = -\\zeta^{2} \\cdot \\mathopen{}\\left( 1 - 2 x \\mathclose{}\\right)^{2} w^{2} + 2 \\mathopen{}\\left( 1 + \\zeta \\mathclose{}\\right) \\mathopen{}\\left( 1 - 2 x \\mathclose{}\\right) w \\\\ \\mathrm{K\\_335} = -\\zeta^{2} \\cdot \\mathopen{}\\left( 1 - 2 x \\mathclose{}\\right) w + 2 \\mathopen{}\\left( 1 + \\zeta \\mathclose{}\\right) \\\\ \\mathrm{K\\_343} = -\\zeta^{2} \\cdot \\mathopen{}\\left( 1 - 2 x \\mathclose{}\\right)^{2} w^{2} + 2 \\mathopen{}\\left( 1 - \\zeta \\mathclose{}\\right) \\mathopen{}\\left( 1 - 2 x \\mathclose{}\\right) w \\\\ \\mathrm{K\\_344} = \\zeta \\cdot \\mathopen{}\\left( 1 - 2 x \\mathclose{}\\right)^{2} w^{2} \\\\ \\mathrm{K\\_345} = \\zeta \\cdot \\mathopen{}\\left( 1 - 2 x \\mathclose{}\\right) w \\\\ \\mathrm{K\\_353} = -\\zeta^{2} \\cdot \\mathopen{}\\left( 1 - 2 x \\mathclose{}\\right) w^{2} - 2 \\mathopen{}\\left( 1 - \\zeta \\mathclose{}\\right) w \\\\ \\mathrm{K\\_354} = \\zeta \\cdot \\mathopen{}\\left( 1 - 2 x \\mathclose{}\\right) w^{2} \\\\ \\mathrm{K\\_355} = \\zeta w \\\\ \\mathrm{K\\_333} \\end{array} $$"
      ],
      "text/plain": [
       "<latexify.ipython_wrappers.LatexifiedFunction at 0x7b1ecd5c51b0>"
      ]
     },
     "metadata": {},
     "output_type": "display_data"
    }
   ],
   "source": [
    "@latexify.expression(use_math_symbols=True)\n",
    "def K(zeta, x, w):\n",
    "    K_333 = -2 * zeta**3 * (1 - 2*x)**2 * w**2 + 2 * zeta * (2 - 3*x) * w\n",
    "    K_334 = -zeta**2 * (1 - 2*x)**2 * w**2 + 2 * (1 + zeta) * (1 - 2*x) * w\n",
    "    K_335 = -zeta**2 * (1 - 2*x) * w + 2 * (1 + zeta)\n",
    "    K_343 = -zeta**2 * (1 - 2*x)**2 * w**2 + 2 * (1 - zeta) * (1 - 2*x) * w\n",
    "    K_344 = zeta * (1 - 2*x)**2 * w**2\n",
    "    K_345 = zeta * (1 - 2*x) * w\n",
    "    K_353 = -zeta**2 * (1 - 2*x) * w**2 - 2 * (1 - zeta) * w\n",
    "    K_354 = zeta * (1 - 2*x) * w**2\n",
    "    K_355 = zeta * w\n",
    "\n",
    "    return K_333\n",
    "\n",
    "K"
   ]
  },
  {
   "cell_type": "code",
   "execution_count": null,
   "metadata": {},
   "outputs": [
    {
     "data": {
      "text/latex": [
       "$$ \\displaystyle \\begin{array}{l} \\mathrm{A\\_133} = \\zeta^{3} \\cdot \\mathopen{}\\left( 1 - 2 x \\mathclose{}\\right)^{2} w^{3} + \\zeta \\cdot \\mathopen{}\\left( 1 + \\zeta^{2} \\cdot \\mathopen{}\\left( 1 - 2 x \\mathclose{}\\right)^{2} \\mathclose{}\\right) w^{2} - 2 \\mathopen{}\\left( 1 - \\zeta \\mathclose{}\\right) x w \\\\ \\mathrm{A\\_134} = \\zeta^{2} \\cdot \\mathopen{}\\left( 1 - 2 x \\mathclose{}\\right)^{2} w^{3} + \\mathopen{}\\left( 1 + \\zeta \\cdot \\mathopen{}\\left( 2 + \\zeta \\mathclose{}\\right) \\mathopen{}\\left( 1 - 2 x \\mathclose{}\\right) \\mathclose{}\\right) \\mathopen{}\\left( 1 - 2 x \\mathclose{}\\right) w^{2} \\\\ \\mathrm{A\\_135} = \\zeta^{2} \\cdot \\mathopen{}\\left( 1 - 2 x \\mathclose{}\\right) w^{2} + \\mathopen{}\\left( 1 + \\zeta \\cdot \\mathopen{}\\left( 2 + \\zeta \\mathclose{}\\right) \\mathopen{}\\left( 1 - 2 x \\mathclose{}\\right) \\mathclose{}\\right) w \\\\ \\mathrm{A\\_144} = \\zeta \\cdot \\mathopen{}\\left( 1 - 2 x \\mathclose{}\\right)^{2} w^{3} + \\mathopen{}\\left( 1 + \\zeta \\mathclose{}\\right) \\mathopen{}\\left( 1 - 2 x \\mathclose{}\\right)^{2} w^{2} \\\\ \\mathrm{A\\_145} = 2 \\zeta \\cdot \\mathopen{}\\left( 1 - 2 x \\mathclose{}\\right) w^{2} + 2 \\mathopen{}\\left( 1 + \\zeta \\mathclose{}\\right) \\mathopen{}\\left( 1 - 2 x \\mathclose{}\\right) w \\\\ \\mathrm{A\\_155} = \\zeta w + 1 + \\zeta \\\\ \\mathrm{A\\_233} = 2 \\zeta^{3} x w^{2} + 2 \\zeta \\cdot \\mathopen{}\\left( 1 + \\zeta^{2} \\mathclose{}\\right) x w \\\\ \\mathrm{A\\_234} = 2 \\zeta^{2} x w^{2} + 2 \\mathopen{}\\left( 1 + \\zeta \\mathclose{}\\right)^{2} x w \\\\ \\mathrm{A\\_235} = 2 \\zeta^{2} x w \\\\ \\mathrm{A\\_244} = 2 \\zeta x w^{2} + 2 \\mathopen{}\\left( 1 + \\zeta \\mathclose{}\\right) x w \\\\ \\mathrm{A\\_255} = \\zeta^{3} w + \\zeta^{2} \\cdot \\mathopen{}\\left( 1 + \\zeta \\mathclose{}\\right) \\\\ \\mathrm{A\\_433} = 2 \\zeta^{3} \\cdot \\mathopen{}\\left( 1 - x \\mathclose{}\\right) w^{2} + 2 \\zeta^{3} \\cdot \\mathopen{}\\left( 1 - x \\mathclose{}\\right) w + 1 - \\zeta \\\\ \\mathrm{A\\_434} = 2 \\zeta^{2} \\cdot \\mathopen{}\\left( 1 - x \\mathclose{}\\right) w^{2} + \\mathopen{}\\left( 1 + 2 \\zeta \\cdot \\mathopen{}\\left( 2 + \\zeta \\mathclose{}\\right) \\mathopen{}\\left( 1 - x \\mathclose{}\\right) \\mathclose{}\\right) w \\\\ \\mathrm{A\\_435} = 2 \\zeta^{2} w + \\zeta \\cdot \\mathopen{}\\left( 2 + \\zeta \\mathclose{}\\right) \\\\ \\mathrm{A\\_436} = -2 \\zeta^{2} x w^{2} - \\mathopen{}\\left( 1 + \\zeta \\mathclose{}\\right)^{2} w \\\\ \\mathrm{A\\_444} = 2 \\zeta \\cdot \\mathopen{}\\left( 1 - x \\mathclose{}\\right) w^{2} + 2 \\mathopen{}\\left( 1 + \\zeta \\mathclose{}\\right) \\mathopen{}\\left( 1 - x \\mathclose{}\\right) w \\\\ \\mathrm{A\\_445} = 2 \\zeta w + 2 \\mathopen{}\\left( 1 + \\zeta \\mathclose{}\\right) \\\\ \\mathrm{A\\_446} = -2 \\zeta w^{2} - 2 \\mathopen{}\\left( 1 + \\zeta \\mathclose{}\\right) w \\\\ \\mathrm{A\\_455} = \\zeta^{3} w + \\zeta^{2} \\cdot \\mathopen{}\\left( 1 + \\zeta \\mathclose{}\\right) \\\\ \\mathrm{A\\_456} = 2 \\zeta^{3} \\cdot \\mathopen{}\\left( 1 - 2 x \\mathclose{}\\right) w^{2} + 2 \\zeta \\cdot \\mathopen{}\\left( \\zeta \\cdot \\mathopen{}\\left( 1 + \\zeta \\mathclose{}\\right) \\mathopen{}\\left( 1 - 2 x \\mathclose{}\\right) - 1 \\mathclose{}\\right) w - 2 \\mathopen{}\\left( 1 + \\zeta \\mathclose{}\\right) \\\\ \\mathrm{A\\_466} = \\zeta^{3} \\cdot \\mathopen{}\\left( 1 - 2 x \\mathclose{}\\right)^{2} w^{3} + \\zeta \\cdot \\mathopen{}\\left( \\zeta \\cdot \\mathopen{}\\left( 1 + \\zeta \\mathclose{}\\right) \\mathopen{}\\left( 1 - 2 x \\mathclose{}\\right)^{2} + 2 x \\mathclose{}\\right) w^{2} + 2 \\mathopen{}\\left( 1 + \\zeta \\mathclose{}\\right) x w \\\\ \\mathrm{A\\_533} = 2 \\zeta^{3} w^{2} + 2 \\zeta \\cdot \\mathopen{}\\left( 1 + \\zeta^{2} \\mathclose{}\\right) w \\\\ \\mathrm{A\\_534} = 2 \\zeta^{2} w^{2} + 2 \\mathopen{}\\left( 1 + \\zeta \\mathclose{}\\right)^{2} w \\\\ \\mathrm{A\\_535} = 2 \\zeta^{2} \\cdot \\mathopen{}\\left( 1 + x \\mathclose{}\\right) w + \\mathopen{}\\left( 1 + \\zeta \\mathclose{}\\right)^{2} \\\\ \\mathrm{A\\_536} = -4 \\zeta^{2} x^{2} w^{2} - 2 \\mathopen{}\\left( 1 + \\zeta \\mathclose{}\\right)^{2} x w \\\\ \\mathrm{A\\_544} = 2 \\zeta w^{2} + 2 \\mathopen{}\\left( 1 + \\zeta \\mathclose{}\\right) w \\\\ \\mathrm{A\\_545} = 2 \\zeta w + 2 \\mathopen{}\\left( 1 + \\zeta \\mathclose{}\\right) \\\\ \\mathrm{A\\_546} = -4 \\zeta x w^{2} - 4 \\mathopen{}\\left( 1 + \\zeta \\mathclose{}\\right) x w \\\\ \\mathrm{A\\_555} = 2 \\zeta^{3} w + 2 \\zeta^{2} \\cdot \\mathopen{}\\left( 1 + \\zeta \\mathclose{}\\right) \\\\ \\mathrm{A\\_556} = 2 \\zeta^{3} \\cdot \\mathopen{}\\left( 1 - 2 x \\mathclose{}\\right) w^{2} + 2 \\zeta^{2} \\cdot \\mathopen{}\\left( 1 + \\zeta \\mathclose{}\\right) \\mathopen{}\\left( 1 - 2 x \\mathclose{}\\right) w \\\\ \\mathrm{A\\_133} \\end{array} $$"
      ],
      "text/plain": [
       "<latexify.ipython_wrappers.LatexifiedFunction at 0x7b1ecd5c6440>"
      ]
     },
     "metadata": {},
     "output_type": "display_data"
    }
   ],
   "source": [
    "@latexify.expression(use_math_symbols=True)\n",
    "def A(zeta, x, w):\n",
    "    A_133 = zeta**3 * (1 - 2*x)**2 * w**3 + zeta * (1 + zeta**2 * (1 - 2*x)**2) * w**2 - 2 * (1 - zeta) * x * w\n",
    "    A_134 = zeta**2 * (1 - 2*x)**2 * w**3 + (1 + zeta * (2 + zeta) * (1 - 2*x)) * (1 - 2*x) * w**2\n",
    "    A_135 = zeta**2 * (1 - 2*x) * w**2 + (1 + zeta * (2 + zeta) * (1 - 2*x)) * w\n",
    "    A_144 = zeta * (1 - 2*x)**2 * w**3 + (1 + zeta) * (1 - 2*x)**2 * w**2\n",
    "    A_145 = 2 * zeta * (1 - 2*x) * w**2 + 2 * (1 + zeta) * (1 - 2*x) * w\n",
    "    A_155 = zeta * w + 1 + zeta\n",
    "    A_233 = 2 * zeta**3 * x * w**2 + 2 * zeta * (1 + zeta**2) * x * w\n",
    "    A_234 = 2 * zeta**2 * x * w**2 + 2 * (1 + zeta)**2 * x * w\n",
    "    A_235 = 2 * zeta**2 * x * w\n",
    "    A_244 = 2 * zeta * x * w**2 + 2 * (1 + zeta) * x * w\n",
    "    A_255 = zeta**3 * w + zeta**2 * (1 + zeta)\n",
    "    A_433 = 2 * zeta**3 * (1 - x) * w**2 + 2 * zeta**3 * (1 - x) * w + 1 - zeta\n",
    "    A_434 = 2 * zeta**2 * (1 - x) * w**2 + (1 + 2 * zeta * (2 + zeta) * (1 - x)) * w\n",
    "    A_435 = 2 * zeta**2 * w + zeta * (2 + zeta)\n",
    "    A_436 = -2 * zeta**2 * x * w**2 - (1 + zeta)**2 * w\n",
    "    A_444 = 2 * zeta * (1 - x) * w**2 + 2 * (1 + zeta) * (1 - x) * w\n",
    "    A_445 = 2 * zeta * w + 2 * (1 + zeta)\n",
    "    A_446 = -2 * zeta * w**2 - 2 * (1 + zeta) * w\n",
    "    A_455 = zeta**3 * w + zeta**2 * (1 + zeta)\n",
    "    A_456 = 2 * zeta**3 * (1 - 2*x) * w**2 + 2 * zeta * (zeta * (1 + zeta) * (1 - 2*x) - 1) * w - 2 * (1 + zeta)\n",
    "    A_466 = zeta**3 * (1 - 2*x)**2 * w**3 + zeta * (zeta * (1 + zeta) * (1 - 2*x)**2 + 2 * x) * w**2 + 2 * (1 + zeta) * x * w\n",
    "    A_533 = 2 * zeta**3 * w**2 + 2 * zeta * (1 + zeta**2) * w\n",
    "    A_534 = 2 * zeta**2 * w**2 + 2 * (1 + zeta)**2 * w\n",
    "    A_535 = 2 * zeta**2 * (1 + x) * w + (1 + zeta)**2\n",
    "    A_536 = -4 * zeta**2 * x**2 * w**2 - 2 * (1 + zeta)**2 * x * w\n",
    "    A_544 = 2 * zeta * w**2 + 2 * (1 + zeta) * w\n",
    "    A_545 = 2 * zeta * w + 2 * (1 + zeta)\n",
    "    A_546 = -4 * zeta * x * w**2 - 4 * (1 + zeta) * x * w\n",
    "    A_555 = 2 * zeta**3 * w + 2 * zeta**2 * (1 + zeta)\n",
    "    A_556 = 2 * zeta**3 * (1 - 2*x) * w**2 + 2 * zeta**2 * (1 + zeta) * (1 - 2*x) * w\n",
    "\n",
    "    return A_133\n",
    "\n",
    "A"
   ]
  },
  {
   "cell_type": "code",
   "execution_count": null,
   "metadata": {},
   "outputs": [
    {
     "data": {
      "text/latex": [
       "$$ \\displaystyle \\begin{array}{l} \\mathrm{V\\_133} = \\zeta^{3} \\cdot \\mathopen{}\\left( 1 - 2 x \\mathclose{}\\right)^{2} w^{3} + \\zeta \\cdot \\mathopen{}\\left( 1 + \\zeta^{2} \\cdot \\mathopen{}\\left( 1 - 2 x \\mathclose{}\\right)^{2} \\mathclose{}\\right) w^{2} + 2 \\mathopen{}\\left( 1 + \\zeta \\mathclose{}\\right) x w \\\\ \\mathrm{V\\_134} = \\zeta^{2} \\cdot \\mathopen{}\\left( 1 - 2 x \\mathclose{}\\right)^{2} w^{3} + \\mathopen{}\\left( 1 - \\zeta \\cdot \\mathopen{}\\left( 2 - \\zeta \\mathclose{}\\right) \\mathopen{}\\left( 1 - 2 x \\mathclose{}\\right) \\mathclose{}\\right) \\mathopen{}\\left( 1 - 2 x \\mathclose{}\\right) w^{2} \\\\ \\mathrm{V\\_135} = \\zeta^{2} \\cdot \\mathopen{}\\left( 1 - 2 x \\mathclose{}\\right) w^{3} + \\mathopen{}\\left( 1 - \\zeta \\cdot \\mathopen{}\\left( 2 - \\zeta \\mathclose{}\\right) \\mathopen{}\\left( 1 - 2 x \\mathclose{}\\right) \\mathclose{}\\right) w^{2} \\\\ \\mathrm{V\\_144} = \\zeta \\cdot \\mathopen{}\\left( 1 - 2 x \\mathclose{}\\right)^{2} w^{3} - \\mathopen{}\\left( 1 - \\zeta \\mathclose{}\\right) \\mathopen{}\\left( 1 - 2 x \\mathclose{}\\right)^{2} w^{2} \\\\ \\mathrm{V\\_145} = 2 \\zeta \\cdot \\mathopen{}\\left( 1 - 2 x \\mathclose{}\\right) w^{3} - \\mathopen{}\\left( 1 - \\zeta \\mathclose{}\\right) \\mathopen{}\\left( 1 - 4 x \\mathclose{}\\right) w^{2} \\\\ \\mathrm{V\\_155} = \\zeta w^{3} - \\mathopen{}\\left( 1 - \\zeta \\mathclose{}\\right) w^{2} \\\\ \\mathrm{V\\_233} = 2 \\zeta^{3} x w^{2} + 2 \\zeta \\cdot \\mathopen{}\\left( 1 + \\zeta^{2} \\mathclose{}\\right) x w \\\\ \\mathrm{V\\_234} = 2 \\zeta^{2} x w^{2} + 2 \\mathopen{}\\left( 1 - \\zeta \\mathclose{}\\right)^{2} x w \\\\ \\mathrm{V\\_235} = 2 \\zeta^{2} \\cdot \\mathopen{}\\left( 1 + 2 x \\mathclose{}\\right) x w^{2} + 2 \\mathopen{}\\left( 1 - \\zeta \\mathclose{}\\right)^{2} x w \\\\ \\mathrm{V\\_244} = 2 \\zeta x w^{2} - 2 \\mathopen{}\\left( 1 - \\zeta \\mathclose{}\\right) x w \\\\ \\mathrm{V\\_245} = 4 \\zeta x w^{2} - 4 \\mathopen{}\\left( 1 - \\zeta \\mathclose{}\\right) x w \\\\ \\mathrm{V\\_255} = 4 \\zeta^{3} x^{2} w^{3} + 2 \\zeta \\cdot \\mathopen{}\\left( 1 - 2 \\zeta \\cdot \\mathopen{}\\left( 1 - \\zeta \\mathclose{}\\right) x \\mathclose{}\\right) x w^{2} - 2 \\mathopen{}\\left( 1 - \\zeta \\mathclose{}\\right) x w \\\\ \\mathrm{V\\_433} = 2 \\zeta^{3} \\cdot \\mathopen{}\\left( 1 - x \\mathclose{}\\right) w^{2} + 2 \\zeta^{3} \\cdot \\mathopen{}\\left( 1 - x \\mathclose{}\\right) w - 1 - \\zeta \\\\ \\mathrm{V\\_434} = 2 \\zeta^{2} \\cdot \\mathopen{}\\left( 1 - x \\mathclose{}\\right) w^{2} + \\mathopen{}\\left( 1 - 2 \\zeta \\cdot \\mathopen{}\\left( 2 - \\zeta \\mathclose{}\\right) \\mathopen{}\\left( 1 - x \\mathclose{}\\right) \\mathclose{}\\right) w \\\\ \\mathrm{V\\_435} = 2 \\zeta^{2} w^{2} - \\zeta \\cdot \\mathopen{}\\left( 2 - \\zeta \\mathclose{}\\right) w \\\\ \\mathrm{V\\_436} = -2 \\zeta^{2} x w^{2} - \\mathopen{}\\left( 1 - \\zeta \\mathclose{}\\right)^{2} w \\\\ \\mathrm{V\\_444} = 2 \\zeta \\cdot \\mathopen{}\\left( 1 - x \\mathclose{}\\right) w^{2} - 2 \\mathopen{}\\left( 1 - \\zeta \\mathclose{}\\right) \\mathopen{}\\left( 1 - x \\mathclose{}\\right) w \\\\ \\mathrm{V\\_445} = 2 \\zeta w^{2} - 2 \\mathopen{}\\left( 1 - \\zeta \\mathclose{}\\right) w \\\\ \\mathrm{V\\_446} = -2 \\zeta w^{2} + 2 \\mathopen{}\\left( 1 - \\zeta \\mathclose{}\\right) w \\\\ \\mathrm{V\\_455} = \\zeta^{3} w^{3} - \\zeta^{2} \\cdot \\mathopen{}\\left( 1 - \\zeta \\mathclose{}\\right) w^{2} \\\\ \\mathrm{V\\_456} = 2 \\zeta^{3} \\cdot \\mathopen{}\\left( 1 - 2 x \\mathclose{}\\right) w^{3} - 2 \\zeta \\cdot \\mathopen{}\\left( 1 + \\zeta \\cdot \\mathopen{}\\left( 1 - \\zeta \\mathclose{}\\right) \\mathopen{}\\left( 1 - 2 x \\mathclose{}\\right) \\mathclose{}\\right) w^{2} + 2 \\mathopen{}\\left( 1 - \\zeta \\mathclose{}\\right) w \\\\ \\mathrm{V\\_466} = \\zeta^{3} \\cdot \\mathopen{}\\left( 1 - 2 x \\mathclose{}\\right)^{2} w^{3} - \\zeta \\cdot \\mathopen{}\\left( \\zeta \\cdot \\mathopen{}\\left( 1 - \\zeta \\mathclose{}\\right) \\mathopen{}\\left( 1 - 2 x \\mathclose{}\\right)^{2} - 2 x \\mathclose{}\\right) w^{2} - 2 \\mathopen{}\\left( 1 - \\zeta \\mathclose{}\\right) x w \\\\ \\mathrm{V\\_533} = 2 \\zeta^{3} w^{2} + 2 \\zeta \\cdot \\mathopen{}\\left( 1 + \\zeta^{2} \\mathclose{}\\right) w \\\\ \\mathrm{V\\_534} = 2 \\zeta^{2} w^{2} + 2 \\mathopen{}\\left( 1 - \\zeta \\mathclose{}\\right)^{2} w \\\\ \\mathrm{V\\_535} = 2 \\zeta^{2} \\cdot \\mathopen{}\\left( 1 + 2 x \\mathclose{}\\right) w^{2} + 2 \\mathopen{}\\left( 1 - \\zeta \\mathclose{}\\right)^{2} w \\\\ \\mathrm{V\\_536} = -4 \\zeta^{2} x^{2} w^{2} - 2 \\mathopen{}\\left( 1 - \\zeta \\mathclose{}\\right)^{2} x w \\\\ \\mathrm{V\\_544} = 2 \\zeta w^{2} - 2 \\mathopen{}\\left( 1 - \\zeta \\mathclose{}\\right) w \\\\ \\mathrm{V\\_545} = 4 \\zeta w^{2} - 4 \\mathopen{}\\left( 1 - \\zeta \\mathclose{}\\right) w \\\\ \\mathrm{V\\_546} = -4 \\zeta x w^{2} + 4 \\mathopen{}\\left( 1 - \\zeta \\mathclose{}\\right) x w \\\\ \\mathrm{V\\_555} = 4 \\zeta^{3} x w^{3} + 2 \\zeta \\cdot \\mathopen{}\\left( 1 - 2 \\zeta \\cdot \\mathopen{}\\left( 1 - \\zeta \\mathclose{}\\right) x \\mathclose{}\\right) w^{2} - 2 \\mathopen{}\\left( 1 - \\zeta \\mathclose{}\\right) w \\\\ \\mathrm{V\\_556} = 4 \\zeta^{3} \\cdot \\mathopen{}\\left( 1 - 2 x \\mathclose{}\\right) x w^{3} - 4 \\zeta \\cdot \\mathopen{}\\left( \\zeta \\cdot \\mathopen{}\\left( 1 - \\zeta \\mathclose{}\\right) \\mathopen{}\\left( 1 - 2 x \\mathclose{}\\right) + 1 \\mathclose{}\\right) x w^{2} + 4 \\mathopen{}\\left( 1 - \\zeta \\mathclose{}\\right) x w \\\\ \\mathrm{V\\_133} \\end{array} $$"
      ],
      "text/plain": [
       "<latexify.ipython_wrappers.LatexifiedFunction at 0x7b1ecd58b640>"
      ]
     },
     "metadata": {},
     "output_type": "display_data"
    }
   ],
   "source": [
    "@latexify.expression(use_math_symbols=True)\n",
    "def V(zeta, x, w):\n",
    "    V_133 = zeta**3 * (1 - 2*x)**2 * w**3 + zeta * (1 + zeta**2 * (1 - 2*x)**2) * w**2 + 2 * (1 + zeta) * x * w\n",
    "    V_134 = zeta**2 * (1 - 2*x)**2 * w**3 + (1 - zeta * (2 - zeta) * (1 - 2*x)) * (1 - 2*x) * w**2\n",
    "    V_135 = zeta**2 * (1 - 2*x) * w**3 + (1 - zeta * (2 - zeta) * (1 - 2*x)) * w**2\n",
    "    V_144 = zeta * (1 - 2*x)**2 * w**3 - (1 - zeta) * (1 - 2*x)**2 * w**2\n",
    "    V_145 = 2 * zeta * (1 - 2*x) * w**3 - (1 - zeta) * (1 - 4*x) * w**2\n",
    "    V_155 = zeta * w**3 - (1 - zeta) * w**2\n",
    "    V_233 = 2 * zeta**3 * x * w**2 + 2 * zeta * (1 + zeta**2) * x * w\n",
    "    V_234 = 2 * zeta**2 * x * w**2 + 2 * (1 - zeta)**2 * x * w\n",
    "    V_235 = 2 * zeta**2 * (1 + 2*x) * x * w**2 + 2 * (1 - zeta)**2 * x * w\n",
    "    V_244 = 2 * zeta * x * w**2 - 2 * (1 - zeta) * x * w\n",
    "    V_245 = 4 * zeta * x * w**2 - 4 * (1 - zeta) * x * w\n",
    "    V_255 = 4 * zeta**3 * x**2 * w**3 + 2 * zeta * (1 - 2 * zeta * (1 - zeta) * x) * x * w**2 - 2 * (1 - zeta) * x * w\n",
    "    V_433 = 2 * zeta**3 * (1 - x) * w**2 + 2 * zeta**3 * (1 - x) * w - 1 - zeta\n",
    "    V_434 = 2 * zeta**2 * (1 - x) * w**2 + (1 - 2 * zeta * (2 - zeta) * (1 - x)) * w\n",
    "    V_435 = 2 * zeta**2 * w**2 - zeta * (2 - zeta) * w\n",
    "    V_436 = -2 * zeta**2 * x * w**2 - (1 - zeta)**2 * w\n",
    "    V_444 = 2 * zeta * (1 - x) * w**2 - 2 * (1 - zeta) * (1 - x) * w\n",
    "    V_445 = 2 * zeta * w**2 - 2 * (1 - zeta) * w\n",
    "    V_446 = -2 * zeta * w**2 + 2 * (1 - zeta) * w\n",
    "    V_455 = zeta**3 * w**3 - zeta**2 * (1 - zeta) * w**2\n",
    "    V_456 = 2 * zeta**3 * (1 - 2*x) * w**3 - 2 * zeta * (1 + zeta * (1 - zeta) * (1 - 2*x)) * w**2 + 2 * (1 - zeta) * w\n",
    "    V_466 = zeta**3 * (1 - 2*x)**2 * w**3 - zeta * (zeta * (1 - zeta) * (1 - 2*x)**2 - 2*x) * w**2 - 2 * (1 - zeta) * x * w\n",
    "    V_533 = 2 * zeta**3 * w**2 + 2 * zeta * (1 + zeta**2) * w\n",
    "    V_534 = 2 * zeta**2 * w**2 + 2 * (1 - zeta)**2 * w\n",
    "    V_535 = 2 * zeta**2 * (1 + 2*x) * w**2 + 2 * (1 - zeta)**2 * w\n",
    "    V_536 = -4 * zeta**2 * x**2 * w**2 - 2 * (1 - zeta)**2 * x * w\n",
    "    V_544 = 2 * zeta * w**2 - 2 * (1 - zeta) * w\n",
    "    V_545 = 4 * zeta * w**2 - 4 * (1 - zeta) * w\n",
    "    V_546 = -4 * zeta * x * w**2 + 4 * (1 - zeta) * x * w\n",
    "    V_555 = 4 * zeta**3 * x * w**3 + 2 * zeta * (1 - 2 * zeta * (1 - zeta) * x) * w**2 - 2 * (1 - zeta) * w\n",
    "    V_556 = 4 * zeta**3 * (1 - 2*x) * x * w**3 - 4 * zeta * (zeta * (1 - zeta) * (1 - 2*x) + 1) * x * w**2 + 4 * (1 - zeta) * x * w\n",
    "\n",
    "    return V_133\n",
    "\n",
    "V"
   ]
  }
 ],
 "metadata": {
  "kernelspec": {
   "display_name": "uni",
   "language": "python",
   "name": "python3"
  },
  "language_info": {
   "codemirror_mode": {
    "name": "ipython",
    "version": 3
   },
   "file_extension": ".py",
   "mimetype": "text/x-python",
   "name": "python",
   "nbconvert_exporter": "python",
   "pygments_lexer": "ipython3",
   "version": "3.10.9"
  }
 },
 "nbformat": 4,
 "nbformat_minor": 2
}
