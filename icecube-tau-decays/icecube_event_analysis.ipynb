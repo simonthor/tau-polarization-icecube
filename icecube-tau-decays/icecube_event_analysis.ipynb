{
 "cells": [
  {
   "cell_type": "code",
   "execution_count": 3,
   "metadata": {},
   "outputs": [],
   "source": [
    "import numpy as np\n",
    "import matplotlib.pyplot as plt\n",
    "import csv\n",
    "import pyhepmc\n",
    "import pandas as pd"
   ]
  },
  {
   "cell_type": "code",
   "execution_count": 5,
   "metadata": {},
   "outputs": [],
   "source": [
    "# Load the event info\n",
    "event_info = pd.read_csv(\"genie_tau_decays_event_info.csv\")\n",
    "particle_info = pd.read_csv(\"genie_tau_decays_particles.csv\")"
   ]
  },
  {
   "cell_type": "markdown",
   "metadata": {},
   "source": [
    "## Analyze particles in the event"
   ]
  },
  {
   "cell_type": "code",
   "execution_count": 78,
   "metadata": {},
   "outputs": [
    {
     "data": {
      "text/html": [
       "<div>\n",
       "<style scoped>\n",
       "    .dataframe tbody tr th:only-of-type {\n",
       "        vertical-align: middle;\n",
       "    }\n",
       "\n",
       "    .dataframe tbody tr th {\n",
       "        vertical-align: top;\n",
       "    }\n",
       "\n",
       "    .dataframe thead th {\n",
       "        text-align: right;\n",
       "    }\n",
       "</style>\n",
       "<table border=\"1\" class=\"dataframe\">\n",
       "  <thead>\n",
       "    <tr style=\"text-align: right;\">\n",
       "      <th></th>\n",
       "      <th>event_num</th>\n",
       "      <th>pdg</th>\n",
       "      <th>E</th>\n",
       "      <th>px</th>\n",
       "      <th>py</th>\n",
       "      <th>pz</th>\n",
       "    </tr>\n",
       "  </thead>\n",
       "  <tbody>\n",
       "    <tr>\n",
       "      <th>0</th>\n",
       "      <td>0</td>\n",
       "      <td>1000080160</td>\n",
       "      <td>14.895081</td>\n",
       "      <td>0.000000</td>\n",
       "      <td>0.000000</td>\n",
       "      <td>0.000000</td>\n",
       "    </tr>\n",
       "    <tr>\n",
       "      <th>1</th>\n",
       "      <td>0</td>\n",
       "      <td>-16</td>\n",
       "      <td>3.730323</td>\n",
       "      <td>0.185260</td>\n",
       "      <td>3.295873</td>\n",
       "      <td>1.737299</td>\n",
       "    </tr>\n",
       "    <tr>\n",
       "      <th>2</th>\n",
       "      <td>0</td>\n",
       "      <td>-15</td>\n",
       "      <td>3.251366</td>\n",
       "      <td>-0.023894</td>\n",
       "      <td>2.329548</td>\n",
       "      <td>1.409583</td>\n",
       "    </tr>\n",
       "    <tr>\n",
       "      <th>3</th>\n",
       "      <td>0</td>\n",
       "      <td>211</td>\n",
       "      <td>0.726490</td>\n",
       "      <td>-0.435732</td>\n",
       "      <td>-0.013640</td>\n",
       "      <td>0.564145</td>\n",
       "    </tr>\n",
       "    <tr>\n",
       "      <th>4</th>\n",
       "      <td>0</td>\n",
       "      <td>-16</td>\n",
       "      <td>2.524877</td>\n",
       "      <td>0.411767</td>\n",
       "      <td>2.343313</td>\n",
       "      <td>0.845184</td>\n",
       "    </tr>\n",
       "    <tr>\n",
       "      <th>5</th>\n",
       "      <td>1</td>\n",
       "      <td>1000080160</td>\n",
       "      <td>14.895081</td>\n",
       "      <td>0.000000</td>\n",
       "      <td>0.000000</td>\n",
       "      <td>0.000000</td>\n",
       "    </tr>\n",
       "    <tr>\n",
       "      <th>6</th>\n",
       "      <td>1</td>\n",
       "      <td>16</td>\n",
       "      <td>3.725654</td>\n",
       "      <td>-1.656092</td>\n",
       "      <td>-2.943322</td>\n",
       "      <td>1.573121</td>\n",
       "    </tr>\n",
       "    <tr>\n",
       "      <th>7</th>\n",
       "      <td>1</td>\n",
       "      <td>15</td>\n",
       "      <td>2.846514</td>\n",
       "      <td>-0.845274</td>\n",
       "      <td>-1.491209</td>\n",
       "      <td>1.416815</td>\n",
       "    </tr>\n",
       "    <tr>\n",
       "      <th>8</th>\n",
       "      <td>1</td>\n",
       "      <td>-211</td>\n",
       "      <td>0.395154</td>\n",
       "      <td>-0.365821</td>\n",
       "      <td>-0.047146</td>\n",
       "      <td>0.024889</td>\n",
       "    </tr>\n",
       "    <tr>\n",
       "      <th>9</th>\n",
       "      <td>1</td>\n",
       "      <td>-211</td>\n",
       "      <td>2.062102</td>\n",
       "      <td>-0.284192</td>\n",
       "      <td>-1.660413</td>\n",
       "      <td>1.181121</td>\n",
       "    </tr>\n",
       "    <tr>\n",
       "      <th>10</th>\n",
       "      <td>1</td>\n",
       "      <td>211</td>\n",
       "      <td>0.382154</td>\n",
       "      <td>-0.195887</td>\n",
       "      <td>0.216024</td>\n",
       "      <td>0.203774</td>\n",
       "    </tr>\n",
       "    <tr>\n",
       "      <th>11</th>\n",
       "      <td>1</td>\n",
       "      <td>16</td>\n",
       "      <td>0.007096</td>\n",
       "      <td>0.000500</td>\n",
       "      <td>0.000490</td>\n",
       "      <td>0.007061</td>\n",
       "    </tr>\n",
       "    <tr>\n",
       "      <th>12</th>\n",
       "      <td>2</td>\n",
       "      <td>1000080160</td>\n",
       "      <td>14.895081</td>\n",
       "      <td>0.000000</td>\n",
       "      <td>0.000000</td>\n",
       "      <td>0.000000</td>\n",
       "    </tr>\n",
       "  </tbody>\n",
       "</table>\n",
       "</div>"
      ],
      "text/plain": [
       "    event_num         pdg          E        px        py        pz\n",
       "0           0  1000080160  14.895081  0.000000  0.000000  0.000000\n",
       "1           0         -16   3.730323  0.185260  3.295873  1.737299\n",
       "2           0         -15   3.251366 -0.023894  2.329548  1.409583\n",
       "3           0         211   0.726490 -0.435732 -0.013640  0.564145\n",
       "4           0         -16   2.524877  0.411767  2.343313  0.845184\n",
       "5           1  1000080160  14.895081  0.000000  0.000000  0.000000\n",
       "6           1          16   3.725654 -1.656092 -2.943322  1.573121\n",
       "7           1          15   2.846514 -0.845274 -1.491209  1.416815\n",
       "8           1        -211   0.395154 -0.365821 -0.047146  0.024889\n",
       "9           1        -211   2.062102 -0.284192 -1.660413  1.181121\n",
       "10          1         211   0.382154 -0.195887  0.216024  0.203774\n",
       "11          1          16   0.007096  0.000500  0.000490  0.007061\n",
       "12          2  1000080160  14.895081  0.000000  0.000000  0.000000"
      ]
     },
     "execution_count": 78,
     "metadata": {},
     "output_type": "execute_result"
    }
   ],
   "source": [
    "particle_info.head(13)"
   ]
  },
  {
   "cell_type": "code",
   "execution_count": 50,
   "metadata": {},
   "outputs": [],
   "source": [
    "# Check if there are any events where two taus are produced\n",
    "# There should not be any\n",
    "assert not (particle_info[np.abs(particle_info['pdg']) == 15].groupby(\"event_num\").count() > 1).any().any()\n",
    "taus = particle_info[np.abs(particle_info[\"pdg\"]) == 15]\n",
    "assert (taus[\"event_num\"] == np.arange(len(taus))).all()"
   ]
  },
  {
   "cell_type": "code",
   "execution_count": 51,
   "metadata": {},
   "outputs": [
    {
     "data": {
      "text/html": [
       "<div>\n",
       "<style scoped>\n",
       "    .dataframe tbody tr th:only-of-type {\n",
       "        vertical-align: middle;\n",
       "    }\n",
       "\n",
       "    .dataframe tbody tr th {\n",
       "        vertical-align: top;\n",
       "    }\n",
       "\n",
       "    .dataframe thead th {\n",
       "        text-align: right;\n",
       "    }\n",
       "</style>\n",
       "<table border=\"1\" class=\"dataframe\">\n",
       "  <thead>\n",
       "    <tr style=\"text-align: right;\">\n",
       "      <th></th>\n",
       "      <th>event_num</th>\n",
       "      <th>pdg</th>\n",
       "      <th>E</th>\n",
       "      <th>px</th>\n",
       "      <th>py</th>\n",
       "      <th>pz</th>\n",
       "    </tr>\n",
       "  </thead>\n",
       "  <tbody>\n",
       "    <tr>\n",
       "      <th>2</th>\n",
       "      <td>0</td>\n",
       "      <td>-15</td>\n",
       "      <td>3.251366</td>\n",
       "      <td>-0.023894</td>\n",
       "      <td>2.329548</td>\n",
       "      <td>1.409583</td>\n",
       "    </tr>\n",
       "    <tr>\n",
       "      <th>7</th>\n",
       "      <td>1</td>\n",
       "      <td>15</td>\n",
       "      <td>2.846514</td>\n",
       "      <td>-0.845274</td>\n",
       "      <td>-1.491209</td>\n",
       "      <td>1.416815</td>\n",
       "    </tr>\n",
       "    <tr>\n",
       "      <th>14</th>\n",
       "      <td>2</td>\n",
       "      <td>15</td>\n",
       "      <td>3.332381</td>\n",
       "      <td>-2.127187</td>\n",
       "      <td>-1.737024</td>\n",
       "      <td>-0.636785</td>\n",
       "    </tr>\n",
       "    <tr>\n",
       "      <th>19</th>\n",
       "      <td>3</td>\n",
       "      <td>15</td>\n",
       "      <td>3.509529</td>\n",
       "      <td>-0.032933</td>\n",
       "      <td>-0.487587</td>\n",
       "      <td>-2.986784</td>\n",
       "    </tr>\n",
       "    <tr>\n",
       "      <th>26</th>\n",
       "      <td>4</td>\n",
       "      <td>15</td>\n",
       "      <td>3.555693</td>\n",
       "      <td>-0.230564</td>\n",
       "      <td>-0.218090</td>\n",
       "      <td>-3.063518</td>\n",
       "    </tr>\n",
       "    <tr>\n",
       "      <th>...</th>\n",
       "      <td>...</td>\n",
       "      <td>...</td>\n",
       "      <td>...</td>\n",
       "      <td>...</td>\n",
       "      <td>...</td>\n",
       "      <td>...</td>\n",
       "    </tr>\n",
       "    <tr>\n",
       "      <th>447098</th>\n",
       "      <td>76638</td>\n",
       "      <td>-15</td>\n",
       "      <td>1003.199894</td>\n",
       "      <td>-392.660182</td>\n",
       "      <td>-607.363024</td>\n",
       "      <td>-695.222992</td>\n",
       "    </tr>\n",
       "    <tr>\n",
       "      <th>447104</th>\n",
       "      <td>76639</td>\n",
       "      <td>15</td>\n",
       "      <td>5031.544231</td>\n",
       "      <td>-4776.946270</td>\n",
       "      <td>-1257.860435</td>\n",
       "      <td>-956.559277</td>\n",
       "    </tr>\n",
       "    <tr>\n",
       "      <th>447110</th>\n",
       "      <td>76640</td>\n",
       "      <td>-15</td>\n",
       "      <td>75.985685</td>\n",
       "      <td>56.916040</td>\n",
       "      <td>-50.301859</td>\n",
       "      <td>-0.977036</td>\n",
       "    </tr>\n",
       "    <tr>\n",
       "      <th>447116</th>\n",
       "      <td>76641</td>\n",
       "      <td>15</td>\n",
       "      <td>1999.051556</td>\n",
       "      <td>-973.289879</td>\n",
       "      <td>1030.714386</td>\n",
       "      <td>1409.446214</td>\n",
       "    </tr>\n",
       "    <tr>\n",
       "      <th>447120</th>\n",
       "      <td>76642</td>\n",
       "      <td>15</td>\n",
       "      <td>2128.943214</td>\n",
       "      <td>-1013.673964</td>\n",
       "      <td>-1313.010045</td>\n",
       "      <td>-1334.490828</td>\n",
       "    </tr>\n",
       "  </tbody>\n",
       "</table>\n",
       "<p>76643 rows × 6 columns</p>\n",
       "</div>"
      ],
      "text/plain": [
       "        event_num  pdg            E           px           py           pz\n",
       "2               0  -15     3.251366    -0.023894     2.329548     1.409583\n",
       "7               1   15     2.846514    -0.845274    -1.491209     1.416815\n",
       "14              2   15     3.332381    -2.127187    -1.737024    -0.636785\n",
       "19              3   15     3.509529    -0.032933    -0.487587    -2.986784\n",
       "26              4   15     3.555693    -0.230564    -0.218090    -3.063518\n",
       "...           ...  ...          ...          ...          ...          ...\n",
       "447098      76638  -15  1003.199894  -392.660182  -607.363024  -695.222992\n",
       "447104      76639   15  5031.544231 -4776.946270 -1257.860435  -956.559277\n",
       "447110      76640  -15    75.985685    56.916040   -50.301859    -0.977036\n",
       "447116      76641   15  1999.051556  -973.289879  1030.714386  1409.446214\n",
       "447120      76642   15  2128.943214 -1013.673964 -1313.010045 -1334.490828\n",
       "\n",
       "[76643 rows x 6 columns]"
      ]
     },
     "execution_count": 51,
     "metadata": {},
     "output_type": "execute_result"
    }
   ],
   "source": [
    "taus"
   ]
  },
  {
   "cell_type": "code",
   "execution_count": 98,
   "metadata": {},
   "outputs": [
    {
     "data": {
      "text/plain": [
       "(array([0, 1, 2, 3, 4]), array([18011,   568,    61,   493, 57510]))"
      ]
     },
     "execution_count": 98,
     "metadata": {},
     "output_type": "execute_result"
    }
   ],
   "source": [
    "np.unique(np.isclose(particle_info.drop(\"pdg\", axis=1).groupby(\"event_num\").nth[3:].groupby(\"event_num\").sum(), \n",
    "           taus.set_index(\"event_num\").drop(\"pdg\", axis=1), rtol=0.01).sum(axis=1), return_counts=True)"
   ]
  },
  {
   "cell_type": "markdown",
   "metadata": {},
   "source": [
    "The number in the first array indicates how many of the 4-momentum components are within the given relative tolerance (rtol), while the number in the second array correspond to how many events have that number of components within the given relative tolerance.\n",
    "\n",
    "We have a large collection of 4 (all components close in value) and 0 (none of the components are close in value), with a few events in between.\n",
    "\n",
    "It is good that most events are 4, since that means that the 4-momentum is conserved.\n",
    "\n",
    "The ones with 0 correspond to when the electron is not in the event, but the electron neutrino and tau neutrino are."
   ]
  },
  {
   "cell_type": "markdown",
   "metadata": {},
   "source": [
    "## Analyze event information\n",
    "Just for sanity checks"
   ]
  },
  {
   "cell_type": "code",
   "execution_count": 100,
   "metadata": {},
   "outputs": [
    {
     "data": {
      "text/plain": [
       "event_num    2.937036e+09\n",
       "cc           7.664300e+04\n",
       "dis          4.067000e+04\n",
       "qel          1.594000e+04\n",
       "res          2.001700e+04\n",
       "xsec         8.392645e+06\n",
       "dtype: float64"
      ]
     },
     "execution_count": 100,
     "metadata": {},
     "output_type": "execute_result"
    }
   ],
   "source": [
    "event_info.sum(axis=0)"
   ]
  },
  {
   "cell_type": "markdown",
   "metadata": {},
   "source": [
    "There seems to be the same order of magnitude of DIS, QEL and RES events, with a majority of DIS events."
   ]
  },
  {
   "cell_type": "code",
   "execution_count": 102,
   "metadata": {},
   "outputs": [
    {
     "data": {
      "text/plain": [
       "True"
      ]
     },
     "execution_count": 102,
     "metadata": {},
     "output_type": "execute_result"
    }
   ],
   "source": [
    "event_info[\"cc\"].all()"
   ]
  },
  {
   "cell_type": "markdown",
   "metadata": {},
   "source": [
    "All events are CC, which is good since those are the only ones we are interested in."
   ]
  }
 ],
 "metadata": {
  "kernelspec": {
   "display_name": "cern-skhep",
   "language": "python",
   "name": "python3"
  },
  "language_info": {
   "codemirror_mode": {
    "name": "ipython",
    "version": 3
   },
   "file_extension": ".py",
   "mimetype": "text/x-python",
   "name": "python",
   "nbconvert_exporter": "python",
   "pygments_lexer": "ipython3",
   "version": "3.11.4"
  }
 },
 "nbformat": 4,
 "nbformat_minor": 2
}
