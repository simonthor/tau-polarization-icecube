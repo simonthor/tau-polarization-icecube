{
 "cells": [
  {
   "cell_type": "code",
   "execution_count": 2,
   "metadata": {},
   "outputs": [],
   "source": [
    "import numpy as np\n",
    "import matplotlib.pyplot as plt\n",
    "import csv\n",
    "import pyhepmc\n",
    "import pandas as pd"
   ]
  },
  {
   "cell_type": "code",
   "execution_count": 3,
   "metadata": {},
   "outputs": [],
   "source": [
    "# Load the event info\n",
    "event_info = pd.read_csv(\"genie_tau_decays_event_info.csv\")\n",
    "particle_info = pd.read_csv(\"genie_tau_decays_particles.csv\")"
   ]
  },
  {
   "cell_type": "markdown",
   "metadata": {},
   "source": [
    "## Analyze particles in the event"
   ]
  },
  {
   "cell_type": "markdown",
   "metadata": {},
   "source": [
    "### 4-momentum conservation"
   ]
  },
  {
   "cell_type": "code",
   "execution_count": 4,
   "metadata": {},
   "outputs": [
    {
     "data": {
      "text/html": [
       "<div>\n",
       "<style scoped>\n",
       "    .dataframe tbody tr th:only-of-type {\n",
       "        vertical-align: middle;\n",
       "    }\n",
       "\n",
       "    .dataframe tbody tr th {\n",
       "        vertical-align: top;\n",
       "    }\n",
       "\n",
       "    .dataframe thead th {\n",
       "        text-align: right;\n",
       "    }\n",
       "</style>\n",
       "<table border=\"1\" class=\"dataframe\">\n",
       "  <thead>\n",
       "    <tr style=\"text-align: right;\">\n",
       "      <th></th>\n",
       "      <th>event_num</th>\n",
       "      <th>pdg</th>\n",
       "      <th>E</th>\n",
       "      <th>px</th>\n",
       "      <th>py</th>\n",
       "      <th>pz</th>\n",
       "    </tr>\n",
       "  </thead>\n",
       "  <tbody>\n",
       "    <tr>\n",
       "      <th>0</th>\n",
       "      <td>0</td>\n",
       "      <td>1000080160</td>\n",
       "      <td>14.895081</td>\n",
       "      <td>0.000000</td>\n",
       "      <td>0.000000</td>\n",
       "      <td>0.000000</td>\n",
       "    </tr>\n",
       "    <tr>\n",
       "      <th>1</th>\n",
       "      <td>0</td>\n",
       "      <td>-16</td>\n",
       "      <td>3.730323</td>\n",
       "      <td>0.185260</td>\n",
       "      <td>3.295873</td>\n",
       "      <td>1.737299</td>\n",
       "    </tr>\n",
       "    <tr>\n",
       "      <th>2</th>\n",
       "      <td>0</td>\n",
       "      <td>-15</td>\n",
       "      <td>3.251366</td>\n",
       "      <td>-0.023894</td>\n",
       "      <td>2.329548</td>\n",
       "      <td>1.409583</td>\n",
       "    </tr>\n",
       "    <tr>\n",
       "      <th>3</th>\n",
       "      <td>0</td>\n",
       "      <td>211</td>\n",
       "      <td>0.726490</td>\n",
       "      <td>-0.435732</td>\n",
       "      <td>-0.013640</td>\n",
       "      <td>0.564145</td>\n",
       "    </tr>\n",
       "    <tr>\n",
       "      <th>4</th>\n",
       "      <td>0</td>\n",
       "      <td>-16</td>\n",
       "      <td>2.524877</td>\n",
       "      <td>0.411767</td>\n",
       "      <td>2.343313</td>\n",
       "      <td>0.845184</td>\n",
       "    </tr>\n",
       "    <tr>\n",
       "      <th>5</th>\n",
       "      <td>1</td>\n",
       "      <td>1000080160</td>\n",
       "      <td>14.895081</td>\n",
       "      <td>0.000000</td>\n",
       "      <td>0.000000</td>\n",
       "      <td>0.000000</td>\n",
       "    </tr>\n",
       "    <tr>\n",
       "      <th>6</th>\n",
       "      <td>1</td>\n",
       "      <td>16</td>\n",
       "      <td>3.725654</td>\n",
       "      <td>-1.656092</td>\n",
       "      <td>-2.943322</td>\n",
       "      <td>1.573121</td>\n",
       "    </tr>\n",
       "    <tr>\n",
       "      <th>7</th>\n",
       "      <td>1</td>\n",
       "      <td>15</td>\n",
       "      <td>2.846514</td>\n",
       "      <td>-0.845274</td>\n",
       "      <td>-1.491209</td>\n",
       "      <td>1.416815</td>\n",
       "    </tr>\n",
       "    <tr>\n",
       "      <th>8</th>\n",
       "      <td>1</td>\n",
       "      <td>-211</td>\n",
       "      <td>0.395154</td>\n",
       "      <td>-0.365821</td>\n",
       "      <td>-0.047146</td>\n",
       "      <td>0.024889</td>\n",
       "    </tr>\n",
       "    <tr>\n",
       "      <th>9</th>\n",
       "      <td>1</td>\n",
       "      <td>-211</td>\n",
       "      <td>2.062102</td>\n",
       "      <td>-0.284192</td>\n",
       "      <td>-1.660413</td>\n",
       "      <td>1.181121</td>\n",
       "    </tr>\n",
       "    <tr>\n",
       "      <th>10</th>\n",
       "      <td>1</td>\n",
       "      <td>211</td>\n",
       "      <td>0.382154</td>\n",
       "      <td>-0.195887</td>\n",
       "      <td>0.216024</td>\n",
       "      <td>0.203774</td>\n",
       "    </tr>\n",
       "    <tr>\n",
       "      <th>11</th>\n",
       "      <td>1</td>\n",
       "      <td>16</td>\n",
       "      <td>0.007096</td>\n",
       "      <td>0.000500</td>\n",
       "      <td>0.000490</td>\n",
       "      <td>0.007061</td>\n",
       "    </tr>\n",
       "    <tr>\n",
       "      <th>12</th>\n",
       "      <td>2</td>\n",
       "      <td>1000080160</td>\n",
       "      <td>14.895081</td>\n",
       "      <td>0.000000</td>\n",
       "      <td>0.000000</td>\n",
       "      <td>0.000000</td>\n",
       "    </tr>\n",
       "  </tbody>\n",
       "</table>\n",
       "</div>"
      ],
      "text/plain": [
       "    event_num         pdg          E        px        py        pz\n",
       "0           0  1000080160  14.895081  0.000000  0.000000  0.000000\n",
       "1           0         -16   3.730323  0.185260  3.295873  1.737299\n",
       "2           0         -15   3.251366 -0.023894  2.329548  1.409583\n",
       "3           0         211   0.726490 -0.435732 -0.013640  0.564145\n",
       "4           0         -16   2.524877  0.411767  2.343313  0.845184\n",
       "5           1  1000080160  14.895081  0.000000  0.000000  0.000000\n",
       "6           1          16   3.725654 -1.656092 -2.943322  1.573121\n",
       "7           1          15   2.846514 -0.845274 -1.491209  1.416815\n",
       "8           1        -211   0.395154 -0.365821 -0.047146  0.024889\n",
       "9           1        -211   2.062102 -0.284192 -1.660413  1.181121\n",
       "10          1         211   0.382154 -0.195887  0.216024  0.203774\n",
       "11          1          16   0.007096  0.000500  0.000490  0.007061\n",
       "12          2  1000080160  14.895081  0.000000  0.000000  0.000000"
      ]
     },
     "execution_count": 4,
     "metadata": {},
     "output_type": "execute_result"
    }
   ],
   "source": [
    "particle_info.head(13)"
   ]
  },
  {
   "cell_type": "code",
   "execution_count": 6,
   "metadata": {},
   "outputs": [],
   "source": [
    "# Check if there are any events where two taus are produced\n",
    "# There should not be any\n",
    "assert not (particle_info[np.abs(particle_info['pdg']) == 15].groupby(\"event_num\").count() > 1).any().any()\n",
    "taus = particle_info[np.abs(particle_info[\"pdg\"]) == 15]\n",
    "assert (taus[\"event_num\"] == np.arange(len(taus))).all()"
   ]
  },
  {
   "cell_type": "code",
   "execution_count": 7,
   "metadata": {},
   "outputs": [
    {
     "data": {
      "text/html": [
       "<div>\n",
       "<style scoped>\n",
       "    .dataframe tbody tr th:only-of-type {\n",
       "        vertical-align: middle;\n",
       "    }\n",
       "\n",
       "    .dataframe tbody tr th {\n",
       "        vertical-align: top;\n",
       "    }\n",
       "\n",
       "    .dataframe thead th {\n",
       "        text-align: right;\n",
       "    }\n",
       "</style>\n",
       "<table border=\"1\" class=\"dataframe\">\n",
       "  <thead>\n",
       "    <tr style=\"text-align: right;\">\n",
       "      <th></th>\n",
       "      <th>event_num</th>\n",
       "      <th>pdg</th>\n",
       "      <th>E</th>\n",
       "      <th>px</th>\n",
       "      <th>py</th>\n",
       "      <th>pz</th>\n",
       "    </tr>\n",
       "  </thead>\n",
       "  <tbody>\n",
       "    <tr>\n",
       "      <th>2</th>\n",
       "      <td>0</td>\n",
       "      <td>-15</td>\n",
       "      <td>3.251366</td>\n",
       "      <td>-0.023894</td>\n",
       "      <td>2.329548</td>\n",
       "      <td>1.409583</td>\n",
       "    </tr>\n",
       "    <tr>\n",
       "      <th>7</th>\n",
       "      <td>1</td>\n",
       "      <td>15</td>\n",
       "      <td>2.846514</td>\n",
       "      <td>-0.845274</td>\n",
       "      <td>-1.491209</td>\n",
       "      <td>1.416815</td>\n",
       "    </tr>\n",
       "    <tr>\n",
       "      <th>14</th>\n",
       "      <td>2</td>\n",
       "      <td>15</td>\n",
       "      <td>3.332381</td>\n",
       "      <td>-2.127187</td>\n",
       "      <td>-1.737024</td>\n",
       "      <td>-0.636785</td>\n",
       "    </tr>\n",
       "    <tr>\n",
       "      <th>19</th>\n",
       "      <td>3</td>\n",
       "      <td>15</td>\n",
       "      <td>3.509529</td>\n",
       "      <td>-0.032933</td>\n",
       "      <td>-0.487587</td>\n",
       "      <td>-2.986784</td>\n",
       "    </tr>\n",
       "    <tr>\n",
       "      <th>26</th>\n",
       "      <td>4</td>\n",
       "      <td>15</td>\n",
       "      <td>3.555693</td>\n",
       "      <td>-0.230564</td>\n",
       "      <td>-0.218090</td>\n",
       "      <td>-3.063518</td>\n",
       "    </tr>\n",
       "    <tr>\n",
       "      <th>...</th>\n",
       "      <td>...</td>\n",
       "      <td>...</td>\n",
       "      <td>...</td>\n",
       "      <td>...</td>\n",
       "      <td>...</td>\n",
       "      <td>...</td>\n",
       "    </tr>\n",
       "    <tr>\n",
       "      <th>447098</th>\n",
       "      <td>76638</td>\n",
       "      <td>-15</td>\n",
       "      <td>1003.199894</td>\n",
       "      <td>-392.660182</td>\n",
       "      <td>-607.363024</td>\n",
       "      <td>-695.222992</td>\n",
       "    </tr>\n",
       "    <tr>\n",
       "      <th>447104</th>\n",
       "      <td>76639</td>\n",
       "      <td>15</td>\n",
       "      <td>5031.544231</td>\n",
       "      <td>-4776.946270</td>\n",
       "      <td>-1257.860435</td>\n",
       "      <td>-956.559277</td>\n",
       "    </tr>\n",
       "    <tr>\n",
       "      <th>447110</th>\n",
       "      <td>76640</td>\n",
       "      <td>-15</td>\n",
       "      <td>75.985685</td>\n",
       "      <td>56.916040</td>\n",
       "      <td>-50.301859</td>\n",
       "      <td>-0.977036</td>\n",
       "    </tr>\n",
       "    <tr>\n",
       "      <th>447116</th>\n",
       "      <td>76641</td>\n",
       "      <td>15</td>\n",
       "      <td>1999.051556</td>\n",
       "      <td>-973.289879</td>\n",
       "      <td>1030.714386</td>\n",
       "      <td>1409.446214</td>\n",
       "    </tr>\n",
       "    <tr>\n",
       "      <th>447120</th>\n",
       "      <td>76642</td>\n",
       "      <td>15</td>\n",
       "      <td>2128.943214</td>\n",
       "      <td>-1013.673964</td>\n",
       "      <td>-1313.010045</td>\n",
       "      <td>-1334.490828</td>\n",
       "    </tr>\n",
       "  </tbody>\n",
       "</table>\n",
       "<p>76643 rows × 6 columns</p>\n",
       "</div>"
      ],
      "text/plain": [
       "        event_num  pdg            E           px           py           pz\n",
       "2               0  -15     3.251366    -0.023894     2.329548     1.409583\n",
       "7               1   15     2.846514    -0.845274    -1.491209     1.416815\n",
       "14              2   15     3.332381    -2.127187    -1.737024    -0.636785\n",
       "19              3   15     3.509529    -0.032933    -0.487587    -2.986784\n",
       "26              4   15     3.555693    -0.230564    -0.218090    -3.063518\n",
       "...           ...  ...          ...          ...          ...          ...\n",
       "447098      76638  -15  1003.199894  -392.660182  -607.363024  -695.222992\n",
       "447104      76639   15  5031.544231 -4776.946270 -1257.860435  -956.559277\n",
       "447110      76640  -15    75.985685    56.916040   -50.301859    -0.977036\n",
       "447116      76641   15  1999.051556  -973.289879  1030.714386  1409.446214\n",
       "447120      76642   15  2128.943214 -1013.673964 -1313.010045 -1334.490828\n",
       "\n",
       "[76643 rows x 6 columns]"
      ]
     },
     "execution_count": 7,
     "metadata": {},
     "output_type": "execute_result"
    }
   ],
   "source": [
    "taus"
   ]
  },
  {
   "cell_type": "code",
   "execution_count": 21,
   "metadata": {},
   "outputs": [
    {
     "data": {
      "text/plain": [
       "(array([0, 1, 2, 3, 4]), array([18011,   568,    61,   493, 57510]))"
      ]
     },
     "execution_count": 21,
     "metadata": {},
     "output_type": "execute_result"
    }
   ],
   "source": [
    "np.unique(\n",
    "    np.isclose(\n",
    "        particle_info\n",
    "            .drop(\"pdg\", axis=1)\n",
    "            .groupby(\"event_num\")\n",
    "            .nth[3:]\n",
    "            .groupby(\"event_num\")\n",
    "            .sum(), \n",
    "        taus\n",
    "            .set_index(\"event_num\")\n",
    "            .drop(\"pdg\", axis=1)\n",
    "        , rtol=0.01)\n",
    "    .sum(axis=1)\n",
    "    , return_counts=True\n",
    ")"
   ]
  },
  {
   "cell_type": "markdown",
   "metadata": {},
   "source": [
    "The number in the first array indicates how many of the 4-momentum components are within the given relative tolerance (rtol), while the number in the second array correspond to how many events have that number of components within the given relative tolerance.\n",
    "\n",
    "We have a large collection of 4 (all components close in value) and 0 (none of the components are close in value), with a few events in between.\n",
    "\n",
    "It is good that most events are 4, since that means that the 4-momentum is conserved.\n",
    "\n",
    "The ones with 0 correspond to when the electron is not in the event, but the electron neutrino and tau neutrino are."
   ]
  },
  {
   "cell_type": "markdown",
   "metadata": {},
   "source": [
    "We now want to check if only the electron is missing, or if there are other events that look strange."
   ]
  },
  {
   "cell_type": "code",
   "execution_count": 13,
   "metadata": {},
   "outputs": [],
   "source": [
    "no_e_events = (\n",
    "    particle_info\n",
    "    .groupby(\"event_num\")\n",
    "    .filter(\n",
    "        lambda df: set(np.abs(df.iloc[3:, 1]).tolist()) != {12, 16}\n",
    "    )\n",
    ")"
   ]
  },
  {
   "cell_type": "code",
   "execution_count": 17,
   "metadata": {},
   "outputs": [],
   "source": [
    "no_e_eventnum = no_e_events[\"event_num\"].unique()\n",
    "tau_no_e = taus[taus[\"event_num\"].isin(no_e_eventnum)]"
   ]
  },
  {
   "cell_type": "code",
   "execution_count": 18,
   "metadata": {},
   "outputs": [
    {
     "data": {
      "text/html": [
       "<div>\n",
       "<style scoped>\n",
       "    .dataframe tbody tr th:only-of-type {\n",
       "        vertical-align: middle;\n",
       "    }\n",
       "\n",
       "    .dataframe tbody tr th {\n",
       "        vertical-align: top;\n",
       "    }\n",
       "\n",
       "    .dataframe thead th {\n",
       "        text-align: right;\n",
       "    }\n",
       "</style>\n",
       "<table border=\"1\" class=\"dataframe\">\n",
       "  <thead>\n",
       "    <tr style=\"text-align: right;\">\n",
       "      <th></th>\n",
       "      <th>event_num</th>\n",
       "      <th>pdg</th>\n",
       "      <th>E</th>\n",
       "      <th>px</th>\n",
       "      <th>py</th>\n",
       "      <th>pz</th>\n",
       "    </tr>\n",
       "  </thead>\n",
       "  <tbody>\n",
       "    <tr>\n",
       "      <th>2</th>\n",
       "      <td>0</td>\n",
       "      <td>-15</td>\n",
       "      <td>3.251366</td>\n",
       "      <td>-0.023894</td>\n",
       "      <td>2.329548</td>\n",
       "      <td>1.409583</td>\n",
       "    </tr>\n",
       "    <tr>\n",
       "      <th>7</th>\n",
       "      <td>1</td>\n",
       "      <td>15</td>\n",
       "      <td>2.846514</td>\n",
       "      <td>-0.845274</td>\n",
       "      <td>-1.491209</td>\n",
       "      <td>1.416815</td>\n",
       "    </tr>\n",
       "    <tr>\n",
       "      <th>19</th>\n",
       "      <td>3</td>\n",
       "      <td>15</td>\n",
       "      <td>3.509529</td>\n",
       "      <td>-0.032933</td>\n",
       "      <td>-0.487587</td>\n",
       "      <td>-2.986784</td>\n",
       "    </tr>\n",
       "    <tr>\n",
       "      <th>26</th>\n",
       "      <td>4</td>\n",
       "      <td>15</td>\n",
       "      <td>3.555693</td>\n",
       "      <td>-0.230564</td>\n",
       "      <td>-0.218090</td>\n",
       "      <td>-3.063518</td>\n",
       "    </tr>\n",
       "    <tr>\n",
       "      <th>31</th>\n",
       "      <td>5</td>\n",
       "      <td>-15</td>\n",
       "      <td>3.758840</td>\n",
       "      <td>0.426761</td>\n",
       "      <td>3.153622</td>\n",
       "      <td>-0.918877</td>\n",
       "    </tr>\n",
       "    <tr>\n",
       "      <th>...</th>\n",
       "      <td>...</td>\n",
       "      <td>...</td>\n",
       "      <td>...</td>\n",
       "      <td>...</td>\n",
       "      <td>...</td>\n",
       "      <td>...</td>\n",
       "    </tr>\n",
       "    <tr>\n",
       "      <th>447098</th>\n",
       "      <td>76638</td>\n",
       "      <td>-15</td>\n",
       "      <td>1003.199894</td>\n",
       "      <td>-392.660182</td>\n",
       "      <td>-607.363024</td>\n",
       "      <td>-695.222992</td>\n",
       "    </tr>\n",
       "    <tr>\n",
       "      <th>447104</th>\n",
       "      <td>76639</td>\n",
       "      <td>15</td>\n",
       "      <td>5031.544231</td>\n",
       "      <td>-4776.946270</td>\n",
       "      <td>-1257.860435</td>\n",
       "      <td>-956.559277</td>\n",
       "    </tr>\n",
       "    <tr>\n",
       "      <th>447110</th>\n",
       "      <td>76640</td>\n",
       "      <td>-15</td>\n",
       "      <td>75.985685</td>\n",
       "      <td>56.916040</td>\n",
       "      <td>-50.301859</td>\n",
       "      <td>-0.977036</td>\n",
       "    </tr>\n",
       "    <tr>\n",
       "      <th>447116</th>\n",
       "      <td>76641</td>\n",
       "      <td>15</td>\n",
       "      <td>1999.051556</td>\n",
       "      <td>-973.289879</td>\n",
       "      <td>1030.714386</td>\n",
       "      <td>1409.446214</td>\n",
       "    </tr>\n",
       "    <tr>\n",
       "      <th>447120</th>\n",
       "      <td>76642</td>\n",
       "      <td>15</td>\n",
       "      <td>2128.943214</td>\n",
       "      <td>-1013.673964</td>\n",
       "      <td>-1313.010045</td>\n",
       "      <td>-1334.490828</td>\n",
       "    </tr>\n",
       "  </tbody>\n",
       "</table>\n",
       "<p>61573 rows × 6 columns</p>\n",
       "</div>"
      ],
      "text/plain": [
       "        event_num  pdg            E           px           py           pz\n",
       "2               0  -15     3.251366    -0.023894     2.329548     1.409583\n",
       "7               1   15     2.846514    -0.845274    -1.491209     1.416815\n",
       "19              3   15     3.509529    -0.032933    -0.487587    -2.986784\n",
       "26              4   15     3.555693    -0.230564    -0.218090    -3.063518\n",
       "31              5  -15     3.758840     0.426761     3.153622    -0.918877\n",
       "...           ...  ...          ...          ...          ...          ...\n",
       "447098      76638  -15  1003.199894  -392.660182  -607.363024  -695.222992\n",
       "447104      76639   15  5031.544231 -4776.946270 -1257.860435  -956.559277\n",
       "447110      76640  -15    75.985685    56.916040   -50.301859    -0.977036\n",
       "447116      76641   15  1999.051556  -973.289879  1030.714386  1409.446214\n",
       "447120      76642   15  2128.943214 -1013.673964 -1313.010045 -1334.490828\n",
       "\n",
       "[61573 rows x 6 columns]"
      ]
     },
     "execution_count": 18,
     "metadata": {},
     "output_type": "execute_result"
    }
   ],
   "source": [
    "tau_no_e"
   ]
  },
  {
   "cell_type": "code",
   "execution_count": 24,
   "metadata": {},
   "outputs": [
    {
     "data": {
      "text/plain": [
       "(array([0, 1, 3, 4]), array([ 3592,     7,    48, 57926]))"
      ]
     },
     "execution_count": 24,
     "metadata": {},
     "output_type": "execute_result"
    }
   ],
   "source": [
    "np.unique(np.isclose(no_e_events.drop(\"pdg\", axis=1).groupby(\"event_num\").nth[3:].groupby(\"event_num\").sum(), \n",
    "           tau_no_e.set_index(\"event_num\").drop(\"pdg\", axis=1), rtol=0.1).sum(axis=1), return_counts=True)"
   ]
  },
  {
   "cell_type": "markdown",
   "metadata": {},
   "source": [
    "There are still quite a lot of events that are not conserved. These will have to be investigated further."
   ]
  },
  {
   "cell_type": "code",
   "execution_count": 32,
   "metadata": {},
   "outputs": [],
   "source": [
    "n_correct_4m_components = np.isclose(\n",
    "    no_e_events.drop(\"pdg\", axis=1).groupby(\"event_num\").nth[3:].groupby(\"event_num\").sum(), \n",
    "    tau_no_e.set_index(\"event_num\").drop(\"pdg\", axis=1), \n",
    "    rtol=0.1\n",
    ").sum(axis=1)\n",
    "\n",
    "incorrect_event_num = tau_no_e[n_correct_4m_components == 0][\"event_num\"]"
   ]
  },
  {
   "cell_type": "code",
   "execution_count": 44,
   "metadata": {},
   "outputs": [
    {
     "data": {
      "text/html": [
       "<div>\n",
       "<style scoped>\n",
       "    .dataframe tbody tr th:only-of-type {\n",
       "        vertical-align: middle;\n",
       "    }\n",
       "\n",
       "    .dataframe tbody tr th {\n",
       "        vertical-align: top;\n",
       "    }\n",
       "\n",
       "    .dataframe thead th {\n",
       "        text-align: right;\n",
       "    }\n",
       "</style>\n",
       "<table border=\"1\" class=\"dataframe\">\n",
       "  <thead>\n",
       "    <tr style=\"text-align: right;\">\n",
       "      <th></th>\n",
       "      <th>event_num</th>\n",
       "      <th>pdg</th>\n",
       "      <th>E</th>\n",
       "      <th>px</th>\n",
       "      <th>py</th>\n",
       "      <th>pz</th>\n",
       "    </tr>\n",
       "  </thead>\n",
       "  <tbody>\n",
       "    <tr>\n",
       "      <th>85437</th>\n",
       "      <td>14462</td>\n",
       "      <td>16</td>\n",
       "      <td>0.455603</td>\n",
       "      <td>0.227081</td>\n",
       "      <td>0.366221</td>\n",
       "      <td>-0.147955</td>\n",
       "    </tr>\n",
       "    <tr>\n",
       "      <th>86869</th>\n",
       "      <td>14705</td>\n",
       "      <td>-16</td>\n",
       "      <td>1.741897</td>\n",
       "      <td>1.335788</td>\n",
       "      <td>-0.653086</td>\n",
       "      <td>0.907389</td>\n",
       "    </tr>\n",
       "    <tr>\n",
       "      <th>91144</th>\n",
       "      <td>15425</td>\n",
       "      <td>211</td>\n",
       "      <td>7.821918</td>\n",
       "      <td>4.661051</td>\n",
       "      <td>5.020981</td>\n",
       "      <td>3.771907</td>\n",
       "    </tr>\n",
       "    <tr>\n",
       "      <th>91145</th>\n",
       "      <td>15425</td>\n",
       "      <td>211</td>\n",
       "      <td>4.364382</td>\n",
       "      <td>2.741274</td>\n",
       "      <td>2.651072</td>\n",
       "      <td>2.117920</td>\n",
       "    </tr>\n",
       "    <tr>\n",
       "      <th>91146</th>\n",
       "      <td>15425</td>\n",
       "      <td>-16</td>\n",
       "      <td>1.072879</td>\n",
       "      <td>0.628553</td>\n",
       "      <td>0.511290</td>\n",
       "      <td>0.703260</td>\n",
       "    </tr>\n",
       "    <tr>\n",
       "      <th>...</th>\n",
       "      <td>...</td>\n",
       "      <td>...</td>\n",
       "      <td>...</td>\n",
       "      <td>...</td>\n",
       "      <td>...</td>\n",
       "      <td>...</td>\n",
       "    </tr>\n",
       "    <tr>\n",
       "      <th>447095</th>\n",
       "      <td>76637</td>\n",
       "      <td>16</td>\n",
       "      <td>1653.625432</td>\n",
       "      <td>1446.779545</td>\n",
       "      <td>-506.715352</td>\n",
       "      <td>620.117384</td>\n",
       "    </tr>\n",
       "    <tr>\n",
       "      <th>447111</th>\n",
       "      <td>76640</td>\n",
       "      <td>211</td>\n",
       "      <td>4.219130</td>\n",
       "      <td>3.109955</td>\n",
       "      <td>-2.847443</td>\n",
       "      <td>-0.042789</td>\n",
       "    </tr>\n",
       "    <tr>\n",
       "      <th>447112</th>\n",
       "      <td>76640</td>\n",
       "      <td>211</td>\n",
       "      <td>9.417698</td>\n",
       "      <td>7.102254</td>\n",
       "      <td>-6.182930</td>\n",
       "      <td>-0.053989</td>\n",
       "    </tr>\n",
       "    <tr>\n",
       "      <th>447113</th>\n",
       "      <td>76640</td>\n",
       "      <td>-16</td>\n",
       "      <td>29.920689</td>\n",
       "      <td>22.462416</td>\n",
       "      <td>-19.763846</td>\n",
       "      <td>0.279041</td>\n",
       "    </tr>\n",
       "    <tr>\n",
       "      <th>447117</th>\n",
       "      <td>76641</td>\n",
       "      <td>16</td>\n",
       "      <td>912.714463</td>\n",
       "      <td>-444.401917</td>\n",
       "      <td>470.147723</td>\n",
       "      <td>643.828972</td>\n",
       "    </tr>\n",
       "  </tbody>\n",
       "</table>\n",
       "<p>6267 rows × 6 columns</p>\n",
       "</div>"
      ],
      "text/plain": [
       "        event_num  pdg            E           px          py          pz\n",
       "85437       14462   16     0.455603     0.227081    0.366221   -0.147955\n",
       "86869       14705  -16     1.741897     1.335788   -0.653086    0.907389\n",
       "91144       15425  211     7.821918     4.661051    5.020981    3.771907\n",
       "91145       15425  211     4.364382     2.741274    2.651072    2.117920\n",
       "91146       15425  -16     1.072879     0.628553    0.511290    0.703260\n",
       "...           ...  ...          ...          ...         ...         ...\n",
       "447095      76637   16  1653.625432  1446.779545 -506.715352  620.117384\n",
       "447111      76640  211     4.219130     3.109955   -2.847443   -0.042789\n",
       "447112      76640  211     9.417698     7.102254   -6.182930   -0.053989\n",
       "447113      76640  -16    29.920689    22.462416  -19.763846    0.279041\n",
       "447117      76641   16   912.714463  -444.401917  470.147723  643.828972\n",
       "\n",
       "[6267 rows x 6 columns]"
      ]
     },
     "execution_count": 44,
     "metadata": {},
     "output_type": "execute_result"
    }
   ],
   "source": [
    "remaining_incorrect_events = no_e_events[no_e_events[\"event_num\"].isin(incorrect_event_num)]\n",
    "remaining_incorrect_events.groupby(\"event_num\").nth[3:]"
   ]
  },
  {
   "cell_type": "markdown",
   "metadata": {},
   "source": [
    "There seem to be mostly events where the tau decays to a tau neutrino and nothing else. \n",
    "\n",
    "I would guess that this is because the tau neutrino decays to two photons and a tau neutrino, and then the photons are not included.\n",
    "Since there are two particles that are unknown, it is not possible to determine their 4-momenta. They of course share half the missing energy each, but their directions are not known."
   ]
  },
  {
   "cell_type": "code",
   "execution_count": 43,
   "metadata": {},
   "outputs": [
    {
     "data": {
      "text/html": [
       "<div>\n",
       "<style scoped>\n",
       "    .dataframe tbody tr th:only-of-type {\n",
       "        vertical-align: middle;\n",
       "    }\n",
       "\n",
       "    .dataframe tbody tr th {\n",
       "        vertical-align: top;\n",
       "    }\n",
       "\n",
       "    .dataframe thead th {\n",
       "        text-align: right;\n",
       "    }\n",
       "</style>\n",
       "<table border=\"1\" class=\"dataframe\">\n",
       "  <thead>\n",
       "    <tr style=\"text-align: right;\">\n",
       "      <th></th>\n",
       "      <th>event_num</th>\n",
       "      <th>pdg</th>\n",
       "      <th>E</th>\n",
       "      <th>px</th>\n",
       "      <th>py</th>\n",
       "      <th>pz</th>\n",
       "    </tr>\n",
       "  </thead>\n",
       "  <tbody>\n",
       "    <tr>\n",
       "      <th>85434</th>\n",
       "      <td>14462</td>\n",
       "      <td>1000080160</td>\n",
       "      <td>14.895081</td>\n",
       "      <td>0.000000</td>\n",
       "      <td>0.000000</td>\n",
       "      <td>0.000000</td>\n",
       "    </tr>\n",
       "    <tr>\n",
       "      <th>85435</th>\n",
       "      <td>14462</td>\n",
       "      <td>16</td>\n",
       "      <td>32.364764</td>\n",
       "      <td>6.430823</td>\n",
       "      <td>23.039574</td>\n",
       "      <td>-21.801387</td>\n",
       "    </tr>\n",
       "    <tr>\n",
       "      <th>85436</th>\n",
       "      <td>14462</td>\n",
       "      <td>15</td>\n",
       "      <td>30.744208</td>\n",
       "      <td>5.603906</td>\n",
       "      <td>22.255583</td>\n",
       "      <td>-20.379756</td>\n",
       "    </tr>\n",
       "    <tr>\n",
       "      <th>85437</th>\n",
       "      <td>14462</td>\n",
       "      <td>16</td>\n",
       "      <td>0.455603</td>\n",
       "      <td>0.227081</td>\n",
       "      <td>0.366221</td>\n",
       "      <td>-0.147955</td>\n",
       "    </tr>\n",
       "  </tbody>\n",
       "</table>\n",
       "</div>"
      ],
      "text/plain": [
       "       event_num         pdg          E        px         py         pz\n",
       "85434      14462  1000080160  14.895081  0.000000   0.000000   0.000000\n",
       "85435      14462          16  32.364764  6.430823  23.039574 -21.801387\n",
       "85436      14462          15  30.744208  5.603906  22.255583 -20.379756\n",
       "85437      14462          16   0.455603  0.227081   0.366221  -0.147955"
      ]
     },
     "execution_count": 43,
     "metadata": {},
     "output_type": "execute_result"
    }
   ],
   "source": [
    "# Example:\n",
    "particle_info.query(\"event_num == 14462\")"
   ]
  },
  {
   "cell_type": "markdown",
   "metadata": {},
   "source": [
    "We now want to check the other events:"
   ]
  },
  {
   "cell_type": "code",
   "execution_count": 53,
   "metadata": {},
   "outputs": [],
   "source": [
    "remaining_incorrect_events2 = (\n",
    "    remaining_incorrect_events\n",
    "    .groupby(\"event_num\")\n",
    "    .filter(\n",
    "        lambda df: not (\n",
    "            (len(df.iloc[3:, 1]) == 1) \n",
    "            and (np.abs(df.iloc[3, 1]) == 16)\n",
    "        )\n",
    "    )\n",
    ")"
   ]
  },
  {
   "cell_type": "code",
   "execution_count": 58,
   "metadata": {},
   "outputs": [
    {
     "data": {
      "text/html": [
       "<div>\n",
       "<style scoped>\n",
       "    .dataframe tbody tr th:only-of-type {\n",
       "        vertical-align: middle;\n",
       "    }\n",
       "\n",
       "    .dataframe tbody tr th {\n",
       "        vertical-align: top;\n",
       "    }\n",
       "\n",
       "    .dataframe thead th {\n",
       "        text-align: right;\n",
       "    }\n",
       "</style>\n",
       "<table border=\"1\" class=\"dataframe\">\n",
       "  <thead>\n",
       "    <tr style=\"text-align: right;\">\n",
       "      <th></th>\n",
       "      <th>event_num</th>\n",
       "      <th>pdg</th>\n",
       "      <th>E</th>\n",
       "      <th>px</th>\n",
       "      <th>py</th>\n",
       "      <th>pz</th>\n",
       "    </tr>\n",
       "  </thead>\n",
       "  <tbody>\n",
       "    <tr>\n",
       "      <th>91904</th>\n",
       "      <td>15555</td>\n",
       "      <td>1000080160</td>\n",
       "      <td>14.895081</td>\n",
       "      <td>0.000000</td>\n",
       "      <td>0.000000</td>\n",
       "      <td>0.000000</td>\n",
       "    </tr>\n",
       "    <tr>\n",
       "      <th>91905</th>\n",
       "      <td>15555</td>\n",
       "      <td>16</td>\n",
       "      <td>47.054507</td>\n",
       "      <td>-7.615202</td>\n",
       "      <td>-19.700151</td>\n",
       "      <td>-42.048061</td>\n",
       "    </tr>\n",
       "    <tr>\n",
       "      <th>91906</th>\n",
       "      <td>15555</td>\n",
       "      <td>15</td>\n",
       "      <td>43.495663</td>\n",
       "      <td>-6.100936</td>\n",
       "      <td>-18.933855</td>\n",
       "      <td>-38.639401</td>\n",
       "    </tr>\n",
       "    <tr>\n",
       "      <th>91907</th>\n",
       "      <td>15555</td>\n",
       "      <td>111</td>\n",
       "      <td>9.426505</td>\n",
       "      <td>-0.809797</td>\n",
       "      <td>-3.802363</td>\n",
       "      <td>-8.586445</td>\n",
       "    </tr>\n",
       "    <tr>\n",
       "      <th>91908</th>\n",
       "      <td>15555</td>\n",
       "      <td>16</td>\n",
       "      <td>2.649729</td>\n",
       "      <td>-0.410884</td>\n",
       "      <td>-1.350791</td>\n",
       "      <td>-2.242232</td>\n",
       "    </tr>\n",
       "    <tr>\n",
       "      <th>...</th>\n",
       "      <td>...</td>\n",
       "      <td>...</td>\n",
       "      <td>...</td>\n",
       "      <td>...</td>\n",
       "      <td>...</td>\n",
       "      <td>...</td>\n",
       "    </tr>\n",
       "    <tr>\n",
       "      <th>447007</th>\n",
       "      <td>76619</td>\n",
       "      <td>2212</td>\n",
       "      <td>0.938270</td>\n",
       "      <td>0.000000</td>\n",
       "      <td>0.000000</td>\n",
       "      <td>0.000000</td>\n",
       "    </tr>\n",
       "    <tr>\n",
       "      <th>447008</th>\n",
       "      <td>76619</td>\n",
       "      <td>16</td>\n",
       "      <td>1168.397089</td>\n",
       "      <td>-1108.226844</td>\n",
       "      <td>182.089858</td>\n",
       "      <td>322.223995</td>\n",
       "    </tr>\n",
       "    <tr>\n",
       "      <th>447009</th>\n",
       "      <td>76619</td>\n",
       "      <td>15</td>\n",
       "      <td>559.871910</td>\n",
       "      <td>-530.591632</td>\n",
       "      <td>82.873574</td>\n",
       "      <td>158.296837</td>\n",
       "    </tr>\n",
       "    <tr>\n",
       "      <th>447010</th>\n",
       "      <td>76619</td>\n",
       "      <td>-211</td>\n",
       "      <td>21.691559</td>\n",
       "      <td>-20.524020</td>\n",
       "      <td>3.361495</td>\n",
       "      <td>6.161916</td>\n",
       "    </tr>\n",
       "    <tr>\n",
       "      <th>447011</th>\n",
       "      <td>76619</td>\n",
       "      <td>16</td>\n",
       "      <td>340.779546</td>\n",
       "      <td>-323.072629</td>\n",
       "      <td>49.750262</td>\n",
       "      <td>96.331131</td>\n",
       "    </tr>\n",
       "  </tbody>\n",
       "</table>\n",
       "<p>8931 rows × 6 columns</p>\n",
       "</div>"
      ],
      "text/plain": [
       "        event_num         pdg            E           px          py  \\\n",
       "91904       15555  1000080160    14.895081     0.000000    0.000000   \n",
       "91905       15555          16    47.054507    -7.615202  -19.700151   \n",
       "91906       15555          15    43.495663    -6.100936  -18.933855   \n",
       "91907       15555         111     9.426505    -0.809797   -3.802363   \n",
       "91908       15555          16     2.649729    -0.410884   -1.350791   \n",
       "...           ...         ...          ...          ...         ...   \n",
       "447007      76619        2212     0.938270     0.000000    0.000000   \n",
       "447008      76619          16  1168.397089 -1108.226844  182.089858   \n",
       "447009      76619          15   559.871910  -530.591632   82.873574   \n",
       "447010      76619        -211    21.691559   -20.524020    3.361495   \n",
       "447011      76619          16   340.779546  -323.072629   49.750262   \n",
       "\n",
       "                pz  \n",
       "91904     0.000000  \n",
       "91905   -42.048061  \n",
       "91906   -38.639401  \n",
       "91907    -8.586445  \n",
       "91908    -2.242232  \n",
       "...            ...  \n",
       "447007    0.000000  \n",
       "447008  322.223995  \n",
       "447009  158.296837  \n",
       "447010    6.161916  \n",
       "447011   96.331131  \n",
       "\n",
       "[8931 rows x 6 columns]"
      ]
     },
     "execution_count": 58,
     "metadata": {},
     "output_type": "execute_result"
    }
   ],
   "source": [
    "remaining_incorrect_events2.groupby(\"event_num\").filter(lambda df: sorted(np.abs(df.iloc[3:, 1]).tolist()) != [16, 211, 211])"
   ]
  },
  {
   "cell_type": "code",
   "execution_count": 70,
   "metadata": {},
   "outputs": [
    {
     "data": {
      "text/plain": [
       "{(-211, -211, 16),\n",
       " (-211, -16),\n",
       " (-211, 16),\n",
       " (-211, 211, 16),\n",
       " (-16, 211),\n",
       " (16, -211),\n",
       " (111, -211, 16),\n",
       " (111, -16),\n",
       " (111, 16),\n",
       " (111, 111, -16),\n",
       " (111, 111, 16),\n",
       " (111, 211, -16),\n",
       " (211, -211, -16),\n",
       " (211, -16),\n",
       " (211, 16),\n",
       " (211, 211, -16)}"
      ]
     },
     "execution_count": 70,
     "metadata": {},
     "output_type": "execute_result"
    }
   ],
   "source": [
    "set(tuple(a.tolist()) for i, a in remaining_incorrect_events2.groupby(\"event_num\").nth[3:].groupby(\"event_num\")[\"pdg\"])"
   ]
  },
  {
   "cell_type": "markdown",
   "metadata": {},
   "source": [
    "Decay modes that seem to be strange:\n",
    "\n",
    "16\n",
    "\n",
    "12, 16\n",
    "\n",
    "211, 16\n",
    "\n",
    "111, 16\n",
    "\n",
    "211, 211, 16\n",
    "\n",
    "111, 211, 16\n",
    "\n",
    "111, 111, 16"
   ]
  },
  {
   "cell_type": "markdown",
   "metadata": {},
   "source": [
    "## Branching ratios\n",
    "Check branching ratios of the various decay modes to see if it matches what we expect from e.g., PDG"
   ]
  },
  {
   "cell_type": "code",
   "execution_count": 72,
   "metadata": {},
   "outputs": [],
   "source": [
    "from collections import Counter"
   ]
  },
  {
   "cell_type": "code",
   "execution_count": 81,
   "metadata": {},
   "outputs": [],
   "source": [
    "c = Counter(tuple(sorted(a.tolist())) for i, a in particle_info.groupby(\"event_num\").nth[2:].groupby(\"event_num\")[\"pdg\"])"
   ]
  },
  {
   "cell_type": "code",
   "execution_count": 83,
   "metadata": {},
   "outputs": [
    {
     "data": {
      "text/plain": [
       "{(-16, -15, 211): 0.03516302858708558,\n",
       " (-211, -211, 15, 16, 211): 0.06908654410709393,\n",
       " (-12, 15, 16): 0.13414140886969456,\n",
       " (-211, 15, 16, 111, 111): 0.06821236120715525,\n",
       " (-211, 15, 16): 0.08157300731965085,\n",
       " (-16, -15, 111, 111, 211): 0.029343840924807223,\n",
       " (-16, -15, 12): 0.062484506086661534,\n",
       " (-211, 15, 16, 111): 0.18600524509739963,\n",
       " (-14, 13, 15, 16): 0.1315840976997247,\n",
       " (-16, -15, 111, 211): 0.0812859621883277,\n",
       " (-16, -15, -13, 14): 0.05478647756481349,\n",
       " (-211, -16, -15, 211, 211): 0.03064859152173062,\n",
       " (-12, 11, 15, 16): 0.0006001852745847632,\n",
       " (-16, -15, -11, 12): 0.0001957125895385097,\n",
       " (15, 16): 0.01298226843938781,\n",
       " (-16, -15): 0.007528410944248007,\n",
       " (-16, -15, 211, 211): 0.0005219002387693593,\n",
       " (15, 16, 111): 0.0058061401563091215,\n",
       " (-211, -16, -15, 211): 0.0009263729238156126,\n",
       " (-16, -15, 111, 111): 0.0003914251790770194,\n",
       " (-211, 15, 16, 211): 0.0017875083177850554,\n",
       " (-16, -15, 111): 0.002700833735631434,\n",
       " (15, 16, 111, 111): 0.0008219928760617409,\n",
       " (-211, -211, 15, 16): 0.0008741828999386767,\n",
       " (15, 16, 211): 0.0002870451313231476,\n",
       " (-211, -16, -15): 0.00026095011938467963}"
      ]
     },
     "execution_count": 83,
     "metadata": {},
     "output_type": "execute_result"
    }
   ],
   "source": [
    "br = {decay_products: n/(particle_info[\"event_num\"].iloc[-1]+1) for decay_products, n in c.items()}\n",
    "br"
   ]
  },
  {
   "cell_type": "markdown",
   "metadata": {},
   "source": [
    "### Nucleus"
   ]
  },
  {
   "cell_type": "code",
   "execution_count": 9,
   "metadata": {},
   "outputs": [],
   "source": [
    "nucleus = particle_info.groupby(\"event_num\").first()"
   ]
  },
  {
   "cell_type": "code",
   "execution_count": 11,
   "metadata": {},
   "outputs": [
    {
     "data": {
      "text/plain": [
       "pdg\n",
       "1000080160    69412\n",
       "2212           7231\n",
       "Name: count, dtype: int64"
      ]
     },
     "execution_count": 11,
     "metadata": {},
     "output_type": "execute_result"
    }
   ],
   "source": [
    "nucleus.pdg.value_counts()"
   ]
  },
  {
   "cell_type": "code",
   "execution_count": 12,
   "metadata": {},
   "outputs": [
    {
     "data": {
      "text/plain": [
       "E\n",
       "14.895081    69412\n",
       "0.938270      7231\n",
       "Name: count, dtype: int64"
      ]
     },
     "execution_count": 12,
     "metadata": {},
     "output_type": "execute_result"
    }
   ],
   "source": [
    "nucleus.E.value_counts()"
   ]
  },
  {
   "cell_type": "markdown",
   "metadata": {},
   "source": [
    "We mostly have interactions with the oxygen nucleus, but we also have a few with a proton, i.e., hydrogen nucleus. This looks reasonable.\n",
    "\n",
    "The energy is also what we expect."
   ]
  },
  {
   "cell_type": "markdown",
   "metadata": {},
   "source": [
    "## Analyze event information\n",
    "Just for sanity checks"
   ]
  },
  {
   "cell_type": "code",
   "execution_count": 100,
   "metadata": {},
   "outputs": [
    {
     "data": {
      "text/plain": [
       "event_num    2.937036e+09\n",
       "cc           7.664300e+04\n",
       "dis          4.067000e+04\n",
       "qel          1.594000e+04\n",
       "res          2.001700e+04\n",
       "xsec         8.392645e+06\n",
       "dtype: float64"
      ]
     },
     "execution_count": 100,
     "metadata": {},
     "output_type": "execute_result"
    }
   ],
   "source": [
    "event_info.sum(axis=0)"
   ]
  },
  {
   "cell_type": "markdown",
   "metadata": {},
   "source": [
    "There seems to be the same order of magnitude of DIS, QEL and RES events, with a majority of DIS events."
   ]
  },
  {
   "cell_type": "code",
   "execution_count": 102,
   "metadata": {},
   "outputs": [
    {
     "data": {
      "text/plain": [
       "True"
      ]
     },
     "execution_count": 102,
     "metadata": {},
     "output_type": "execute_result"
    }
   ],
   "source": [
    "event_info[\"cc\"].all()"
   ]
  },
  {
   "cell_type": "markdown",
   "metadata": {},
   "source": [
    "All events are CC, which is good since those are the only ones we are interested in."
   ]
  }
 ],
 "metadata": {
  "kernelspec": {
   "display_name": "cern-skhep",
   "language": "python",
   "name": "python3"
  },
  "language_info": {
   "codemirror_mode": {
    "name": "ipython",
    "version": 3
   },
   "file_extension": ".py",
   "mimetype": "text/x-python",
   "name": "python",
   "nbconvert_exporter": "python",
   "pygments_lexer": "ipython3",
   "version": "3.11.4"
  }
 },
 "nbformat": 4,
 "nbformat_minor": 2
}
