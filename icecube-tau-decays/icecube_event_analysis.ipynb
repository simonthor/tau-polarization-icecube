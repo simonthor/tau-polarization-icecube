{
 "cells": [
  {
   "cell_type": "code",
   "execution_count": 17,
   "metadata": {},
   "outputs": [],
   "source": [
    "import numpy as np\n",
    "import matplotlib.pyplot as plt\n",
    "import csv\n",
    "import pyhepmc\n",
    "import pandas as pd\n",
    "from collections import Counter\n",
    "from pprint import pprint\n",
    "import sys\n",
    "sys.path.append(\"../\")\n",
    "from utils import branching_ratios\n",
    "import matplotlib"
   ]
  },
  {
   "cell_type": "markdown",
   "metadata": {},
   "source": [
    "## Analyze events with polarization"
   ]
  },
  {
   "cell_type": "code",
   "execution_count": 48,
   "metadata": {},
   "outputs": [],
   "source": [
    "particle_infos = {e: pd.read_csv(f\"../data/test_genie_NuTau_{e}.0_GeV_particles.csv\") for e in [5, 10, 20, 50, 100]}\n",
    "event_infos = {e: pd.read_csv(f\"../data/test_genie_NuTau_{e}.0_GeV_event_info.csv\") for e in [5, 10, 20, 50, 100]}"
   ]
  },
  {
   "cell_type": "code",
   "execution_count": 49,
   "metadata": {},
   "outputs": [
    {
     "data": {
      "text/html": [
       "<div>\n",
       "<style scoped>\n",
       "    .dataframe tbody tr th:only-of-type {\n",
       "        vertical-align: middle;\n",
       "    }\n",
       "\n",
       "    .dataframe tbody tr th {\n",
       "        vertical-align: top;\n",
       "    }\n",
       "\n",
       "    .dataframe thead th {\n",
       "        text-align: right;\n",
       "    }\n",
       "</style>\n",
       "<table border=\"1\" class=\"dataframe\">\n",
       "  <thead>\n",
       "    <tr style=\"text-align: right;\">\n",
       "      <th></th>\n",
       "      <th>event_num</th>\n",
       "      <th>pdg</th>\n",
       "      <th>E</th>\n",
       "      <th>px</th>\n",
       "      <th>py</th>\n",
       "      <th>pz</th>\n",
       "      <th>polx</th>\n",
       "      <th>poly</th>\n",
       "      <th>polz</th>\n",
       "    </tr>\n",
       "  </thead>\n",
       "  <tbody>\n",
       "    <tr>\n",
       "      <th>0</th>\n",
       "      <td>0</td>\n",
       "      <td>1000080160</td>\n",
       "      <td>14.895082</td>\n",
       "      <td>0.000000</td>\n",
       "      <td>0.000000</td>\n",
       "      <td>0.000000</td>\n",
       "      <td>NaN</td>\n",
       "      <td>NaN</td>\n",
       "      <td>NaN</td>\n",
       "    </tr>\n",
       "    <tr>\n",
       "      <th>1</th>\n",
       "      <td>0</td>\n",
       "      <td>16</td>\n",
       "      <td>5.000000</td>\n",
       "      <td>0.000000</td>\n",
       "      <td>0.000000</td>\n",
       "      <td>5.000000</td>\n",
       "      <td>0.000000</td>\n",
       "      <td>0.000000</td>\n",
       "      <td>0.000000</td>\n",
       "    </tr>\n",
       "    <tr>\n",
       "      <th>2</th>\n",
       "      <td>0</td>\n",
       "      <td>15</td>\n",
       "      <td>3.903152</td>\n",
       "      <td>-0.404374</td>\n",
       "      <td>-0.448013</td>\n",
       "      <td>3.422466</td>\n",
       "      <td>-0.128915</td>\n",
       "      <td>0.116357</td>\n",
       "      <td>-0.984806</td>\n",
       "    </tr>\n",
       "    <tr>\n",
       "      <th>3</th>\n",
       "      <td>0</td>\n",
       "      <td>11</td>\n",
       "      <td>1.192467</td>\n",
       "      <td>0.221610</td>\n",
       "      <td>-0.264795</td>\n",
       "      <td>1.141380</td>\n",
       "      <td>NaN</td>\n",
       "      <td>NaN</td>\n",
       "      <td>NaN</td>\n",
       "    </tr>\n",
       "    <tr>\n",
       "      <th>4</th>\n",
       "      <td>0</td>\n",
       "      <td>-12</td>\n",
       "      <td>2.320251</td>\n",
       "      <td>-0.895265</td>\n",
       "      <td>-0.402346</td>\n",
       "      <td>2.102423</td>\n",
       "      <td>NaN</td>\n",
       "      <td>NaN</td>\n",
       "      <td>NaN</td>\n",
       "    </tr>\n",
       "    <tr>\n",
       "      <th>5</th>\n",
       "      <td>0</td>\n",
       "      <td>16</td>\n",
       "      <td>0.390469</td>\n",
       "      <td>0.269274</td>\n",
       "      <td>0.219157</td>\n",
       "      <td>0.178684</td>\n",
       "      <td>NaN</td>\n",
       "      <td>NaN</td>\n",
       "      <td>NaN</td>\n",
       "    </tr>\n",
       "    <tr>\n",
       "      <th>6</th>\n",
       "      <td>1</td>\n",
       "      <td>1000080160</td>\n",
       "      <td>14.895082</td>\n",
       "      <td>0.000000</td>\n",
       "      <td>0.000000</td>\n",
       "      <td>0.000000</td>\n",
       "      <td>NaN</td>\n",
       "      <td>NaN</td>\n",
       "      <td>NaN</td>\n",
       "    </tr>\n",
       "    <tr>\n",
       "      <th>7</th>\n",
       "      <td>1</td>\n",
       "      <td>16</td>\n",
       "      <td>5.000000</td>\n",
       "      <td>0.000000</td>\n",
       "      <td>0.000000</td>\n",
       "      <td>5.000000</td>\n",
       "      <td>0.000000</td>\n",
       "      <td>0.000000</td>\n",
       "      <td>0.000000</td>\n",
       "    </tr>\n",
       "    <tr>\n",
       "      <th>8</th>\n",
       "      <td>1</td>\n",
       "      <td>15</td>\n",
       "      <td>4.783084</td>\n",
       "      <td>0.080610</td>\n",
       "      <td>-0.132914</td>\n",
       "      <td>4.438090</td>\n",
       "      <td>-0.029930</td>\n",
       "      <td>-0.018152</td>\n",
       "      <td>-0.999387</td>\n",
       "    </tr>\n",
       "    <tr>\n",
       "      <th>9</th>\n",
       "      <td>1</td>\n",
       "      <td>-211</td>\n",
       "      <td>2.350075</td>\n",
       "      <td>-0.774235</td>\n",
       "      <td>0.276101</td>\n",
       "      <td>2.197203</td>\n",
       "      <td>NaN</td>\n",
       "      <td>NaN</td>\n",
       "      <td>NaN</td>\n",
       "    </tr>\n",
       "    <tr>\n",
       "      <th>10</th>\n",
       "      <td>1</td>\n",
       "      <td>16</td>\n",
       "      <td>2.433048</td>\n",
       "      <td>0.854794</td>\n",
       "      <td>-0.409107</td>\n",
       "      <td>2.240911</td>\n",
       "      <td>NaN</td>\n",
       "      <td>NaN</td>\n",
       "      <td>NaN</td>\n",
       "    </tr>\n",
       "    <tr>\n",
       "      <th>11</th>\n",
       "      <td>2</td>\n",
       "      <td>1000080160</td>\n",
       "      <td>14.895082</td>\n",
       "      <td>0.000000</td>\n",
       "      <td>0.000000</td>\n",
       "      <td>0.000000</td>\n",
       "      <td>NaN</td>\n",
       "      <td>NaN</td>\n",
       "      <td>NaN</td>\n",
       "    </tr>\n",
       "    <tr>\n",
       "      <th>12</th>\n",
       "      <td>2</td>\n",
       "      <td>16</td>\n",
       "      <td>5.000000</td>\n",
       "      <td>0.000000</td>\n",
       "      <td>0.000000</td>\n",
       "      <td>5.000000</td>\n",
       "      <td>0.000000</td>\n",
       "      <td>0.000000</td>\n",
       "      <td>0.000000</td>\n",
       "    </tr>\n",
       "    <tr>\n",
       "      <th>13</th>\n",
       "      <td>2</td>\n",
       "      <td>15</td>\n",
       "      <td>4.271815</td>\n",
       "      <td>-0.674405</td>\n",
       "      <td>-0.013912</td>\n",
       "      <td>3.825742</td>\n",
       "      <td>-0.003581</td>\n",
       "      <td>0.173603</td>\n",
       "      <td>-0.984809</td>\n",
       "    </tr>\n",
       "    <tr>\n",
       "      <th>14</th>\n",
       "      <td>2</td>\n",
       "      <td>11</td>\n",
       "      <td>1.261989</td>\n",
       "      <td>0.295835</td>\n",
       "      <td>0.384840</td>\n",
       "      <td>1.164902</td>\n",
       "      <td>NaN</td>\n",
       "      <td>NaN</td>\n",
       "      <td>NaN</td>\n",
       "    </tr>\n",
       "  </tbody>\n",
       "</table>\n",
       "</div>"
      ],
      "text/plain": [
       "    event_num         pdg          E        px        py        pz      polx  \\\n",
       "0           0  1000080160  14.895082  0.000000  0.000000  0.000000       NaN   \n",
       "1           0          16   5.000000  0.000000  0.000000  5.000000  0.000000   \n",
       "2           0          15   3.903152 -0.404374 -0.448013  3.422466 -0.128915   \n",
       "3           0          11   1.192467  0.221610 -0.264795  1.141380       NaN   \n",
       "4           0         -12   2.320251 -0.895265 -0.402346  2.102423       NaN   \n",
       "5           0          16   0.390469  0.269274  0.219157  0.178684       NaN   \n",
       "6           1  1000080160  14.895082  0.000000  0.000000  0.000000       NaN   \n",
       "7           1          16   5.000000  0.000000  0.000000  5.000000  0.000000   \n",
       "8           1          15   4.783084  0.080610 -0.132914  4.438090 -0.029930   \n",
       "9           1        -211   2.350075 -0.774235  0.276101  2.197203       NaN   \n",
       "10          1          16   2.433048  0.854794 -0.409107  2.240911       NaN   \n",
       "11          2  1000080160  14.895082  0.000000  0.000000  0.000000       NaN   \n",
       "12          2          16   5.000000  0.000000  0.000000  5.000000  0.000000   \n",
       "13          2          15   4.271815 -0.674405 -0.013912  3.825742 -0.003581   \n",
       "14          2          11   1.261989  0.295835  0.384840  1.164902       NaN   \n",
       "\n",
       "        poly      polz  \n",
       "0        NaN       NaN  \n",
       "1   0.000000  0.000000  \n",
       "2   0.116357 -0.984806  \n",
       "3        NaN       NaN  \n",
       "4        NaN       NaN  \n",
       "5        NaN       NaN  \n",
       "6        NaN       NaN  \n",
       "7   0.000000  0.000000  \n",
       "8  -0.018152 -0.999387  \n",
       "9        NaN       NaN  \n",
       "10       NaN       NaN  \n",
       "11       NaN       NaN  \n",
       "12  0.000000  0.000000  \n",
       "13  0.173603 -0.984809  \n",
       "14       NaN       NaN  "
      ]
     },
     "execution_count": 49,
     "metadata": {},
     "output_type": "execute_result"
    }
   ],
   "source": [
    "particle_infos[5].head(15)"
   ]
  },
  {
   "cell_type": "code",
   "execution_count": 51,
   "metadata": {},
   "outputs": [
    {
     "name": "stdout",
     "output_type": "stream",
     "text": [
      "Energy: 5 GeV\n",
      "Number of events: 17881\n",
      "(array([2, 3, 4]), array([   57,  1352, 16472]))\n",
      "{(-211, 16, 111): 0.2819752810245512,\n",
      " (-12, 11, 16): 0.19646552206252446,\n",
      " (-14, 13, 16): 0.19098484424808457,\n",
      " (-211, 16): 0.12762149767910072,\n",
      " (-211, -211, 16, 211): 0.10368547620379173,\n",
      " (-211, 16, 111, 111): 0.09926737878194732}\n",
      "Number of taus with 0 polarization: 0\n",
      "number of events with 0 polx, poly, polz: 0\n",
      "Number of taus with NaN polarization: 0\n",
      "Number of taus with 1 polarization: 17881\n",
      "\n",
      "Energy: 10 GeV\n",
      "Number of events: 42493\n",
      "(array([2, 3, 4]), array([   66,  2509, 39918]))\n",
      "{(-211, 16, 111): 0.28416445061539547,\n",
      " (-12, 11, 16): 0.1957028216412115,\n",
      " (-14, 13, 16): 0.18989009954580754,\n",
      " (-211, 16): 0.12303202880474431,\n",
      " (-211, -211, 16, 211): 0.1052408632009978,\n",
      " (-211, 16, 111, 111): 0.10196973619184337}\n",
      "Number of taus with 0 polarization: 0\n",
      "number of events with 0 polx, poly, polz: 0\n",
      "Number of taus with NaN polarization: 0\n",
      "Number of taus with 1 polarization: 42493\n",
      "\n",
      "Energy: 20 GeV\n",
      "Number of events: 56282\n",
      "(array([2, 3, 4]), array([   79,  3091, 53112]))\n",
      "{(-211, 16, 111): 0.2789879535197754,\n",
      " (-12, 11, 16): 0.19837603496677444,\n",
      " (-14, 13, 16): 0.1911445932980349,\n",
      " (-211, 16): 0.12355637681674425,\n",
      " (-211, -211, 16, 211): 0.1053089797803916,\n",
      " (-211, 16, 111, 111): 0.10262606161827938}\n",
      "Number of taus with 0 polarization: 0\n",
      "number of events with 0 polx, poly, polz: 0\n",
      "Number of taus with NaN polarization: 0\n",
      "Number of taus with 1 polarization: 56282\n",
      "\n",
      "Energy: 50 GeV\n",
      "Number of events: 66363\n",
      "(array([2, 3, 4]), array([   68,  3280, 63015]))\n",
      "{(-211, 16, 111): 0.28347121136778025,\n",
      " (-12, 11, 16): 0.1963142112321625,\n",
      " (-14, 13, 16): 0.19248677727046698,\n",
      " (-211, 16): 0.12344227958350286,\n",
      " (-211, -211, 16, 211): 0.10326537377755678,\n",
      " (-211, 16, 111, 111): 0.10102014676853066}\n",
      "Number of taus with 0 polarization: 0\n",
      "number of events with 0 polx, poly, polz: 0\n",
      "Number of taus with NaN polarization: 0\n",
      "Number of taus with 1 polarization: 66363\n",
      "\n",
      "Energy: 100 GeV\n",
      "Number of events: 70092\n",
      "(array([2, 3, 4]), array([   67,  3403, 66622]))\n",
      "{(-211, 16, 111): 0.28334189351138506,\n",
      " (-12, 11, 16): 0.19769731210409178,\n",
      " (-14, 13, 16): 0.1889659304913542,\n",
      " (-211, 16): 0.12329509787136905,\n",
      " (-211, -211, 16, 211): 0.10531872396279177,\n",
      " (-211, 16, 111, 111): 0.10138104205900816}\n",
      "Number of taus with 0 polarization: 0\n",
      "number of events with 0 polx, poly, polz: 0\n",
      "Number of taus with NaN polarization: 0\n",
      "Number of taus with 1 polarization: 70092\n",
      "\n"
     ]
    }
   ],
   "source": [
    "def sanity_checks(particle_info: pd.DataFrame):\n",
    "    # Check if there are any events where two taus are produced\n",
    "    # There should not be any\n",
    "    assert not (particle_info[np.abs(particle_info['pdg']) == 15].groupby(\"event_num\").count() > 1).any().any()\n",
    "\n",
    "    taus = particle_info[np.abs(particle_info[\"pdg\"]) == 15]\n",
    "    # assert (taus[\"event_num\"] == np.arange(len(taus))).all()\n",
    "    print(\"Number of events:\", len(taus))\n",
    "    # Print the 4-momentum conservation between tau and its decay products\n",
    "    print(\n",
    "        np.unique(\n",
    "            np.isclose(\n",
    "                particle_info\n",
    "                    .drop([\"pdg\", \"polx\", \"poly\", \"polz\"], axis=1)\n",
    "                    .groupby(\"event_num\")\n",
    "                    .nth[3:]\n",
    "                    .groupby(\"event_num\")\n",
    "                    .sum(), \n",
    "                taus\n",
    "                    .set_index(\"event_num\")\n",
    "                    .drop([\"pdg\", \"polx\", \"poly\", \"polz\"], axis=1)\n",
    "                , rtol=0.01)\n",
    "            .sum(axis=1)\n",
    "            , return_counts=True\n",
    "        )\n",
    "    )\n",
    "\n",
    "    # Print the branching ratios\n",
    "    br = branching_ratios(particle_info.groupby(\"event_num\").nth[3:])\n",
    "    pprint(br, sort_dicts=False)\n",
    "    # Geant4 only implements 6 decay modes for the tau\n",
    "    assert len(br) == 6, br\n",
    "\n",
    "    branching_ratios(particle_info.groupby(\"event_num\").nth[3:])\n",
    "\n",
    "    # Check that for every event with a tau there is a tau neutrino, and vice versa for anti-tau\n",
    "    # TODO speed up this code by removing the for-loop\n",
    "    assert particle_info.groupby(\"event_num\")[\"pdg\"].agg(lambda values, index: np.all(values[np.abs(values) == 15] * values[np.abs(values) == 16] > 0), engine=\"numba\").all()\n",
    "\n",
    "    # Check that the nucleus is either 1000080160 or 2212\n",
    "    nucleus = particle_info.groupby(\"event_num\").first().iloc[:, 0]\n",
    "    assert (nucleus == 1000080160).sum() + (nucleus == 2212).sum() == len(nucleus), nucleus\n",
    "\n",
    "    # Check that the polarization vectors for the tau are either 0 or 1 in magnitude\n",
    "    tau_pol_mag = taus[[\"polx\", \"poly\", \"polz\"]].pow(2).sum(axis=1)\n",
    "    assert np.isclose(tau_pol_mag[tau_pol_mag != 0], 1).all()\n",
    "    assert not tau_pol_mag.isnull().any()\n",
    "    print(\"Number of taus with 0 polarization:\", (tau_pol_mag == 0).sum())\n",
    "    print(\"number of events with 0 polx, poly, polz:\", (particle_info.query(\"pdg == 15\")[[\"polx\", \"poly\", \"polz\"]] == 0).all(axis=1).sum())\n",
    "    print(\"Number of taus with NaN polarization:\", (tau_pol_mag.isnull()).sum())\n",
    "    print(\"Number of taus with 1 polarization:\", np.isclose(tau_pol_mag, 1).sum())\n",
    "\n",
    "    incoming_nutau = particle_info.groupby(\"event_num\").nth(1)\n",
    "    # Check that the incoming neutrinos are tau neutrinos\n",
    "    assert set(incoming_nutau[\"pdg\"].unique().tolist()) <= {16, -16}\n",
    "    # Check that the polarization vectors for all incoming neutrinos are 0\n",
    "    assert (particle_info.groupby(\"event_num\").nth(1)[[\"polx\", \"poly\", \"polz\"]] == 0).all().all()\n",
    "    # Check that all incoming neutrinos have the same 4-momenta\n",
    "    assert (incoming_nutau[[\"E\", \"px\", \"py\", \"pz\"]] == incoming_nutau.iloc[0][[\"E\", \"px\", \"py\", \"pz\"]]).all(axis=0).all()\n",
    "    \n",
    "    # Check that the polarization vectors for all other particles are 0\n",
    "    assert particle_info.drop(incoming_nutau.index, axis=0).query(\"pdg != 15\")[[\"polx\", \"poly\", \"polz\"]].isnull().all().all(), particle_info.drop(incoming_nutau.index, axis=0).query(\"(pdg != 15) and (polx.notnull() or poly.notnull() or polz.notnull())\")\n",
    "\n",
    "for e, particle_info in particle_infos.items():\n",
    "    print(f\"Energy: {e} GeV\")\n",
    "    sanity_checks(particle_info)\n",
    "    print()"
   ]
  },
  {
   "cell_type": "code",
   "execution_count": 54,
   "metadata": {},
   "outputs": [
    {
     "name": "stdout",
     "output_type": "stream",
     "text": [
      "E = 5 GeV\n",
      "dis        0.0\n",
      "qel     9682.0\n",
      "res     8199.0\n",
      "nuel       0.0\n",
      "coh        0.0\n",
      "dfr        0.0\n",
      "imd        0.0\n",
      "dtype: float64\n",
      "E = 10 GeV\n",
      "dis     21386.0\n",
      "qel      7006.0\n",
      "res     14101.0\n",
      "nuel        0.0\n",
      "coh         0.0\n",
      "dfr         0.0\n",
      "imd         0.0\n",
      "dtype: float64\n",
      "E = 20 GeV\n",
      "dis     45583.0\n",
      "qel      3396.0\n",
      "res      7303.0\n",
      "nuel        0.0\n",
      "coh         0.0\n",
      "dfr         0.0\n",
      "imd         0.0\n",
      "dtype: float64\n",
      "E = 50 GeV\n",
      "dis     62488.0\n",
      "qel      1166.0\n",
      "res      2633.0\n",
      "nuel        0.0\n",
      "coh        76.0\n",
      "dfr         0.0\n",
      "imd         0.0\n",
      "dtype: float64\n",
      "E = 100 GeV\n",
      "dis     68380.0\n",
      "qel       474.0\n",
      "res      1184.0\n",
      "nuel        0.0\n",
      "coh        55.0\n",
      "dfr         0.0\n",
      "imd         0.0\n",
      "dtype: float64\n"
     ]
    }
   ],
   "source": [
    "for e, event_info in event_infos.items():\n",
    "    # Cross section should be > 0\n",
    "    assert event_info[\"xsec\"].all() > 0\n",
    "    # All events should be charge-current\n",
    "    assert event_info[\"cc\"].all()\n",
    "\n",
    "    # Number of events for each interaction type\n",
    "    print(\"E =\", e, \"GeV\")\n",
    "    print(event_info.sum(axis=0).drop([\"event_num\", \"xsec\", \"cc\"]))\n",
    "    # All events should either be DIS, quasi-elastic or resonance scattering\n",
    "    # assert (event_info[[\"dis\", \"qel\", \"res\"]].sum(axis=1) == 1).all(), event_info.query(\"(dis == 0) and (qel == 0) and (res == 0)\")\n",
    "    # print(event_info.query(\"(dis == 0) and (qel == 0) and (res == 0)\").sum(axis=0).drop([\"event_num\", \"xsec\", \"cc\"]))"
   ]
  },
  {
   "cell_type": "markdown",
   "metadata": {},
   "source": [
    "4-momentum seems to be mostly conserved down to the 1% level."
   ]
  },
  {
   "cell_type": "markdown",
   "metadata": {},
   "source": [
    "### Analyze polarization of events"
   ]
  },
  {
   "cell_type": "code",
   "execution_count": 11,
   "metadata": {},
   "outputs": [
    {
     "data": {
      "image/png": "[encoded data removed]",
      "text/plain": [
       "<Figure size 1000x1500 with 15 Axes>"
      ]
     },
     "metadata": {},
     "output_type": "display_data"
    }
   ],
   "source": [
    "## Polarization\n",
    "# Investigate how may of the tau leptons are polarized and how much\n",
    "fig, axs = plt.subplots(ncols=3, nrows=len(particle_infos), figsize=(10,3*len(particle_infos)), layout=\"constrained\")\n",
    "\n",
    "for (e, p), ax_row in zip(particle_infos.items(), axs):\n",
    "    taus = p.query(\"pdg == 15\")\n",
    "    for ax, axis in zip(ax_row, [\"x\", \"y\", \"z\"]):\n",
    "        ax.hist(taus[f\"pol{axis}\"], bins=np.linspace(-1, 1, 100))\n",
    "        ax.set(xlabel=axis, ylabel=\"Count\")\n",
    "        ax.grid(True)"
   ]
  },
  {
   "cell_type": "code",
   "execution_count": 16,
   "metadata": {},
   "outputs": [
    {
     "data": {
      "image/png": "[encoded data removed]",
      "text/plain": [
       "<Figure size 1500x200 with 10 Axes>"
      ]
     },
     "metadata": {},
     "output_type": "display_data"
    }
   ],
   "source": [
    "fig, axs = plt.subplots(ncols=len(particle_infos), figsize=(3*len(particle_infos), 2), layout=\"constrained\")\n",
    "\n",
    "for (e, p), ax in zip(particle_infos.items(), axs):\n",
    "    # Plot a 2D histogram of the polarization, with pz as one component and the transverse polarization as the other\n",
    "    *_, im = ax.hist2d(taus[\"polz\"], np.sqrt(taus[\"polx\"]**2 + taus[\"poly\"]**2), bins=(np.linspace(-1, 1, 50), np.linspace(0, 1, 25)), norm=matplotlib.colors.LogNorm())\n",
    "    fig.colorbar(im, ax=ax, label=\"Count\")\n",
    "    ax.set(xlabel=\"Polarization in z\", ylabel=\"Transverse polarization\")"
   ]
  },
  {
   "cell_type": "code",
   "execution_count": 77,
   "metadata": {},
   "outputs": [
    {
     "data": {
      "text/html": [
       "<div>\n",
       "<style scoped>\n",
       "    .dataframe tbody tr th:only-of-type {\n",
       "        vertical-align: middle;\n",
       "    }\n",
       "\n",
       "    .dataframe tbody tr th {\n",
       "        vertical-align: top;\n",
       "    }\n",
       "\n",
       "    .dataframe thead th {\n",
       "        text-align: right;\n",
       "    }\n",
       "</style>\n",
       "<table border=\"1\" class=\"dataframe\">\n",
       "  <thead>\n",
       "    <tr style=\"text-align: right;\">\n",
       "      <th></th>\n",
       "      <th>event_num</th>\n",
       "      <th>pdg</th>\n",
       "      <th>E</th>\n",
       "      <th>px</th>\n",
       "      <th>py</th>\n",
       "      <th>pz</th>\n",
       "      <th>polx</th>\n",
       "      <th>poly</th>\n",
       "      <th>polz</th>\n",
       "    </tr>\n",
       "  </thead>\n",
       "  <tbody>\n",
       "    <tr>\n",
       "      <th>30</th>\n",
       "      <td>5</td>\n",
       "      <td>1000080160</td>\n",
       "      <td>14.895082</td>\n",
       "      <td>0.000000</td>\n",
       "      <td>0.000000</td>\n",
       "      <td>0.000000</td>\n",
       "      <td>NaN</td>\n",
       "      <td>NaN</td>\n",
       "      <td>NaN</td>\n",
       "    </tr>\n",
       "    <tr>\n",
       "      <th>31</th>\n",
       "      <td>5</td>\n",
       "      <td>16</td>\n",
       "      <td>5.000000</td>\n",
       "      <td>0.000000</td>\n",
       "      <td>0.000000</td>\n",
       "      <td>5.000000</td>\n",
       "      <td>0.000000</td>\n",
       "      <td>0.000000</td>\n",
       "      <td>0.000000</td>\n",
       "    </tr>\n",
       "    <tr>\n",
       "      <th>32</th>\n",
       "      <td>5</td>\n",
       "      <td>15</td>\n",
       "      <td>4.280510</td>\n",
       "      <td>-0.197342</td>\n",
       "      <td>0.773493</td>\n",
       "      <td>3.811619</td>\n",
       "      <td>0.198621</td>\n",
       "      <td>0.050674</td>\n",
       "      <td>-0.978765</td>\n",
       "    </tr>\n",
       "    <tr>\n",
       "      <th>33</th>\n",
       "      <td>5</td>\n",
       "      <td>111</td>\n",
       "      <td>1.207851</td>\n",
       "      <td>0.265603</td>\n",
       "      <td>-0.421838</td>\n",
       "      <td>1.091876</td>\n",
       "      <td>NaN</td>\n",
       "      <td>NaN</td>\n",
       "      <td>NaN</td>\n",
       "    </tr>\n",
       "    <tr>\n",
       "      <th>34</th>\n",
       "      <td>5</td>\n",
       "      <td>111</td>\n",
       "      <td>0.729694</td>\n",
       "      <td>-0.168661</td>\n",
       "      <td>0.283098</td>\n",
       "      <td>0.636902</td>\n",
       "      <td>NaN</td>\n",
       "      <td>NaN</td>\n",
       "      <td>NaN</td>\n",
       "    </tr>\n",
       "    <tr>\n",
       "      <th>...</th>\n",
       "      <td>...</td>\n",
       "      <td>...</td>\n",
       "      <td>...</td>\n",
       "      <td>...</td>\n",
       "      <td>...</td>\n",
       "      <td>...</td>\n",
       "      <td>...</td>\n",
       "      <td>...</td>\n",
       "      <td>...</td>\n",
       "    </tr>\n",
       "    <tr>\n",
       "      <th>108519</th>\n",
       "      <td>17862</td>\n",
       "      <td>16</td>\n",
       "      <td>5.000000</td>\n",
       "      <td>0.000000</td>\n",
       "      <td>0.000000</td>\n",
       "      <td>5.000000</td>\n",
       "      <td>0.000000</td>\n",
       "      <td>0.000000</td>\n",
       "      <td>0.000000</td>\n",
       "    </tr>\n",
       "    <tr>\n",
       "      <th>108520</th>\n",
       "      <td>17862</td>\n",
       "      <td>15</td>\n",
       "      <td>3.937676</td>\n",
       "      <td>-0.715140</td>\n",
       "      <td>0.033063</td>\n",
       "      <td>3.440303</td>\n",
       "      <td>0.009409</td>\n",
       "      <td>0.203511</td>\n",
       "      <td>-0.979027</td>\n",
       "    </tr>\n",
       "    <tr>\n",
       "      <th>108521</th>\n",
       "      <td>17862</td>\n",
       "      <td>111</td>\n",
       "      <td>1.023486</td>\n",
       "      <td>0.138900</td>\n",
       "      <td>-0.457141</td>\n",
       "      <td>0.895005</td>\n",
       "      <td>NaN</td>\n",
       "      <td>NaN</td>\n",
       "      <td>NaN</td>\n",
       "    </tr>\n",
       "    <tr>\n",
       "      <th>108522</th>\n",
       "      <td>17862</td>\n",
       "      <td>16</td>\n",
       "      <td>0.218811</td>\n",
       "      <td>-0.217166</td>\n",
       "      <td>-0.017407</td>\n",
       "      <td>-0.020347</td>\n",
       "      <td>NaN</td>\n",
       "      <td>NaN</td>\n",
       "      <td>NaN</td>\n",
       "    </tr>\n",
       "    <tr>\n",
       "      <th>108523</th>\n",
       "      <td>17862</td>\n",
       "      <td>-211</td>\n",
       "      <td>2.695409</td>\n",
       "      <td>-0.636656</td>\n",
       "      <td>0.507522</td>\n",
       "      <td>2.565705</td>\n",
       "      <td>NaN</td>\n",
       "      <td>NaN</td>\n",
       "      <td>NaN</td>\n",
       "    </tr>\n",
       "  </tbody>\n",
       "</table>\n",
       "<p>11199 rows × 9 columns</p>\n",
       "</div>"
      ],
      "text/plain": [
       "        event_num         pdg          E        px        py        pz  \\\n",
       "30              5  1000080160  14.895082  0.000000  0.000000  0.000000   \n",
       "31              5          16   5.000000  0.000000  0.000000  5.000000   \n",
       "32              5          15   4.280510 -0.197342  0.773493  3.811619   \n",
       "33              5         111   1.207851  0.265603 -0.421838  1.091876   \n",
       "34              5         111   0.729694 -0.168661  0.283098  0.636902   \n",
       "...           ...         ...        ...       ...       ...       ...   \n",
       "108519      17862          16   5.000000  0.000000  0.000000  5.000000   \n",
       "108520      17862          15   3.937676 -0.715140  0.033063  3.440303   \n",
       "108521      17862         111   1.023486  0.138900 -0.457141  0.895005   \n",
       "108522      17862          16   0.218811 -0.217166 -0.017407 -0.020347   \n",
       "108523      17862        -211   2.695409 -0.636656  0.507522  2.565705   \n",
       "\n",
       "            polx      poly      polz  \n",
       "30           NaN       NaN       NaN  \n",
       "31      0.000000  0.000000  0.000000  \n",
       "32      0.198621  0.050674 -0.978765  \n",
       "33           NaN       NaN       NaN  \n",
       "34           NaN       NaN       NaN  \n",
       "...          ...       ...       ...  \n",
       "108519  0.000000  0.000000  0.000000  \n",
       "108520  0.009409  0.203511 -0.979027  \n",
       "108521       NaN       NaN       NaN  \n",
       "108522       NaN       NaN       NaN  \n",
       "108523       NaN       NaN       NaN  \n",
       "\n",
       "[11199 rows x 9 columns]"
      ]
     },
     "execution_count": 77,
     "metadata": {},
     "output_type": "execute_result"
    }
   ],
   "source": [
    "# For the 5 GeV events, pick out the tau leptons that have an angle relative to the z axis of > 90 degrees\n",
    "large_angle_event_nums = particle_infos[5].query(\"pdg == 15 and (px**2 + py**2)**0.5 / pz > 0.2\")[\"event_num\"]\n",
    "large_angle_events = particle_infos[5][particle_infos[5][\"event_num\"].isin(large_angle_event_nums)]\n",
    "large_angle_events"
   ]
  },
  {
   "cell_type": "code",
   "execution_count": 151,
   "metadata": {},
   "outputs": [
    {
     "data": {
      "image/png": "[encoded data removed]",
      "text/plain": [
       "<Figure size 640x480 with 1 Axes>"
      ]
     },
     "metadata": {},
     "output_type": "display_data"
    }
   ],
   "source": [
    "p = particle_infos[5].query(\"pdg == 15\")\n",
    "ax = (180/np.pi * np.arctan((p.px**2 + p.py**2)**0.5 / p.pz)).plot.hist(bins=np.linspace(0, 90, 100), xlabel=\"degrees\")\n",
    "ax.axvline(180/np.pi*0.2, c=\"r\")\n",
    "ax.grid()"
   ]
  },
  {
   "cell_type": "code",
   "execution_count": 154,
   "metadata": {},
   "outputs": [
    {
     "data": {
      "text/plain": [
       "168.54084409738354"
      ]
     },
     "execution_count": 154,
     "metadata": {},
     "output_type": "execute_result"
    }
   ],
   "source": [
    "180-180/np.pi*0.2"
   ]
  },
  {
   "cell_type": "code",
   "execution_count": 146,
   "metadata": {},
   "outputs": [
    {
     "data": {
      "text/plain": [
       "[Text(0.5, 0, 'Polar angle'), Text(0, 0.5, 'Count')]"
      ]
     },
     "execution_count": 146,
     "metadata": {},
     "output_type": "execute_result"
    },
    {
     "data": {
      "image/png": "[encoded data removed]",
      "text/plain": [
       "<Figure size 1000x500 with 2 Axes>"
      ]
     },
     "metadata": {},
     "output_type": "display_data"
    }
   ],
   "source": [
    "taus = large_angle_events.query(\"pdg == 15\")\n",
    "azimuth = 180/np.pi * np.arctan2(taus[\"polx\"], taus[\"poly\"])\n",
    "polar = 180/np.pi * np.arccos(taus[\"polz\"])\n",
    "fig, axs = plt.subplots(ncols=2, figsize=(10, 5))\n",
    "axs[0].hist(azimuth, bins=np.linspace(-180, 180, 100))\n",
    "axs[0].set(xlabel=\"Azimuthal angle\", ylabel=\"Count\")\n",
    "axs[1].hist(polar, bins=np.linspace(150, 180, 100))\n",
    "axs[1].set(xlabel=\"Polar angle\", ylabel=\"Count\")"
   ]
  },
  {
   "cell_type": "code",
   "execution_count": 147,
   "metadata": {},
   "outputs": [
    {
     "data": {
      "text/plain": [
       "[Text(0.5, 0, 'Polar angle'), Text(0, 0.5, 'Count')]"
      ]
     },
     "execution_count": 147,
     "metadata": {},
     "output_type": "execute_result"
    },
    {
     "data": {
      "image/png": "[encoded data removed]",
      "text/plain": [
       "<Figure size 1000x500 with 2 Axes>"
      ]
     },
     "metadata": {},
     "output_type": "display_data"
    }
   ],
   "source": [
    "tau_all = particle_infos[5].query(\"pdg == 15\")\n",
    "azimuth = 180/np.pi * np.arctan2(tau_all[\"polx\"], tau_all[\"poly\"])\n",
    "polar = 180/np.pi * np.arccos(tau_all[\"polz\"])\n",
    "fig, axs = plt.subplots(ncols=2, figsize=(10, 5))\n",
    "axs[0].hist(azimuth, bins=np.linspace(-180, 180, 100))\n",
    "axs[0].set(xlabel=\"Azimuthal angle\", ylabel=\"Count\")\n",
    "axs[1].hist(polar, bins=np.linspace(150, 180, 100))\n",
    "axs[1].set(xlabel=\"Polar angle\", ylabel=\"Count\")"
   ]
  },
  {
   "cell_type": "code",
   "execution_count": 141,
   "metadata": {},
   "outputs": [
    {
     "data": {
      "text/plain": [
       "[Text(0.5, 0, 'Polar angle'), Text(0, 0.5, 'Count')]"
      ]
     },
     "execution_count": 141,
     "metadata": {},
     "output_type": "execute_result"
    },
    {
     "data": {
      "image/png": "[encoded data removed]",
      "text/plain": [
       "<Figure size 1000x500 with 2 Axes>"
      ]
     },
     "metadata": {},
     "output_type": "display_data"
    }
   ],
   "source": [
    "# Calculate the azimuth and polar angles of the polarization vector relative to the tau momentum vector\n",
    "tau_momentum_direction = taus[[\"px\", \"py\", \"pz\"]].values / np.linalg.norm(taus[[\"px\", \"py\", \"pz\"]].values, axis=1)[:, np.newaxis]\n",
    "angle_between = np.arccos(np.sum(tau_momentum_direction * taus[[\"polx\", \"poly\", \"polz\"]].values, axis=1))\n",
    "fig, axs = plt.subplots(ncols=2, figsize=(10, 5))\n",
    "# axs[0].hist(azimuth, bins=np.linspace(-180, 180, 100))\n",
    "# axs[0].set(xlabel=\"Azimuthal angle\", ylabel=\"Count\")\n",
    "axs[1].hist(angle_between, bins=np.linspace(0, 10, 100))\n",
    "axs[1].set(xlabel=\"Polar angle\", ylabel=\"Count\")"
   ]
  },
  {
   "cell_type": "code",
   "execution_count": 157,
   "metadata": {},
   "outputs": [
    {
     "data": {
      "text/plain": [
       "[Text(0.5, 0, 'Polar angle'), Text(0, 0.5, 'Count')]"
      ]
     },
     "execution_count": 157,
     "metadata": {},
     "output_type": "execute_result"
    },
    {
     "data": {
      "image/png": "[encoded data removed]",
      "text/plain": [
       "<Figure size 1000x500 with 2 Axes>"
      ]
     },
     "metadata": {},
     "output_type": "display_data"
    }
   ],
   "source": [
    "# Calculate the azimuth and polar angles of the polarization vector relative to the tau momentum vector\n",
    "tau_momentum_direction = tau_all[[\"px\", \"py\", \"pz\"]].values / np.linalg.norm(tau_all[[\"px\", \"py\", \"pz\"]].values, axis=1)[:, np.newaxis]\n",
    "angle_between = np.arccos(np.sum(tau_momentum_direction * tau_all[[\"polx\", \"poly\", \"polz\"]].values, axis=1))\n",
    "fig, axs = plt.subplots(ncols=2, figsize=(10, 5))\n",
    "# axs[0].hist(azimuth, bins=np.linspace(-180, 180, 100))\n",
    "# axs[0].set(xlabel=\"Azimuthal angle\", ylabel=\"Count\")\n",
    "axs[1].hist(angle_between, bins=np.linspace(0, 10, 100))\n",
    "axs[1].set(xlabel=\"Polar angle\", ylabel=\"Count\")"
   ]
  },
  {
   "cell_type": "code",
   "execution_count": null,
   "metadata": {},
   "outputs": [],
   "source": [
    "# Calculate the azimuth and polar angles of the polarization vector relative to the tau momentum vector\n",
    "tau_momentum_direction = tau_all[[\"px\", \"py\", \"pz\"]].values / np.linalg.norm(tau_all[[\"px\", \"py\", \"pz\"]].values, axis=1)[:, np.newaxis]\n",
    "angle_between = np.arccos(np.sum(tau_momentum_direction * tau_all[[\"polx\", \"poly\", \"polz\"]].values, axis=1))\n",
    "fig, axs = plt.subplots(ncols=len(particle_infos), figsize=(3*len(particle_infos), 2), layout=\"constrained\")\n",
    "for e, ax in zip(axs, particle_infos):\n",
    "    ax.hist(angle_between, bins=np.linspace(0, 10, 100))\n",
    "    ax.set(xlabel=\"Polar angle\", ylabel=\"Count\")"
   ]
  },
  {
   "cell_type": "code",
   "execution_count": 158,
   "metadata": {},
   "outputs": [
    {
     "data": {
      "text/plain": [
       "[Text(0.5, 0, 'Polar angle'), Text(0, 0.5, 'Count')]"
      ]
     },
     "execution_count": 158,
     "metadata": {},
     "output_type": "execute_result"
    },
    {
     "data": {
      "image/png": "[encoded data removed]",
      "text/plain": [
       "<Figure size 1000x500 with 2 Axes>"
      ]
     },
     "metadata": {},
     "output_type": "display_data"
    }
   ],
   "source": [
    "# Calculate the azimuth and polar angles of the polarization vector relative to the tau momentum vector\n",
    "tau_momentum_direction = tau_all[[\"px\", \"py\", \"pz\"]].values / np.linalg.norm(tau_all[[\"px\", \"py\", \"pz\"]].values, axis=1)[:, np.newaxis]\n",
    "angle_between = np.arccos(np.sum(tau_momentum_direction * tau_all[[\"polx\", \"poly\", \"polz\"]].values, axis=1))\n",
    "fig, axs = plt.subplots(ncols=2, figsize=(10, 5))\n",
    "# axs[0].hist(azimuth, bins=np.linspace(-180, 180, 100))\n",
    "# axs[0].set(xlabel=\"Azimuthal angle\", ylabel=\"Count\")\n",
    "axs[1].hist(angle_between, bins=np.linspace(0, 10, 100))\n",
    "axs[1].set(xlabel=\"Polar angle\", ylabel=\"Count\")"
   ]
  },
  {
   "cell_type": "code",
   "execution_count": 167,
   "metadata": {},
   "outputs": [
    {
     "data": {
      "text/plain": [
       "<matplotlib.colorbar.Colorbar at 0x7f0213ed19d0>"
      ]
     },
     "execution_count": 167,
     "metadata": {},
     "output_type": "execute_result"
    },
    {
     "data": {
      "image/png": "[encoded data removed]",
      "text/plain": [
       "<Figure size 640x480 with 2 Axes>"
      ]
     },
     "metadata": {},
     "output_type": "display_data"
    }
   ],
   "source": [
    "# Plot a 2D histogram with the tau polarization angle relative to the z axis, and the angle between the momentum vector and the z axis\n",
    "fig, ax = plt.subplots()\n",
    "*_, im = ax.hist2d(\n",
    "    180/np.pi * np.arccos(tau_all[\"pz\"] / np.linalg.norm(tau_all[[\"px\", \"py\", \"pz\"]].values, axis=1)), \n",
    "    180/np.pi * np.arccos(tau_all[\"polz\"]), \n",
    "    bins=(np.linspace(0, 40, 70), np.linspace(140, 180, 70)), norm=matplotlib.colors.LogNorm())\n",
    "ax.set(xlabel=\"Momentum polar angle\", ylabel=\"Polarization polar angle\")\n",
    "fig.colorbar(im, ax=ax, label=\"Count\")"
   ]
  },
  {
   "cell_type": "markdown",
   "metadata": {},
   "source": [
    "If the tau polarization angle were in the tau rest frame, there would (likely) have been a dependence between the tau momentum angle and the tau polarization angle. However, it would have been a more spread out dependence, since the tau polarization would not always have a specific angle.\n",
    "\n",
    "For example, if the tau lepton were always fully polarized and the polarization vector is given in the tau rest frame, it would always have a value of 180 degrees, regardless of the tau momentum angle. If the polarization were given in the lab frame, it would be perfectly correlated with the tau momentum angle. \n",
    "\n",
    "In our case, the polarization angle almost perfectly correlates with the momentum angle, which is too good to be true for the tau rest frame case, meaning that the tau polarization vector is given in the lab frame."
   ]
  },
  {
   "cell_type": "markdown",
   "metadata": {},
   "source": [
    "## Analysis of old IceCube simulation events"
   ]
  },
  {
   "cell_type": "code",
   "execution_count": null,
   "metadata": {},
   "outputs": [],
   "source": [
    "# Load the event info\n",
    "event_info = pd.read_csv(\"genie_tau_decays_event_info.csv\")\n",
    "particle_info = pd.read_csv(\"genie_tau_decays_particles.csv\")"
   ]
  },
  {
   "cell_type": "markdown",
   "metadata": {},
   "source": [
    "### 4-momentum conservation"
   ]
  },
  {
   "cell_type": "code",
   "execution_count": 4,
   "metadata": {},
   "outputs": [
    {
     "data": {
      "text/html": [
       "<div>\n",
       "<style scoped>\n",
       "    .dataframe tbody tr th:only-of-type {\n",
       "        vertical-align: middle;\n",
       "    }\n",
       "\n",
       "    .dataframe tbody tr th {\n",
       "        vertical-align: top;\n",
       "    }\n",
       "\n",
       "    .dataframe thead th {\n",
       "        text-align: right;\n",
       "    }\n",
       "</style>\n",
       "<table border=\"1\" class=\"dataframe\">\n",
       "  <thead>\n",
       "    <tr style=\"text-align: right;\">\n",
       "      <th></th>\n",
       "      <th>event_num</th>\n",
       "      <th>pdg</th>\n",
       "      <th>E</th>\n",
       "      <th>px</th>\n",
       "      <th>py</th>\n",
       "      <th>pz</th>\n",
       "    </tr>\n",
       "  </thead>\n",
       "  <tbody>\n",
       "    <tr>\n",
       "      <th>0</th>\n",
       "      <td>0</td>\n",
       "      <td>1000080160</td>\n",
       "      <td>14.895081</td>\n",
       "      <td>0.000000</td>\n",
       "      <td>0.000000</td>\n",
       "      <td>0.000000</td>\n",
       "    </tr>\n",
       "    <tr>\n",
       "      <th>1</th>\n",
       "      <td>0</td>\n",
       "      <td>-16</td>\n",
       "      <td>3.730323</td>\n",
       "      <td>0.185260</td>\n",
       "      <td>3.295873</td>\n",
       "      <td>1.737299</td>\n",
       "    </tr>\n",
       "    <tr>\n",
       "      <th>2</th>\n",
       "      <td>0</td>\n",
       "      <td>-15</td>\n",
       "      <td>3.251366</td>\n",
       "      <td>-0.023894</td>\n",
       "      <td>2.329548</td>\n",
       "      <td>1.409583</td>\n",
       "    </tr>\n",
       "    <tr>\n",
       "      <th>3</th>\n",
       "      <td>0</td>\n",
       "      <td>211</td>\n",
       "      <td>0.726490</td>\n",
       "      <td>-0.435732</td>\n",
       "      <td>-0.013640</td>\n",
       "      <td>0.564145</td>\n",
       "    </tr>\n",
       "    <tr>\n",
       "      <th>4</th>\n",
       "      <td>0</td>\n",
       "      <td>-16</td>\n",
       "      <td>2.524877</td>\n",
       "      <td>0.411767</td>\n",
       "      <td>2.343313</td>\n",
       "      <td>0.845184</td>\n",
       "    </tr>\n",
       "    <tr>\n",
       "      <th>5</th>\n",
       "      <td>1</td>\n",
       "      <td>1000080160</td>\n",
       "      <td>14.895081</td>\n",
       "      <td>0.000000</td>\n",
       "      <td>0.000000</td>\n",
       "      <td>0.000000</td>\n",
       "    </tr>\n",
       "    <tr>\n",
       "      <th>6</th>\n",
       "      <td>1</td>\n",
       "      <td>16</td>\n",
       "      <td>3.725654</td>\n",
       "      <td>-1.656092</td>\n",
       "      <td>-2.943322</td>\n",
       "      <td>1.573121</td>\n",
       "    </tr>\n",
       "    <tr>\n",
       "      <th>7</th>\n",
       "      <td>1</td>\n",
       "      <td>15</td>\n",
       "      <td>2.846514</td>\n",
       "      <td>-0.845274</td>\n",
       "      <td>-1.491209</td>\n",
       "      <td>1.416815</td>\n",
       "    </tr>\n",
       "    <tr>\n",
       "      <th>8</th>\n",
       "      <td>1</td>\n",
       "      <td>-211</td>\n",
       "      <td>0.395154</td>\n",
       "      <td>-0.365821</td>\n",
       "      <td>-0.047146</td>\n",
       "      <td>0.024889</td>\n",
       "    </tr>\n",
       "    <tr>\n",
       "      <th>9</th>\n",
       "      <td>1</td>\n",
       "      <td>-211</td>\n",
       "      <td>2.062102</td>\n",
       "      <td>-0.284192</td>\n",
       "      <td>-1.660413</td>\n",
       "      <td>1.181121</td>\n",
       "    </tr>\n",
       "    <tr>\n",
       "      <th>10</th>\n",
       "      <td>1</td>\n",
       "      <td>211</td>\n",
       "      <td>0.382154</td>\n",
       "      <td>-0.195887</td>\n",
       "      <td>0.216024</td>\n",
       "      <td>0.203774</td>\n",
       "    </tr>\n",
       "    <tr>\n",
       "      <th>11</th>\n",
       "      <td>1</td>\n",
       "      <td>16</td>\n",
       "      <td>0.007096</td>\n",
       "      <td>0.000500</td>\n",
       "      <td>0.000490</td>\n",
       "      <td>0.007061</td>\n",
       "    </tr>\n",
       "    <tr>\n",
       "      <th>12</th>\n",
       "      <td>2</td>\n",
       "      <td>1000080160</td>\n",
       "      <td>14.895081</td>\n",
       "      <td>0.000000</td>\n",
       "      <td>0.000000</td>\n",
       "      <td>0.000000</td>\n",
       "    </tr>\n",
       "  </tbody>\n",
       "</table>\n",
       "</div>"
      ],
      "text/plain": [
       "    event_num         pdg          E        px        py        pz\n",
       "0           0  1000080160  14.895081  0.000000  0.000000  0.000000\n",
       "1           0         -16   3.730323  0.185260  3.295873  1.737299\n",
       "2           0         -15   3.251366 -0.023894  2.329548  1.409583\n",
       "3           0         211   0.726490 -0.435732 -0.013640  0.564145\n",
       "4           0         -16   2.524877  0.411767  2.343313  0.845184\n",
       "5           1  1000080160  14.895081  0.000000  0.000000  0.000000\n",
       "6           1          16   3.725654 -1.656092 -2.943322  1.573121\n",
       "7           1          15   2.846514 -0.845274 -1.491209  1.416815\n",
       "8           1        -211   0.395154 -0.365821 -0.047146  0.024889\n",
       "9           1        -211   2.062102 -0.284192 -1.660413  1.181121\n",
       "10          1         211   0.382154 -0.195887  0.216024  0.203774\n",
       "11          1          16   0.007096  0.000500  0.000490  0.007061\n",
       "12          2  1000080160  14.895081  0.000000  0.000000  0.000000"
      ]
     },
     "execution_count": 4,
     "metadata": {},
     "output_type": "execute_result"
    }
   ],
   "source": [
    "particle_info.head(13)"
   ]
  },
  {
   "cell_type": "code",
   "execution_count": 5,
   "metadata": {},
   "outputs": [],
   "source": [
    "# Check if there are any events where two taus are produced\n",
    "# There should not be any\n",
    "assert not (particle_info[np.abs(particle_info['pdg']) == 15].groupby(\"event_num\").count() > 1).any().any()\n",
    "taus = particle_info[np.abs(particle_info[\"pdg\"]) == 15]\n",
    "assert (taus[\"event_num\"] == np.arange(len(taus))).all()"
   ]
  },
  {
   "cell_type": "code",
   "execution_count": 6,
   "metadata": {},
   "outputs": [
    {
     "data": {
      "text/html": [
       "<div>\n",
       "<style scoped>\n",
       "    .dataframe tbody tr th:only-of-type {\n",
       "        vertical-align: middle;\n",
       "    }\n",
       "\n",
       "    .dataframe tbody tr th {\n",
       "        vertical-align: top;\n",
       "    }\n",
       "\n",
       "    .dataframe thead th {\n",
       "        text-align: right;\n",
       "    }\n",
       "</style>\n",
       "<table border=\"1\" class=\"dataframe\">\n",
       "  <thead>\n",
       "    <tr style=\"text-align: right;\">\n",
       "      <th></th>\n",
       "      <th>event_num</th>\n",
       "      <th>pdg</th>\n",
       "      <th>E</th>\n",
       "      <th>px</th>\n",
       "      <th>py</th>\n",
       "      <th>pz</th>\n",
       "    </tr>\n",
       "  </thead>\n",
       "  <tbody>\n",
       "    <tr>\n",
       "      <th>2</th>\n",
       "      <td>0</td>\n",
       "      <td>-15</td>\n",
       "      <td>3.251366</td>\n",
       "      <td>-0.023894</td>\n",
       "      <td>2.329548</td>\n",
       "      <td>1.409583</td>\n",
       "    </tr>\n",
       "    <tr>\n",
       "      <th>7</th>\n",
       "      <td>1</td>\n",
       "      <td>15</td>\n",
       "      <td>2.846514</td>\n",
       "      <td>-0.845274</td>\n",
       "      <td>-1.491209</td>\n",
       "      <td>1.416815</td>\n",
       "    </tr>\n",
       "    <tr>\n",
       "      <th>14</th>\n",
       "      <td>2</td>\n",
       "      <td>15</td>\n",
       "      <td>3.332381</td>\n",
       "      <td>-2.127187</td>\n",
       "      <td>-1.737024</td>\n",
       "      <td>-0.636785</td>\n",
       "    </tr>\n",
       "    <tr>\n",
       "      <th>19</th>\n",
       "      <td>3</td>\n",
       "      <td>15</td>\n",
       "      <td>3.509529</td>\n",
       "      <td>-0.032933</td>\n",
       "      <td>-0.487587</td>\n",
       "      <td>-2.986784</td>\n",
       "    </tr>\n",
       "    <tr>\n",
       "      <th>26</th>\n",
       "      <td>4</td>\n",
       "      <td>15</td>\n",
       "      <td>3.555693</td>\n",
       "      <td>-0.230564</td>\n",
       "      <td>-0.218090</td>\n",
       "      <td>-3.063518</td>\n",
       "    </tr>\n",
       "    <tr>\n",
       "      <th>...</th>\n",
       "      <td>...</td>\n",
       "      <td>...</td>\n",
       "      <td>...</td>\n",
       "      <td>...</td>\n",
       "      <td>...</td>\n",
       "      <td>...</td>\n",
       "    </tr>\n",
       "    <tr>\n",
       "      <th>447098</th>\n",
       "      <td>76638</td>\n",
       "      <td>-15</td>\n",
       "      <td>1003.199894</td>\n",
       "      <td>-392.660182</td>\n",
       "      <td>-607.363024</td>\n",
       "      <td>-695.222992</td>\n",
       "    </tr>\n",
       "    <tr>\n",
       "      <th>447104</th>\n",
       "      <td>76639</td>\n",
       "      <td>15</td>\n",
       "      <td>5031.544231</td>\n",
       "      <td>-4776.946270</td>\n",
       "      <td>-1257.860435</td>\n",
       "      <td>-956.559277</td>\n",
       "    </tr>\n",
       "    <tr>\n",
       "      <th>447110</th>\n",
       "      <td>76640</td>\n",
       "      <td>-15</td>\n",
       "      <td>75.985685</td>\n",
       "      <td>56.916040</td>\n",
       "      <td>-50.301859</td>\n",
       "      <td>-0.977036</td>\n",
       "    </tr>\n",
       "    <tr>\n",
       "      <th>447116</th>\n",
       "      <td>76641</td>\n",
       "      <td>15</td>\n",
       "      <td>1999.051556</td>\n",
       "      <td>-973.289879</td>\n",
       "      <td>1030.714386</td>\n",
       "      <td>1409.446214</td>\n",
       "    </tr>\n",
       "    <tr>\n",
       "      <th>447120</th>\n",
       "      <td>76642</td>\n",
       "      <td>15</td>\n",
       "      <td>2128.943214</td>\n",
       "      <td>-1013.673964</td>\n",
       "      <td>-1313.010045</td>\n",
       "      <td>-1334.490828</td>\n",
       "    </tr>\n",
       "  </tbody>\n",
       "</table>\n",
       "<p>76643 rows × 6 columns</p>\n",
       "</div>"
      ],
      "text/plain": [
       "        event_num  pdg            E           px           py           pz\n",
       "2               0  -15     3.251366    -0.023894     2.329548     1.409583\n",
       "7               1   15     2.846514    -0.845274    -1.491209     1.416815\n",
       "14              2   15     3.332381    -2.127187    -1.737024    -0.636785\n",
       "19              3   15     3.509529    -0.032933    -0.487587    -2.986784\n",
       "26              4   15     3.555693    -0.230564    -0.218090    -3.063518\n",
       "...           ...  ...          ...          ...          ...          ...\n",
       "447098      76638  -15  1003.199894  -392.660182  -607.363024  -695.222992\n",
       "447104      76639   15  5031.544231 -4776.946270 -1257.860435  -956.559277\n",
       "447110      76640  -15    75.985685    56.916040   -50.301859    -0.977036\n",
       "447116      76641   15  1999.051556  -973.289879  1030.714386  1409.446214\n",
       "447120      76642   15  2128.943214 -1013.673964 -1313.010045 -1334.490828\n",
       "\n",
       "[76643 rows x 6 columns]"
      ]
     },
     "execution_count": 6,
     "metadata": {},
     "output_type": "execute_result"
    }
   ],
   "source": [
    "taus"
   ]
  },
  {
   "cell_type": "code",
   "execution_count": 7,
   "metadata": {},
   "outputs": [
    {
     "data": {
      "text/plain": [
       "(array([0, 1, 2, 3, 4]), array([18011,   568,    61,   493, 57510]))"
      ]
     },
     "execution_count": 7,
     "metadata": {},
     "output_type": "execute_result"
    }
   ],
   "source": [
    "np.unique(\n",
    "    np.isclose(\n",
    "        particle_info\n",
    "            .drop(\"pdg\", axis=1)\n",
    "            .groupby(\"event_num\")\n",
    "            .nth[3:]\n",
    "            .groupby(\"event_num\")\n",
    "            .sum(), \n",
    "        taus\n",
    "            .set_index(\"event_num\")\n",
    "            .drop(\"pdg\", axis=1)\n",
    "        , rtol=0.01)\n",
    "    .sum(axis=1)\n",
    "    , return_counts=True\n",
    ")"
   ]
  },
  {
   "cell_type": "markdown",
   "metadata": {},
   "source": [
    "The number in the first array indicates how many of the 4-momentum components are within the given relative tolerance (rtol), while the number in the second array correspond to how many events have that number of components within the given relative tolerance.\n",
    "\n",
    "We have a large collection of 4 (all components close in value) and 0 (none of the components are close in value), with a few events in between.\n",
    "\n",
    "It is good that most events are 4, since that means that the 4-momentum is conserved.\n",
    "\n",
    "The ones with 0 correspond to when the electron is not in the event, but the electron neutrino and tau neutrino are."
   ]
  },
  {
   "cell_type": "markdown",
   "metadata": {},
   "source": [
    "We now want to check if only the electron is missing, or if there are other events that look strange."
   ]
  },
  {
   "cell_type": "code",
   "execution_count": 8,
   "metadata": {},
   "outputs": [],
   "source": [
    "no_e_events = (\n",
    "    particle_info\n",
    "    .groupby(\"event_num\")\n",
    "    .filter(\n",
    "        lambda df: set(np.abs(df.iloc[3:, 1]).tolist()) != {12, 16}\n",
    "    )\n",
    ")"
   ]
  },
  {
   "cell_type": "code",
   "execution_count": 9,
   "metadata": {},
   "outputs": [],
   "source": [
    "no_e_eventnum = no_e_events[\"event_num\"].unique()\n",
    "tau_no_e = taus[taus[\"event_num\"].isin(no_e_eventnum)]"
   ]
  },
  {
   "cell_type": "code",
   "execution_count": 10,
   "metadata": {},
   "outputs": [
    {
     "data": {
      "text/html": [
       "<div>\n",
       "<style scoped>\n",
       "    .dataframe tbody tr th:only-of-type {\n",
       "        vertical-align: middle;\n",
       "    }\n",
       "\n",
       "    .dataframe tbody tr th {\n",
       "        vertical-align: top;\n",
       "    }\n",
       "\n",
       "    .dataframe thead th {\n",
       "        text-align: right;\n",
       "    }\n",
       "</style>\n",
       "<table border=\"1\" class=\"dataframe\">\n",
       "  <thead>\n",
       "    <tr style=\"text-align: right;\">\n",
       "      <th></th>\n",
       "      <th>event_num</th>\n",
       "      <th>pdg</th>\n",
       "      <th>E</th>\n",
       "      <th>px</th>\n",
       "      <th>py</th>\n",
       "      <th>pz</th>\n",
       "    </tr>\n",
       "  </thead>\n",
       "  <tbody>\n",
       "    <tr>\n",
       "      <th>2</th>\n",
       "      <td>0</td>\n",
       "      <td>-15</td>\n",
       "      <td>3.251366</td>\n",
       "      <td>-0.023894</td>\n",
       "      <td>2.329548</td>\n",
       "      <td>1.409583</td>\n",
       "    </tr>\n",
       "    <tr>\n",
       "      <th>7</th>\n",
       "      <td>1</td>\n",
       "      <td>15</td>\n",
       "      <td>2.846514</td>\n",
       "      <td>-0.845274</td>\n",
       "      <td>-1.491209</td>\n",
       "      <td>1.416815</td>\n",
       "    </tr>\n",
       "    <tr>\n",
       "      <th>19</th>\n",
       "      <td>3</td>\n",
       "      <td>15</td>\n",
       "      <td>3.509529</td>\n",
       "      <td>-0.032933</td>\n",
       "      <td>-0.487587</td>\n",
       "      <td>-2.986784</td>\n",
       "    </tr>\n",
       "    <tr>\n",
       "      <th>26</th>\n",
       "      <td>4</td>\n",
       "      <td>15</td>\n",
       "      <td>3.555693</td>\n",
       "      <td>-0.230564</td>\n",
       "      <td>-0.218090</td>\n",
       "      <td>-3.063518</td>\n",
       "    </tr>\n",
       "    <tr>\n",
       "      <th>31</th>\n",
       "      <td>5</td>\n",
       "      <td>-15</td>\n",
       "      <td>3.758840</td>\n",
       "      <td>0.426761</td>\n",
       "      <td>3.153622</td>\n",
       "      <td>-0.918877</td>\n",
       "    </tr>\n",
       "    <tr>\n",
       "      <th>...</th>\n",
       "      <td>...</td>\n",
       "      <td>...</td>\n",
       "      <td>...</td>\n",
       "      <td>...</td>\n",
       "      <td>...</td>\n",
       "      <td>...</td>\n",
       "    </tr>\n",
       "    <tr>\n",
       "      <th>447098</th>\n",
       "      <td>76638</td>\n",
       "      <td>-15</td>\n",
       "      <td>1003.199894</td>\n",
       "      <td>-392.660182</td>\n",
       "      <td>-607.363024</td>\n",
       "      <td>-695.222992</td>\n",
       "    </tr>\n",
       "    <tr>\n",
       "      <th>447104</th>\n",
       "      <td>76639</td>\n",
       "      <td>15</td>\n",
       "      <td>5031.544231</td>\n",
       "      <td>-4776.946270</td>\n",
       "      <td>-1257.860435</td>\n",
       "      <td>-956.559277</td>\n",
       "    </tr>\n",
       "    <tr>\n",
       "      <th>447110</th>\n",
       "      <td>76640</td>\n",
       "      <td>-15</td>\n",
       "      <td>75.985685</td>\n",
       "      <td>56.916040</td>\n",
       "      <td>-50.301859</td>\n",
       "      <td>-0.977036</td>\n",
       "    </tr>\n",
       "    <tr>\n",
       "      <th>447116</th>\n",
       "      <td>76641</td>\n",
       "      <td>15</td>\n",
       "      <td>1999.051556</td>\n",
       "      <td>-973.289879</td>\n",
       "      <td>1030.714386</td>\n",
       "      <td>1409.446214</td>\n",
       "    </tr>\n",
       "    <tr>\n",
       "      <th>447120</th>\n",
       "      <td>76642</td>\n",
       "      <td>15</td>\n",
       "      <td>2128.943214</td>\n",
       "      <td>-1013.673964</td>\n",
       "      <td>-1313.010045</td>\n",
       "      <td>-1334.490828</td>\n",
       "    </tr>\n",
       "  </tbody>\n",
       "</table>\n",
       "<p>61573 rows × 6 columns</p>\n",
       "</div>"
      ],
      "text/plain": [
       "        event_num  pdg            E           px           py           pz\n",
       "2               0  -15     3.251366    -0.023894     2.329548     1.409583\n",
       "7               1   15     2.846514    -0.845274    -1.491209     1.416815\n",
       "19              3   15     3.509529    -0.032933    -0.487587    -2.986784\n",
       "26              4   15     3.555693    -0.230564    -0.218090    -3.063518\n",
       "31              5  -15     3.758840     0.426761     3.153622    -0.918877\n",
       "...           ...  ...          ...          ...          ...          ...\n",
       "447098      76638  -15  1003.199894  -392.660182  -607.363024  -695.222992\n",
       "447104      76639   15  5031.544231 -4776.946270 -1257.860435  -956.559277\n",
       "447110      76640  -15    75.985685    56.916040   -50.301859    -0.977036\n",
       "447116      76641   15  1999.051556  -973.289879  1030.714386  1409.446214\n",
       "447120      76642   15  2128.943214 -1013.673964 -1313.010045 -1334.490828\n",
       "\n",
       "[61573 rows x 6 columns]"
      ]
     },
     "execution_count": 10,
     "metadata": {},
     "output_type": "execute_result"
    }
   ],
   "source": [
    "tau_no_e"
   ]
  },
  {
   "cell_type": "code",
   "execution_count": 11,
   "metadata": {},
   "outputs": [
    {
     "data": {
      "text/plain": [
       "(array([0, 1, 3, 4]), array([ 3592,     7,    48, 57926]))"
      ]
     },
     "execution_count": 11,
     "metadata": {},
     "output_type": "execute_result"
    }
   ],
   "source": [
    "np.unique(np.isclose(no_e_events.drop(\"pdg\", axis=1).groupby(\"event_num\").nth[3:].groupby(\"event_num\").sum(), \n",
    "           tau_no_e.set_index(\"event_num\").drop(\"pdg\", axis=1), rtol=0.1).sum(axis=1), return_counts=True)"
   ]
  },
  {
   "cell_type": "markdown",
   "metadata": {},
   "source": [
    "There are still quite a lot of events that are not conserved. These will have to be investigated further."
   ]
  },
  {
   "cell_type": "code",
   "execution_count": 12,
   "metadata": {},
   "outputs": [],
   "source": [
    "n_correct_4m_components = np.isclose(\n",
    "    no_e_events.drop(\"pdg\", axis=1).groupby(\"event_num\").nth[3:].groupby(\"event_num\").sum(), \n",
    "    tau_no_e.set_index(\"event_num\").drop(\"pdg\", axis=1), \n",
    "    rtol=0.1\n",
    ").sum(axis=1)\n",
    "\n",
    "incorrect_event_num = tau_no_e[n_correct_4m_components == 0][\"event_num\"]"
   ]
  },
  {
   "cell_type": "code",
   "execution_count": 13,
   "metadata": {},
   "outputs": [
    {
     "data": {
      "text/html": [
       "<div>\n",
       "<style scoped>\n",
       "    .dataframe tbody tr th:only-of-type {\n",
       "        vertical-align: middle;\n",
       "    }\n",
       "\n",
       "    .dataframe tbody tr th {\n",
       "        vertical-align: top;\n",
       "    }\n",
       "\n",
       "    .dataframe thead th {\n",
       "        text-align: right;\n",
       "    }\n",
       "</style>\n",
       "<table border=\"1\" class=\"dataframe\">\n",
       "  <thead>\n",
       "    <tr style=\"text-align: right;\">\n",
       "      <th></th>\n",
       "      <th>event_num</th>\n",
       "      <th>pdg</th>\n",
       "      <th>E</th>\n",
       "      <th>px</th>\n",
       "      <th>py</th>\n",
       "      <th>pz</th>\n",
       "    </tr>\n",
       "  </thead>\n",
       "  <tbody>\n",
       "    <tr>\n",
       "      <th>85437</th>\n",
       "      <td>14462</td>\n",
       "      <td>16</td>\n",
       "      <td>0.455603</td>\n",
       "      <td>0.227081</td>\n",
       "      <td>0.366221</td>\n",
       "      <td>-0.147955</td>\n",
       "    </tr>\n",
       "    <tr>\n",
       "      <th>86869</th>\n",
       "      <td>14705</td>\n",
       "      <td>-16</td>\n",
       "      <td>1.741897</td>\n",
       "      <td>1.335788</td>\n",
       "      <td>-0.653086</td>\n",
       "      <td>0.907389</td>\n",
       "    </tr>\n",
       "    <tr>\n",
       "      <th>91144</th>\n",
       "      <td>15425</td>\n",
       "      <td>211</td>\n",
       "      <td>7.821918</td>\n",
       "      <td>4.661051</td>\n",
       "      <td>5.020981</td>\n",
       "      <td>3.771907</td>\n",
       "    </tr>\n",
       "    <tr>\n",
       "      <th>91145</th>\n",
       "      <td>15425</td>\n",
       "      <td>211</td>\n",
       "      <td>4.364382</td>\n",
       "      <td>2.741274</td>\n",
       "      <td>2.651072</td>\n",
       "      <td>2.117920</td>\n",
       "    </tr>\n",
       "    <tr>\n",
       "      <th>91146</th>\n",
       "      <td>15425</td>\n",
       "      <td>-16</td>\n",
       "      <td>1.072879</td>\n",
       "      <td>0.628553</td>\n",
       "      <td>0.511290</td>\n",
       "      <td>0.703260</td>\n",
       "    </tr>\n",
       "    <tr>\n",
       "      <th>...</th>\n",
       "      <td>...</td>\n",
       "      <td>...</td>\n",
       "      <td>...</td>\n",
       "      <td>...</td>\n",
       "      <td>...</td>\n",
       "      <td>...</td>\n",
       "    </tr>\n",
       "    <tr>\n",
       "      <th>447095</th>\n",
       "      <td>76637</td>\n",
       "      <td>16</td>\n",
       "      <td>1653.625432</td>\n",
       "      <td>1446.779545</td>\n",
       "      <td>-506.715352</td>\n",
       "      <td>620.117384</td>\n",
       "    </tr>\n",
       "    <tr>\n",
       "      <th>447111</th>\n",
       "      <td>76640</td>\n",
       "      <td>211</td>\n",
       "      <td>4.219130</td>\n",
       "      <td>3.109955</td>\n",
       "      <td>-2.847443</td>\n",
       "      <td>-0.042789</td>\n",
       "    </tr>\n",
       "    <tr>\n",
       "      <th>447112</th>\n",
       "      <td>76640</td>\n",
       "      <td>211</td>\n",
       "      <td>9.417698</td>\n",
       "      <td>7.102254</td>\n",
       "      <td>-6.182930</td>\n",
       "      <td>-0.053989</td>\n",
       "    </tr>\n",
       "    <tr>\n",
       "      <th>447113</th>\n",
       "      <td>76640</td>\n",
       "      <td>-16</td>\n",
       "      <td>29.920689</td>\n",
       "      <td>22.462416</td>\n",
       "      <td>-19.763846</td>\n",
       "      <td>0.279041</td>\n",
       "    </tr>\n",
       "    <tr>\n",
       "      <th>447117</th>\n",
       "      <td>76641</td>\n",
       "      <td>16</td>\n",
       "      <td>912.714463</td>\n",
       "      <td>-444.401917</td>\n",
       "      <td>470.147723</td>\n",
       "      <td>643.828972</td>\n",
       "    </tr>\n",
       "  </tbody>\n",
       "</table>\n",
       "<p>6267 rows × 6 columns</p>\n",
       "</div>"
      ],
      "text/plain": [
       "        event_num  pdg            E           px          py          pz\n",
       "85437       14462   16     0.455603     0.227081    0.366221   -0.147955\n",
       "86869       14705  -16     1.741897     1.335788   -0.653086    0.907389\n",
       "91144       15425  211     7.821918     4.661051    5.020981    3.771907\n",
       "91145       15425  211     4.364382     2.741274    2.651072    2.117920\n",
       "91146       15425  -16     1.072879     0.628553    0.511290    0.703260\n",
       "...           ...  ...          ...          ...         ...         ...\n",
       "447095      76637   16  1653.625432  1446.779545 -506.715352  620.117384\n",
       "447111      76640  211     4.219130     3.109955   -2.847443   -0.042789\n",
       "447112      76640  211     9.417698     7.102254   -6.182930   -0.053989\n",
       "447113      76640  -16    29.920689    22.462416  -19.763846    0.279041\n",
       "447117      76641   16   912.714463  -444.401917  470.147723  643.828972\n",
       "\n",
       "[6267 rows x 6 columns]"
      ]
     },
     "execution_count": 13,
     "metadata": {},
     "output_type": "execute_result"
    }
   ],
   "source": [
    "remaining_incorrect_events = no_e_events[no_e_events[\"event_num\"].isin(incorrect_event_num)]\n",
    "remaining_incorrect_events.groupby(\"event_num\").nth[3:]"
   ]
  },
  {
   "cell_type": "markdown",
   "metadata": {},
   "source": [
    "There seem to be mostly events where the tau decays to a tau neutrino and nothing else. \n",
    "\n",
    "I would guess that this is because the tau neutrino decays to two photons and a tau neutrino, and then the photons are not included.\n",
    "Since there are two particles that are unknown, it is not possible to determine their 4-momenta. They of course share half the missing energy each, but their directions are not known."
   ]
  },
  {
   "cell_type": "code",
   "execution_count": 14,
   "metadata": {},
   "outputs": [
    {
     "data": {
      "text/html": [
       "<div>\n",
       "<style scoped>\n",
       "    .dataframe tbody tr th:only-of-type {\n",
       "        vertical-align: middle;\n",
       "    }\n",
       "\n",
       "    .dataframe tbody tr th {\n",
       "        vertical-align: top;\n",
       "    }\n",
       "\n",
       "    .dataframe thead th {\n",
       "        text-align: right;\n",
       "    }\n",
       "</style>\n",
       "<table border=\"1\" class=\"dataframe\">\n",
       "  <thead>\n",
       "    <tr style=\"text-align: right;\">\n",
       "      <th></th>\n",
       "      <th>event_num</th>\n",
       "      <th>pdg</th>\n",
       "      <th>E</th>\n",
       "      <th>px</th>\n",
       "      <th>py</th>\n",
       "      <th>pz</th>\n",
       "    </tr>\n",
       "  </thead>\n",
       "  <tbody>\n",
       "    <tr>\n",
       "      <th>85434</th>\n",
       "      <td>14462</td>\n",
       "      <td>1000080160</td>\n",
       "      <td>14.895081</td>\n",
       "      <td>0.000000</td>\n",
       "      <td>0.000000</td>\n",
       "      <td>0.000000</td>\n",
       "    </tr>\n",
       "    <tr>\n",
       "      <th>85435</th>\n",
       "      <td>14462</td>\n",
       "      <td>16</td>\n",
       "      <td>32.364764</td>\n",
       "      <td>6.430823</td>\n",
       "      <td>23.039574</td>\n",
       "      <td>-21.801387</td>\n",
       "    </tr>\n",
       "    <tr>\n",
       "      <th>85436</th>\n",
       "      <td>14462</td>\n",
       "      <td>15</td>\n",
       "      <td>30.744208</td>\n",
       "      <td>5.603906</td>\n",
       "      <td>22.255583</td>\n",
       "      <td>-20.379756</td>\n",
       "    </tr>\n",
       "    <tr>\n",
       "      <th>85437</th>\n",
       "      <td>14462</td>\n",
       "      <td>16</td>\n",
       "      <td>0.455603</td>\n",
       "      <td>0.227081</td>\n",
       "      <td>0.366221</td>\n",
       "      <td>-0.147955</td>\n",
       "    </tr>\n",
       "  </tbody>\n",
       "</table>\n",
       "</div>"
      ],
      "text/plain": [
       "       event_num         pdg          E        px         py         pz\n",
       "85434      14462  1000080160  14.895081  0.000000   0.000000   0.000000\n",
       "85435      14462          16  32.364764  6.430823  23.039574 -21.801387\n",
       "85436      14462          15  30.744208  5.603906  22.255583 -20.379756\n",
       "85437      14462          16   0.455603  0.227081   0.366221  -0.147955"
      ]
     },
     "execution_count": 14,
     "metadata": {},
     "output_type": "execute_result"
    }
   ],
   "source": [
    "# Example:\n",
    "particle_info.query(\"event_num == 14462\")"
   ]
  },
  {
   "cell_type": "markdown",
   "metadata": {},
   "source": [
    "We now want to check the other events:"
   ]
  },
  {
   "cell_type": "code",
   "execution_count": 15,
   "metadata": {},
   "outputs": [],
   "source": [
    "remaining_incorrect_events2 = (\n",
    "    remaining_incorrect_events\n",
    "    .groupby(\"event_num\")\n",
    "    .filter(\n",
    "        lambda df: not (\n",
    "            (len(df.iloc[3:, 1]) == 1) \n",
    "            and (np.abs(df.iloc[3, 1]) == 16)\n",
    "        )\n",
    "    )\n",
    ")"
   ]
  },
  {
   "cell_type": "code",
   "execution_count": 16,
   "metadata": {},
   "outputs": [
    {
     "data": {
      "text/html": [
       "<div>\n",
       "<style scoped>\n",
       "    .dataframe tbody tr th:only-of-type {\n",
       "        vertical-align: middle;\n",
       "    }\n",
       "\n",
       "    .dataframe tbody tr th {\n",
       "        vertical-align: top;\n",
       "    }\n",
       "\n",
       "    .dataframe thead th {\n",
       "        text-align: right;\n",
       "    }\n",
       "</style>\n",
       "<table border=\"1\" class=\"dataframe\">\n",
       "  <thead>\n",
       "    <tr style=\"text-align: right;\">\n",
       "      <th></th>\n",
       "      <th>event_num</th>\n",
       "      <th>pdg</th>\n",
       "      <th>E</th>\n",
       "      <th>px</th>\n",
       "      <th>py</th>\n",
       "      <th>pz</th>\n",
       "    </tr>\n",
       "  </thead>\n",
       "  <tbody>\n",
       "    <tr>\n",
       "      <th>91904</th>\n",
       "      <td>15555</td>\n",
       "      <td>1000080160</td>\n",
       "      <td>14.895081</td>\n",
       "      <td>0.000000</td>\n",
       "      <td>0.000000</td>\n",
       "      <td>0.000000</td>\n",
       "    </tr>\n",
       "    <tr>\n",
       "      <th>91905</th>\n",
       "      <td>15555</td>\n",
       "      <td>16</td>\n",
       "      <td>47.054507</td>\n",
       "      <td>-7.615202</td>\n",
       "      <td>-19.700151</td>\n",
       "      <td>-42.048061</td>\n",
       "    </tr>\n",
       "    <tr>\n",
       "      <th>91906</th>\n",
       "      <td>15555</td>\n",
       "      <td>15</td>\n",
       "      <td>43.495663</td>\n",
       "      <td>-6.100936</td>\n",
       "      <td>-18.933855</td>\n",
       "      <td>-38.639401</td>\n",
       "    </tr>\n",
       "    <tr>\n",
       "      <th>91907</th>\n",
       "      <td>15555</td>\n",
       "      <td>111</td>\n",
       "      <td>9.426505</td>\n",
       "      <td>-0.809797</td>\n",
       "      <td>-3.802363</td>\n",
       "      <td>-8.586445</td>\n",
       "    </tr>\n",
       "    <tr>\n",
       "      <th>91908</th>\n",
       "      <td>15555</td>\n",
       "      <td>16</td>\n",
       "      <td>2.649729</td>\n",
       "      <td>-0.410884</td>\n",
       "      <td>-1.350791</td>\n",
       "      <td>-2.242232</td>\n",
       "    </tr>\n",
       "    <tr>\n",
       "      <th>...</th>\n",
       "      <td>...</td>\n",
       "      <td>...</td>\n",
       "      <td>...</td>\n",
       "      <td>...</td>\n",
       "      <td>...</td>\n",
       "      <td>...</td>\n",
       "    </tr>\n",
       "    <tr>\n",
       "      <th>447007</th>\n",
       "      <td>76619</td>\n",
       "      <td>2212</td>\n",
       "      <td>0.938270</td>\n",
       "      <td>0.000000</td>\n",
       "      <td>0.000000</td>\n",
       "      <td>0.000000</td>\n",
       "    </tr>\n",
       "    <tr>\n",
       "      <th>447008</th>\n",
       "      <td>76619</td>\n",
       "      <td>16</td>\n",
       "      <td>1168.397089</td>\n",
       "      <td>-1108.226844</td>\n",
       "      <td>182.089858</td>\n",
       "      <td>322.223995</td>\n",
       "    </tr>\n",
       "    <tr>\n",
       "      <th>447009</th>\n",
       "      <td>76619</td>\n",
       "      <td>15</td>\n",
       "      <td>559.871910</td>\n",
       "      <td>-530.591632</td>\n",
       "      <td>82.873574</td>\n",
       "      <td>158.296837</td>\n",
       "    </tr>\n",
       "    <tr>\n",
       "      <th>447010</th>\n",
       "      <td>76619</td>\n",
       "      <td>-211</td>\n",
       "      <td>21.691559</td>\n",
       "      <td>-20.524020</td>\n",
       "      <td>3.361495</td>\n",
       "      <td>6.161916</td>\n",
       "    </tr>\n",
       "    <tr>\n",
       "      <th>447011</th>\n",
       "      <td>76619</td>\n",
       "      <td>16</td>\n",
       "      <td>340.779546</td>\n",
       "      <td>-323.072629</td>\n",
       "      <td>49.750262</td>\n",
       "      <td>96.331131</td>\n",
       "    </tr>\n",
       "  </tbody>\n",
       "</table>\n",
       "<p>8931 rows × 6 columns</p>\n",
       "</div>"
      ],
      "text/plain": [
       "        event_num         pdg            E           px          py  \\\n",
       "91904       15555  1000080160    14.895081     0.000000    0.000000   \n",
       "91905       15555          16    47.054507    -7.615202  -19.700151   \n",
       "91906       15555          15    43.495663    -6.100936  -18.933855   \n",
       "91907       15555         111     9.426505    -0.809797   -3.802363   \n",
       "91908       15555          16     2.649729    -0.410884   -1.350791   \n",
       "...           ...         ...          ...          ...         ...   \n",
       "447007      76619        2212     0.938270     0.000000    0.000000   \n",
       "447008      76619          16  1168.397089 -1108.226844  182.089858   \n",
       "447009      76619          15   559.871910  -530.591632   82.873574   \n",
       "447010      76619        -211    21.691559   -20.524020    3.361495   \n",
       "447011      76619          16   340.779546  -323.072629   49.750262   \n",
       "\n",
       "                pz  \n",
       "91904     0.000000  \n",
       "91905   -42.048061  \n",
       "91906   -38.639401  \n",
       "91907    -8.586445  \n",
       "91908    -2.242232  \n",
       "...            ...  \n",
       "447007    0.000000  \n",
       "447008  322.223995  \n",
       "447009  158.296837  \n",
       "447010    6.161916  \n",
       "447011   96.331131  \n",
       "\n",
       "[8931 rows x 6 columns]"
      ]
     },
     "execution_count": 16,
     "metadata": {},
     "output_type": "execute_result"
    }
   ],
   "source": [
    "remaining_incorrect_events2.groupby(\"event_num\").filter(lambda df: sorted(np.abs(df.iloc[3:, 1]).tolist()) != [16, 211, 211])"
   ]
  },
  {
   "cell_type": "code",
   "execution_count": 17,
   "metadata": {},
   "outputs": [
    {
     "data": {
      "text/plain": [
       "{(-211, -211, 16),\n",
       " (-211, -16),\n",
       " (-211, 16),\n",
       " (-211, 211, 16),\n",
       " (-16, 211),\n",
       " (16, -211),\n",
       " (111, -211, 16),\n",
       " (111, -16),\n",
       " (111, 16),\n",
       " (111, 111, -16),\n",
       " (111, 111, 16),\n",
       " (111, 211, -16),\n",
       " (211, -211, -16),\n",
       " (211, -16),\n",
       " (211, 16),\n",
       " (211, 211, -16)}"
      ]
     },
     "execution_count": 17,
     "metadata": {},
     "output_type": "execute_result"
    }
   ],
   "source": [
    "set(tuple(a.tolist()) for i, a in remaining_incorrect_events2.groupby(\"event_num\").nth[3:].groupby(\"event_num\")[\"pdg\"])"
   ]
  },
  {
   "cell_type": "markdown",
   "metadata": {},
   "source": [
    "Decay modes that seem to be strange:\n",
    "\n",
    "16\n",
    "\n",
    "12, 16\n",
    "\n",
    "211, 16\n",
    "\n",
    "111, 16\n",
    "\n",
    "211, 211, 16\n",
    "\n",
    "111, 211, 16\n",
    "\n",
    "111, 111, 16"
   ]
  },
  {
   "cell_type": "markdown",
   "metadata": {},
   "source": [
    "111, 16: 15555\n",
    "16: 14462\n",
    "12, 16: 2\n",
    "\n"
   ]
  },
  {
   "cell_type": "code",
   "execution_count": 18,
   "metadata": {},
   "outputs": [
    {
     "data": {
      "text/html": [
       "<div>\n",
       "<style scoped>\n",
       "    .dataframe tbody tr th:only-of-type {\n",
       "        vertical-align: middle;\n",
       "    }\n",
       "\n",
       "    .dataframe tbody tr th {\n",
       "        vertical-align: top;\n",
       "    }\n",
       "\n",
       "    .dataframe thead th {\n",
       "        text-align: right;\n",
       "    }\n",
       "</style>\n",
       "<table border=\"1\" class=\"dataframe\">\n",
       "  <thead>\n",
       "    <tr style=\"text-align: right;\">\n",
       "      <th></th>\n",
       "      <th>event_num</th>\n",
       "      <th>pdg</th>\n",
       "      <th>E</th>\n",
       "      <th>px</th>\n",
       "      <th>py</th>\n",
       "      <th>pz</th>\n",
       "    </tr>\n",
       "  </thead>\n",
       "  <tbody>\n",
       "    <tr>\n",
       "      <th>85437</th>\n",
       "      <td>14462</td>\n",
       "      <td>16</td>\n",
       "      <td>0.455603</td>\n",
       "      <td>0.227081</td>\n",
       "      <td>0.366221</td>\n",
       "      <td>-0.147955</td>\n",
       "    </tr>\n",
       "    <tr>\n",
       "      <th>86869</th>\n",
       "      <td>14705</td>\n",
       "      <td>-16</td>\n",
       "      <td>1.741897</td>\n",
       "      <td>1.335788</td>\n",
       "      <td>-0.653086</td>\n",
       "      <td>0.907389</td>\n",
       "    </tr>\n",
       "    <tr>\n",
       "      <th>91563</th>\n",
       "      <td>15496</td>\n",
       "      <td>-16</td>\n",
       "      <td>1.900433</td>\n",
       "      <td>-1.141250</td>\n",
       "      <td>-1.146876</td>\n",
       "      <td>0.996930</td>\n",
       "    </tr>\n",
       "    <tr>\n",
       "      <th>93502</th>\n",
       "      <td>15822</td>\n",
       "      <td>-16</td>\n",
       "      <td>5.777562</td>\n",
       "      <td>-0.828564</td>\n",
       "      <td>5.506056</td>\n",
       "      <td>1.541767</td>\n",
       "    </tr>\n",
       "    <tr>\n",
       "      <th>95836</th>\n",
       "      <td>16219</td>\n",
       "      <td>-16</td>\n",
       "      <td>1.818010</td>\n",
       "      <td>-1.317725</td>\n",
       "      <td>1.229358</td>\n",
       "      <td>-0.239665</td>\n",
       "    </tr>\n",
       "    <tr>\n",
       "      <th>...</th>\n",
       "      <td>...</td>\n",
       "      <td>...</td>\n",
       "      <td>...</td>\n",
       "      <td>...</td>\n",
       "      <td>...</td>\n",
       "      <td>...</td>\n",
       "    </tr>\n",
       "    <tr>\n",
       "      <th>447066</th>\n",
       "      <td>76631</td>\n",
       "      <td>16</td>\n",
       "      <td>344.234924</td>\n",
       "      <td>-227.653441</td>\n",
       "      <td>208.804614</td>\n",
       "      <td>151.895446</td>\n",
       "    </tr>\n",
       "    <tr>\n",
       "      <th>447075</th>\n",
       "      <td>76633</td>\n",
       "      <td>16</td>\n",
       "      <td>373.356422</td>\n",
       "      <td>-254.399312</td>\n",
       "      <td>207.444290</td>\n",
       "      <td>-177.884442</td>\n",
       "    </tr>\n",
       "    <tr>\n",
       "      <th>447079</th>\n",
       "      <td>76634</td>\n",
       "      <td>16</td>\n",
       "      <td>504.537618</td>\n",
       "      <td>304.261142</td>\n",
       "      <td>-401.126038</td>\n",
       "      <td>32.882629</td>\n",
       "    </tr>\n",
       "    <tr>\n",
       "      <th>447095</th>\n",
       "      <td>76637</td>\n",
       "      <td>16</td>\n",
       "      <td>1653.625432</td>\n",
       "      <td>1446.779545</td>\n",
       "      <td>-506.715352</td>\n",
       "      <td>620.117384</td>\n",
       "    </tr>\n",
       "    <tr>\n",
       "      <th>447117</th>\n",
       "      <td>76641</td>\n",
       "      <td>16</td>\n",
       "      <td>912.714463</td>\n",
       "      <td>-444.401917</td>\n",
       "      <td>470.147723</td>\n",
       "      <td>643.828972</td>\n",
       "    </tr>\n",
       "  </tbody>\n",
       "</table>\n",
       "<p>2108 rows × 6 columns</p>\n",
       "</div>"
      ],
      "text/plain": [
       "        event_num  pdg            E           px          py          pz\n",
       "85437       14462   16     0.455603     0.227081    0.366221   -0.147955\n",
       "86869       14705  -16     1.741897     1.335788   -0.653086    0.907389\n",
       "91563       15496  -16     1.900433    -1.141250   -1.146876    0.996930\n",
       "93502       15822  -16     5.777562    -0.828564    5.506056    1.541767\n",
       "95836       16219  -16     1.818010    -1.317725    1.229358   -0.239665\n",
       "...           ...  ...          ...          ...         ...         ...\n",
       "447066      76631   16   344.234924  -227.653441  208.804614  151.895446\n",
       "447075      76633   16   373.356422  -254.399312  207.444290 -177.884442\n",
       "447079      76634   16   504.537618   304.261142 -401.126038   32.882629\n",
       "447095      76637   16  1653.625432  1446.779545 -506.715352  620.117384\n",
       "447117      76641   16   912.714463  -444.401917  470.147723  643.828972\n",
       "\n",
       "[2108 rows x 6 columns]"
      ]
     },
     "execution_count": 18,
     "metadata": {},
     "output_type": "execute_result"
    }
   ],
   "source": [
    "first_decay_product = particle_info.groupby(\"event_num\").nth[3]\n",
    "first_decay_product[first_decay_product[\"pdg\"].abs() == 16]"
   ]
  },
  {
   "cell_type": "markdown",
   "metadata": {},
   "source": [
    "### Charge conservation"
   ]
  },
  {
   "cell_type": "code",
   "execution_count": 19,
   "metadata": {},
   "outputs": [
    {
     "data": {
      "text/html": [
       "<div>\n",
       "<style scoped>\n",
       "    .dataframe tbody tr th:only-of-type {\n",
       "        vertical-align: middle;\n",
       "    }\n",
       "\n",
       "    .dataframe tbody tr th {\n",
       "        vertical-align: top;\n",
       "    }\n",
       "\n",
       "    .dataframe thead th {\n",
       "        text-align: right;\n",
       "    }\n",
       "</style>\n",
       "<table border=\"1\" class=\"dataframe\">\n",
       "  <thead>\n",
       "    <tr style=\"text-align: right;\">\n",
       "      <th></th>\n",
       "      <th>event_num</th>\n",
       "      <th>pdg</th>\n",
       "      <th>E</th>\n",
       "      <th>px</th>\n",
       "      <th>py</th>\n",
       "      <th>pz</th>\n",
       "    </tr>\n",
       "  </thead>\n",
       "  <tbody>\n",
       "    <tr>\n",
       "      <th>2</th>\n",
       "      <td>0</td>\n",
       "      <td>-15</td>\n",
       "      <td>3.251366</td>\n",
       "      <td>-0.023894</td>\n",
       "      <td>2.329548</td>\n",
       "      <td>1.409583</td>\n",
       "    </tr>\n",
       "  </tbody>\n",
       "</table>\n",
       "</div>"
      ],
      "text/plain": [
       "   event_num  pdg         E        px        py        pz\n",
       "2          0  -15  3.251366 -0.023894  2.329548  1.409583"
      ]
     },
     "execution_count": 19,
     "metadata": {},
     "output_type": "execute_result"
    }
   ],
   "source": [
    "particle_info.iloc[2:3, :]"
   ]
  },
  {
   "cell_type": "code",
   "execution_count": 20,
   "metadata": {},
   "outputs": [
    {
     "name": "stdout",
     "output_type": "stream",
     "text": [
      "-16\n"
     ]
    }
   ],
   "source": [
    "# Check that for every event with a tau there is a tau neutrino, and vice versa for anti-tau\n",
    "for event_num, df in particle_info.groupby(\"event_num\"):\n",
    "    second_neutrino_pdg = df.iloc[3:, 1][df.iloc[3:, 1].abs() == 16].iloc[0]\n",
    "    print(second_neutrino_pdg)\n",
    "    assert df.iloc[2, 1] * second_neutrino_pdg > 0\n",
    "    break"
   ]
  },
  {
   "cell_type": "markdown",
   "metadata": {},
   "source": [
    "## Branching ratios\n",
    "Check branching ratios of the various decay modes to see if it matches what we expect from e.g., PDG"
   ]
  },
  {
   "cell_type": "code",
   "execution_count": 21,
   "metadata": {},
   "outputs": [],
   "source": [
    "c = Counter(tuple(sorted(a.tolist())) for i, a in particle_info.groupby(\"event_num\").nth[2:].groupby(\"event_num\")[\"pdg\"])"
   ]
  },
  {
   "cell_type": "code",
   "execution_count": 22,
   "metadata": {},
   "outputs": [
    {
     "data": {
      "text/plain": [
       "(53172, 23471)"
      ]
     },
     "execution_count": 22,
     "metadata": {},
     "output_type": "execute_result"
    }
   ],
   "source": [
    "n_taus = (particle_info[\"pdg\"] == 15).sum()\n",
    "n_anti_taus = (particle_info[\"pdg\"] == -15).sum()\n",
    "n_taus, n_anti_taus"
   ]
  },
  {
   "cell_type": "code",
   "execution_count": 23,
   "metadata": {},
   "outputs": [
    {
     "data": {
      "text/plain": [
       "{(-15, -16, 211): 0.11482254697286012,\n",
       " (15, -211, -211, 16, 211): 0.09958248702324532,\n",
       " (15, -12, 16): 0.19335364477544573,\n",
       " (15, -211, 16, 111, 111): 0.09832242533664334,\n",
       " (15, -211, 16): 0.11758068156172422,\n",
       " (-15, -16, 111, 111, 211): 0.09582037407865025,\n",
       " (-15, -16, 12): 0.20403902688424014,\n",
       " (15, -211, 16, 111): 0.26811103588354773,\n",
       " (15, -14, 13, 16): 0.18966749416986384,\n",
       " (-15, -16, 111, 211): 0.2654339397554429,\n",
       " (-15, -16, -13, 14): 0.1789016232797921,\n",
       " (-15, -211, -16, 211, 211): 0.10008095096076008,\n",
       " (15, -12, 11, 16): 0.0008651169788610547,\n",
       " (-15, -16, -11, 12): 0.0006390865323164757,\n",
       " (15, 16): 0.018712856390581508,\n",
       " (-15, -16): 0.024583528609773763,\n",
       " (-15, -16, 211, 211): 0.0017042307528439351,\n",
       " (15, 16, 111): 0.008369066425938465,\n",
       " (-15, -211, -16, 211): 0.003025009586297985,\n",
       " (-15, -16, 111, 111): 0.0012781730646329514,\n",
       " (15, -211, 16, 211): 0.0025765440457383585,\n",
       " (-15, -16, 111): 0.008819394145967364,\n",
       " (15, 16, 111, 111): 0.001184834123222749,\n",
       " (15, -211, -211, 16): 0.001260061686601971,\n",
       " (15, 16, 211): 0.0004137515985857218,\n",
       " (-15, -211, -16): 0.0008521153764219676}"
      ]
     },
     "execution_count": 23,
     "metadata": {},
     "output_type": "execute_result"
    }
   ],
   "source": [
    "br = {}\n",
    "for pdgs, n in c.items():\n",
    "    if 15 in pdgs:\n",
    "        br[(15, *pdgs[:pdgs.index(15)], *pdgs[pdgs.index(15)+1:])] = n / n_taus\n",
    "    elif -15 in pdgs:\n",
    "        br[(-15, *pdgs[:pdgs.index(-15)], *pdgs[pdgs.index(-15)+1:])] = n / n_anti_taus\n",
    "    else:\n",
    "        raise ValueError(\"No tau in the event\")\n",
    "br"
   ]
  },
  {
   "cell_type": "code",
   "execution_count": 24,
   "metadata": {},
   "outputs": [
    {
     "name": "stdout",
     "output_type": "stream",
     "text": [
      "tau+ nu_tau_bar pi+ : 11.482254697286013\n",
      "tau- pi- pi- nu_tau pi+ : 9.958248702324532\n",
      "tau- nu_e_bar nu_tau : 19.335364477544573\n",
      "tau- pi- nu_tau pi0 pi0 : 9.832242533664335\n",
      "tau- pi- nu_tau : 11.758068156172422\n",
      "tau+ nu_tau_bar pi0 pi0 pi+ : 9.582037407865025\n",
      "tau+ nu_tau_bar nu_e : 20.403902688424015\n",
      "tau- pi- nu_tau pi0 : 26.811103588354772\n",
      "tau- nu_mu_bar mu- nu_tau : 18.966749416986385\n",
      "tau+ nu_tau_bar pi0 pi+ : 26.543393975544287\n",
      "tau+ nu_tau_bar mu+ nu_mu : 17.89016232797921\n",
      "tau+ pi- nu_tau_bar pi+ pi+ : 10.008095096076008\n",
      "tau- nu_e_bar e- nu_tau : 0.08651169788610547\n",
      "tau+ nu_tau_bar e+ nu_e : 0.06390865323164757\n",
      "tau- nu_tau : 1.8712856390581507\n",
      "tau+ nu_tau_bar : 2.458352860977376\n",
      "tau+ nu_tau_bar pi+ pi+ : 0.17042307528439352\n",
      "tau- nu_tau pi0 : 0.8369066425938465\n",
      "tau+ pi- nu_tau_bar pi+ : 0.3025009586297985\n",
      "tau+ nu_tau_bar pi0 pi0 : 0.12781730646329514\n",
      "tau- pi- nu_tau pi+ : 0.25765440457383587\n",
      "tau+ nu_tau_bar pi0 : 0.8819394145967364\n",
      "tau- nu_tau pi0 pi0 : 0.11848341232227488\n",
      "tau- pi- pi- nu_tau : 0.1260061686601971\n",
      "tau- nu_tau pi+ : 0.04137515985857218\n",
      "tau+ pi- nu_tau_bar : 0.08521153764219676\n"
     ]
    }
   ],
   "source": [
    "pdg2name = {15: \"tau-\", 16: \"nu_tau\", 211: \"pi+\", -15: \"tau+\", -16: \"nu_tau_bar\", -211: \"pi-\", 111: \"pi0\", 13: \"mu-\", -13: \"mu+\", 14: \"nu_mu\", -14: \"nu_mu_bar\", 11: \"e-\", -11: \"e+\", 12: \"nu_e\", -12: \"nu_e_bar\"}\n",
    "\n",
    "for pdgs, n in br.items():\n",
    "    for pdg in pdgs:\n",
    "        print(pdg2name[pdg], end=\" \")\n",
    "    print(\":\", n*100)"
   ]
  },
  {
   "cell_type": "markdown",
   "metadata": {},
   "source": [
    "```\n",
    "tau | decay products | branching ratio              | PDG\n",
    "------------------------------------------------------------\n",
    "tau+ nu_tau_bar pi+ : 11.482254697286013            10.8164\n",
    "tau- pi- pi- nu_tau pi+ : 9.958248702324532         8.9868\n",
    "tau- nu_e_bar nu_tau : 19.335364477544573           17.8175 x\n",
    "tau- pi- nu_tau pi0 pi0 : 9.832242533664335         9.2595\n",
    "tau- pi- nu_tau : 11.758068156172422                10.8164\n",
    "tau+ nu_tau_bar pi0 pi0 pi+ : 9.582037407865025     9.2595 \n",
    "tau+ nu_tau_bar nu_e : 20.403902688424015           17.8175 x\n",
    "tau- pi- nu_tau pi0 : 26.811103588354772            25.4941\n",
    "tau- nu_mu_bar mu- nu_tau : 18.966749416986385      17.3937\n",
    "tau+ nu_tau_bar pi0 pi+ : 26.543393975544287        25.4941\n",
    "tau+ nu_tau_bar mu+ nu_mu : 17.89016232797921       17.3937\n",
    "tau+ pi- nu_tau_bar pi+ pi+ : 10.008095096076008    8.9868\n",
    "tau- nu_e_bar e- nu_tau : 0.08651169788610547       17.8175 (same as above??)\n",
    "tau+ nu_tau_bar e+ nu_e : 0.06390865323164757       17.8175 (same as above??)\n",
    "tau- nu_tau : 1.8712856390581507                    0.6964 x\n",
    "tau+ nu_tau_bar : 2.458352860977376                 0.6964 x\n",
    "tau+ nu_tau_bar pi+ pi+ : 0.17042307528439352       ?\n",
    "tau- nu_tau pi0 : 0.8369066425938465                0.4328 x\n",
    "tau+ pi- nu_tau_bar pi+ : 0.3025009586297985        0.2927 x\n",
    "tau+ nu_tau_bar pi0 pi0 : 0.12781730646329514       0.0647 x\n",
    "tau- pi- nu_tau pi+ : 0.25765440457383587           0.2927 x\n",
    "tau+ nu_tau_bar pi0 : 0.8819394145967364            0.4328 x\n",
    "tau- nu_tau pi0 pi0 : 0.11848341232227488           0.0647 x\n",
    "tau- pi- pi- nu_tau : 0.1260061686601971            ?\n",
    "tau- nu_tau pi+ : 0.04137515985857218               ?\n",
    "tau+ pi- nu_tau_bar : 0.08521153764219676           ?\n",
    "```"
   ]
  },
  {
   "cell_type": "code",
   "execution_count": 25,
   "metadata": {},
   "outputs": [
    {
     "name": "stdout",
     "output_type": "stream",
     "text": [
      "Tau, decay products, branching ratio (%), Poisson error (%), PDG branching ratio (%), difference (sigma)\n",
      "(-16, -15, 211) 11.482254697286013 0.22118098679080414 10.8164 3.0104517885879014\n",
      "(-211, -211, 15, 16, 211) 9.958248702324532 0.13685163365851494 8.9868 7.098553932856817\n",
      "(-12, 15, 16) 19.335364477544573 0.19069297028829124 17.8175 7.959729586517288\n",
      "(-211, 15, 16, 111, 111) 9.832242533664335 0.13598305485989032 9.2595 4.211866943675144\n",
      "(-211, 15, 16) 11.758068156172422 0.14870531408087562 10.8164 6.332444553126609\n",
      "(-16, -15, 111, 111, 211) 9.582037407865025 0.20205199099108478 9.2595 1.5963089810842659\n",
      "(-16, -15, 12) 20.403902688424015 0.2948430024591361 17.8175 8.77213522739947\n",
      "(-211, 15, 16, 111) 26.811103588354772 0.2245514414594042 25.4941 5.86504179084893\n",
      "(-14, 13, 15, 16) 18.966749416986385 0.18886650999212168 17.3937 8.32889545664821\n",
      "(-16, -15, 111, 211) 26.543393975544287 0.3362888204281218 25.4941 3.1202166465375054\n",
      "(-16, -15, -13, 14) 17.89016232797921 0.276084066964721 17.3937 1.7982288273181988\n",
      "(-211, -16, -15, 211, 211) 10.008095096076008 0.20649517815265875 8.9868 4.945854451482543\n"
     ]
    }
   ],
   "source": [
    "pdg_brs = [\n",
    "    10.8164,\n",
    "    8.9868,\n",
    "    17.8175,\n",
    "    9.2595,\n",
    "    10.8164,\n",
    "    9.2595 ,\n",
    "    17.8175,\n",
    "    25.4941,\n",
    "    17.3937,\n",
    "    25.4941,\n",
    "    17.3937,\n",
    "    8.9868,\n",
    "]\n",
    "\n",
    "print(\"Tau, decay products, branching ratio (%), Poisson error (%), PDG branching ratio (%), difference (sigma)\")\n",
    "for i, ((pdgs, n_br), pdg_br) in enumerate(zip(c.items(), pdg_brs)):\n",
    "    if i >= 12:\n",
    "        break\n",
    "    \n",
    "    n = n_taus if 15 in pdgs else n_anti_taus\n",
    "    print(pdgs, n_br / n * 100, np.sqrt(n_br)/n * 100, pdg_br, np.abs((n_br / n * 100 - pdg_br) / (np.sqrt(n_br)/n * 100)))"
   ]
  },
  {
   "cell_type": "markdown",
   "metadata": {},
   "source": [
    "The branching ratios match relatively well but compared to the PDG official branching ratios, most of them differ by > 4 sigma, which cannot be explained purely by low statstics. This either means that:\n",
    "- the labeling is not correct for any of the processes\n",
    "- the branching ratios in Geant4 differ quite significantly from the PDG branching ratios\n",
    "- The PDG branching ratios differ because they take some kind of polarization into account\n",
    "- The PDG branching ratios differ because the branching ratios must be weighted (see PDF). However, most branching ratios seem to have a coefficient of 1 anyway, so I do not think this has a large effect. Though I can be wrong.\n",
    "\n",
    "In any case, the branching ratios do not differ from the PDG branching ratios by a factor of 2 or something like that (except for the questionable ones), so I can probably use them for comparisons with Tauola for now, until I have better samples."
   ]
  },
  {
   "cell_type": "markdown",
   "metadata": {},
   "source": [
    "### Nucleus"
   ]
  },
  {
   "cell_type": "code",
   "execution_count": 26,
   "metadata": {},
   "outputs": [],
   "source": [
    "nucleus = particle_info.groupby(\"event_num\").first()"
   ]
  },
  {
   "cell_type": "code",
   "execution_count": 27,
   "metadata": {},
   "outputs": [
    {
     "data": {
      "text/plain": [
       "pdg\n",
       "1000080160    69412\n",
       "2212           7231\n",
       "Name: count, dtype: int64"
      ]
     },
     "execution_count": 27,
     "metadata": {},
     "output_type": "execute_result"
    }
   ],
   "source": [
    "nucleus.pdg.value_counts()"
   ]
  },
  {
   "cell_type": "code",
   "execution_count": 4,
   "metadata": {},
   "outputs": [
    {
     "data": {
      "text/plain": [
       "(0.9056534843364691, 0.09434651566353092)"
      ]
     },
     "execution_count": 4,
     "metadata": {},
     "output_type": "execute_result"
    }
   ],
   "source": [
    "69412 / (69412 + 7231), 7231 / (69412 + 7231)"
   ]
  },
  {
   "cell_type": "code",
   "execution_count": 28,
   "metadata": {},
   "outputs": [
    {
     "data": {
      "text/plain": [
       "E\n",
       "14.895081    69412\n",
       "0.938270      7231\n",
       "Name: count, dtype: int64"
      ]
     },
     "execution_count": 28,
     "metadata": {},
     "output_type": "execute_result"
    }
   ],
   "source": [
    "nucleus.E.value_counts()"
   ]
  },
  {
   "cell_type": "markdown",
   "metadata": {},
   "source": [
    "We mostly have interactions with the oxygen nucleus, but we also have a few with a proton, i.e., hydrogen nucleus. This looks reasonable.\n",
    "\n",
    "The energy is also what we expect."
   ]
  },
  {
   "cell_type": "markdown",
   "metadata": {},
   "source": [
    "### Tau energy"
   ]
  },
  {
   "cell_type": "code",
   "execution_count": 29,
   "metadata": {},
   "outputs": [],
   "source": [
    "taus = particle_info[particle_info[\"pdg\"] == 15]\n",
    "anti_taus = particle_info[particle_info[\"pdg\"] == -15]"
   ]
  },
  {
   "cell_type": "code",
   "execution_count": 30,
   "metadata": {},
   "outputs": [
    {
     "data": {
      "text/plain": [
       "(2.2156010004372018, 9188.968005893275)"
      ]
     },
     "execution_count": 30,
     "metadata": {},
     "output_type": "execute_result"
    }
   ],
   "source": [
    "taus[\"E\"].min(), taus[\"E\"].max()"
   ]
  },
  {
   "cell_type": "code",
   "execution_count": 31,
   "metadata": {},
   "outputs": [
    {
     "data": {
      "image/png": "[encoded data removed]",
      "text/plain": [
       "<Figure size 1000x400 with 2 Axes>"
      ]
     },
     "metadata": {},
     "output_type": "display_data"
    }
   ],
   "source": [
    "fig, (ax1, ax2) = plt.subplots(figsize=(10, 4), ncols=2, layout=\"constrained\")\n",
    "\n",
    "ax1.hist(taus[\"E\"], bins=np.geomspace(taus[\"E\"].min(), taus[\"E\"].max(), 100), label=\"tau-\")\n",
    "ax2.hist(anti_taus[\"E\"], bins=np.geomspace(anti_taus[\"E\"].min(), anti_taus[\"E\"].max(), 100), label=\"tau+\")\n",
    "\n",
    "for ax in (ax1, ax2):\n",
    "    ax.set(xscale=\"log\", yscale=\"log\", xlabel=\"Energy (GeV)\", ylabel=\"Number of taus\")\n",
    "    ax.grid(True, alpha=0.5)\n",
    "    ax.legend()"
   ]
  },
  {
   "cell_type": "code",
   "execution_count": 32,
   "metadata": {},
   "outputs": [],
   "source": [
    "nutaus = particle_info.groupby(\"event_num\").nth(1)\n",
    "anti_nutaus = nutaus.query(\"pdg == -16\")\n",
    "nutaus = nutaus.query(\"pdg == 16\")"
   ]
  },
  {
   "cell_type": "code",
   "execution_count": 33,
   "metadata": {},
   "outputs": [
    {
     "data": {
      "text/plain": [
       "pdg\n",
       " 16    53172\n",
       "-16    23471\n",
       "Name: count, dtype: int64"
      ]
     },
     "execution_count": 33,
     "metadata": {},
     "output_type": "execute_result"
    }
   ],
   "source": [
    "particle_info.groupby(\"event_num\").nth(1)[\"pdg\"].value_counts()"
   ]
  },
  {
   "cell_type": "code",
   "execution_count": 34,
   "metadata": {},
   "outputs": [],
   "source": [
    "# Check that tau*nutau PDG is always greater than 0, i.e., they have the same sign\n",
    "assert ((nutaus[\"pdg\"].values * taus[\"pdg\"].values) > 0).all()\n",
    "assert ((anti_nutaus[\"pdg\"].values * anti_taus[\"pdg\"].values) > 0).all()"
   ]
  },
  {
   "cell_type": "code",
   "execution_count": 35,
   "metadata": {},
   "outputs": [
    {
     "data": {
      "image/png": "[encoded data removed]",
      "text/plain": [
       "<Figure size 1000x400 with 2 Axes>"
      ]
     },
     "metadata": {},
     "output_type": "display_data"
    }
   ],
   "source": [
    "fig, (ax1, ax2) = plt.subplots(figsize=(10, 4), ncols=2, layout=\"constrained\")\n",
    "\n",
    "ax1.hist(nutaus[\"E\"], bins=np.geomspace(nutaus[\"E\"].min(), nutaus[\"E\"].max(), 100), label=r\"$\\nu_\\tau$\")\n",
    "ax2.hist(anti_nutaus[\"E\"], bins=np.geomspace(anti_nutaus[\"E\"].min(), anti_nutaus[\"E\"].max(), 100), label=r\"$\\bar\\nu_\\tau$\")\n",
    "\n",
    "for ax in (ax1, ax2):\n",
    "    ax.set(xscale=\"log\", yscale=\"log\", xlabel=\"Energy (GeV)\", ylabel=\"Number of taus\")\n",
    "    ax.grid(True, alpha=0.5)\n",
    "    ax.legend()"
   ]
  },
  {
   "cell_type": "markdown",
   "metadata": {},
   "source": [
    "$\\nu_\\tau$ and $\\tau$ energy distributions are similar. We are mostly interested in the low-energy events, where the energy is < 50 GeV."
   ]
  },
  {
   "cell_type": "markdown",
   "metadata": {},
   "source": [
    "## Analyze event information\n",
    "Just for sanity checks"
   ]
  },
  {
   "cell_type": "code",
   "execution_count": 36,
   "metadata": {},
   "outputs": [
    {
     "data": {
      "text/plain": [
       "event_num    2.937036e+09\n",
       "cc           7.664300e+04\n",
       "dis          4.067000e+04\n",
       "qel          1.594000e+04\n",
       "res          2.001700e+04\n",
       "xsec         8.392645e+06\n",
       "dtype: float64"
      ]
     },
     "execution_count": 36,
     "metadata": {},
     "output_type": "execute_result"
    }
   ],
   "source": [
    "event_info.sum(axis=0)"
   ]
  },
  {
   "cell_type": "markdown",
   "metadata": {},
   "source": [
    "There seems to be the same order of magnitude of DIS, QEL and RES events, with a majority of DIS events."
   ]
  },
  {
   "cell_type": "code",
   "execution_count": 37,
   "metadata": {},
   "outputs": [
    {
     "data": {
      "text/plain": [
       "True"
      ]
     },
     "execution_count": 37,
     "metadata": {},
     "output_type": "execute_result"
    }
   ],
   "source": [
    "event_info[\"cc\"].all()"
   ]
  },
  {
   "cell_type": "markdown",
   "metadata": {},
   "source": [
    "All events are CC, which is good since those are the only ones we are interested in."
   ]
  },
  {
   "cell_type": "markdown",
   "metadata": {},
   "source": [
    "# Only tau decays\n",
    "The file analyzed below are only simulations of tau particles decaying in Geant4, i.e., no neutrinos interacting with ice in GENIE first.\n",
    "This is mainly (or only) useful for checking decay branching ratios."
   ]
  },
  {
   "cell_type": "code",
   "execution_count": 2,
   "metadata": {},
   "outputs": [],
   "source": [
    "tau_decays = pd.read_csv(\"tau_decays_159007_particles.csv\")"
   ]
  },
  {
   "cell_type": "code",
   "execution_count": 7,
   "metadata": {},
   "outputs": [],
   "source": [
    "c = Counter(tuple(sorted(a.tolist())) for i, a in tau_decays.groupby(\"event_num\")[\"pdg\"])"
   ]
  },
  {
   "cell_type": "code",
   "execution_count": 9,
   "metadata": {},
   "outputs": [
    {
     "data": {
      "text/plain": [
       "(38916, 0)"
      ]
     },
     "execution_count": 9,
     "metadata": {},
     "output_type": "execute_result"
    }
   ],
   "source": [
    "n_taus = (tau_decays[\"pdg\"] == 15).sum()\n",
    "n_anti_taus = (tau_decays[\"pdg\"] == -15).sum()\n",
    "n_taus, n_anti_taus"
   ]
  },
  {
   "cell_type": "code",
   "execution_count": 10,
   "metadata": {},
   "outputs": [
    {
     "data": {
      "text/plain": [
       "{(15, -211, 16, 111): 0.2877993627299825,\n",
       " (15, -211, 16): 0.11039161270428616,\n",
       " (15, -211, -211, 16, 211): 0.0953078425326344,\n",
       " (15, -14, 13, 16): 0.19727104532839962,\n",
       " (15, -12, 11, 16): 0.2049799568300956,\n",
       " (15, -211, 16, 111, 111): 0.10425017987460171}"
      ]
     },
     "execution_count": 10,
     "metadata": {},
     "output_type": "execute_result"
    }
   ],
   "source": [
    "br = {}\n",
    "for pdgs, n in c.items():\n",
    "    if 15 in pdgs:\n",
    "        br[(15, *pdgs[:pdgs.index(15)], *pdgs[pdgs.index(15)+1:])] = n / n_taus\n",
    "    elif -15 in pdgs:\n",
    "        br[(-15, *pdgs[:pdgs.index(-15)], *pdgs[pdgs.index(-15)+1:])] = n / n_anti_taus\n",
    "    else:\n",
    "        raise ValueError(\"No tau in the event\")\n",
    "br"
   ]
  },
  {
   "cell_type": "markdown",
   "metadata": {},
   "source": [
    "Source: https://geant4-userdoc.web.cern.ch/UsersGuides/ForApplicationDeveloper/html/TrackingAndPhysics/AllResources/TrackingAndPhysics/particleList.src/leptons/tau-.html and https://github.com/Geant4/geant4/blob/master/source/particles/leptons/src/G4TauMinus.cc\n",
    "\n",
    "| Decay mode | Branching ratio in code | Branching ratio in simulation | \n",
    "| --- | -- |-- |\n",
    "13, -14 | 0.1736         | 0.19727104532839962\n",
    "11, -12 | 0.1784         | 0.2049799568300956\n",
    "-211 | 0.1106            | 0.11039161270428616\n",
    "-211, 111 | 0.2541       | 0.2877993627299825\n",
    "-211, 111, 111| 0.0917  | 0.10425017987460171\n",
    "-211, -211, 211 | 0.0946 |  0.0953078425326344\n",
    "Total | 0.903 | 1.0"
   ]
  },
  {
   "cell_type": "code",
   "execution_count": 2,
   "metadata": {},
   "outputs": [
    {
     "data": {
      "text/plain": [
       "0.903"
      ]
     },
     "execution_count": 2,
     "metadata": {},
     "output_type": "execute_result"
    }
   ],
   "source": [
    "sum([2.5410000e-01,1.7840000e-01,1.7360000e-01,1.1060000e-01,9.4600000e-02,9.1700000e-02])"
   ]
  },
  {
   "cell_type": "code",
   "execution_count": 1,
   "metadata": {},
   "outputs": [
    {
     "data": {
      "text/plain": [
       "0.903"
      ]
     },
     "execution_count": 1,
     "metadata": {},
     "output_type": "execute_result"
    }
   ],
   "source": [
    "0.1736 + 0.1784 + 0.1106 + 0.2541 + 0.0917 + 0.0946"
   ]
  },
  {
   "cell_type": "code",
   "execution_count": 11,
   "metadata": {},
   "outputs": [
    {
     "name": "stdout",
     "output_type": "stream",
     "text": [
      "tau- pi- nu_tau pi0 : 28.779936272998253\n",
      "tau- pi- nu_tau : 11.039161270428616\n",
      "tau- pi- pi- nu_tau pi+ : 9.53078425326344\n",
      "tau- nu_mu_bar mu- nu_tau : 19.727104532839963\n",
      "tau- nu_e_bar e- nu_tau : 20.49799568300956\n",
      "tau- pi- nu_tau pi0 pi0 : 10.425017987460171\n"
     ]
    }
   ],
   "source": [
    "pdg2name = {15: \"tau-\", 16: \"nu_tau\", 211: \"pi+\", -15: \"tau+\", -16: \"nu_tau_bar\", -211: \"pi-\", 111: \"pi0\", 13: \"mu-\", -13: \"mu+\", 14: \"nu_mu\", -14: \"nu_mu_bar\", 11: \"e-\", -11: \"e+\", 12: \"nu_e\", -12: \"nu_e_bar\"}\n",
    "\n",
    "for pdgs, n in br.items():\n",
    "    for pdg in pdgs:\n",
    "        print(pdg2name[pdg], end=\" \")\n",
    "    print(\":\", n*100)"
   ]
  },
  {
   "cell_type": "markdown",
   "metadata": {},
   "source": [
    "Check 4-momentum conservation:"
   ]
  },
  {
   "cell_type": "code",
   "execution_count": 14,
   "metadata": {},
   "outputs": [],
   "source": [
    "# Check if there are any events where two taus are produced\n",
    "# There should not be any\n",
    "assert not (tau_decays[np.abs(tau_decays['pdg']) == 15].groupby(\"event_num\").count() > 1).any().any()\n",
    "taus = tau_decays[np.abs(tau_decays[\"pdg\"]) == 15]\n",
    "assert (taus[\"event_num\"] == np.arange(len(taus))).all()"
   ]
  },
  {
   "cell_type": "code",
   "execution_count": 15,
   "metadata": {},
   "outputs": [
    {
     "data": {
      "text/html": [
       "<div>\n",
       "<style scoped>\n",
       "    .dataframe tbody tr th:only-of-type {\n",
       "        vertical-align: middle;\n",
       "    }\n",
       "\n",
       "    .dataframe tbody tr th {\n",
       "        vertical-align: top;\n",
       "    }\n",
       "\n",
       "    .dataframe thead th {\n",
       "        text-align: right;\n",
       "    }\n",
       "</style>\n",
       "<table border=\"1\" class=\"dataframe\">\n",
       "  <thead>\n",
       "    <tr style=\"text-align: right;\">\n",
       "      <th></th>\n",
       "      <th>event_num</th>\n",
       "      <th>pdg</th>\n",
       "      <th>E</th>\n",
       "      <th>px</th>\n",
       "      <th>py</th>\n",
       "      <th>pz</th>\n",
       "    </tr>\n",
       "  </thead>\n",
       "  <tbody>\n",
       "    <tr>\n",
       "      <th>0</th>\n",
       "      <td>0</td>\n",
       "      <td>15</td>\n",
       "      <td>2.77682</td>\n",
       "      <td>-0.0</td>\n",
       "      <td>-0.0</td>\n",
       "      <td>2.133926</td>\n",
       "    </tr>\n",
       "    <tr>\n",
       "      <th>4</th>\n",
       "      <td>1</td>\n",
       "      <td>15</td>\n",
       "      <td>2.77682</td>\n",
       "      <td>-0.0</td>\n",
       "      <td>-0.0</td>\n",
       "      <td>2.133926</td>\n",
       "    </tr>\n",
       "    <tr>\n",
       "      <th>7</th>\n",
       "      <td>2</td>\n",
       "      <td>15</td>\n",
       "      <td>2.77682</td>\n",
       "      <td>-0.0</td>\n",
       "      <td>-0.0</td>\n",
       "      <td>2.133926</td>\n",
       "    </tr>\n",
       "    <tr>\n",
       "      <th>11</th>\n",
       "      <td>3</td>\n",
       "      <td>15</td>\n",
       "      <td>2.77682</td>\n",
       "      <td>-0.0</td>\n",
       "      <td>-0.0</td>\n",
       "      <td>2.133926</td>\n",
       "    </tr>\n",
       "    <tr>\n",
       "      <th>16</th>\n",
       "      <td>4</td>\n",
       "      <td>15</td>\n",
       "      <td>2.77682</td>\n",
       "      <td>-0.0</td>\n",
       "      <td>-0.0</td>\n",
       "      <td>2.133926</td>\n",
       "    </tr>\n",
       "    <tr>\n",
       "      <th>...</th>\n",
       "      <td>...</td>\n",
       "      <td>...</td>\n",
       "      <td>...</td>\n",
       "      <td>...</td>\n",
       "      <td>...</td>\n",
       "      <td>...</td>\n",
       "    </tr>\n",
       "    <tr>\n",
       "      <th>159113</th>\n",
       "      <td>38911</td>\n",
       "      <td>15</td>\n",
       "      <td>101.77682</td>\n",
       "      <td>-0.0</td>\n",
       "      <td>-0.0</td>\n",
       "      <td>101.761309</td>\n",
       "    </tr>\n",
       "    <tr>\n",
       "      <th>159117</th>\n",
       "      <td>38912</td>\n",
       "      <td>15</td>\n",
       "      <td>101.77682</td>\n",
       "      <td>-0.0</td>\n",
       "      <td>-0.0</td>\n",
       "      <td>101.761309</td>\n",
       "    </tr>\n",
       "    <tr>\n",
       "      <th>159122</th>\n",
       "      <td>38913</td>\n",
       "      <td>15</td>\n",
       "      <td>101.77682</td>\n",
       "      <td>-0.0</td>\n",
       "      <td>-0.0</td>\n",
       "      <td>101.761309</td>\n",
       "    </tr>\n",
       "    <tr>\n",
       "      <th>159126</th>\n",
       "      <td>38914</td>\n",
       "      <td>15</td>\n",
       "      <td>101.77682</td>\n",
       "      <td>-0.0</td>\n",
       "      <td>-0.0</td>\n",
       "      <td>101.761309</td>\n",
       "    </tr>\n",
       "    <tr>\n",
       "      <th>159130</th>\n",
       "      <td>38915</td>\n",
       "      <td>15</td>\n",
       "      <td>101.77682</td>\n",
       "      <td>-0.0</td>\n",
       "      <td>-0.0</td>\n",
       "      <td>101.761309</td>\n",
       "    </tr>\n",
       "  </tbody>\n",
       "</table>\n",
       "<p>38916 rows × 6 columns</p>\n",
       "</div>"
      ],
      "text/plain": [
       "        event_num  pdg          E   px   py          pz\n",
       "0               0   15    2.77682 -0.0 -0.0    2.133926\n",
       "4               1   15    2.77682 -0.0 -0.0    2.133926\n",
       "7               2   15    2.77682 -0.0 -0.0    2.133926\n",
       "11              3   15    2.77682 -0.0 -0.0    2.133926\n",
       "16              4   15    2.77682 -0.0 -0.0    2.133926\n",
       "...           ...  ...        ...  ...  ...         ...\n",
       "159113      38911   15  101.77682 -0.0 -0.0  101.761309\n",
       "159117      38912   15  101.77682 -0.0 -0.0  101.761309\n",
       "159122      38913   15  101.77682 -0.0 -0.0  101.761309\n",
       "159126      38914   15  101.77682 -0.0 -0.0  101.761309\n",
       "159130      38915   15  101.77682 -0.0 -0.0  101.761309\n",
       "\n",
       "[38916 rows x 6 columns]"
      ]
     },
     "execution_count": 15,
     "metadata": {},
     "output_type": "execute_result"
    }
   ],
   "source": [
    "taus"
   ]
  },
  {
   "cell_type": "code",
   "execution_count": 23,
   "metadata": {},
   "outputs": [
    {
     "data": {
      "text/plain": [
       "(array([2, 4]), array([   40, 38876]))"
      ]
     },
     "execution_count": 23,
     "metadata": {},
     "output_type": "execute_result"
    }
   ],
   "source": [
    "np.unique(\n",
    "    np.isclose(\n",
    "        tau_decays\n",
    "            .drop(\"pdg\", axis=1)\n",
    "            .groupby(\"event_num\")\n",
    "            .nth[1:]\n",
    "            .groupby(\"event_num\")\n",
    "            .sum(), \n",
    "        taus\n",
    "            .set_index(\"event_num\")\n",
    "            .drop(\"pdg\", axis=1)\n",
    "        , atol=0.01)\n",
    "    .sum(axis=1)\n",
    "    , return_counts=True\n",
    ")"
   ]
  }
 ],
 "metadata": {
  "kernelspec": {
   "display_name": "cern-skhep",
   "language": "python",
   "name": "python3"
  },
  "language_info": {
   "codemirror_mode": {
    "name": "ipython",
    "version": 3
   },
   "file_extension": ".py",
   "mimetype": "text/x-python",
   "name": "python",
   "nbconvert_exporter": "python",
   "pygments_lexer": "ipython3",
   "version": "3.11.4"
  }
 },
 "nbformat": 4,
 "nbformat_minor": 2
}
