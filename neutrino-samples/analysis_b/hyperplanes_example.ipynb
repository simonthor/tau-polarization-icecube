{
 "cells": [
  {
   "cell_type": "markdown",
   "metadata": {},
   "source": [
    "# Hyperplanes for Analysis B"
   ]
  },
  {
   "cell_type": "markdown",
   "metadata": {},
   "source": [
    "This code shows an example of how to produce an expected number of events for the histograms used in the analysis given the dataset of Analysis B from https://icecube.wisc.edu/science/data/highstats_nuosc_3y. This calculation will not return the values from the paper because we do not use a realistic neutrino flux model and it misses oscillations."
   ]
  },
  {
   "cell_type": "code",
   "execution_count": 1,
   "metadata": {},
   "outputs": [],
   "source": [
    "import numpy as np\n",
    "import pandas as pd\n",
    "from matplotlib import pyplot as plt"
   ]
  },
  {
   "cell_type": "code",
   "execution_count": 2,
   "metadata": {},
   "outputs": [],
   "source": [
    "# Load the data files\n",
    "neutrino_mc = pd.read_csv(\"/home/peller/datarelease/dragon/neutrino_mc.csv\")\n",
    "muons = pd.read_csv(\"/home/peller/datarelease/dragon/muons.csv\")\n",
    "\n",
    "hyperplanes = {}\n",
    "hyperplanes['nuall_nc'] = pd.read_csv(\"/home/peller/datarelease/dragon/hyperplanes_all_nc.csv\")\n",
    "hyperplanes['nue_cc'] = pd.read_csv(\"/home/peller/datarelease/dragon/hyperplanes_nue_cc.csv\")\n",
    "hyperplanes['numu_cc'] = pd.read_csv(\"/home/peller/datarelease/dragon/hyperplanes_numu_cc.csv\")\n",
    "hyperplanes['nutau_cc'] = pd.read_csv(\"/home/peller/datarelease/dragon/hyperplanes_nutau_cc.csv\")"
   ]
  },
  {
   "cell_type": "code",
   "execution_count": 3,
   "metadata": {},
   "outputs": [],
   "source": [
    "# add some simple weights\n",
    "# This is a dummy flux model that is used soleley for illustration purposes\n",
    "# the weights here also do not include the oscilaltion calculations which are necessary\n",
    "neutrino_mc['plot_weight'] = neutrino_mc['weight'] * 1e10 * neutrino_mc['true_energy'] ** -3  / (1 + abs(neutrino_mc['true_coszen']))\n",
    "muons['plot_weight'] = muons['count']"
   ]
  },
  {
   "cell_type": "code",
   "execution_count": 4,
   "metadata": {},
   "outputs": [],
   "source": [
    "# split up by flavour and interaction type\n",
    "neutrinos = {}\n",
    "neutrinos['nuall_nc'] = neutrino_mc[neutrino_mc['type'] == 0]\n",
    "neutrinos['nue_cc'] = neutrino_mc[(neutrino_mc['type'] > 0) & (abs(neutrino_mc['pdg']) == 12)]\n",
    "neutrinos['numu_cc'] = neutrino_mc[(neutrino_mc['type'] > 0) & (abs(neutrino_mc['pdg']) == 14)]\n",
    "neutrinos['nutau_cc'] = neutrino_mc[(neutrino_mc['type'] > 0) & (abs(neutrino_mc['pdg']) == 16)]"
   ]
  },
  {
   "cell_type": "code",
   "execution_count": 5,
   "metadata": {},
   "outputs": [],
   "source": [
    "# binning definition from readme file\n",
    "reco_energy_bins = [5.623413,  7.498942, 10. , 13.335215, 17.782795, 23.713737, 31.622776, 42.16965 , 56.23413]\n",
    "reco_coszen_bins = [-1., -0.75, -0.5 , -0.25,  0., 0.25, 0.5, 0.75, 1.]"
   ]
  },
  {
   "cell_type": "code",
   "execution_count": 6,
   "metadata": {},
   "outputs": [],
   "source": [
    "# bestfit point of detector systematics from Phys. Rev. D 99, 032007 (2019), Table 2\n",
    "bestfit = {}\n",
    "bestfit['ice_scattering'] = 0.974\n",
    "bestfit['ice_absorption'] = 1.021\n",
    "bestfit['opt_eff_overall'] = 1.05\n",
    "bestfit['opt_eff_lateral'] = -0.25\n",
    "bestfit['opt_eff_headon'] = -1.15"
   ]
  },
  {
   "cell_type": "code",
   "execution_count": 7,
   "metadata": {},
   "outputs": [],
   "source": [
    "# calculate the correction factors from detector systematics at bestfit point\n",
    "for hyperplane in hyperplanes.values():\n",
    "    hyperplane['correction_factor'] = (\n",
    "        hyperplane['offset'] +\n",
    "        hyperplane['ice_absorption'] * (bestfit['ice_absorption'] - 1.) * 100. +\n",
    "        hyperplane['ice_scattering'] * (bestfit['ice_scattering'] - 1.) * 100. +\n",
    "        hyperplane['opt_eff_overall'] * (bestfit['opt_eff_overall']) +\n",
    "        hyperplane['opt_eff_lateral'] * ((bestfit['opt_eff_lateral'] * 10) + 25) +\n",
    "        hyperplane['opt_eff_headon'] * (bestfit['opt_eff_headon'])\n",
    "        )"
   ]
  },
  {
   "cell_type": "code",
   "execution_count": 8,
   "metadata": {},
   "outputs": [],
   "source": [
    "def get_hist(df, weight):\n",
    "    '''retrieve histogram in (energy x coszen) space'''\n",
    "    hist, _, _ = np.histogram2d(df['reco_energy'], df['reco_coszen'], bins=(reco_energy_bins, reco_coszen_bins), weights=df[weight])\n",
    "    return hist"
   ]
  },
  {
   "cell_type": "code",
   "execution_count": 9,
   "metadata": {},
   "outputs": [],
   "source": [
    "def plot(hist, ax):\n",
    "    '''plot a 2d map'''\n",
    "    pc = ax.pcolormesh(reco_energy_bins, reco_coszen_bins, hist.T)\n",
    "    plt.gcf().colorbar(pc, ax=ax)\n",
    "    ax.set_xscale('log')\n",
    "    ax.set_xlabel('Energy (GeV)')\n",
    "    ax.set_ylabel(r'$\\cos{\\vartheta}$')"
   ]
  },
  {
   "cell_type": "code",
   "execution_count": 10,
   "metadata": {},
   "outputs": [],
   "source": [
    "# example of nue CC events in the cascade category\n",
    "raw = get_hist(neutrinos['nue_cc'][neutrinos['nue_cc']['pid'] == 0], weight='plot_weight')\n",
    "correction = get_hist(hyperplanes['nue_cc'][hyperplanes['nue_cc']['pid'] == 0], weight='correction_factor')"
   ]
  },
  {
   "cell_type": "code",
   "execution_count": 11,
   "metadata": {},
   "outputs": [
    {
     "data": {
      "text/plain": [
       "Text(0.5,1,'corrected')"
      ]
     },
     "execution_count": 11,
     "metadata": {},
     "output_type": "execute_result"
    },
    {
     "data": {
      "image/png": "[encoded data removed]",
      "text/plain": [
       "<Figure size 1080x504 with 4 Axes>"
      ]
     },
     "metadata": {
      "needs_background": "light"
     },
     "output_type": "display_data"
    }
   ],
   "source": [
    "fig, ax = plt.subplots(1, 2, figsize=(15, 7))\n",
    "\n",
    "plot(raw, ax[0])\n",
    "plot(raw * correction, ax[1])\n",
    "\n",
    "ax[0].set_title('raw')\n",
    "ax[1].set_title('corrected')"
   ]
  },
  {
   "cell_type": "code",
   "execution_count": 12,
   "metadata": {},
   "outputs": [],
   "source": [
    "# let's look at the total expectation\n",
    "cascades = []\n",
    "tracks = []"
   ]
  },
  {
   "cell_type": "code",
   "execution_count": 13,
   "metadata": {},
   "outputs": [],
   "source": [
    "for key in neutrinos.keys():\n",
    "    raw = get_hist(neutrinos[key][neutrinos[key]['pid'] == 0], weight='plot_weight')\n",
    "    correction = get_hist(hyperplanes[key][hyperplanes[key]['pid'] == 0], weight='correction_factor')\n",
    "    cascades.append(raw * correction)\n",
    "    \n",
    "    raw = get_hist(neutrinos[key][neutrinos[key]['pid'] == 1], weight='plot_weight')\n",
    "    correction = get_hist(hyperplanes[key][hyperplanes[key]['pid'] == 1], weight='correction_factor')\n",
    "    tracks.append(raw * correction)    "
   ]
  },
  {
   "cell_type": "code",
   "execution_count": 14,
   "metadata": {},
   "outputs": [],
   "source": [
    "# add in muons\n",
    "cascades.append(get_hist(muons[muons['pid'] == 0], weight='plot_weight'))\n",
    "tracks.append(get_hist(muons[muons['pid'] == 1], weight='plot_weight'))"
   ]
  },
  {
   "cell_type": "code",
   "execution_count": 15,
   "metadata": {},
   "outputs": [
    {
     "data": {
      "text/plain": [
       "Text(0.5,1,'Track-like')"
      ]
     },
     "execution_count": 15,
     "metadata": {},
     "output_type": "execute_result"
    },
    {
     "data": {
      "image/png": "[encoded data removed]",
      "text/plain": [
       "<Figure size 1080x504 with 4 Axes>"
      ]
     },
     "metadata": {
      "needs_background": "light"
     },
     "output_type": "display_data"
    }
   ],
   "source": [
    "fig, ax = plt.subplots(1, 2, figsize=(15, 7))\n",
    "\n",
    "plot(sum(cascades), ax[0])\n",
    "plot(sum(tracks), ax[1])\n",
    "ax[0].set_title('Cascade-like')\n",
    "ax[1].set_title('Track-like')"
   ]
  }
 ],
 "metadata": {
  "kernelspec": {
   "display_name": "Python 2",
   "language": "python",
   "name": "python2"
  },
  "language_info": {
   "codemirror_mode": {
    "name": "ipython",
    "version": 2
   },
   "file_extension": ".py",
   "mimetype": "text/x-python",
   "name": "python",
   "nbconvert_exporter": "python",
   "pygments_lexer": "ipython2",
   "version": "2.7.16"
  }
 },
 "nbformat": 4,
 "nbformat_minor": 2
}
